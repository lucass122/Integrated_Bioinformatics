{
 "cells": [
  {
   "cell_type": "markdown",
   "metadata": {},
   "source": [
    "## Task 1: KEGG and gene id mapping"
   ]
  },
  {
   "cell_type": "markdown",
   "metadata": {},
   "source": [
    "Familiarize yourself with the KEGG Rest interface and how to access it with Biopyhton:\n",
    "\n",
    "http://www.genome.jp/kegg/rest/keggapi.html\n",
    "\n",
    "http://nbviewer.jupyter.org/github/widdowquinn/notebooks/blob/master/Biopython_KGML_intro.ipynb"
   ]
  },
  {
   "cell_type": "markdown",
   "metadata": {},
   "source": [
    "### Subtask 1.1 Extract gene lists for all (mouse) KEGG pathways and store them in a suitable Python data structure"
   ]
  },
  {
   "cell_type": "markdown",
   "metadata": {},
   "source": []
  },
  {
   "cell_type": "code",
   "execution_count": 3,
   "metadata": {
    "collapsed": false
   },
   "outputs": [
    {
     "data": {
      "text/plain": [
       "'1.67'"
      ]
     },
     "execution_count": 3,
     "metadata": {},
     "output_type": "execute_result"
    }
   ],
   "source": [
    "import Bio\n",
    "Bio.__version__"
   ]
  },
  {
   "cell_type": "code",
   "execution_count": 74,
   "metadata": {
    "collapsed": true
   },
   "outputs": [],
   "source": [
    "from Bio import SeqIO\n",
    "from Bio.KEGG.REST import *\n",
    "from Bio.KEGG.KGML import KGML_parser\n",
    "from Bio.Graphics.KGML_vis import KGMLCanvas\n",
    "from Bio.KEGG import REST\n",
    "from Bio.Graphics.ColorSpiral import ColorSpiral\n",
    "from IPython.display import Image, HTML\n",
    "import random\n",
    "import matplotlib.pyplot as plt\n",
    "import seaborn as sns\n",
    "import pandas as pd\n",
    "import numpy as np\n",
    "from Bio.KEGG import REST\n",
    "import math\n",
    "import statsmodels.api as sm\n",
    "import scipy.stats as sp\n",
    "# A bit of code that will help us display the PDF output\n",
    "def PDF(filename):\n",
    "    return HTML('<iframe src=%s width=700 height=350></iframe>' % filename)\n",
    "\n",
    "# A bit of helper code to shorten long text\n",
    "def head(text, lines=10):\n",
    "    \"\"\" Print the first lines lines of the passed text.\n",
    "    \"\"\"\n",
    "    print '\\n'.join(text.split('\\n')[:lines] + ['[...]'])"
   ]
  },
  {
   "cell_type": "code",
   "execution_count": 82,
   "metadata": {
    "collapsed": true
   },
   "outputs": [],
   "source": [
    "mouse_pathways = REST.kegg_list(\"pathway\", \"mmu\").read()"
   ]
  },
  {
   "cell_type": "code",
   "execution_count": 77,
   "metadata": {
    "collapsed": false
   },
   "outputs": [],
   "source": [
    "#mouse_pathways"
   ]
  },
  {
   "cell_type": "code",
   "execution_count": 83,
   "metadata": {
    "collapsed": false
   },
   "outputs": [],
   "source": [
    "pathways = []\n",
    "for line in mouse_pathways.rstrip().split(\"\\n\"):\n",
    "    entry, description = line.split(\"\\t\")\n",
    "    pathways.append(entry)"
   ]
  },
  {
   "cell_type": "code",
   "execution_count": 107,
   "metadata": {
    "collapsed": false
   },
   "outputs": [],
   "source": [
    "for pathway in pathways:\n",
    "    pathway_file = REST.kegg_get(pathway).read()\n"
   ]
  },
  {
   "cell_type": "code",
   "execution_count": null,
   "metadata": {
    "collapsed": true
   },
   "outputs": [],
   "source": []
  },
  {
   "cell_type": "code",
   "execution_count": 112,
   "metadata": {
    "collapsed": false,
    "scrolled": true
   },
   "outputs": [
    {
     "name": "stdout",
     "output_type": "stream",
     "text": [
      "There are 302 pathways and 0 genes. The genes are:\n",
      "\n"
     ]
    }
   ],
   "source": [
    "# Get the genes for pathways and add them to a list\n",
    "mouse_genes = [] \n",
    "for pathway in pathways:\n",
    "    pathway_file = REST.kegg_get(pathway).read()  # query and read each pathway\n",
    "    # iterate through each KEGG pathway file, keeping track of which section\n",
    "    # of the file we're in, only read the gene in each pathway\n",
    "    current_section = None\n",
    "    for line in pathway_file.rstrip().split(\"\\n\"):\n",
    "        section = line[:12].strip()  # section names are within 12 columns\n",
    "        if not section == \"\":\n",
    "            current_section = section\n",
    "        if current_section == \"GENE\":\n",
    "            if len(line[12:].split(\"; \")) > 1:\n",
    "                gene_identifiers, gene_description = line[12:].split(\"; \")\n",
    "            else:\n",
    "                continue\n",
    "            if len(gene_identifiers) == 2:\n",
    "                gene_id, gene_symbol = gene_identifiers.split()\n",
    "            else:\n",
    "                continue\n",
    "            if not gene_symbol in mouse_genes:\n",
    "                mouse_genes.append(gene_symbol)\n",
    "print(\"There are %d pathways and %d genes. The genes are:\" % \\\n",
    "      (len(pathways), len(mouse_genes)))\n",
    "print(\", \".join(mouse_genes))"
   ]
  },
  {
   "cell_type": "code",
   "execution_count": 121,
   "metadata": {
    "collapsed": false
   },
   "outputs": [
    {
     "name": "stdout",
     "output_type": "stream",
     "text": [
      "--2016-09-27 14:57:31--  http://rest.kegg.jp/link/mmu/pathway\n",
      "Resolving www-cache (www-cache)... 134.2.12.47, 134.2.12.48, 134.2.12.41\n",
      "Connecting to www-cache (www-cache)|134.2.12.47|:3128... connected.\n",
      "Proxy request sent, awaiting response... 200 OK\n",
      "Length: unspecified [text/plain]\n",
      "Saving to: ‘/home/lucas/Documents/PIB/mmu_genes.txt’\n",
      "\n",
      "    [              <=>                      ] 662,149      232KB/s   in 2.8s   \n",
      "\n",
      "2016-09-27 14:57:34 (232 KB/s) - ‘/home/lucas/Documents/PIB/mmu_genes.txt’ saved [662149]\n",
      "\n"
     ]
    }
   ],
   "source": [
    "!wget -O /home/lucas/Documents/PIB/mmu_genes.txt 'http://rest.kegg.jp/link/mmu/pathway'"
   ]
  },
  {
   "cell_type": "code",
   "execution_count": 240,
   "metadata": {
    "collapsed": false
   },
   "outputs": [],
   "source": [
    "file = open('/home/lucas/Documents/PIB/mmu_genes.txt','r')"
   ]
  },
  {
   "cell_type": "code",
   "execution_count": 241,
   "metadata": {
    "collapsed": false
   },
   "outputs": [],
   "source": [
    "text = file.readlines()"
   ]
  },
  {
   "cell_type": "code",
   "execution_count": 242,
   "metadata": {
    "collapsed": false
   },
   "outputs": [
    {
     "data": {
      "text/plain": [
       "'path:mmu00010\\tmmu:100042025\\n'"
      ]
     },
     "execution_count": 242,
     "metadata": {},
     "output_type": "execute_result"
    }
   ],
   "source": [
    "text[0]"
   ]
  },
  {
   "cell_type": "code",
   "execution_count": 243,
   "metadata": {
    "collapsed": true
   },
   "outputs": [],
   "source": [
    "length = len(text)"
   ]
  },
  {
   "cell_type": "code",
   "execution_count": 244,
   "metadata": {
    "collapsed": true
   },
   "outputs": [],
   "source": [
    "pathways = []"
   ]
  },
  {
   "cell_type": "code",
   "execution_count": 245,
   "metadata": {
    "collapsed": true
   },
   "outputs": [],
   "source": [
    "genes = []"
   ]
  },
  {
   "cell_type": "code",
   "execution_count": 246,
   "metadata": {
    "collapsed": false
   },
   "outputs": [],
   "source": [
    "for i in xrange(1,length):\n",
    "    pathway,gene = text[i].split()\n",
    "    gene = gene.split(\"mmu:\")[1]\n",
    "    pathway = pathway.split(\":mmu\")[1]\n",
    "    pathways.append(pathway)\n",
    "    genes.append(gene)"
   ]
  },
  {
   "cell_type": "code",
   "execution_count": null,
   "metadata": {
    "collapsed": true
   },
   "outputs": [],
   "source": [
    "file.close()"
   ]
  },
  {
   "cell_type": "code",
   "execution_count": 289,
   "metadata": {
    "collapsed": false,
    "scrolled": false
   },
   "outputs": [],
   "source": [
    "data = pd.DataFrame({'Pathway IDs':pathways,\"Genes IDs \":genes})"
   ]
  },
  {
   "cell_type": "code",
   "execution_count": 299,
   "metadata": {
    "collapsed": true
   },
   "outputs": [],
   "source": [
    "dictionary = dict()"
   ]
  },
  {
   "cell_type": "code",
   "execution_count": 303,
   "metadata": {
    "collapsed": false
   },
   "outputs": [],
   "source": [
    "kegg = {}\n",
    "for i in range(len(data)):\n",
    "    pathway = data.ix[i, 'Pathway IDs']\n",
    "    if pathway not in kegg:\n",
    "        kegg[pathway] = [data.ix[i, 'Genes IDs ']]\n",
    "    else:\n",
    "        kegg[pathway].append(data.ix[i, 'Genes IDs '])"
   ]
  },
  {
   "cell_type": "code",
   "execution_count": 312,
   "metadata": {
    "collapsed": false
   },
   "outputs": [],
   "source": [
    "#set(pathways)"
   ]
  },
  {
   "cell_type": "code",
   "execution_count": 316,
   "metadata": {
    "collapsed": false
   },
   "outputs": [],
   "source": [
    "pathway_set = set(pathways)"
   ]
  },
  {
   "cell_type": "code",
   "execution_count": 327,
   "metadata": {
    "collapsed": false
   },
   "outputs": [
    {
     "data": {
      "text/plain": [
       "<function iterkeys>"
      ]
     },
     "execution_count": 327,
     "metadata": {},
     "output_type": "execute_result"
    }
   ],
   "source": [
    "kegg.iterkeys"
   ]
  },
  {
   "cell_type": "code",
   "execution_count": 328,
   "metadata": {
    "collapsed": false
   },
   "outputs": [
    {
     "ename": "ValueError",
     "evalue": "too many values to unpack",
     "output_type": "error",
     "traceback": [
      "\u001b[1;31m---------------------------------------------------------------------------\u001b[0m",
      "\u001b[1;31mValueError\u001b[0m                                Traceback (most recent call last)",
      "\u001b[1;32m<ipython-input-328-799ff59440f1>\u001b[0m in \u001b[0;36m<module>\u001b[1;34m()\u001b[0m\n\u001b[1;32m----> 1\u001b[1;33m \u001b[1;32mfor\u001b[0m \u001b[0mpathway\u001b[0m\u001b[1;33m,\u001b[0m\u001b[0mkey\u001b[0m \u001b[1;32min\u001b[0m \u001b[0mkegg\u001b[0m\u001b[1;33m:\u001b[0m\u001b[1;33m\u001b[0m\u001b[0m\n\u001b[0m\u001b[0;32m      2\u001b[0m     \u001b[1;32mprint\u001b[0m \u001b[0mpathway\u001b[0m\u001b[1;33m\u001b[0m\u001b[0m\n",
      "\u001b[1;31mValueError\u001b[0m: too many values to unpack"
     ]
    }
   ],
   "source": [
    "for pathway,key in kegg:\n",
    "    print pathway"
   ]
  },
  {
   "cell_type": "code",
   "execution_count": null,
   "metadata": {
    "collapsed": true
   },
   "outputs": [],
   "source": [
    "kegg.iteritems"
   ]
  },
  {
   "cell_type": "code",
   "execution_count": 330,
   "metadata": {
    "collapsed": false
   },
   "outputs": [],
   "source": [
    "gmt = ''\n",
    "for key in sorted(kegg.iterkeys()):\n",
    "    for \n",
    "    "
   ]
  },
  {
   "cell_type": "code",
   "execution_count": 331,
   "metadata": {
    "collapsed": false
   },
   "outputs": [
    {
     "data": {
      "text/plain": [
       "'Pathway: 00010\\t\\tPathway: 00020\\t\\tPathway: 00030\\t\\tPathway: 00040\\t\\tPathway: 00051\\t\\tPathway: 00052\\t\\tPathway: 00053\\t\\tPathway: 00061\\t\\tPathway: 00062\\t\\tPathway: 00071\\t\\tPathway: 00072\\t\\tPathway: 00100\\t\\tPathway: 00120\\t\\tPathway: 00130\\t\\tPathway: 00140\\t\\tPathway: 00190\\t\\tPathway: 00220\\t\\tPathway: 00230\\t\\tPathway: 00232\\t\\tPathway: 00240\\t\\tPathway: 00250\\t\\tPathway: 00260\\t\\tPathway: 00270\\t\\tPathway: 00280\\t\\tPathway: 00290\\t\\tPathway: 00300\\t\\tPathway: 00310\\t\\tPathway: 00330\\t\\tPathway: 00340\\t\\tPathway: 00350\\t\\tPathway: 00360\\t\\tPathway: 00380\\t\\tPathway: 00400\\t\\tPathway: 00410\\t\\tPathway: 00430\\t\\tPathway: 00450\\t\\tPathway: 00471\\t\\tPathway: 00472\\t\\tPathway: 00480\\t\\tPathway: 00500\\t\\tPathway: 00510\\t\\tPathway: 00511\\t\\tPathway: 00512\\t\\tPathway: 00514\\t\\tPathway: 00520\\t\\tPathway: 00524\\t\\tPathway: 00531\\t\\tPathway: 00532\\t\\tPathway: 00533\\t\\tPathway: 00534\\t\\tPathway: 00561\\t\\tPathway: 00562\\t\\tPathway: 00563\\t\\tPathway: 00564\\t\\tPathway: 00565\\t\\tPathway: 00590\\t\\tPathway: 00591\\t\\tPathway: 00592\\t\\tPathway: 00600\\t\\tPathway: 00601\\t\\tPathway: 00603\\t\\tPathway: 00604\\t\\tPathway: 00620\\t\\tPathway: 00630\\t\\tPathway: 00640\\t\\tPathway: 00650\\t\\tPathway: 00670\\t\\tPathway: 00730\\t\\tPathway: 00740\\t\\tPathway: 00750\\t\\tPathway: 00760\\t\\tPathway: 00770\\t\\tPathway: 00780\\t\\tPathway: 00785\\t\\tPathway: 00790\\t\\tPathway: 00830\\t\\tPathway: 00860\\t\\tPathway: 00900\\t\\tPathway: 00910\\t\\tPathway: 00920\\t\\tPathway: 00970\\t\\tPathway: 00980\\t\\tPathway: 00982\\t\\tPathway: 00983\\t\\tPathway: 01040\\t\\tPathway: 01100\\t\\tPathway: 01200\\t\\tPathway: 01210\\t\\tPathway: 01212\\t\\tPathway: 01230\\t\\tPathway: 01521\\t\\tPathway: 01522\\t\\tPathway: 01524\\t\\tPathway: 02010\\t\\tPathway: 03008\\t\\tPathway: 03010\\t\\tPathway: 03013\\t\\tPathway: 03015\\t\\tPathway: 03018\\t\\tPathway: 03020\\t\\tPathway: 03022\\t\\tPathway: 03030\\t\\tPathway: 03040\\t\\tPathway: 03050\\t\\tPathway: 03060\\t\\tPathway: 03320\\t\\tPathway: 03410\\t\\tPathway: 03420\\t\\tPathway: 03430\\t\\tPathway: 03440\\t\\tPathway: 03450\\t\\tPathway: 03460\\t\\tPathway: 04010\\t\\tPathway: 04012\\t\\tPathway: 04014\\t\\tPathway: 04015\\t\\tPathway: 04020\\t\\tPathway: 04022\\t\\tPathway: 04024\\t\\tPathway: 04060\\t\\tPathway: 04062\\t\\tPathway: 04064\\t\\tPathway: 04066\\t\\tPathway: 04068\\t\\tPathway: 04070\\t\\tPathway: 04071\\t\\tPathway: 04072\\t\\tPathway: 04080\\t\\tPathway: 04110\\t\\tPathway: 04114\\t\\tPathway: 04115\\t\\tPathway: 04120\\t\\tPathway: 04122\\t\\tPathway: 04130\\t\\tPathway: 04140\\t\\tPathway: 04141\\t\\tPathway: 04142\\t\\tPathway: 04144\\t\\tPathway: 04145\\t\\tPathway: 04146\\t\\tPathway: 04150\\t\\tPathway: 04151\\t\\tPathway: 04152\\t\\tPathway: 04210\\t\\tPathway: 04211\\t\\tPathway: 04213\\t\\tPathway: 04215\\t\\tPathway: 04260\\t\\tPathway: 04261\\t\\tPathway: 04270\\t\\tPathway: 04310\\t\\tPathway: 04320\\t\\tPathway: 04330\\t\\tPathway: 04340\\t\\tPathway: 04350\\t\\tPathway: 04360\\t\\tPathway: 04370\\t\\tPathway: 04380\\t\\tPathway: 04390\\t\\tPathway: 04392\\t\\tPathway: 04510\\t\\tPathway: 04512\\t\\tPathway: 04514\\t\\tPathway: 04520\\t\\tPathway: 04530\\t\\tPathway: 04540\\t\\tPathway: 04550\\t\\tPathway: 04610\\t\\tPathway: 04611\\t\\tPathway: 04612\\t\\tPathway: 04614\\t\\tPathway: 04620\\t\\tPathway: 04621\\t\\tPathway: 04622\\t\\tPathway: 04623\\t\\tPathway: 04630\\t\\tPathway: 04640\\t\\tPathway: 04650\\t\\tPathway: 04660\\t\\tPathway: 04662\\t\\tPathway: 04664\\t\\tPathway: 04666\\t\\tPathway: 04668\\t\\tPathway: 04670\\t\\tPathway: 04672\\t\\tPathway: 04710\\t\\tPathway: 04713\\t\\tPathway: 04720\\t\\tPathway: 04721\\t\\tPathway: 04722\\t\\tPathway: 04723\\t\\tPathway: 04724\\t\\tPathway: 04725\\t\\tPathway: 04726\\t\\tPathway: 04727\\t\\tPathway: 04728\\t\\tPathway: 04730\\t\\tPathway: 04740\\t\\tPathway: 04742\\t\\tPathway: 04744\\t\\tPathway: 04750\\t\\tPathway: 04810\\t\\tPathway: 04910\\t\\tPathway: 04911\\t\\tPathway: 04912\\t\\tPathway: 04913\\t\\tPathway: 04914\\t\\tPathway: 04915\\t\\tPathway: 04916\\t\\tPathway: 04917\\t\\tPathway: 04918\\t\\tPathway: 04919\\t\\tPathway: 04920\\t\\tPathway: 04921\\t\\tPathway: 04922\\t\\tPathway: 04923\\t\\tPathway: 04924\\t\\tPathway: 04925\\t\\tPathway: 04930\\t\\tPathway: 04931\\t\\tPathway: 04932\\t\\tPathway: 04933\\t\\tPathway: 04940\\t\\tPathway: 04950\\t\\tPathway: 04960\\t\\tPathway: 04961\\t\\tPathway: 04962\\t\\tPathway: 04964\\t\\tPathway: 04966\\t\\tPathway: 04970\\t\\tPathway: 04971\\t\\tPathway: 04972\\t\\tPathway: 04973\\t\\tPathway: 04974\\t\\tPathway: 04975\\t\\tPathway: 04976\\t\\tPathway: 04977\\t\\tPathway: 04978\\t\\tPathway: 05010\\t\\tPathway: 05012\\t\\tPathway: 05014\\t\\tPathway: 05016\\t\\tPathway: 05020\\t\\tPathway: 05030\\t\\tPathway: 05031\\t\\tPathway: 05032\\t\\tPathway: 05033\\t\\tPathway: 05034\\t\\tPathway: 05100\\t\\tPathway: 05132\\t\\tPathway: 05133\\t\\tPathway: 05134\\t\\tPathway: 05140\\t\\tPathway: 05142\\t\\tPathway: 05143\\t\\tPathway: 05144\\t\\tPathway: 05145\\t\\tPathway: 05146\\t\\tPathway: 05150\\t\\tPathway: 05152\\t\\tPathway: 05160\\t\\tPathway: 05161\\t\\tPathway: 05162\\t\\tPathway: 05164\\t\\tPathway: 05166\\t\\tPathway: 05168\\t\\tPathway: 05169\\t\\tPathway: 05200\\t\\tPathway: 05202\\t\\tPathway: 05203\\t\\tPathway: 05204\\t\\tPathway: 05205\\t\\tPathway: 05206\\t\\tPathway: 05210\\t\\tPathway: 05211\\t\\tPathway: 05212\\t\\tPathway: 05213\\t\\tPathway: 05214\\t\\tPathway: 05215\\t\\tPathway: 05216\\t\\tPathway: 05217\\t\\tPathway: 05218\\t\\tPathway: 05219\\t\\tPathway: 05220\\t\\tPathway: 05221\\t\\tPathway: 05222\\t\\tPathway: 05223\\t\\tPathway: 05224\\t\\tPathway: 05230\\t\\tPathway: 05231\\t\\tPathway: 05310\\t\\tPathway: 05320\\t\\tPathway: 05321\\t\\tPathway: 05322\\t\\tPathway: 05323\\t\\tPathway: 05330\\t\\tPathway: 05332\\t\\tPathway: 05340\\t\\tPathway: 05410\\t\\tPathway: 05412\\t\\tPathway: 05414\\t\\tPathway: 05416\\t\\t'"
      ]
     },
     "execution_count": 331,
     "metadata": {},
     "output_type": "execute_result"
    }
   ],
   "source": []
  },
  {
   "cell_type": "code",
   "execution_count": 181,
   "metadata": {
    "collapsed": true
   },
   "outputs": [],
   "source": [
    "import sys\n",
    "\n",
    "from Bio import Entrez\n",
    "\n",
    "# *Always* tell NCBI who you are\n",
    "Entrez.email = \"your email here\"\n",
    "\n",
    "def retrieve_annotation(id_list):\n",
    "\n",
    "    \"\"\"Annotates Entrez Gene IDs using Bio.Entrez, in particular epost (to\n",
    "    submit the data to NCBI) and esummary to retrieve the information.\n",
    "    Returns a list of dictionaries with the annotations.\"\"\"\n",
    "\n",
    "    request = Entrez.epost(\"gene\",id=\",\".join(id_list))\n",
    "    try:\n",
    "        result = Entrez.read(request)\n",
    "    except RuntimeError as e:\n",
    "        #FIXME: How generate NAs instead of causing an error with invalid IDs?\n",
    "        print \"An error occurred while retrieving the annotations.\"\n",
    "        print \"The error returned was %s\" % e\n",
    "        sys.exit(-1)\n",
    "\n",
    "    webEnv = result[\"WebEnv\"]\n",
    "    queryKey = result[\"QueryKey\"]\n",
    "    data = Entrez.esummary(db=\"gene\", webenv=webEnv, query_key =\n",
    "            queryKey)\n",
    "    annotations = Entrez.read(data)\n",
    "\n",
    "    print \"Retrieved %d annotations for %d genes\" % (len(annotations),\n",
    "            len(id_list))\n",
    "\n",
    "    return annotations"
   ]
  },
  {
   "cell_type": "code",
   "execution_count": null,
   "metadata": {
    "collapsed": false
   },
   "outputs": [],
   "source": []
  },
  {
   "cell_type": "markdown",
   "metadata": {},
   "source": [
    "### Subtask 1.2: Save the KEGG gene sets as a gmt file after you made sure they have the proper gene ids with respect to your DE analysis"
   ]
  },
  {
   "cell_type": "markdown",
   "metadata": {},
   "source": [
    "hints: \n",
    "\n",
    "http://biopython.org/wiki/Annotate_Entrez_Gene_IDs\n",
    "\n",
    "http://www.broadinstitute.org/cancer/software/gsea/wiki/index.php/Data_formats"
   ]
  },
  {
   "cell_type": "markdown",
   "metadata": {},
   "source": [
    "## Task 2: Gene Set Enrichment"
   ]
  },
  {
   "cell_type": "markdown",
   "metadata": {},
   "source": [
    "### Subtask 2.1: Read in the csv file you produced during the Differential Expression module, extract a gene list (as a python list of gene symbols) from your favorite multiple correction column (and store it in a variable)"
   ]
  },
  {
   "cell_type": "code",
   "execution_count": null,
   "metadata": {
    "collapsed": false
   },
   "outputs": [],
   "source": []
  },
  {
   "cell_type": "markdown",
   "metadata": {},
   "source": [
    "### Subtask 2.2: Perform gene set enrichment (Fisher's exact test or an hypergeometric test will do for our purposes) with the KEGG gene sets you extracted in Task 1 (you may want to store the results in a pandas dataframe and write them to csv)"
   ]
  },
  {
   "cell_type": "markdown",
   "metadata": {},
   "source": [
    "hint:\n",
    "\n",
    "https://genetrail2.bioinf.uni-sb.de/help?topic=set_level_statistics"
   ]
  },
  {
   "cell_type": "code",
   "execution_count": null,
   "metadata": {
    "collapsed": true
   },
   "outputs": [],
   "source": []
  },
  {
   "cell_type": "markdown",
   "metadata": {},
   "source": [
    "### Subtask 2.3: Extract a list of significantly (at 0.05 significance) enriched KEGG pathways"
   ]
  },
  {
   "cell_type": "code",
   "execution_count": null,
   "metadata": {
    "collapsed": false
   },
   "outputs": [],
   "source": []
  },
  {
   "cell_type": "markdown",
   "metadata": {},
   "source": [
    "## Task 3: KEGG map visualization"
   ]
  },
  {
   "cell_type": "markdown",
   "metadata": {},
   "source": [
    "#### hint:\n",
    "\n",
    "http://nbviewer.jupyter.org/github/widdowquinn/notebooks/blob/master/Biopython_KGML_intro.ipynb\n",
    "\n",
    "#### remark:\n",
    "\n",
    "In real life you may want to use the R-based tool pathview: https://bioconductor.org/packages/release/bioc/html/pathview.html (if you insist you can also try to use r2py for using pathview from Python during the practical)\n",
    "\n",
    "For Python (in addition to the Biopyhton module) https://github.com/idekerlab/py2cytoscape in combination with https://github.com/idekerlab/KEGGscape may be another alternative (in the future)\n",
    "\n",
    "Generally speaking, it is always a good idea to pay attention also to other pathway databases like Reactome or WikiPathways ..."
   ]
  },
  {
   "cell_type": "markdown",
   "metadata": {},
   "source": [
    "### Subtask 3.1: Pick some significantly enriched KEGG pathways of your choice from 2.3 and visualize them"
   ]
  },
  {
   "cell_type": "code",
   "execution_count": null,
   "metadata": {
    "collapsed": false
   },
   "outputs": [],
   "source": []
  },
  {
   "cell_type": "markdown",
   "metadata": {},
   "source": [
    "### Subtask 3.2: Define a a suitable binary color scheme respresenting the fact whether a gene is significantly expressed or not"
   ]
  },
  {
   "cell_type": "markdown",
   "metadata": {},
   "source": [
    "hint: \n",
    "\n",
    "http://www.rapidtables.com/web/color/RGB_Color.htm"
   ]
  },
  {
   "cell_type": "markdown",
   "metadata": {},
   "source": [
    "### Subtask 3.3: Visualize the pathway(s) from 3.1 in such a way that the included genes have the corresponding color from 3.2 ( you may need to define a suitable mapping from single genes to what is actually shown in the pathway map...)"
   ]
  },
  {
   "cell_type": "code",
   "execution_count": null,
   "metadata": {
    "collapsed": false
   },
   "outputs": [],
   "source": []
  },
  {
   "cell_type": "markdown",
   "metadata": {},
   "source": [
    "### Subtask 3.4: Define a suitable continuous color range representing the log2 fold changes of the all the genes in your data"
   ]
  },
  {
   "cell_type": "markdown",
   "metadata": {},
   "source": [
    "hint:\n",
    "\n",
    "http://bsou.io/posts/color-gradients-with-python"
   ]
  },
  {
   "cell_type": "code",
   "execution_count": null,
   "metadata": {
    "collapsed": true
   },
   "outputs": [],
   "source": []
  },
  {
   "cell_type": "markdown",
   "metadata": {},
   "source": [
    "### Subtask 3.5: Visualize the pathway(s) from 3.1 in such a way that the included genes have the corresponding color from 3.4"
   ]
  },
  {
   "cell_type": "code",
   "execution_count": null,
   "metadata": {
    "collapsed": true
   },
   "outputs": [],
   "source": []
  }
 ],
 "metadata": {
  "anaconda-cloud": {},
  "kernelspec": {
   "display_name": "Python [Root]",
   "language": "python",
   "name": "Python [Root]"
  },
  "language_info": {
   "codemirror_mode": {
    "name": "ipython",
    "version": 2
   },
   "file_extension": ".py",
   "mimetype": "text/x-python",
   "name": "python",
   "nbconvert_exporter": "python",
   "pygments_lexer": "ipython2",
   "version": "2.7.12"
  }
 },
 "nbformat": 4,
 "nbformat_minor": 0
}
