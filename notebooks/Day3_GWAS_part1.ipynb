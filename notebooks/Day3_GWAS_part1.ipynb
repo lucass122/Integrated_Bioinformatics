{
 "cells": [
  {
   "cell_type": "markdown",
   "metadata": {
    "toc": "true"
   },
   "source": [
    "# Table of Contents\n",
    " <p><div class=\"lev1\"><a href=\"#Today's-topics\"><span class=\"toc-item-num\">1&nbsp;&nbsp;</span>Today's topics</a></div><div class=\"lev1\"><a href=\"#GWAS-background\"><span class=\"toc-item-num\">2&nbsp;&nbsp;</span>GWAS background</a></div><div class=\"lev1\"><a href=\"#Useful-Resources\"><span class=\"toc-item-num\">3&nbsp;&nbsp;</span>Useful Resources</a></div><div class=\"lev2\"><a href=\"#Packages\"><span class=\"toc-item-num\">3.1&nbsp;&nbsp;</span>Packages</a></div><div class=\"lev3\"><a href=\"#R\"><span class=\"toc-item-num\">3.1.1&nbsp;&nbsp;</span>R</a></div><div class=\"lev3\"><a href=\"#Python\"><span class=\"toc-item-num\">3.1.2&nbsp;&nbsp;</span>Python</a></div><div class=\"lev2\"><a href=\"#Books\"><span class=\"toc-item-num\">3.2&nbsp;&nbsp;</span>Books</a></div><div class=\"lev2\"><a href=\"#Tutorials\"><span class=\"toc-item-num\">3.3&nbsp;&nbsp;</span>Tutorials</a></div><div class=\"lev1\"><a href=\"#Load-data\"><span class=\"toc-item-num\">4&nbsp;&nbsp;</span>Load data</a></div><div class=\"lev2\"><a href=\"#Load-genotype-data-as-pandas-dataframe\"><span class=\"toc-item-num\">4.1&nbsp;&nbsp;</span>Load genotype data as pandas dataframe</a></div><div class=\"lev2\"><a href=\"#Subtask:-Set-SNP-ID-column-as-index\"><span class=\"toc-item-num\">4.2&nbsp;&nbsp;</span>Subtask: Set SNP-ID column as index</a></div><div class=\"lev2\"><a href=\"#Subtask:-Replace-categorical-data-strings-with-numerical-encoding\"><span class=\"toc-item-num\">4.3&nbsp;&nbsp;</span>Subtask: Replace categorical data strings with numerical encoding</a></div><div class=\"lev2\"><a href=\"#Subtask:-Drop-rows-with-unknown-genotypes\"><span class=\"toc-item-num\">4.4&nbsp;&nbsp;</span>Subtask: Drop rows with unknown genotypes</a></div><div class=\"lev2\"><a href=\"#Dowload-categorical-data-from-genenetworks.org\"><span class=\"toc-item-num\">4.5&nbsp;&nbsp;</span>Dowload categorical data from genenetworks.org</a></div><div class=\"lev2\"><a href=\"#Load-phenotype-data-(coat-color)\"><span class=\"toc-item-num\">4.6&nbsp;&nbsp;</span>Load phenotype data (coat color)</a></div><div class=\"lev2\"><a href=\"#Subtask:-remove-rows-with-missing-data\"><span class=\"toc-item-num\">4.7&nbsp;&nbsp;</span>Subtask: remove rows with missing data</a></div><div class=\"lev2\"><a href=\"#Convert-data-to-numeric\"><span class=\"toc-item-num\">4.8&nbsp;&nbsp;</span>Convert data to numeric</a></div><div class=\"lev1\"><a href=\"#Association-tests-between-variant(s)-and-categorical-phenotype\"><span class=\"toc-item-num\">5&nbsp;&nbsp;</span>Association tests between variant(s) and categorical phenotype</a></div><div class=\"lev2\"><a href=\"#Task:-Perfom-association-test-for-a-single-SNP-using-$\\chi^2$-test-and-odds-ratio\"><span class=\"toc-item-num\">5.1&nbsp;&nbsp;</span>Task: Perfom association test for a single SNP using <span class=\"MathJax_Preview\" style=\"color: inherit;\"></span><span class=\"MathJax\" id=\"MathJax-Element-1-Frame\" tabindex=\"0\" data-mathml=\"<math xmlns=&quot;http://www.w3.org/1998/Math/MathML&quot;><msup><mi>&amp;#x03C7;</mi><mn>2</mn></msup></math>\" role=\"presentation\" style=\"position: relative;\"><nobr aria-hidden=\"true\"><span class=\"math\" id=\"MathJax-Span-1\" role=\"math\" style=\"width: 1.176em; display: inline-block;\"><span style=\"display: inline-block; position: relative; width: 0.987em; height: 0px; font-size: 120%;\"><span style=\"position: absolute; clip: rect(1.252em 1000.99em 2.502em -999.998em); top: -2.195em; left: 0.002em;\"><span class=\"mrow\" id=\"MathJax-Span-2\"><span class=\"msubsup\" id=\"MathJax-Span-3\"><span style=\"display: inline-block; position: relative; width: 0.987em; height: 0px;\"><span style=\"position: absolute; clip: rect(3.449em 1000.49em 4.32em -999.998em); top: -4.013em; left: 0.002em;\"><span class=\"mi\" id=\"MathJax-Span-4\" style=\"font-family: STIXMathJax_Main-italic;\">χ<span style=\"display: inline-block; overflow: hidden; height: 1px; width: 0.04em;\"></span></span><span style=\"display: inline-block; width: 0px; height: 4.017em;\"></span></span><span style=\"position: absolute; top: -4.392em; left: 0.57em;\"><span class=\"mn\" id=\"MathJax-Span-5\" style=\"font-size: 70.7%; font-family: STIXMathJax_Main;\">2</span><span style=\"display: inline-block; width: 0px; height: 4.017em;\"></span></span></span></span></span><span style=\"display: inline-block; width: 0px; height: 2.199em;\"></span></span></span><span style=\"display: inline-block; overflow: hidden; vertical-align: -0.27em; border-left: 0px solid; width: 0px; height: 1.366em;\"></span></span></nobr><span class=\"MJX_Assistive_MathML\" role=\"presentation\"><math xmlns=\"http://www.w3.org/1998/Math/MathML\"><msup><mi>χ</mi><mn>2</mn></msup></math></span></span><script type=\"math/tex\" id=\"MathJax-Element-1\">\\chi^2</script> test and odds ratio</a></div><div class=\"lev3\"><a href=\"#Subtask:-Extract-row-of-a-single-SNP-(e.g.-rs6232550)\"><span class=\"toc-item-num\">5.1.1&nbsp;&nbsp;</span>Subtask: Extract row of a single SNP (e.g. rs6232550)</a></div><div class=\"lev3\"><a href=\"#Subtask:-Remove-all-non-strain-genotye-columns\"><span class=\"toc-item-num\">5.1.2&nbsp;&nbsp;</span>Subtask: Remove all non-strain genotye columns</a></div><div class=\"lev3\"><a href=\"#Subtask:-Transpose-row-so-that-it-has-the-same-format-as-the-genotype-data\"><span class=\"toc-item-num\">5.1.3&nbsp;&nbsp;</span>Subtask: Transpose row so that it has the same format as the genotype data</a></div><div class=\"lev3\"><a href=\"#Subtask:-Combine-SNP-data-with-phenotype-data\"><span class=\"toc-item-num\">5.1.4&nbsp;&nbsp;</span>Subtask: Combine SNP data with phenotype data</a></div><div class=\"lev3\"><a href=\"#Subtask:-Check-that-the-merging-worked\"><span class=\"toc-item-num\">5.1.5&nbsp;&nbsp;</span>Subtask: Check that the merging worked</a></div><div class=\"lev3\"><a href=\"#Subtask:-Plot-relationship-between-genotye-and-phenotype\"><span class=\"toc-item-num\">5.1.6&nbsp;&nbsp;</span>Subtask: Plot relationship between genotye and phenotype</a></div><div class=\"lev3\"><a href=\"#Subtask:-Create-contingency-table-for-a-D-dominant-inheritance-model-of-black-coat-color-and-SNP-rs6232550\"><span class=\"toc-item-num\">5.1.7&nbsp;&nbsp;</span>Subtask: Create contingency table for a D-dominant inheritance model of black coat color and SNP rs6232550</a></div><div class=\"lev3\"><a href=\"#Subtask:-Perform-$\\chi^2$-square-test-for-independence-on-the-contingency-table\"><span class=\"toc-item-num\">5.1.8&nbsp;&nbsp;</span>Subtask: Perform <span class=\"MathJax_Preview\" style=\"color: inherit;\"></span><span class=\"MathJax\" id=\"MathJax-Element-2-Frame\" tabindex=\"0\" data-mathml=\"<math xmlns=&quot;http://www.w3.org/1998/Math/MathML&quot;><msup><mi>&amp;#x03C7;</mi><mn>2</mn></msup></math>\" role=\"presentation\" style=\"position: relative;\"><nobr aria-hidden=\"true\"><span class=\"math\" id=\"MathJax-Span-6\" role=\"math\" style=\"width: 1.16em; display: inline-block;\"><span style=\"display: inline-block; position: relative; width: 0.975em; height: 0px; font-size: 120%;\"><span style=\"position: absolute; clip: rect(1.299em 1000.98em 2.595em -999.998em); top: -2.266em; left: 0.002em;\"><span class=\"mrow\" id=\"MathJax-Span-7\"><span class=\"msubsup\" id=\"MathJax-Span-8\"><span style=\"display: inline-block; position: relative; width: 0.975em; height: 0px;\"><span style=\"position: absolute; clip: rect(3.382em 1000.51em 4.308em -999.998em); top: -3.979em; left: 0.002em;\"><span class=\"mi\" id=\"MathJax-Span-9\" style=\"font-family: STIXMathJax_Main-italic;\">χ<span style=\"display: inline-block; overflow: hidden; height: 1px; width: 0.049em;\"></span></span><span style=\"display: inline-block; width: 0px; height: 3.984em;\"></span></span><span style=\"position: absolute; top: -4.35em; left: 0.558em;\"><span class=\"mn\" id=\"MathJax-Span-10\" style=\"font-size: 70.7%; font-family: STIXMathJax_Main;\">2</span><span style=\"display: inline-block; width: 0px; height: 3.984em;\"></span></span></span></span></span><span style=\"display: inline-block; width: 0px; height: 2.271em;\"></span></span></span><span style=\"display: inline-block; overflow: hidden; vertical-align: -0.275em; border-left: 0px solid; width: 0px; height: 1.392em;\"></span></span></nobr><span class=\"MJX_Assistive_MathML\" role=\"presentation\"><math xmlns=\"http://www.w3.org/1998/Math/MathML\"><msup><mi>χ</mi><mn>2</mn></msup></math></span></span><script type=\"math/tex\" id=\"MathJax-Element-2\">\\chi^2</script> square test for independence on the contingency table</a></div><div class=\"lev3\"><a href=\"#Subtask:-Write-function-to-calculate-odds-ratio-from-a-contingency-table\"><span class=\"toc-item-num\">5.1.9&nbsp;&nbsp;</span>Subtask: Write function to calculate odds ratio from a contingency table</a></div><div class=\"lev2\"><a href=\"#Task:-extend-statistical-method-for-a-penetrance-model-in-which-increasing-numbers-of-A-alleles-confer-a-trend-in-risk-(e.g.-additive-or-dominant)\"><span class=\"toc-item-num\">5.2&nbsp;&nbsp;</span>Task: extend statistical method for a penetrance model in which increasing numbers of A alleles confer a trend in risk (e.g. additive or dominant)</a></div><div class=\"lev3\"><a href=\"#Subtask:-Given-the-data-you-have,-could-you-calculate-this-type-of-statistic-for-your-data?\"><span class=\"toc-item-num\">5.2.1&nbsp;&nbsp;</span>Subtask: Given the data you have, could you calculate this type of statistic for your data?</a></div><div class=\"lev2\"><a href=\"#Task:-Refactor-previous-analysis-steps-into-a-function-and-apply-to-all-SNPs\"><span class=\"toc-item-num\">5.3&nbsp;&nbsp;</span>Task: Refactor previous analysis steps into a function and apply to all SNPs</a></div><div class=\"lev3\"><a href=\"#Subtask:-Create-Manhattan-Plot-of--$-\\log_{10}(\\text{P-value})$-vs-chromosome-position\"><span class=\"toc-item-num\">5.3.1&nbsp;&nbsp;</span>Subtask: Create Manhattan Plot of  <span class=\"MathJax_Preview\" style=\"color: inherit;\"></span><span class=\"MathJax\" id=\"MathJax-Element-6-Frame\" tabindex=\"0\" data-mathml=\"<math xmlns=&quot;http://www.w3.org/1998/Math/MathML&quot;><mo>&amp;#x2212;</mo><msub><mi>log</mi><mrow class=&quot;MJX-TeXAtom-ORD&quot;><mn>10</mn></mrow></msub><mo>&amp;#x2061;</mo><mo stretchy=&quot;false&quot;>(</mo><mtext>P-value</mtext><mo stretchy=&quot;false&quot;>)</mo></math>\" role=\"presentation\" style=\"position: relative;\"><nobr aria-hidden=\"true\"><span class=\"math\" id=\"MathJax-Span-26\" role=\"math\" style=\"width: 7.919em; display: inline-block;\"><span style=\"display: inline-block; position: relative; width: 6.576em; height: 0px; font-size: 120%;\"><span style=\"position: absolute; clip: rect(1.669em 1006.53em 2.919em -999.998em); top: -2.498em; left: 0.002em;\"><span class=\"mrow\" id=\"MathJax-Span-27\"><span class=\"mo\" id=\"MathJax-Span-28\" style=\"font-family: STIXMathJax_Main;\">−</span><span class=\"msubsup\" id=\"MathJax-Span-29\" style=\"padding-left: 0.188em;\"><span style=\"display: inline-block; position: relative; width: 2.039em; height: 0px;\"><span style=\"position: absolute; clip: rect(3.15em 1001.25em 4.354em -999.998em); top: -3.979em; left: 0.002em;\"><span class=\"mi\" id=\"MathJax-Span-30\" style=\"font-family: STIXMathJax_Main;\">log</span><span style=\"display: inline-block; width: 0px; height: 3.984em;\"></span></span><span style=\"position: absolute; top: -3.748em; left: 1.299em;\"><span class=\"texatom\" id=\"MathJax-Span-31\"><span class=\"mrow\" id=\"MathJax-Span-32\"><span class=\"mn\" id=\"MathJax-Span-33\" style=\"font-size: 70.7%; font-family: STIXMathJax_Main;\">10</span></span></span><span style=\"display: inline-block; width: 0px; height: 3.984em;\"></span></span></span></span><span class=\"mo\" id=\"MathJax-Span-34\"></span><span class=\"mo\" id=\"MathJax-Span-35\" style=\"font-family: STIXMathJax_Main;\">(</span><span class=\"mtext\" id=\"MathJax-Span-36\" style=\"font-family: STIXMathJax_Main;\">P-value</span><span class=\"mo\" id=\"MathJax-Span-37\" style=\"font-family: STIXMathJax_Main;\">)</span></span><span style=\"display: inline-block; width: 0px; height: 2.502em;\"></span></span></span><span style=\"display: inline-block; overflow: hidden; vertical-align: -0.386em; border-left: 0px solid; width: 0px; height: 1.225em;\"></span></span></nobr><span class=\"MJX_Assistive_MathML\" role=\"presentation\"><math xmlns=\"http://www.w3.org/1998/Math/MathML\"><mo>−</mo><msub><mi>log</mi><mrow class=\"MJX-TeXAtom-ORD\"><mn>10</mn></mrow></msub><mo>⁡</mo><mo stretchy=\"false\">(</mo><mtext>P-value</mtext><mo stretchy=\"false\">)</mo></math></span></span><script type=\"math/tex\" id=\"MathJax-Element-6\">-\\log_{10}(\\text{P-value})</script> vs chromosome position</a></div><div class=\"lev4\"><a href=\"#Bonus-if-you-have-way-too-much-time:-Try-to-make-plot-interactive-(e.g.-add-tooltips-on-hover-using-mpld3)\"><span class=\"toc-item-num\">5.3.1.1&nbsp;&nbsp;</span>Bonus if you have way too much time: Try to make plot interactive (e.g. add tooltips on hover using mpld3)</a></div><div class=\"lev3\"><a href=\"#Subtask:-If-you-have-time,-adapt-function-so-that-it-also-supports-the-non-dominant-inheritance-models\"><span class=\"toc-item-num\">5.3.2&nbsp;&nbsp;</span>Subtask: If you have time, adapt function so that it also supports the non-dominant inheritance models</a></div><div class=\"lev2\"><a href=\"#Task:-Correct-for-Multiple-Hypothesis-Testing\"><span class=\"toc-item-num\">5.4&nbsp;&nbsp;</span>Task: Correct for Multiple Hypothesis Testing</a></div><div class=\"lev3\"><a href=\"#Subtask:-Wrap-your-MHT-correction-in-a-funtion\"><span class=\"toc-item-num\">5.4.1&nbsp;&nbsp;</span>Subtask: Wrap your MHT correction in a funtion</a></div><div class=\"lev3\"><a href=\"#Subtask:-Test-if-the-function-works-as-intended\"><span class=\"toc-item-num\">5.4.2&nbsp;&nbsp;</span>Subtask: Test if the function works as intended</a></div><div class=\"lev2\"><a href=\"#Task:-Identify-candidate-genes-from-identified-loci\"><span class=\"toc-item-num\">5.5&nbsp;&nbsp;</span>Task: Identify candidate genes from identified loci</a></div><div class=\"lev3\"><a href=\"#Subtask:-Identify-genes-in-region-identified-by-significant-loci-(consider-each-chromosome-separately)\"><span class=\"toc-item-num\">5.5.1&nbsp;&nbsp;</span>Subtask: Identify genes in region identified by significant loci (consider each chromosome separately)</a></div><div class=\"lev3\"><a href=\"#Subtask:-Check-if-the-locations-you-found-match-to-what-is-known-from-literature-about-genetics-of-mouse-coat-color\"><span class=\"toc-item-num\">5.5.2&nbsp;&nbsp;</span>Subtask: Check if the locations you found match to what is known from literature about genetics of mouse coat color</a></div><div class=\"lev1\"><a href=\"#Association-tests-between-variant(s)-and-continuous-phenotype¶\"><span class=\"toc-item-num\">6&nbsp;&nbsp;</span>Association tests between variant(s) and continuous phenotype¶</a></div><div class=\"lev2\"><a href=\"#Task:-Import-relevant-functions-from-scipy\"><span class=\"toc-item-num\">6.1&nbsp;&nbsp;</span>Task: Import relevant functions from scipy</a></div><div class=\"lev2\"><a href=\"#Task:-Load-Phenotype-spreadsheets-from-paper-supplement\"><span class=\"toc-item-num\">6.2&nbsp;&nbsp;</span>Task: Load Phenotype spreadsheets from paper supplement</a></div><div class=\"lev2\"><a href=\"#Task:-Implement-Pearson's-r-based-test-for-correlation\"><span class=\"toc-item-num\">6.3&nbsp;&nbsp;</span>Task: Implement Pearson's r-based test for correlation</a></div><div class=\"lev2\"><a href=\"#Task:-Plot-corresponding-Manhattan-Plot-(using-your-previously-defined-function)\"><span class=\"toc-item-num\">6.4&nbsp;&nbsp;</span>Task: Plot corresponding Manhattan Plot (using your previously defined function)</a></div><div class=\"lev2\"><a href=\"#Task:-Correct-for-multiple-hypothesis-testing\"><span class=\"toc-item-num\">6.5&nbsp;&nbsp;</span>Task: Correct for multiple hypothesis testing</a></div><div class=\"lev1\"><a href=\"#Run-association-tests-for-all-phenotypes-in-Biochemistry,-Hematology,-and-Blood-Pressure\"><span class=\"toc-item-num\">7&nbsp;&nbsp;</span>Run association tests for all phenotypes in Biochemistry, Hematology, and Blood Pressure</a></div><div class=\"lev2\"><a href=\"#Task:-Pick-a-testing-method-from-the-previous-tasks-that-is-applicable-for-the--phenotype-variable-type\"><span class=\"toc-item-num\">7.1&nbsp;&nbsp;</span>Task: Pick a testing method from the previous tasks that is applicable for the  phenotype variable type</a></div><div class=\"lev2\"><a href=\"#Task:-Iteratively-apply-functionality-to-all-phenotypes\"><span class=\"toc-item-num\">7.2&nbsp;&nbsp;</span>Task: Iteratively apply functionality to all phenotypes</a></div><div class=\"lev2\"><a href=\"#Task:-Extract-relevant-information-about-effect-size,-significance,-locus,...\"><span class=\"toc-item-num\">7.3&nbsp;&nbsp;</span>Task: Extract relevant information about effect size, significance, locus,...</a></div><div class=\"lev2\"><a href=\"#Task:-Interpret-results\"><span class=\"toc-item-num\">7.4&nbsp;&nbsp;</span>Task: Interpret results</a></div><div class=\"lev2\"><a href=\"#Task:-For-most-interesting-examples,-try-to-identify-possible-candidate-genes\"><span class=\"toc-item-num\">7.5&nbsp;&nbsp;</span>Task: For most interesting examples, try to identify possible candidate genes</a></div><div class=\"lev2\"><a href=\"#Task:-Quickly-compare-your-results-to-literature\"><span class=\"toc-item-num\">7.6&nbsp;&nbsp;</span>Task: Quickly compare your results to literature</a></div><div class=\"lev2\"><a href=\"#What-confounding-factors-may-have-been-ignored-in-the-current-approach?-How-could-they-be-incorporated?\"><span class=\"toc-item-num\">7.7&nbsp;&nbsp;</span>What confounding factors may have been ignored in the current approach? How could they be incorporated?</a></div><div class=\"lev2\"><a href=\"#Bonus-subtask:-Create-a-QQ-plot-of-the-expected-distribution-of-association-test-statistics-(X-axis)-compared-to-the-observed-values-(Y-axis)\"><span class=\"toc-item-num\">7.8&nbsp;&nbsp;</span>Bonus subtask: Create a QQ-plot of the expected distribution of association test statistics (X-axis) compared to the observed values (Y-axis)</a></div>"
   ]
  },
  {
   "cell_type": "markdown",
   "metadata": {},
   "source": [
    "__Set matplotlib magic__"
   ]
  },
  {
   "cell_type": "code",
   "execution_count": 207,
   "metadata": {
    "collapsed": true,
    "run_control": {
     "frozen": false,
     "read_only": false
    }
   },
   "outputs": [],
   "source": [
    "%matplotlib inline"
   ]
  },
  {
   "cell_type": "markdown",
   "metadata": {},
   "source": [
    "__Imports__"
   ]
  },
  {
   "cell_type": "code",
   "execution_count": 208,
   "metadata": {
    "collapsed": true,
    "run_control": {
     "frozen": false,
     "read_only": false
    }
   },
   "outputs": [],
   "source": [
    "import matplotlib.pyplot as plt\n",
    "import seaborn as sns\n",
    "import pandas as pd\n",
    "import numpy as np"
   ]
  },
  {
   "cell_type": "code",
   "execution_count": null,
   "metadata": {
    "collapsed": true,
    "run_control": {
     "frozen": false,
     "read_only": false
    }
   },
   "outputs": [],
   "source": []
  },
  {
   "cell_type": "markdown",
   "metadata": {},
   "source": [
    "# Today's topics\n",
    "We will try to find out which phenotypic traits are associated with genetic markers in the BXD mouse population. This will allow us to make statements about the level of heritability of several traits as well as help us identify candidate genes responsible for specific traits.\n",
    "\n",
    "There are several types of studies relevant in this context:\n",
    "\n",
    "* Single gene association studies\n",
    "* Genome wide association studies\n",
    "* Phenotype wide association studies"
   ]
  },
  {
   "cell_type": "markdown",
   "metadata": {},
   "source": [
    "# GWAS background"
   ]
  },
  {
   "cell_type": "markdown",
   "metadata": {},
   "source": [
    "http://www.ncbi.nlm.nih.gov/pmc/articles/PMC2736153/ contains information about how to use genenetwork.org to find coat color phenotype and correlate that to expression levels.\n",
    "\n",
    "There is a multitude of papers and review papers out there that describe the basic and more advanced statistical approaches to GWAS studies. The following two can be considered a good entry point to the subject.\n",
    "* Clarke, G. M. et al. __[Basic statistical analysis in genetic case-control studies](http://www.nature.com/nprot/journal/v6/n2/full/nprot.2010.182.html)__. Nature Protocols 6, 121–133 (2011).\n",
    "* McCarthy, M. I. et al. __[Genome-wide association studies for complex traits: consensus, uncertainty and challenges](http://www.nature.com/nrg/journal/v9/n5/full/nrg2344.html)__. Nature Reviews Genetics 9, 356–369 (2008)."
   ]
  },
  {
   "cell_type": "markdown",
   "metadata": {},
   "source": [
    "# Load data\n",
    "Before you can work with the data you have to load it and tidy it up a bit. This includes filtering rows with missing values, making sure that numeric columns are indeed of a numeric data type in the data frame."
   ]
  },
  {
   "cell_type": "markdown",
   "metadata": {},
   "source": [
    "__Define variable with path to data directory__"
   ]
  },
  {
   "cell_type": "code",
   "execution_count": 209,
   "metadata": {
    "collapsed": false,
    "run_control": {
     "frozen": false,
     "read_only": false
    }
   },
   "outputs": [],
   "source": [
    "path = \"/home/lucas/Documents/PIB/Integrated_Bioinformatics/IOFolder\""
   ]
  },
  {
   "cell_type": "markdown",
   "metadata": {},
   "source": [
    "__Load data__"
   ]
  },
  {
   "cell_type": "markdown",
   "metadata": {},
   "source": [
    "The data gets laoded to a dataframe with pandas read_table function"
   ]
  },
  {
   "cell_type": "code",
   "execution_count": 210,
   "metadata": {
    "collapsed": false,
    "run_control": {
     "frozen": false,
     "read_only": false
    }
   },
   "outputs": [],
   "source": [
    "genotype = pd.read_table(\"../genotype.txt\",header=0,comment='@')"
   ]
  },
  {
   "cell_type": "code",
   "execution_count": 211,
   "metadata": {
    "collapsed": false
   },
   "outputs": [],
   "source": [
    "geno = genotype.copy()"
   ]
  },
  {
   "cell_type": "markdown",
   "metadata": {},
   "source": [
    "## Subtask: Set SNP-ID column as index"
   ]
  },
  {
   "cell_type": "code",
   "execution_count": 212,
   "metadata": {
    "collapsed": false,
    "run_control": {
     "frozen": false,
     "read_only": false
    }
   },
   "outputs": [],
   "source": [
    "genotype = genotype.set_index(genotype['Locus'])"
   ]
  },
  {
   "cell_type": "markdown",
   "metadata": {},
   "source": [
    "## Subtask: Replace categorical data strings with numerical encoding\n",
    "\n",
    "Let's assume the following mapping from the categorical variable to integers.\n",
    "\n",
    "|strain| value  |\n",
    "|------|--------|\n",
    "|  B   |  0     |\n",
    "|  H   |  1     |\n",
    "|  D   |  2     |\n",
    "|  U   | missing|"
   ]
  },
  {
   "cell_type": "markdown",
   "metadata": {},
   "source": [
    "According to the instructions and the table, the letters get replaced with the above-mentioned numbers"
   ]
  },
  {
   "cell_type": "code",
   "execution_count": 213,
   "metadata": {
    "collapsed": false,
    "run_control": {
     "frozen": false,
     "read_only": false
    }
   },
   "outputs": [],
   "source": [
    "for column in genotype:\n",
    "    if column.startswith('BXD'):\n",
    "       genotype[column] = genotype[column].replace({\"B\":0,\"H\":1,\"D\":2,\"U\":np.nan})"
   ]
  },
  {
   "cell_type": "markdown",
   "metadata": {},
   "source": [
    "## Subtask: Drop rows with unknown genotypes"
   ]
  },
  {
   "cell_type": "markdown",
   "metadata": {},
   "source": [
    "Rows with unknown genotypes are represented by rows containing nan values and can be dropped with the dropna() function"
   ]
  },
  {
   "cell_type": "code",
   "execution_count": 214,
   "metadata": {
    "collapsed": true,
    "run_control": {
     "frozen": false,
     "read_only": false
    }
   },
   "outputs": [],
   "source": [
    "genotype = genotype.dropna()"
   ]
  },
  {
   "cell_type": "markdown",
   "metadata": {},
   "source": [
    "## Dowload categorical data from genenetworks.org"
   ]
  },
  {
   "cell_type": "markdown",
   "metadata": {},
   "source": [
    "Most mouse phenotype data is available at genenetwork.org. This includes nearly all published phenotype measurements. You can access individual measurements from that repository using the search mask:\n",
    "1. Go to http://gn2.genenetwork.org/\n",
    "2. In \"Select and Search\" fill in:\n",
    "    1. Species: Mouse\n",
    "    2. Group: BXD\n",
    "    3. Type: Phenotypes\n",
    "    4. Dataset: BXD Published Phenotypes\n",
    "3. Enter the <trait of interest> in the \"Get any\" field\n",
    "4. Search\n",
    "\n",
    "For getting data on the coat color of BXD mice use \"coat color\" as search term and select RecordID/11280 to get to the corresponding __Trait Data and Analysis__ page. There you can download the data as text file."
   ]
  },
  {
   "cell_type": "markdown",
   "metadata": {
    "collapsed": true,
    "run_control": {
     "frozen": false,
     "read_only": false
    }
   },
   "source": [
    "## Load phenotype data (coat color)"
   ]
  },
  {
   "cell_type": "markdown",
   "metadata": {},
   "source": [
    "From the source of the genotype data we know the mapping between the categorical color value\n",
    "and the actual color.\n",
    "\n",
    "|color  | value  |\n",
    "|-------|--------|\n",
    "| black |  4     |\n",
    "| grey  |  3     |\n",
    "| brown |  2     |\n",
    "| dilute|  1     |"
   ]
  },
  {
   "cell_type": "markdown",
   "metadata": {},
   "source": [
    "The phenotype dataset can be read in with the read_excel function. This way it's stored in a dataframe. The columns of the dataframe get renamed and the index is set to the name of the strain. Like with the genotype data the rows with invalid numbers get dropped"
   ]
  },
  {
   "cell_type": "code",
   "execution_count": 215,
   "metadata": {
    "collapsed": false,
    "run_control": {
     "frozen": false,
     "read_only": false
    }
   },
   "outputs": [],
   "source": [
    "phenotype = pd.read_excel('../sample_data.xlsx',header=None)"
   ]
  },
  {
   "cell_type": "code",
   "execution_count": 216,
   "metadata": {
    "collapsed": false,
    "run_control": {
     "frozen": false,
     "read_only": false
    },
    "scrolled": true
   },
   "outputs": [],
   "source": [
    "phenotype.columns=['Strain Name','Coat Color']"
   ]
  },
  {
   "cell_type": "code",
   "execution_count": 217,
   "metadata": {
    "collapsed": false,
    "run_control": {
     "frozen": false,
     "read_only": false
    }
   },
   "outputs": [],
   "source": [
    "phenotype = phenotype.set_index(phenotype['Strain Name'])"
   ]
  },
  {
   "cell_type": "code",
   "execution_count": 218,
   "metadata": {
    "collapsed": false,
    "run_control": {
     "frozen": false,
     "read_only": false
    }
   },
   "outputs": [],
   "source": [
    "phenoytpe = phenotype.dropna()\n"
   ]
  },
  {
   "cell_type": "code",
   "execution_count": null,
   "metadata": {
    "collapsed": false,
    "run_control": {
     "frozen": false,
     "read_only": false
    }
   },
   "outputs": [],
   "source": []
  },
  {
   "cell_type": "markdown",
   "metadata": {},
   "source": [
    "## Convert data to numeric"
   ]
  },
  {
   "cell_type": "markdown",
   "metadata": {},
   "source": [
    "The to_numeric function is called to ensure all the data in the dataframe is of type numeric"
   ]
  },
  {
   "cell_type": "code",
   "execution_count": 219,
   "metadata": {
    "collapsed": false,
    "run_control": {
     "frozen": false,
     "read_only": false
    }
   },
   "outputs": [],
   "source": [
    "phenotype = pd.to_numeric(phenotype['Coat Color'],errors='coerce')"
   ]
  },
  {
   "cell_type": "code",
   "execution_count": 220,
   "metadata": {
    "collapsed": false
   },
   "outputs": [
    {
     "data": {
      "text/plain": [
       "Strain Name\n",
       "C57BL/6J    4.0\n",
       "DBA/2J      1.0\n",
       "B6D2F1      4.0\n",
       "D2B6F1      4.0\n",
       "BXD1        1.0\n",
       "Name: Coat Color, dtype: float64"
      ]
     },
     "execution_count": 220,
     "metadata": {},
     "output_type": "execute_result"
    }
   ],
   "source": [
    "phenotype.head()"
   ]
  },
  {
   "cell_type": "markdown",
   "metadata": {},
   "source": [
    "# Association tests between variant(s) and categorical phenotype\n",
    "We will first start testing SNPs for their association with an easily characterizable phenotype: coat color. As you could see in the slides, BXD mice come in different colors (black, brown, dilute) and as you know, hair color is heritable. In this task you will thus try to find candidate genes that are involved in coat color determination in the mouse population."
   ]
  },
  {
   "cell_type": "markdown",
   "metadata": {},
   "source": [
    "__Show head of genotype data__"
   ]
  },
  {
   "cell_type": "code",
   "execution_count": 221,
   "metadata": {
    "collapsed": false,
    "run_control": {
     "frozen": false,
     "read_only": false
    }
   },
   "outputs": [
    {
     "data": {
      "text/html": [
       "<div>\n",
       "<table border=\"1\" class=\"dataframe\">\n",
       "  <thead>\n",
       "    <tr style=\"text-align: right;\">\n",
       "      <th></th>\n",
       "      <th>Chr</th>\n",
       "      <th>Locus</th>\n",
       "      <th>cM</th>\n",
       "      <th>Mb</th>\n",
       "      <th>BXD1</th>\n",
       "      <th>BXD2</th>\n",
       "      <th>BXD5</th>\n",
       "      <th>BXD6</th>\n",
       "      <th>BXD8</th>\n",
       "      <th>BXD9</th>\n",
       "      <th>...</th>\n",
       "      <th>BXD90</th>\n",
       "      <th>BXD91</th>\n",
       "      <th>BXD93</th>\n",
       "      <th>BXD94</th>\n",
       "      <th>BXD95</th>\n",
       "      <th>BXD98</th>\n",
       "      <th>BXD99</th>\n",
       "      <th>BXD100</th>\n",
       "      <th>BXD101</th>\n",
       "      <th>BXD102</th>\n",
       "    </tr>\n",
       "    <tr>\n",
       "      <th>Locus</th>\n",
       "      <th></th>\n",
       "      <th></th>\n",
       "      <th></th>\n",
       "      <th></th>\n",
       "      <th></th>\n",
       "      <th></th>\n",
       "      <th></th>\n",
       "      <th></th>\n",
       "      <th></th>\n",
       "      <th></th>\n",
       "      <th></th>\n",
       "      <th></th>\n",
       "      <th></th>\n",
       "      <th></th>\n",
       "      <th></th>\n",
       "      <th></th>\n",
       "      <th></th>\n",
       "      <th></th>\n",
       "      <th></th>\n",
       "      <th></th>\n",
       "      <th></th>\n",
       "    </tr>\n",
       "  </thead>\n",
       "  <tbody>\n",
       "    <tr>\n",
       "      <th>rs6269442</th>\n",
       "      <td>1</td>\n",
       "      <td>rs6269442</td>\n",
       "      <td>0.000</td>\n",
       "      <td>3.482275</td>\n",
       "      <td>0</td>\n",
       "      <td>0</td>\n",
       "      <td>2</td>\n",
       "      <td>2.0</td>\n",
       "      <td>2</td>\n",
       "      <td>0</td>\n",
       "      <td>...</td>\n",
       "      <td>0.0</td>\n",
       "      <td>2</td>\n",
       "      <td>0</td>\n",
       "      <td>2.0</td>\n",
       "      <td>2</td>\n",
       "      <td>0</td>\n",
       "      <td>0</td>\n",
       "      <td>0</td>\n",
       "      <td>0.0</td>\n",
       "      <td>0.0</td>\n",
       "    </tr>\n",
       "    <tr>\n",
       "      <th>rs6241531</th>\n",
       "      <td>1</td>\n",
       "      <td>rs6241531</td>\n",
       "      <td>2.367</td>\n",
       "      <td>9.995925</td>\n",
       "      <td>0</td>\n",
       "      <td>0</td>\n",
       "      <td>2</td>\n",
       "      <td>2.0</td>\n",
       "      <td>2</td>\n",
       "      <td>0</td>\n",
       "      <td>...</td>\n",
       "      <td>0.0</td>\n",
       "      <td>2</td>\n",
       "      <td>0</td>\n",
       "      <td>2.0</td>\n",
       "      <td>2</td>\n",
       "      <td>0</td>\n",
       "      <td>0</td>\n",
       "      <td>0</td>\n",
       "      <td>0.0</td>\n",
       "      <td>2.0</td>\n",
       "    </tr>\n",
       "    <tr>\n",
       "      <th>rs6360236</th>\n",
       "      <td>1</td>\n",
       "      <td>rs6360236</td>\n",
       "      <td>3.263</td>\n",
       "      <td>11.073904</td>\n",
       "      <td>0</td>\n",
       "      <td>0</td>\n",
       "      <td>2</td>\n",
       "      <td>2.0</td>\n",
       "      <td>2</td>\n",
       "      <td>0</td>\n",
       "      <td>...</td>\n",
       "      <td>0.0</td>\n",
       "      <td>2</td>\n",
       "      <td>0</td>\n",
       "      <td>2.0</td>\n",
       "      <td>2</td>\n",
       "      <td>0</td>\n",
       "      <td>0</td>\n",
       "      <td>0</td>\n",
       "      <td>0.0</td>\n",
       "      <td>2.0</td>\n",
       "    </tr>\n",
       "    <tr>\n",
       "      <th>rs3722996</th>\n",
       "      <td>1</td>\n",
       "      <td>rs3722996</td>\n",
       "      <td>3.263</td>\n",
       "      <td>11.259432</td>\n",
       "      <td>0</td>\n",
       "      <td>0</td>\n",
       "      <td>2</td>\n",
       "      <td>2.0</td>\n",
       "      <td>2</td>\n",
       "      <td>0</td>\n",
       "      <td>...</td>\n",
       "      <td>0.0</td>\n",
       "      <td>2</td>\n",
       "      <td>0</td>\n",
       "      <td>2.0</td>\n",
       "      <td>2</td>\n",
       "      <td>0</td>\n",
       "      <td>0</td>\n",
       "      <td>0</td>\n",
       "      <td>0.0</td>\n",
       "      <td>2.0</td>\n",
       "    </tr>\n",
       "    <tr>\n",
       "      <th>D1Mit1</th>\n",
       "      <td>1</td>\n",
       "      <td>D1Mit1</td>\n",
       "      <td>3.549</td>\n",
       "      <td>11.505582</td>\n",
       "      <td>0</td>\n",
       "      <td>0</td>\n",
       "      <td>2</td>\n",
       "      <td>2.0</td>\n",
       "      <td>2</td>\n",
       "      <td>0</td>\n",
       "      <td>...</td>\n",
       "      <td>0.0</td>\n",
       "      <td>2</td>\n",
       "      <td>0</td>\n",
       "      <td>2.0</td>\n",
       "      <td>2</td>\n",
       "      <td>0</td>\n",
       "      <td>0</td>\n",
       "      <td>0</td>\n",
       "      <td>0.0</td>\n",
       "      <td>2.0</td>\n",
       "    </tr>\n",
       "  </tbody>\n",
       "</table>\n",
       "<p>5 rows × 97 columns</p>\n",
       "</div>"
      ],
      "text/plain": [
       "          Chr      Locus     cM         Mb  BXD1  BXD2  BXD5  BXD6  BXD8  \\\n",
       "Locus                                                                      \n",
       "rs6269442   1  rs6269442  0.000   3.482275     0     0     2   2.0     2   \n",
       "rs6241531   1  rs6241531  2.367   9.995925     0     0     2   2.0     2   \n",
       "rs6360236   1  rs6360236  3.263  11.073904     0     0     2   2.0     2   \n",
       "rs3722996   1  rs3722996  3.263  11.259432     0     0     2   2.0     2   \n",
       "D1Mit1      1     D1Mit1  3.549  11.505582     0     0     2   2.0     2   \n",
       "\n",
       "           BXD9   ...    BXD90  BXD91  BXD93  BXD94  BXD95  BXD98  BXD99  \\\n",
       "Locus             ...                                                      \n",
       "rs6269442     0   ...      0.0      2      0    2.0      2      0      0   \n",
       "rs6241531     0   ...      0.0      2      0    2.0      2      0      0   \n",
       "rs6360236     0   ...      0.0      2      0    2.0      2      0      0   \n",
       "rs3722996     0   ...      0.0      2      0    2.0      2      0      0   \n",
       "D1Mit1        0   ...      0.0      2      0    2.0      2      0      0   \n",
       "\n",
       "           BXD100  BXD101  BXD102  \n",
       "Locus                              \n",
       "rs6269442       0     0.0     0.0  \n",
       "rs6241531       0     0.0     2.0  \n",
       "rs6360236       0     0.0     2.0  \n",
       "rs3722996       0     0.0     2.0  \n",
       "D1Mit1          0     0.0     2.0  \n",
       "\n",
       "[5 rows x 97 columns]"
      ]
     },
     "execution_count": 221,
     "metadata": {},
     "output_type": "execute_result"
    }
   ],
   "source": [
    "genotype.head()"
   ]
  },
  {
   "cell_type": "markdown",
   "metadata": {},
   "source": [
    "## Task: Perfom association test for a single SNP using $\\chi^2$ test and odds ratio"
   ]
  },
  {
   "cell_type": "markdown",
   "metadata": {},
   "source": [
    "### Subtask: Extract row of a single SNP (e.g. rs6232550)"
   ]
  },
  {
   "cell_type": "markdown",
   "metadata": {},
   "source": [
    "__Extract using loc or ix__"
   ]
  },
  {
   "cell_type": "markdown",
   "metadata": {},
   "source": [
    "With the ix function a row of the dataframe can be extracted"
   ]
  },
  {
   "cell_type": "code",
   "execution_count": 222,
   "metadata": {
    "collapsed": true
   },
   "outputs": [],
   "source": [
    "rs6232550 = genotype.ix['rs6232550']"
   ]
  },
  {
   "cell_type": "markdown",
   "metadata": {},
   "source": [
    "__Check if it worked__"
   ]
  },
  {
   "cell_type": "code",
   "execution_count": 223,
   "metadata": {
    "collapsed": false,
    "run_control": {
     "frozen": false,
     "read_only": false
    }
   },
   "outputs": [
    {
     "data": {
      "text/plain": [
       "Chr              4\n",
       "Locus    rs6232550\n",
       "cM          24.021\n",
       "Mb         40.9726\n",
       "BXD1             2\n",
       "Name: rs6232550, dtype: object"
      ]
     },
     "execution_count": 223,
     "metadata": {},
     "output_type": "execute_result"
    }
   ],
   "source": [
    "rs6232550.head()"
   ]
  },
  {
   "cell_type": "markdown",
   "metadata": {},
   "source": [
    "### Subtask: Remove all non-strain genotye columns"
   ]
  },
  {
   "cell_type": "markdown",
   "metadata": {},
   "source": [
    "The columns not containing strains for the extracted row get dropped with the drop() function"
   ]
  },
  {
   "cell_type": "code",
   "execution_count": 224,
   "metadata": {
    "collapsed": false,
    "run_control": {
     "frozen": false,
     "read_only": false
    }
   },
   "outputs": [],
   "source": [
    "rs6232550 = rs6232550.drop([\"Locus\",\"Chr\",\"cM\",\"Mb\"],axis=0)"
   ]
  },
  {
   "cell_type": "markdown",
   "metadata": {},
   "source": [
    "### Subtask: Transpose row so that it has the same format as the genotype data"
   ]
  },
  {
   "cell_type": "markdown",
   "metadata": {},
   "source": [
    "The format is already the same so no transposition is needed here"
   ]
  },
  {
   "cell_type": "code",
   "execution_count": 225,
   "metadata": {
    "collapsed": false,
    "run_control": {
     "frozen": false,
     "read_only": false
    }
   },
   "outputs": [],
   "source": [
    "rs6232550 = pd.DataFrame(rs6232550)"
   ]
  },
  {
   "cell_type": "code",
   "execution_count": 226,
   "metadata": {
    "collapsed": false
   },
   "outputs": [
    {
     "data": {
      "text/html": [
       "<div>\n",
       "<table border=\"1\" class=\"dataframe\">\n",
       "  <thead>\n",
       "    <tr style=\"text-align: right;\">\n",
       "      <th></th>\n",
       "      <th>rs6232550</th>\n",
       "    </tr>\n",
       "  </thead>\n",
       "  <tbody>\n",
       "    <tr>\n",
       "      <th>BXD1</th>\n",
       "      <td>2</td>\n",
       "    </tr>\n",
       "    <tr>\n",
       "      <th>BXD2</th>\n",
       "      <td>0</td>\n",
       "    </tr>\n",
       "    <tr>\n",
       "      <th>BXD5</th>\n",
       "      <td>0</td>\n",
       "    </tr>\n",
       "    <tr>\n",
       "      <th>BXD6</th>\n",
       "      <td>0</td>\n",
       "    </tr>\n",
       "    <tr>\n",
       "      <th>BXD8</th>\n",
       "      <td>0</td>\n",
       "    </tr>\n",
       "  </tbody>\n",
       "</table>\n",
       "</div>"
      ],
      "text/plain": [
       "     rs6232550\n",
       "BXD1         2\n",
       "BXD2         0\n",
       "BXD5         0\n",
       "BXD6         0\n",
       "BXD8         0"
      ]
     },
     "execution_count": 226,
     "metadata": {},
     "output_type": "execute_result"
    }
   ],
   "source": [
    "rs6232550.head()"
   ]
  },
  {
   "cell_type": "markdown",
   "metadata": {},
   "source": [
    "### Subtask: Combine SNP data with phenotype data"
   ]
  },
  {
   "cell_type": "markdown",
   "metadata": {},
   "source": [
    "In order to combine the phenotype and genotype data the dataframes get merged with by calling the join function on the extracted row of the genotype dataframe"
   ]
  },
  {
   "cell_type": "code",
   "execution_count": 227,
   "metadata": {
    "collapsed": false
   },
   "outputs": [],
   "source": [
    "phenotype = pd.DataFrame(phenotype)"
   ]
  },
  {
   "cell_type": "code",
   "execution_count": 228,
   "metadata": {
    "collapsed": false,
    "scrolled": true
   },
   "outputs": [],
   "source": [
    "merged = rs6232550.join(phenotype)"
   ]
  },
  {
   "cell_type": "markdown",
   "metadata": {},
   "source": [
    "### Subtask: Check that the merging worked"
   ]
  },
  {
   "cell_type": "code",
   "execution_count": 229,
   "metadata": {
    "collapsed": false
   },
   "outputs": [
    {
     "data": {
      "text/html": [
       "<div>\n",
       "<table border=\"1\" class=\"dataframe\">\n",
       "  <thead>\n",
       "    <tr style=\"text-align: right;\">\n",
       "      <th></th>\n",
       "      <th>rs6232550</th>\n",
       "      <th>Coat Color</th>\n",
       "    </tr>\n",
       "  </thead>\n",
       "  <tbody>\n",
       "    <tr>\n",
       "      <th>BXD1</th>\n",
       "      <td>2</td>\n",
       "      <td>1.0</td>\n",
       "    </tr>\n",
       "    <tr>\n",
       "      <th>BXD2</th>\n",
       "      <td>0</td>\n",
       "      <td>4.0</td>\n",
       "    </tr>\n",
       "    <tr>\n",
       "      <th>BXD5</th>\n",
       "      <td>0</td>\n",
       "      <td>3.0</td>\n",
       "    </tr>\n",
       "    <tr>\n",
       "      <th>BXD6</th>\n",
       "      <td>0</td>\n",
       "      <td>3.0</td>\n",
       "    </tr>\n",
       "    <tr>\n",
       "      <th>BXD8</th>\n",
       "      <td>0</td>\n",
       "      <td>3.0</td>\n",
       "    </tr>\n",
       "  </tbody>\n",
       "</table>\n",
       "</div>"
      ],
      "text/plain": [
       "     rs6232550  Coat Color\n",
       "BXD1         2         1.0\n",
       "BXD2         0         4.0\n",
       "BXD5         0         3.0\n",
       "BXD6         0         3.0\n",
       "BXD8         0         3.0"
      ]
     },
     "execution_count": 229,
     "metadata": {},
     "output_type": "execute_result"
    }
   ],
   "source": [
    "merged.head()"
   ]
  },
  {
   "cell_type": "code",
   "execution_count": 230,
   "metadata": {
    "collapsed": false,
    "run_control": {
     "frozen": false,
     "read_only": false
    },
    "scrolled": true
   },
   "outputs": [],
   "source": [
    "merged = merged.dropna()"
   ]
  },
  {
   "cell_type": "markdown",
   "metadata": {},
   "source": [
    "### Subtask: Plot relationship between genotye and phenotype"
   ]
  },
  {
   "cell_type": "code",
   "execution_count": 231,
   "metadata": {
    "collapsed": false,
    "run_control": {
     "frozen": false,
     "read_only": false
    }
   },
   "outputs": [
    {
     "data": {
      "text/plain": [
       "<matplotlib.axes._subplots.AxesSubplot at 0x1202feef0>"
      ]
     },
     "execution_count": 231,
     "metadata": {},
     "output_type": "execute_result"
    },
    {
     "data": {
      "image/png": "[encoded data removed]",
      "text/plain": [
       "<matplotlib.figure.Figure at 0x120513400>"
      ]
     },
     "metadata": {},
     "output_type": "display_data"
    }
   ],
   "source": [
    "merged.plot(kind='kde')"
   ]
  },
  {
   "cell_type": "markdown",
   "metadata": {},
   "source": [
    "### Subtask: Create contingency table for a D-dominant inheritance model of black coat color and SNP rs6232550\n",
    "Tip: pandas' crosstabl functionality may be helpful here and the [reshaping/crosstab documentation](http://pandas-docs.github.io/pandas-docs-travis/reshaping.html) as illustrated in [this tutorial](http://wesmckinney.com/blog/contingency-tables-and-cross-tabulations-in-pandas/) may be helpful."
   ]
  },
  {
   "cell_type": "markdown",
   "metadata": {},
   "source": [
    "A contingency table can be created with the crosstab function. This way you get a table that shows the number of all mice that have black coat color and inherited the SNP dominantly, vice versa"
   ]
  },
  {
   "cell_type": "code",
   "execution_count": 232,
   "metadata": {
    "collapsed": false,
    "run_control": {
     "frozen": false,
     "read_only": false
    }
   },
   "outputs": [],
   "source": [
    "contingency_table = pd.crosstab( merged['Coat Color'] == 4, merged.rs6232550 == 0, margins=True)"
   ]
  },
  {
   "cell_type": "markdown",
   "metadata": {},
   "source": [
    "__Show table__"
   ]
  },
  {
   "cell_type": "code",
   "execution_count": 233,
   "metadata": {
    "collapsed": false,
    "run_control": {
     "frozen": false,
     "read_only": false
    }
   },
   "outputs": [
    {
     "data": {
      "text/html": [
       "<div>\n",
       "<table border=\"1\" class=\"dataframe\">\n",
       "  <thead>\n",
       "    <tr style=\"text-align: right;\">\n",
       "      <th>rs6232550</th>\n",
       "      <th>False</th>\n",
       "      <th>True</th>\n",
       "      <th>All</th>\n",
       "    </tr>\n",
       "    <tr>\n",
       "      <th>Coat Color</th>\n",
       "      <th></th>\n",
       "      <th></th>\n",
       "      <th></th>\n",
       "    </tr>\n",
       "  </thead>\n",
       "  <tbody>\n",
       "    <tr>\n",
       "      <th>False</th>\n",
       "      <td>39</td>\n",
       "      <td>32</td>\n",
       "      <td>71</td>\n",
       "    </tr>\n",
       "    <tr>\n",
       "      <th>True</th>\n",
       "      <td>8</td>\n",
       "      <td>11</td>\n",
       "      <td>19</td>\n",
       "    </tr>\n",
       "    <tr>\n",
       "      <th>All</th>\n",
       "      <td>47</td>\n",
       "      <td>43</td>\n",
       "      <td>90</td>\n",
       "    </tr>\n",
       "  </tbody>\n",
       "</table>\n",
       "</div>"
      ],
      "text/plain": [
       "rs6232550   False  True  All\n",
       "Coat Color                  \n",
       "False          39    32   71\n",
       "True            8    11   19\n",
       "All            47    43   90"
      ]
     },
     "execution_count": 233,
     "metadata": {},
     "output_type": "execute_result"
    }
   ],
   "source": [
    "contingency_table"
   ]
  },
  {
   "cell_type": "markdown",
   "metadata": {},
   "source": [
    "### Subtask: Perform $\\chi^2$ square test for independence on the contingency table"
   ]
  },
  {
   "cell_type": "markdown",
   "metadata": {},
   "source": [
    "Before performing chi square test one needs to calculate the odds ratio of the contigency tbale"
   ]
  },
  {
   "cell_type": "code",
   "execution_count": 234,
   "metadata": {
    "collapsed": true,
    "run_control": {
     "frozen": false,
     "read_only": false
    }
   },
   "outputs": [],
   "source": [
    "import numpy as np\n",
    "from scipy.stats import chi2_contingency"
   ]
  },
  {
   "cell_type": "code",
   "execution_count": 235,
   "metadata": {
    "collapsed": false,
    "run_control": {
     "frozen": false,
     "read_only": false
    }
   },
   "outputs": [],
   "source": [
    "p = chi2_contingency(contingency_table)\n",
    "p = p[1]"
   ]
  },
  {
   "cell_type": "markdown",
   "metadata": {},
   "source": [
    "### Subtask: Write function to calculate odds ratio from a contingency table"
   ]
  },
  {
   "cell_type": "code",
   "execution_count": 236,
   "metadata": {
    "collapsed": true,
    "run_control": {
     "frozen": false,
     "read_only": false
    }
   },
   "outputs": [],
   "source": [
    "def calculateOddsRatio(table):\n",
    "    \"\"\"\n",
    "    The function computes the odds ratio of a contigency table\n",
    "    @param table: contigency table\n",
    "    \"\"\"\n",
    "    r_0 = float(table[0][0])\n",
    "    r_1 = float(table[0][1])\n",
    "    s_0 = float(table[1][0])\n",
    "    s_1 = float(table[1][1])\n",
    "    if s_0 != 0.0 and s_1 != 0.0:\n",
    "        return ((r_0 / s_0) * (r_1 / s_1))\n",
    "    "
   ]
  },
  {
   "cell_type": "code",
   "execution_count": 237,
   "metadata": {
    "collapsed": false,
    "run_control": {
     "frozen": false,
     "read_only": false
    }
   },
   "outputs": [
    {
     "data": {
      "text/plain": [
       "0.8863636363636364"
      ]
     },
     "execution_count": 237,
     "metadata": {},
     "output_type": "execute_result"
    }
   ],
   "source": [
    "calculateOddsRatio(contingency_table)"
   ]
  },
  {
   "cell_type": "markdown",
   "metadata": {},
   "source": [
    "## Task: extend statistical method for a penetrance model in which increasing numbers of A alleles confer a trend in risk (e.g. additive or dominant)"
   ]
  },
  {
   "cell_type": "markdown",
   "metadata": {},
   "source": [
    "While you can model most of the penetrance models described in the lecture in a 2x2 contingency table and thus perform a $\\chi^2$ test with one degree of freedom, it may sometimes be useful to consider the full complexity of a genotype contigency table considering all three possible genotypes instead of just two (even though the latter has larger statistical power). Apart from a $\\chi^2$ test with two degrees of freedom, the Cochran–Armitage trend test is commonly used in genetic association tests as this has often larger statistical power. In this case, if the exact model of penetrance is not known, an additive approach is often used. \n",
    "\n",
    "You can read more about basic statistical approaches in genetic association tests in the following paper:\n",
    "\n",
    "__Clarke, G. M. et al. [Basic statistical analysis in genetic case-control studies](http://www.nature.com/nprot/journal/v6/n2/full/nprot.2010.182.html). Nat Protoc 6, 121–133 (2011).__\n"
   ]
  },
  {
   "cell_type": "markdown",
   "metadata": {},
   "source": [
    "### Subtask: Given the data you have, could you calculate this type of statistic for your data?\n",
    "\n",
    "* If yes, please implement the creation of a contingency table and the test.\n",
    "* If no, please explain why."
   ]
  },
  {
   "cell_type": "markdown",
   "metadata": {
    "collapsed": true,
    "run_control": {
     "frozen": false,
     "read_only": false
    }
   },
   "source": [
    "There are not many heterozygote alleles in the dataset, so its not interesting to perform such a test. However it would be possible."
   ]
  },
  {
   "cell_type": "markdown",
   "metadata": {},
   "source": [
    "## Task: Refactor previous analysis steps into a function and apply to all SNPs\n",
    "\n",
    "Things to consider:\n",
    "* What information is needed as input in each round?\n",
    "* Do you want to support $\\chi^2$ and Cochran–Armitage test?\n",
    "* What information as output is needed?\n",
    "* Should multiple inheritance models be included?\n",
    "* Should the user get to chose which hair color to test?"
   ]
  },
  {
   "cell_type": "code",
   "execution_count": 238,
   "metadata": {
    "collapsed": false,
    "run_control": {
     "frozen": false,
     "read_only": false
    }
   },
   "outputs": [],
   "source": [
    "def analyze(snp,genotype,phenotype,inheritance_model):\n",
    "    \"\"\"\n",
    "    This function perfroms chi square test for the data. It is possible to chose the inheritance model with one\n",
    "    of the parameters.\n",
    "    \n",
    "    @param snp: the snp to test for\n",
    "    @param genotype: genotype dataset\n",
    "    @param phenotype: phenotype dataset\n",
    "    @param inheritance_model: the inheritance model one wants to test for\n",
    "    \"\"\"\n",
    "    #extract snp data\n",
    "    snp_data = genotype.ix[snp]\n",
    "    snp_data = pd.DataFrame(snp_data)\n",
    "    #merge phenotype and genotype data\n",
    "    merged = snp_data.join(phenotype)\n",
    "    merged = merged.dropna()\n",
    "    #chose the correct inheritance model\n",
    "    if inheritance_model == 'B':\n",
    "        contingency_table = pd.crosstab( merged['Coat Color'] == 4, merged[snp] == 0, margins=True)\n",
    "    if inheritance_model == 'H':\n",
    "        contingency_table = pd.crosstab( merged['Coat Color'] == 4, merged[snp] == 1, margins=True)\n",
    "    if inheritance_model == 'D':\n",
    "        contingency_table = pd.crosstab( merged['Coat Color'] == 4, merged[snp] == 2, margins=True)\n",
    "    #perform chi square independence test\n",
    "    p = chi2_contingency(contingency_table)\n",
    "    p = p[1]\n",
    "    odds = calculateOddsRatio(contingency_table)\n",
    "    return (contingency_table,p,odds)"
   ]
  },
  {
   "cell_type": "markdown",
   "metadata": {
    "collapsed": false
   },
   "source": [
    "After refractoring the previous steps into a function, the function now gets called iteratively for all snps and the results get stored in a list"
   ]
  },
  {
   "cell_type": "code",
   "execution_count": 239,
   "metadata": {
    "collapsed": false
   },
   "outputs": [],
   "source": [
    "results = []\n",
    "genotype1 = genotype.copy()"
   ]
  },
  {
   "cell_type": "code",
   "execution_count": 240,
   "metadata": {
    "collapsed": false
   },
   "outputs": [],
   "source": [
    "for snp in genotype1.T:\n",
    "        analysis = analyze(snp,genotype,phenotype,'B')\n",
    "        results.append(analysis)"
   ]
  },
  {
   "cell_type": "code",
   "execution_count": 241,
   "metadata": {
    "collapsed": false
   },
   "outputs": [
    {
     "name": "stdout",
     "output_type": "stream",
     "text": [
      "0.3886554621848739\n"
     ]
    }
   ],
   "source": [
    "print(results[4][2])"
   ]
  },
  {
   "cell_type": "code",
   "execution_count": null,
   "metadata": {
    "collapsed": true
   },
   "outputs": [],
   "source": []
  },
  {
   "cell_type": "markdown",
   "metadata": {},
   "source": [
    "### Subtask: Create Manhattan Plot of  $-\\log_{10}(\\text{P-value})$ vs chromosome position \n",
    "A Manhattan plot, named after its resemblance to the skyline of Manhattan, is commonly used to plot the p-value obtained for individual association tests for each SNP compared to the SNP's position on the genome as shown in the example below.\n",
    "\n",
    "Technically, a Manhattan plot is a scatter plot of genome position (for each chromosome) vs the negative logarithm of the p-value.\n",
    "\n",
    "<img src=\"Manhattan.png\"></img>"
   ]
  },
  {
   "cell_type": "markdown",
   "metadata": {},
   "source": [
    "Another dataframe gets prepared that stores the chromosome positions and the pvalues of the SNPs for later printing the manhattan plot"
   ]
  },
  {
   "cell_type": "code",
   "execution_count": 242,
   "metadata": {
    "collapsed": false
   },
   "outputs": [],
   "source": [
    "chrPos = genotype['cM']\n",
    "i = 0\n",
    "pvalues = []\n",
    "for value in results:\n",
    "      pvalues.append(results[i][1])\n",
    "      i = i + 1\n",
    "pvalues = pd.DataFrame(pvalues)\n",
    "chrPos = pd.DataFrame(chrPos)"
   ]
  },
  {
   "cell_type": "code",
   "execution_count": 243,
   "metadata": {
    "collapsed": false,
    "scrolled": true
   },
   "outputs": [],
   "source": [
    "pvalues = pvalues.set_index(genotype[\"Locus\"])\n",
    "pvalues = pvalues.dropna()"
   ]
  },
  {
   "cell_type": "markdown",
   "metadata": {},
   "source": [
    "Add pvalues to the original dataframe and apply -log10 to the pvalues"
   ]
  },
  {
   "cell_type": "code",
   "execution_count": 244,
   "metadata": {
    "collapsed": false
   },
   "outputs": [],
   "source": [
    "def neglog10(number):\n",
    "    return(-np.log10(number))"
   ]
  },
  {
   "cell_type": "code",
   "execution_count": 245,
   "metadata": {
    "collapsed": false
   },
   "outputs": [],
   "source": [
    "neglog_pvalues = pvalues.apply(neglog10)"
   ]
  },
  {
   "cell_type": "code",
   "execution_count": 161,
   "metadata": {
    "collapsed": false
   },
   "outputs": [],
   "source": [
    "se = pd.Series(neglog_pvalues[0])\n",
    "genotype['NegLog_p'] = se.values"
   ]
  },
  {
   "cell_type": "code",
   "execution_count": 162,
   "metadata": {
    "collapsed": false
   },
   "outputs": [],
   "source": [
    "manhattan = pvalues.join(chrPos)"
   ]
  },
  {
   "cell_type": "code",
   "execution_count": 163,
   "metadata": {
    "collapsed": false
   },
   "outputs": [
    {
     "data": {
      "text/html": [
       "<div>\n",
       "<table border=\"1\" class=\"dataframe\">\n",
       "  <thead>\n",
       "    <tr style=\"text-align: right;\">\n",
       "      <th></th>\n",
       "      <th>0</th>\n",
       "      <th>cM</th>\n",
       "    </tr>\n",
       "    <tr>\n",
       "      <th>Locus</th>\n",
       "      <th></th>\n",
       "      <th></th>\n",
       "    </tr>\n",
       "  </thead>\n",
       "  <tbody>\n",
       "    <tr>\n",
       "      <th>rs6269442</th>\n",
       "      <td>0.174573</td>\n",
       "      <td>0.000</td>\n",
       "    </tr>\n",
       "    <tr>\n",
       "      <th>rs6241531</th>\n",
       "      <td>0.584877</td>\n",
       "      <td>2.367</td>\n",
       "    </tr>\n",
       "    <tr>\n",
       "      <th>rs6360236</th>\n",
       "      <td>0.404961</td>\n",
       "      <td>3.263</td>\n",
       "    </tr>\n",
       "    <tr>\n",
       "      <th>rs3722996</th>\n",
       "      <td>0.404961</td>\n",
       "      <td>3.263</td>\n",
       "    </tr>\n",
       "    <tr>\n",
       "      <th>D1Mit1</th>\n",
       "      <td>0.404961</td>\n",
       "      <td>3.549</td>\n",
       "    </tr>\n",
       "  </tbody>\n",
       "</table>\n",
       "</div>"
      ],
      "text/plain": [
       "                  0     cM\n",
       "Locus                     \n",
       "rs6269442  0.174573  0.000\n",
       "rs6241531  0.584877  2.367\n",
       "rs6360236  0.404961  3.263\n",
       "rs3722996  0.404961  3.263\n",
       "D1Mit1     0.404961  3.549"
      ]
     },
     "execution_count": 163,
     "metadata": {},
     "output_type": "execute_result"
    }
   ],
   "source": [
    "manhattan.head()"
   ]
  },
  {
   "cell_type": "code",
   "execution_count": 280,
   "metadata": {
    "collapsed": false
   },
   "outputs": [],
   "source": [
    "manhattan = neglog_pvalues.join(chrPos)\n",
    "manhattan.columns = ['-log10(pvalue)','cM']\n",
    "manhattan[\"Chr\"] = genotype['Chr']\n",
    "manhattan[\"Mb\"] = genotype['Mb']\n",
    "mh = manhattan.sort_values(by=[\"Chr\",\"Mb\"])\n",
    "mh_grouped = mh.groupby(['Chr'],sort=False,group_keys=True)"
   ]
  },
  {
   "cell_type": "code",
   "execution_count": 281,
   "metadata": {
    "collapsed": false
   },
   "outputs": [],
   "source": [
    "manhattan[\"Chr\"] = genotype[\"Chr\"]"
   ]
  },
  {
   "cell_type": "code",
   "execution_count": 282,
   "metadata": {
    "collapsed": false
   },
   "outputs": [
    {
     "data": {
      "text/html": [
       "<div>\n",
       "<table border=\"1\" class=\"dataframe\">\n",
       "  <thead>\n",
       "    <tr style=\"text-align: right;\">\n",
       "      <th></th>\n",
       "      <th>-log10(pvalue)</th>\n",
       "      <th>cM</th>\n",
       "      <th>Chr</th>\n",
       "      <th>Mb</th>\n",
       "    </tr>\n",
       "    <tr>\n",
       "      <th>Locus</th>\n",
       "      <th></th>\n",
       "      <th></th>\n",
       "      <th></th>\n",
       "      <th></th>\n",
       "    </tr>\n",
       "  </thead>\n",
       "  <tbody>\n",
       "    <tr>\n",
       "      <th>rs6269442</th>\n",
       "      <td>0.758022</td>\n",
       "      <td>0.000</td>\n",
       "      <td>1</td>\n",
       "      <td>3.482275</td>\n",
       "    </tr>\n",
       "    <tr>\n",
       "      <th>rs6241531</th>\n",
       "      <td>0.232936</td>\n",
       "      <td>2.367</td>\n",
       "      <td>1</td>\n",
       "      <td>9.995925</td>\n",
       "    </tr>\n",
       "    <tr>\n",
       "      <th>rs6360236</th>\n",
       "      <td>0.392587</td>\n",
       "      <td>3.263</td>\n",
       "      <td>1</td>\n",
       "      <td>11.073904</td>\n",
       "    </tr>\n",
       "    <tr>\n",
       "      <th>rs3722996</th>\n",
       "      <td>0.392587</td>\n",
       "      <td>3.263</td>\n",
       "      <td>1</td>\n",
       "      <td>11.259432</td>\n",
       "    </tr>\n",
       "    <tr>\n",
       "      <th>D1Mit1</th>\n",
       "      <td>0.392587</td>\n",
       "      <td>3.549</td>\n",
       "      <td>1</td>\n",
       "      <td>11.505582</td>\n",
       "    </tr>\n",
       "  </tbody>\n",
       "</table>\n",
       "</div>"
      ],
      "text/plain": [
       "           -log10(pvalue)     cM Chr         Mb\n",
       "Locus                                          \n",
       "rs6269442        0.758022  0.000   1   3.482275\n",
       "rs6241531        0.232936  2.367   1   9.995925\n",
       "rs6360236        0.392587  3.263   1  11.073904\n",
       "rs3722996        0.392587  3.263   1  11.259432\n",
       "D1Mit1           0.392587  3.549   1  11.505582"
      ]
     },
     "execution_count": 282,
     "metadata": {},
     "output_type": "execute_result"
    }
   ],
   "source": [
    "manhattan.head()"
   ]
  },
  {
   "cell_type": "code",
   "execution_count": 283,
   "metadata": {
    "collapsed": false,
    "scrolled": true
   },
   "outputs": [
    {
     "data": {
      "text/html": [
       "<div>\n",
       "<table border=\"1\" class=\"dataframe\">\n",
       "  <thead>\n",
       "    <tr style=\"text-align: right;\">\n",
       "      <th></th>\n",
       "      <th>-log10(pvalue)</th>\n",
       "      <th>cM</th>\n",
       "      <th>Chr</th>\n",
       "      <th>Mb</th>\n",
       "    </tr>\n",
       "    <tr>\n",
       "      <th>Locus</th>\n",
       "      <th></th>\n",
       "      <th></th>\n",
       "      <th></th>\n",
       "      <th></th>\n",
       "    </tr>\n",
       "  </thead>\n",
       "  <tbody>\n",
       "    <tr>\n",
       "      <th>rs6269442</th>\n",
       "      <td>0.758022</td>\n",
       "      <td>0.000</td>\n",
       "      <td>1</td>\n",
       "      <td>3.482275</td>\n",
       "    </tr>\n",
       "    <tr>\n",
       "      <th>rs6241531</th>\n",
       "      <td>0.232936</td>\n",
       "      <td>2.367</td>\n",
       "      <td>1</td>\n",
       "      <td>9.995925</td>\n",
       "    </tr>\n",
       "    <tr>\n",
       "      <th>rs6360236</th>\n",
       "      <td>0.392587</td>\n",
       "      <td>3.263</td>\n",
       "      <td>1</td>\n",
       "      <td>11.073904</td>\n",
       "    </tr>\n",
       "    <tr>\n",
       "      <th>rs3722996</th>\n",
       "      <td>0.392587</td>\n",
       "      <td>3.263</td>\n",
       "      <td>1</td>\n",
       "      <td>11.259432</td>\n",
       "    </tr>\n",
       "    <tr>\n",
       "      <th>D1Mit1</th>\n",
       "      <td>0.392587</td>\n",
       "      <td>3.549</td>\n",
       "      <td>1</td>\n",
       "      <td>11.505582</td>\n",
       "    </tr>\n",
       "  </tbody>\n",
       "</table>\n",
       "</div>"
      ],
      "text/plain": [
       "           -log10(pvalue)     cM Chr         Mb\n",
       "Locus                                          \n",
       "rs6269442        0.758022  0.000   1   3.482275\n",
       "rs6241531        0.232936  2.367   1   9.995925\n",
       "rs6360236        0.392587  3.263   1  11.073904\n",
       "rs3722996        0.392587  3.263   1  11.259432\n",
       "D1Mit1           0.392587  3.549   1  11.505582"
      ]
     },
     "execution_count": 283,
     "metadata": {},
     "output_type": "execute_result"
    }
   ],
   "source": [
    "mh.head()"
   ]
  },
  {
   "cell_type": "code",
   "execution_count": 559,
   "metadata": {
    "collapsed": false
   },
   "outputs": [],
   "source": [
    "def plot_manhattan(df,df_grouped):\n",
    "    \"\"\"\n",
    "    This function plots a manhattan plot of a dataframe containing the SNPs with the corresponding -log10 pvalues\n",
    "    as well as their positions on the chromosome\n",
    "    \n",
    "    @param df: Dataframe containing -log10 pvalues of a snp as well as the chromosomal position\n",
    "    @param df_grouped: df grouped by chromosomes \n",
    "    \"\"\"\n",
    "    df['ind'] = range(len(df))\n",
    "    fig = plt.figure()\n",
    "    ax = fig.add_subplot(111)\n",
    "    colors = ['red','green','blue', 'yellow','purple','orange']\n",
    "    x_labels = []\n",
    "    x_labels_pos = []\n",
    "    for num,(name,group)  in enumerate(df_grouped):\n",
    "        group.plot(kind='scatter', x='ind', y='-log10(pvalue)',ax=ax,color=colors[num % len(colors)])\n",
    "        x_labels.append(name)\n",
    "        x_labels_pos.append((group['ind'].iloc[-1] - (group['ind'].iloc[-1] - group['ind'].iloc[0])/2))\n",
    "    ax.set_xticks(x_labels_pos)\n",
    "    ax.set_xticklabels(x_labels)\n",
    "    ax.set_xlim([0, len(df)])\n",
    "    ax.set_ylim([0, 7.5])\n",
    "    ax.set_xlabel('Chromosome')"
   ]
  },
  {
   "cell_type": "code",
   "execution_count": 560,
   "metadata": {
    "collapsed": false,
    "scrolled": true
   },
   "outputs": [
    {
     "data": {
      "image/png": "[encoded data removed]",
      "text/plain": [
       "<matplotlib.figure.Figure at 0x11d5d0668>"
      ]
     },
     "metadata": {},
     "output_type": "display_data"
    }
   ],
   "source": [
    "plot_manhattan(mh,mh_grouped)"
   ]
  },
  {
   "cell_type": "markdown",
   "metadata": {},
   "source": [
    "## Task: Correct for Multiple Hypothesis Testing"
   ]
  },
  {
   "cell_type": "markdown",
   "metadata": {},
   "source": [
    "After computing the pvalues they have to be corrected for multiple hypothesis testing. For this task a function was written that adds another column to the dataframe with the corrected p_values as well as a column indicating if the result should be rejected."
   ]
  },
  {
   "cell_type": "code",
   "execution_count": 305,
   "metadata": {
    "collapsed": true,
    "run_control": {
     "frozen": false,
     "read_only": false
    }
   },
   "outputs": [],
   "source": [
    "from statsmodels.sandbox.stats.multicomp import multipletests"
   ]
  },
  {
   "cell_type": "code",
   "execution_count": 328,
   "metadata": {
    "collapsed": false
   },
   "outputs": [],
   "source": [
    "pvalues = pd.DataFrame(pvalues)"
   ]
  },
  {
   "cell_type": "code",
   "execution_count": 324,
   "metadata": {
    "collapsed": true,
    "run_control": {
     "frozen": false,
     "read_only": false
    }
   },
   "outputs": [],
   "source": [
    "def correct_pvalues(pvalues,alpha,df,method):\n",
    "    #This function takes a data frame of pvalues as input, corrects them and adds the corrected pvalues as well as the\n",
    "    #information if the test gets rejected as a column to a dataframe \n",
    "    rej, corrected_p, _, _ = multipletests(pvalues[0],alpha=alpha,method=method,returnsorted = False)\n",
    "    df['P_Value'] = pvalues\n",
    "    df['Reject'] = rej\n",
    "    df['Corrected_p'] = corrected_p\n",
    "    return rej,corrected_p,df"
   ]
  },
  {
   "cell_type": "markdown",
   "metadata": {},
   "source": [
    "### Subtask: Test if the function works as intended"
   ]
  },
  {
   "cell_type": "code",
   "execution_count": 325,
   "metadata": {
    "collapsed": false,
    "run_control": {
     "frozen": false,
     "read_only": false
    }
   },
   "outputs": [
    {
     "data": {
      "text/plain": [
       "(array([False, False, False, ..., False, False, False], dtype=bool),\n",
       " array([ 1.,  1.,  1., ...,  1.,  1.,  1.]),\n",
       "                 Chr            Locus      cM          Mb  BXD1  BXD2  BXD5  \\\n",
       " Locus                                                                        \n",
       " rs6269442         1        rs6269442   0.000    3.482275     0     0     2   \n",
       " rs6241531         1        rs6241531   2.367    9.995925     0     0     2   \n",
       " rs6360236         1        rs6360236   3.263   11.073904     0     0     2   \n",
       " rs3722996         1        rs3722996   3.263   11.259432     0     0     2   \n",
       " D1Mit1            1           D1Mit1   3.549   11.505582     0     0     2   \n",
       " D1Mit294          1         D1Mit294   3.836   11.731387     0     0     2   \n",
       " rs13475728        1       rs13475728   3.836   12.711280     0     0     2   \n",
       " rs3655978         1        rs3655978   5.797   13.373070     0     0     0   \n",
       " rs3654866         1        rs3654866   5.797   13.697098     0     0     0   \n",
       " rs3669485         1        rs3669485   6.083   13.975252     0     0     0   \n",
       " rs3713198         1        rs3713198   6.083   14.464944     0     0     0   \n",
       " rs6291839         1        rs6291839   6.675   14.787217     0     0     0   \n",
       " rs13475735        1       rs13475735   6.675   14.977874     0     0     0   \n",
       " rs3088964         1        rs3088964   6.962   15.196882     0     0     0   \n",
       " rs13475737        1       rs13475737   6.962   15.444839     0     0     0   \n",
       " rs3678179         1        rs3678179   7.248   15.498263     0     0     0   \n",
       " rs3670611         1        rs3670611   9.588   20.623897     2     0     0   \n",
       " rs6404446         1        rs6404446   9.874   20.774306     2     0     0   \n",
       " gnf01.018.340     1    gnf01.018.340   9.874   21.444366     2     0     0   \n",
       " rs6253968         1        rs6253968  10.459   21.628544     2     0     0   \n",
       " rs3711079         1        rs3711079  10.459   21.932521     2     0     0   \n",
       " mCV23695025       1      mCV23695025  11.679   22.158486     2     0     0   \n",
       " rs13475762        1       rs13475762  11.679   22.852171     2     0     0   \n",
       " rs6316488         1        rs6316488  13.959   23.151887     2     0     0   \n",
       " rs3659806         1        rs3659806  13.959   23.170315     2     0     0   \n",
       " rs13475765        1       rs13475765  14.855   23.822073     2     0     0   \n",
       " rs4222215         1        rs4222215  14.855   24.002964     2     0     0   \n",
       " rs3677683         1        rs3677683  19.823   27.321155     2     0     0   \n",
       " rs3713281         1        rs3713281  19.823   29.009415     2     0     0   \n",
       " rs6384194         1        rs6384194  20.110   29.231425     2     0     0   \n",
       " ...              ..              ...     ...         ...   ...   ...   ...   \n",
       " rs13483769        X       rs13483769  22.599   55.907641     0     0     0   \n",
       " rs13483770        X       rs13483770  23.494   56.488673     0     0     0   \n",
       " gnfX.044.260      X     gnfX.044.260  24.390   58.076164     0     0     0   \n",
       " rs13483785        X       rs13483785  25.296   61.595304     0     0     0   \n",
       " rs13483786        X       rs13483786  25.296   61.868815     0     0     0   \n",
       " rs13483822        X       rs13483822  27.677   70.261113     0     0     0   \n",
       " DXMit1            X           DXMit1  27.963   70.273782     0     0     0   \n",
       " rs13483823        X       rs13483823  27.963   70.591776     0     0     0   \n",
       " rs13483824        X       rs13483824  28.250   71.121917     0     0     0   \n",
       " CEL-X_71104123    X   CEL-X_71104123  28.250   76.792463     0     0     0   \n",
       " CEL-X_71438949    X   CEL-X_71438949  28.835   77.128596     0     0     0   \n",
       " rs13483864        X       rs13483864  28.835   81.087943     0     0     0   \n",
       " rs13483868        X       rs13483868  29.125   81.842525     0     0     0   \n",
       " rs13483805        X       rs13483805  29.125   87.440158     0     0     0   \n",
       " gnfX.076.619      X     gnfX.076.619  29.411   89.920838     0     0     0   \n",
       " rs13483881        X       rs13483881  29.411   90.523798     0     0     0   \n",
       " rs6205221         X        rs6205221  41.963  126.830238     0     0     0   \n",
       " rs6387944         X        rs6387944  42.250  127.009266     0     0     0   \n",
       " rs13483992        X       rs13483992  42.250  127.180024     0     0     0   \n",
       " rs6221690         X        rs6221690  42.835  127.572283     0     0     0   \n",
       " CEL-X_121796581   X  CEL-X_121796581  42.835  128.323970     0     0     0   \n",
       " rs13484003        X       rs13484003  45.993  130.138455     0     0     0   \n",
       " rs3702256         X        rs3702256  45.993  131.483756     0     0     0   \n",
       " rs13484013        X       rs13484013  46.280  132.120931     0     0     0   \n",
       " CEL-X_125736335   X  CEL-X_125736335  46.280  132.263711     0     0     0   \n",
       " rs13484015        X       rs13484015  46.865  132.663400     0     0     0   \n",
       " rs3697198         X        rs3697198  46.865  132.751196     0     0     0   \n",
       " gnfX.116.876      X     gnfX.116.876  47.760  133.125032     0     0     0   \n",
       " rs13484018        X       rs13484018  48.047  133.329156     0     0     0   \n",
       " rs13484024        X       rs13484024  48.047  134.541556     0     0     0   \n",
       " \n",
       "                  BXD6  BXD8  BXD9     ...       BXD94  BXD95  BXD98  BXD99  \\\n",
       " Locus                                 ...                                    \n",
       " rs6269442         2.0     2     0     ...         2.0      2      0      0   \n",
       " rs6241531         2.0     2     0     ...         2.0      2      0      0   \n",
       " rs6360236         2.0     2     0     ...         2.0      2      0      0   \n",
       " rs3722996         2.0     2     0     ...         2.0      2      0      0   \n",
       " D1Mit1            2.0     2     0     ...         2.0      2      0      0   \n",
       " D1Mit294          2.0     2     0     ...         2.0      2      0      0   \n",
       " rs13475728        2.0     2     0     ...         2.0      2      0      0   \n",
       " rs3655978         2.0     2     0     ...         2.0      2      2      0   \n",
       " rs3654866         2.0     2     0     ...         2.0      2      2      0   \n",
       " rs3669485         2.0     2     0     ...         2.0      2      2      0   \n",
       " rs3713198         2.0     2     0     ...         2.0      2      2      0   \n",
       " rs6291839         2.0     2     0     ...         0.0      2      2      0   \n",
       " rs13475735        2.0     2     0     ...         0.0      2      2      0   \n",
       " rs3088964         2.0     2     0     ...         0.0      2      2      0   \n",
       " rs13475737        2.0     2     0     ...         0.0      2      2      0   \n",
       " rs3678179         2.0     2     0     ...         0.0      2      2      0   \n",
       " rs3670611         2.0     2     0     ...         2.0      2      0      0   \n",
       " rs6404446         2.0     2     0     ...         2.0      2      0      0   \n",
       " gnf01.018.340     2.0     2     0     ...         2.0      2      0      0   \n",
       " rs6253968         2.0     2     0     ...         2.0      2      0      0   \n",
       " rs3711079         2.0     2     0     ...         2.0      2      0      0   \n",
       " mCV23695025       2.0     2     0     ...         2.0      0      0      0   \n",
       " rs13475762        2.0     2     0     ...         2.0      0      0      0   \n",
       " rs6316488         2.0     2     0     ...         2.0      0      0      0   \n",
       " rs3659806         2.0     2     0     ...         2.0      0      0      0   \n",
       " rs13475765        2.0     2     0     ...         2.0      0      0      0   \n",
       " rs4222215         2.0     2     0     ...         2.0      0      0      0   \n",
       " rs3677683         2.0     2     0     ...         2.0      0      0      0   \n",
       " rs3713281         2.0     2     0     ...         2.0      0      0      0   \n",
       " rs6384194         2.0     2     0     ...         2.0      0      0      0   \n",
       " ...               ...   ...   ...     ...         ...    ...    ...    ...   \n",
       " rs13483769        2.0     0     2     ...         0.0      1      2      2   \n",
       " rs13483770        2.0     0     2     ...         0.0      1      2      2   \n",
       " gnfX.044.260      2.0     0     2     ...         2.0      1      2      2   \n",
       " rs13483785        2.0     0     2     ...         2.0      2      2      2   \n",
       " rs13483786        2.0     0     2     ...         2.0      2      2      2   \n",
       " rs13483822        2.0     0     2     ...         2.0      1      2      2   \n",
       " DXMit1            2.0     0     2     ...         2.0      1      2      2   \n",
       " rs13483823        2.0     0     2     ...         2.0      1      2      2   \n",
       " rs13483824        2.0     0     2     ...         2.0      1      2      2   \n",
       " CEL-X_71104123    2.0     0     2     ...         2.0      1      2      2   \n",
       " CEL-X_71438949    2.0     0     2     ...         2.0      1      2      2   \n",
       " rs13483864        2.0     0     2     ...         2.0      1      2      2   \n",
       " rs13483868        2.0     0     2     ...         2.0      1      2      1   \n",
       " rs13483805        2.0     0     2     ...         2.0      1      2      1   \n",
       " gnfX.076.619      2.0     0     2     ...         2.0      1      2      1   \n",
       " rs13483881        2.0     0     2     ...         2.0      1      2      1   \n",
       " rs6205221         2.0     0     0     ...         2.0      0      1      2   \n",
       " rs6387944         2.0     0     0     ...         2.0      0      1      2   \n",
       " rs13483992        2.0     0     0     ...         2.0      0      1      2   \n",
       " rs6221690         2.0     0     0     ...         2.0      0      1      2   \n",
       " CEL-X_121796581   2.0     0     0     ...         2.0      0      1      2   \n",
       " rs13484003        2.0     0     0     ...         2.0      0      2      2   \n",
       " rs3702256         2.0     0     0     ...         2.0      0      2      2   \n",
       " rs13484013        2.0     0     0     ...         2.0      0      2      2   \n",
       " CEL-X_125736335   2.0     0     0     ...         2.0      0      2      2   \n",
       " rs13484015        2.0     0     0     ...         2.0      0      2      2   \n",
       " rs3697198         2.0     0     0     ...         2.0      0      2      2   \n",
       " gnfX.116.876      2.0     0     2     ...         2.0      0      2      2   \n",
       " rs13484018        2.0     0     2     ...         2.0      0      2      2   \n",
       " rs13484024        2.0     0     2     ...         2.0      0      2      2   \n",
       " \n",
       "                  BXD100  BXD101  BXD102   P_Value  Reject  Corrected_p  \n",
       " Locus                                                                   \n",
       " rs6269442             0     0.0     0.0  0.174573   False          1.0  \n",
       " rs6241531             0     0.0     2.0  0.584877   False          1.0  \n",
       " rs6360236             0     0.0     2.0  0.404961   False          1.0  \n",
       " rs3722996             0     0.0     2.0  0.404961   False          1.0  \n",
       " D1Mit1                0     0.0     2.0  0.404961   False          1.0  \n",
       " D1Mit294              0     0.0     2.0  0.404961   False          1.0  \n",
       " rs13475728            0     0.0     2.0  0.404961   False          1.0  \n",
       " rs3655978             0     0.0     2.0  0.978759   False          1.0  \n",
       " rs3654866             0     0.0     2.0  0.978759   False          1.0  \n",
       " rs3669485             0     0.0     2.0  0.963014   False          1.0  \n",
       " rs3713198             0     0.0     2.0  0.963014   False          1.0  \n",
       " rs6291839             0     0.0     2.0  0.978759   False          1.0  \n",
       " rs13475735            0     0.0     2.0  0.978759   False          1.0  \n",
       " rs3088964             0     0.0     2.0  0.989119   False          1.0  \n",
       " rs13475737            0     0.0     2.0  0.989119   False          1.0  \n",
       " rs3678179             0     0.0     2.0  0.919629   False          1.0  \n",
       " rs3670611             0     2.0     2.0  0.974830   False          1.0  \n",
       " rs6404446             0     2.0     2.0  0.874803   False          1.0  \n",
       " gnf01.018.340         0     2.0     2.0  0.874803   False          1.0  \n",
       " rs6253968             0     2.0     2.0  0.778945   False          1.0  \n",
       " rs3711079             0     2.0     2.0  0.778945   False          1.0  \n",
       " mCV23695025           0     2.0     2.0  0.683799   False          1.0  \n",
       " rs13475762            0     2.0     2.0  0.683799   False          1.0  \n",
       " rs6316488             0     2.0     2.0  0.658113   False          1.0  \n",
       " rs3659806             0     2.0     2.0  0.658113   False          1.0  \n",
       " rs13475765            0     2.0     2.0  0.522755   False          1.0  \n",
       " rs4222215             0     2.0     2.0  0.522755   False          1.0  \n",
       " rs3677683             0     0.0     0.0  0.698513   False          1.0  \n",
       " rs3713281             0     0.0     0.0  0.698513   False          1.0  \n",
       " rs6384194             0     0.0     0.0  0.463651   False          1.0  \n",
       " ...                 ...     ...     ...       ...     ...          ...  \n",
       " rs13483769            0     2.0     0.0  0.998789   False          1.0  \n",
       " rs13483770            2     0.0     2.0  0.983327   False          1.0  \n",
       " gnfX.044.260          2     0.0     2.0  0.999154   False          1.0  \n",
       " rs13483785            2     0.0     2.0  0.974830   False          1.0  \n",
       " rs13483786            2     0.0     2.0  0.974830   False          1.0  \n",
       " rs13483822            0     0.0     0.0  0.982989   False          1.0  \n",
       " DXMit1                0     0.0     0.0  0.969334   False          1.0  \n",
       " rs13483823            0     0.0     0.0  0.969334   False          1.0  \n",
       " rs13483824            0     0.0     0.0  0.949886   False          1.0  \n",
       " CEL-X_71104123        0     0.0     0.0  0.949886   False          1.0  \n",
       " CEL-X_71438949        0     0.0     0.0  0.949886   False          1.0  \n",
       " rs13483864            0     0.0     0.0  0.949886   False          1.0  \n",
       " rs13483868            0     0.0     0.0  0.808423   False          1.0  \n",
       " rs13483805            0     0.0     0.0  0.808423   False          1.0  \n",
       " gnfX.076.619          0     0.0     0.0  0.853508   False          1.0  \n",
       " rs13483881            0     0.0     0.0  0.853508   False          1.0  \n",
       " rs6205221             2     2.0     2.0  0.940879   False          1.0  \n",
       " rs6387944             2     2.0     2.0  0.963014   False          1.0  \n",
       " rs13483992            2     2.0     2.0  0.963014   False          1.0  \n",
       " rs6221690             2     2.0     2.0  0.989119   False          1.0  \n",
       " CEL-X_121796581       2     2.0     2.0  0.989119   False          1.0  \n",
       " rs13484003            2     2.0     2.0  0.995260   False          1.0  \n",
       " rs3702256             2     2.0     2.0  0.995260   False          1.0  \n",
       " rs13484013            2     2.0     2.0  0.998393   False          1.0  \n",
       " CEL-X_125736335       2     2.0     2.0  0.998393   False          1.0  \n",
       " rs13484015            2     2.0     2.0  0.999973   False          1.0  \n",
       " rs3697198             2     2.0     2.0  0.999973   False          1.0  \n",
       " gnfX.116.876          2     2.0     2.0  0.999756   False          1.0  \n",
       " rs13484018            2     2.0     2.0  0.999988   False          1.0  \n",
       " rs13484024            2     2.0     2.0  0.999988   False          1.0  \n",
       " \n",
       " [2605 rows x 100 columns])"
      ]
     },
     "execution_count": 325,
     "metadata": {},
     "output_type": "execute_result"
    }
   ],
   "source": [
    "correct_pvalues(pvalues,0.05,genotype,\"sidak\")"
   ]
  },
  {
   "cell_type": "code",
   "execution_count": 331,
   "metadata": {
    "collapsed": false
   },
   "outputs": [
    {
     "data": {
      "text/html": [
       "<div>\n",
       "<table border=\"1\" class=\"dataframe\">\n",
       "  <thead>\n",
       "    <tr style=\"text-align: right;\">\n",
       "      <th></th>\n",
       "      <th>Chr</th>\n",
       "      <th>Locus</th>\n",
       "      <th>cM</th>\n",
       "      <th>Mb</th>\n",
       "      <th>BXD1</th>\n",
       "      <th>BXD2</th>\n",
       "      <th>BXD5</th>\n",
       "      <th>BXD6</th>\n",
       "      <th>BXD8</th>\n",
       "      <th>BXD9</th>\n",
       "      <th>...</th>\n",
       "      <th>BXD94</th>\n",
       "      <th>BXD95</th>\n",
       "      <th>BXD98</th>\n",
       "      <th>BXD99</th>\n",
       "      <th>BXD100</th>\n",
       "      <th>BXD101</th>\n",
       "      <th>BXD102</th>\n",
       "      <th>P_Value</th>\n",
       "      <th>Reject</th>\n",
       "      <th>Corrected_p</th>\n",
       "    </tr>\n",
       "    <tr>\n",
       "      <th>Locus</th>\n",
       "      <th></th>\n",
       "      <th></th>\n",
       "      <th></th>\n",
       "      <th></th>\n",
       "      <th></th>\n",
       "      <th></th>\n",
       "      <th></th>\n",
       "      <th></th>\n",
       "      <th></th>\n",
       "      <th></th>\n",
       "      <th></th>\n",
       "      <th></th>\n",
       "      <th></th>\n",
       "      <th></th>\n",
       "      <th></th>\n",
       "      <th></th>\n",
       "      <th></th>\n",
       "      <th></th>\n",
       "      <th></th>\n",
       "      <th></th>\n",
       "      <th></th>\n",
       "    </tr>\n",
       "  </thead>\n",
       "  <tbody>\n",
       "    <tr>\n",
       "      <th>rs6269442</th>\n",
       "      <td>1</td>\n",
       "      <td>rs6269442</td>\n",
       "      <td>0.000</td>\n",
       "      <td>3.482275</td>\n",
       "      <td>0</td>\n",
       "      <td>0</td>\n",
       "      <td>2</td>\n",
       "      <td>2.0</td>\n",
       "      <td>2</td>\n",
       "      <td>0</td>\n",
       "      <td>...</td>\n",
       "      <td>2.0</td>\n",
       "      <td>2</td>\n",
       "      <td>0</td>\n",
       "      <td>0</td>\n",
       "      <td>0</td>\n",
       "      <td>0.0</td>\n",
       "      <td>0.0</td>\n",
       "      <td>0.174573</td>\n",
       "      <td>False</td>\n",
       "      <td>1.0</td>\n",
       "    </tr>\n",
       "    <tr>\n",
       "      <th>rs6241531</th>\n",
       "      <td>1</td>\n",
       "      <td>rs6241531</td>\n",
       "      <td>2.367</td>\n",
       "      <td>9.995925</td>\n",
       "      <td>0</td>\n",
       "      <td>0</td>\n",
       "      <td>2</td>\n",
       "      <td>2.0</td>\n",
       "      <td>2</td>\n",
       "      <td>0</td>\n",
       "      <td>...</td>\n",
       "      <td>2.0</td>\n",
       "      <td>2</td>\n",
       "      <td>0</td>\n",
       "      <td>0</td>\n",
       "      <td>0</td>\n",
       "      <td>0.0</td>\n",
       "      <td>2.0</td>\n",
       "      <td>0.584877</td>\n",
       "      <td>False</td>\n",
       "      <td>1.0</td>\n",
       "    </tr>\n",
       "    <tr>\n",
       "      <th>rs6360236</th>\n",
       "      <td>1</td>\n",
       "      <td>rs6360236</td>\n",
       "      <td>3.263</td>\n",
       "      <td>11.073904</td>\n",
       "      <td>0</td>\n",
       "      <td>0</td>\n",
       "      <td>2</td>\n",
       "      <td>2.0</td>\n",
       "      <td>2</td>\n",
       "      <td>0</td>\n",
       "      <td>...</td>\n",
       "      <td>2.0</td>\n",
       "      <td>2</td>\n",
       "      <td>0</td>\n",
       "      <td>0</td>\n",
       "      <td>0</td>\n",
       "      <td>0.0</td>\n",
       "      <td>2.0</td>\n",
       "      <td>0.404961</td>\n",
       "      <td>False</td>\n",
       "      <td>1.0</td>\n",
       "    </tr>\n",
       "    <tr>\n",
       "      <th>rs3722996</th>\n",
       "      <td>1</td>\n",
       "      <td>rs3722996</td>\n",
       "      <td>3.263</td>\n",
       "      <td>11.259432</td>\n",
       "      <td>0</td>\n",
       "      <td>0</td>\n",
       "      <td>2</td>\n",
       "      <td>2.0</td>\n",
       "      <td>2</td>\n",
       "      <td>0</td>\n",
       "      <td>...</td>\n",
       "      <td>2.0</td>\n",
       "      <td>2</td>\n",
       "      <td>0</td>\n",
       "      <td>0</td>\n",
       "      <td>0</td>\n",
       "      <td>0.0</td>\n",
       "      <td>2.0</td>\n",
       "      <td>0.404961</td>\n",
       "      <td>False</td>\n",
       "      <td>1.0</td>\n",
       "    </tr>\n",
       "    <tr>\n",
       "      <th>D1Mit1</th>\n",
       "      <td>1</td>\n",
       "      <td>D1Mit1</td>\n",
       "      <td>3.549</td>\n",
       "      <td>11.505582</td>\n",
       "      <td>0</td>\n",
       "      <td>0</td>\n",
       "      <td>2</td>\n",
       "      <td>2.0</td>\n",
       "      <td>2</td>\n",
       "      <td>0</td>\n",
       "      <td>...</td>\n",
       "      <td>2.0</td>\n",
       "      <td>2</td>\n",
       "      <td>0</td>\n",
       "      <td>0</td>\n",
       "      <td>0</td>\n",
       "      <td>0.0</td>\n",
       "      <td>2.0</td>\n",
       "      <td>0.404961</td>\n",
       "      <td>False</td>\n",
       "      <td>1.0</td>\n",
       "    </tr>\n",
       "  </tbody>\n",
       "</table>\n",
       "<p>5 rows × 100 columns</p>\n",
       "</div>"
      ],
      "text/plain": [
       "          Chr      Locus     cM         Mb  BXD1  BXD2  BXD5  BXD6  BXD8  \\\n",
       "Locus                                                                      \n",
       "rs6269442   1  rs6269442  0.000   3.482275     0     0     2   2.0     2   \n",
       "rs6241531   1  rs6241531  2.367   9.995925     0     0     2   2.0     2   \n",
       "rs6360236   1  rs6360236  3.263  11.073904     0     0     2   2.0     2   \n",
       "rs3722996   1  rs3722996  3.263  11.259432     0     0     2   2.0     2   \n",
       "D1Mit1      1     D1Mit1  3.549  11.505582     0     0     2   2.0     2   \n",
       "\n",
       "           BXD9     ...       BXD94  BXD95  BXD98  BXD99  BXD100  BXD101  \\\n",
       "Locus               ...                                                    \n",
       "rs6269442     0     ...         2.0      2      0      0       0     0.0   \n",
       "rs6241531     0     ...         2.0      2      0      0       0     0.0   \n",
       "rs6360236     0     ...         2.0      2      0      0       0     0.0   \n",
       "rs3722996     0     ...         2.0      2      0      0       0     0.0   \n",
       "D1Mit1        0     ...         2.0      2      0      0       0     0.0   \n",
       "\n",
       "           BXD102   P_Value  Reject  Corrected_p  \n",
       "Locus                                             \n",
       "rs6269442     0.0  0.174573   False          1.0  \n",
       "rs6241531     2.0  0.584877   False          1.0  \n",
       "rs6360236     2.0  0.404961   False          1.0  \n",
       "rs3722996     2.0  0.404961   False          1.0  \n",
       "D1Mit1        2.0  0.404961   False          1.0  \n",
       "\n",
       "[5 rows x 100 columns]"
      ]
     },
     "execution_count": 331,
     "metadata": {},
     "output_type": "execute_result"
    }
   ],
   "source": [
    "genotype.head()"
   ]
  },
  {
   "cell_type": "markdown",
   "metadata": {},
   "source": [
    "## Task: Identify candidate genes from identified loci"
   ]
  },
  {
   "cell_type": "markdown",
   "metadata": {},
   "source": [
    "### Subtask: Identify genes in region identified by significant loci (consider each chromosome separately)"
   ]
  },
  {
   "cell_type": "markdown",
   "metadata": {},
   "source": [
    "What we identified so far a so called __quantitative trait loci__, meaning that this locus on the genome is associated with a quantitative trait. This does not mean there is directly a causal relationship between the markers identified in the association study and the phenotype. It is, however, a pointer towards the region of the genome that may be relevant for the variability in the measured trait. The genes encompassed in this region then need to be analysed further to identify viable mechanistic candidates.\n",
    "\n",
    "\n",
    "\n",
    "A good starting point for this fine grained analysis would be to look up the genes directly linked to the SNP in [dbSNP]() (e.g, http://www.ncbi.nlm.nih.gov/projects/SNP/snp_ref.cgi?rs=rs3674482).\n",
    "\n",
    "Most likely the high ranking SNPs will not map directly to the causal gene, but be rather a marker for another variant in a gene in __linkage disequilibrium__ with this this SNP. We thus need to extend the search and look at other genes in the vicinity of the high ranking SNPs.\n",
    "\n",
    "You may thus want to move on the [Biomart](http://www.ensembl.org/biomart/martview/fb0e89930dcbbdb8075ca52f8b196719) to query for genes in a genomic region.\n",
    "\n",
    "A third resource you may want to check out is the [UCSC Genome Browser](http://genome.ucsc.edu/) for visual explorations as well as the [UCSC Table Browser](http://genome.ucsc.edu/cgi-bin/hgTables?hgsid=511555905_oFRLEcH1IWO1FdKyzynrsBCRMk7w) to obtain genes in a genomic region. The identifiers of proteins in the [uniprot](http://www.uniprot.org/) database are listed in the resulting table. Uniprot then can provide useful annotations of the proteins found in the search frame.\n",
    "\n",
    "Programmatic access is possible for all the services above using their REST interfaces:  \n",
    "[UCSC](http://genomewiki.ucsc.edu/index.php/Programmatic_access_to_the_Genome_Browser)     \n",
    "[Biomart](http://www.ensembl.org/info/data/biomart/biomart_restful.html)     \n",
    "[Uniprot](http://www.uniprot.org/help/programmatic_access)     \n",
    "\n",
    "There have been multiple attempts to make querying these services using python directly. The most important packages are:     \n",
    "[bioservices](https://pythonhosted.org/bioservices/)      \n",
    "[biomart-python](https://github.com/sebriois/biomart)      \n",
    "\n",
    "An example on how to query uniprot using bioservices can be found in [this notebook](http://nbviewer.jupyter.org/url/pythonhosted.org/bioservices/\\_downloads/UniProt.ipynb).\n",
    "\n",
    "If you decide to search for the genes of interest based on the genome location, make sure to select the correct reference genome. The reference used for the BXD genotyping is described in the genotype description on [genenetwork.org](http://www.genenetwork.org/dbdoc/BXDGeno.html)"
   ]
  },
  {
   "cell_type": "code",
   "execution_count": 320,
   "metadata": {
    "collapsed": false,
    "run_control": {
     "frozen": false,
     "read_only": false
    }
   },
   "outputs": [],
   "source": [
    "filter_ = genotype.sort_values(by='P_Value')"
   ]
  },
  {
   "cell_type": "code",
   "execution_count": 321,
   "metadata": {
    "collapsed": false
   },
   "outputs": [],
   "source": [
    "filter_ = filter_.loc[filter_['Reject'] == True]"
   ]
  },
  {
   "cell_type": "code",
   "execution_count": 322,
   "metadata": {
    "collapsed": false,
    "run_control": {
     "frozen": false,
     "read_only": false
    }
   },
   "outputs": [
    {
     "data": {
      "text/html": [
       "<div>\n",
       "<table border=\"1\" class=\"dataframe\">\n",
       "  <thead>\n",
       "    <tr style=\"text-align: right;\">\n",
       "      <th></th>\n",
       "      <th>Chr</th>\n",
       "      <th>Locus</th>\n",
       "      <th>cM</th>\n",
       "      <th>Mb</th>\n",
       "      <th>BXD1</th>\n",
       "      <th>BXD2</th>\n",
       "      <th>BXD5</th>\n",
       "      <th>BXD6</th>\n",
       "      <th>BXD8</th>\n",
       "      <th>BXD9</th>\n",
       "      <th>...</th>\n",
       "      <th>BXD94</th>\n",
       "      <th>BXD95</th>\n",
       "      <th>BXD98</th>\n",
       "      <th>BXD99</th>\n",
       "      <th>BXD100</th>\n",
       "      <th>BXD101</th>\n",
       "      <th>BXD102</th>\n",
       "      <th>P_Value</th>\n",
       "      <th>Reject</th>\n",
       "      <th>Corrected_p</th>\n",
       "    </tr>\n",
       "    <tr>\n",
       "      <th>Locus</th>\n",
       "      <th></th>\n",
       "      <th></th>\n",
       "      <th></th>\n",
       "      <th></th>\n",
       "      <th></th>\n",
       "      <th></th>\n",
       "      <th></th>\n",
       "      <th></th>\n",
       "      <th></th>\n",
       "      <th></th>\n",
       "      <th></th>\n",
       "      <th></th>\n",
       "      <th></th>\n",
       "      <th></th>\n",
       "      <th></th>\n",
       "      <th></th>\n",
       "      <th></th>\n",
       "      <th></th>\n",
       "      <th></th>\n",
       "      <th></th>\n",
       "      <th></th>\n",
       "    </tr>\n",
       "  </thead>\n",
       "  <tbody>\n",
       "    <tr>\n",
       "      <th>CEL-4_72665819</th>\n",
       "      <td>4</td>\n",
       "      <td>CEL-4_72665819</td>\n",
       "      <td>39.813</td>\n",
       "      <td>74.037476</td>\n",
       "      <td>2</td>\n",
       "      <td>0</td>\n",
       "      <td>0</td>\n",
       "      <td>0.0</td>\n",
       "      <td>0</td>\n",
       "      <td>2</td>\n",
       "      <td>...</td>\n",
       "      <td>0.0</td>\n",
       "      <td>2</td>\n",
       "      <td>2</td>\n",
       "      <td>2</td>\n",
       "      <td>0</td>\n",
       "      <td>0.0</td>\n",
       "      <td>2.0</td>\n",
       "      <td>1.788672e-05</td>\n",
       "      <td>True</td>\n",
       "      <td>0.045526</td>\n",
       "    </tr>\n",
       "    <tr>\n",
       "      <th>gnf04.071.066</th>\n",
       "      <td>4</td>\n",
       "      <td>gnf04.071.066</td>\n",
       "      <td>39.813</td>\n",
       "      <td>75.249698</td>\n",
       "      <td>2</td>\n",
       "      <td>0</td>\n",
       "      <td>0</td>\n",
       "      <td>0.0</td>\n",
       "      <td>0</td>\n",
       "      <td>2</td>\n",
       "      <td>...</td>\n",
       "      <td>0.0</td>\n",
       "      <td>2</td>\n",
       "      <td>2</td>\n",
       "      <td>2</td>\n",
       "      <td>0</td>\n",
       "      <td>0.0</td>\n",
       "      <td>2.0</td>\n",
       "      <td>1.788672e-05</td>\n",
       "      <td>True</td>\n",
       "      <td>0.045526</td>\n",
       "    </tr>\n",
       "    <tr>\n",
       "      <th>CEL-4_74066970</th>\n",
       "      <td>4</td>\n",
       "      <td>CEL-4_74066970</td>\n",
       "      <td>40.708</td>\n",
       "      <td>75.438626</td>\n",
       "      <td>2</td>\n",
       "      <td>0</td>\n",
       "      <td>0</td>\n",
       "      <td>0.0</td>\n",
       "      <td>0</td>\n",
       "      <td>2</td>\n",
       "      <td>...</td>\n",
       "      <td>0.0</td>\n",
       "      <td>2</td>\n",
       "      <td>2</td>\n",
       "      <td>2</td>\n",
       "      <td>0</td>\n",
       "      <td>0.0</td>\n",
       "      <td>2.0</td>\n",
       "      <td>5.885729e-07</td>\n",
       "      <td>True</td>\n",
       "      <td>0.001532</td>\n",
       "    </tr>\n",
       "    <tr>\n",
       "      <th>CEL-4_74121566</th>\n",
       "      <td>4</td>\n",
       "      <td>CEL-4_74121566</td>\n",
       "      <td>40.708</td>\n",
       "      <td>75.493222</td>\n",
       "      <td>2</td>\n",
       "      <td>0</td>\n",
       "      <td>0</td>\n",
       "      <td>0.0</td>\n",
       "      <td>0</td>\n",
       "      <td>2</td>\n",
       "      <td>...</td>\n",
       "      <td>0.0</td>\n",
       "      <td>2</td>\n",
       "      <td>2</td>\n",
       "      <td>2</td>\n",
       "      <td>0</td>\n",
       "      <td>0.0</td>\n",
       "      <td>2.0</td>\n",
       "      <td>5.885729e-07</td>\n",
       "      <td>True</td>\n",
       "      <td>0.001532</td>\n",
       "    </tr>\n",
       "    <tr>\n",
       "      <th>rs13477785</th>\n",
       "      <td>4</td>\n",
       "      <td>rs13477785</td>\n",
       "      <td>40.995</td>\n",
       "      <td>75.774916</td>\n",
       "      <td>2</td>\n",
       "      <td>0</td>\n",
       "      <td>0</td>\n",
       "      <td>0.0</td>\n",
       "      <td>0</td>\n",
       "      <td>2</td>\n",
       "      <td>...</td>\n",
       "      <td>0.0</td>\n",
       "      <td>2</td>\n",
       "      <td>2</td>\n",
       "      <td>2</td>\n",
       "      <td>0</td>\n",
       "      <td>0.0</td>\n",
       "      <td>2.0</td>\n",
       "      <td>1.218512e-06</td>\n",
       "      <td>True</td>\n",
       "      <td>0.003169</td>\n",
       "    </tr>\n",
       "    <tr>\n",
       "      <th>rs3658567</th>\n",
       "      <td>4</td>\n",
       "      <td>rs3658567</td>\n",
       "      <td>40.995</td>\n",
       "      <td>76.484833</td>\n",
       "      <td>2</td>\n",
       "      <td>0</td>\n",
       "      <td>0</td>\n",
       "      <td>0.0</td>\n",
       "      <td>0</td>\n",
       "      <td>2</td>\n",
       "      <td>...</td>\n",
       "      <td>0.0</td>\n",
       "      <td>2</td>\n",
       "      <td>2</td>\n",
       "      <td>2</td>\n",
       "      <td>0</td>\n",
       "      <td>0.0</td>\n",
       "      <td>2.0</td>\n",
       "      <td>1.218512e-06</td>\n",
       "      <td>True</td>\n",
       "      <td>0.003169</td>\n",
       "    </tr>\n",
       "    <tr>\n",
       "      <th>rs13477796</th>\n",
       "      <td>4</td>\n",
       "      <td>rs13477796</td>\n",
       "      <td>41.281</td>\n",
       "      <td>78.698063</td>\n",
       "      <td>2</td>\n",
       "      <td>0</td>\n",
       "      <td>0</td>\n",
       "      <td>0.0</td>\n",
       "      <td>0</td>\n",
       "      <td>2</td>\n",
       "      <td>...</td>\n",
       "      <td>0.0</td>\n",
       "      <td>2</td>\n",
       "      <td>2</td>\n",
       "      <td>2</td>\n",
       "      <td>0</td>\n",
       "      <td>0.0</td>\n",
       "      <td>2.0</td>\n",
       "      <td>5.885729e-07</td>\n",
       "      <td>True</td>\n",
       "      <td>0.001532</td>\n",
       "    </tr>\n",
       "    <tr>\n",
       "      <th>rs3708061</th>\n",
       "      <td>4</td>\n",
       "      <td>rs3708061</td>\n",
       "      <td>41.281</td>\n",
       "      <td>80.950126</td>\n",
       "      <td>2</td>\n",
       "      <td>0</td>\n",
       "      <td>0</td>\n",
       "      <td>0.0</td>\n",
       "      <td>0</td>\n",
       "      <td>2</td>\n",
       "      <td>...</td>\n",
       "      <td>0.0</td>\n",
       "      <td>2</td>\n",
       "      <td>2</td>\n",
       "      <td>2</td>\n",
       "      <td>0</td>\n",
       "      <td>0.0</td>\n",
       "      <td>2.0</td>\n",
       "      <td>5.885729e-07</td>\n",
       "      <td>True</td>\n",
       "      <td>0.001532</td>\n",
       "    </tr>\n",
       "    <tr>\n",
       "      <th>rs13477804</th>\n",
       "      <td>4</td>\n",
       "      <td>rs13477804</td>\n",
       "      <td>42.501</td>\n",
       "      <td>81.604580</td>\n",
       "      <td>2</td>\n",
       "      <td>0</td>\n",
       "      <td>0</td>\n",
       "      <td>0.0</td>\n",
       "      <td>0</td>\n",
       "      <td>2</td>\n",
       "      <td>...</td>\n",
       "      <td>0.0</td>\n",
       "      <td>2</td>\n",
       "      <td>2</td>\n",
       "      <td>2</td>\n",
       "      <td>0</td>\n",
       "      <td>0.0</td>\n",
       "      <td>2.0</td>\n",
       "      <td>2.299750e-06</td>\n",
       "      <td>True</td>\n",
       "      <td>0.005973</td>\n",
       "    </tr>\n",
       "    <tr>\n",
       "      <th>rs13477805</th>\n",
       "      <td>4</td>\n",
       "      <td>rs13477805</td>\n",
       "      <td>42.501</td>\n",
       "      <td>81.934379</td>\n",
       "      <td>2</td>\n",
       "      <td>0</td>\n",
       "      <td>0</td>\n",
       "      <td>0.0</td>\n",
       "      <td>0</td>\n",
       "      <td>2</td>\n",
       "      <td>...</td>\n",
       "      <td>0.0</td>\n",
       "      <td>2</td>\n",
       "      <td>2</td>\n",
       "      <td>2</td>\n",
       "      <td>0</td>\n",
       "      <td>0.0</td>\n",
       "      <td>2.0</td>\n",
       "      <td>2.299750e-06</td>\n",
       "      <td>True</td>\n",
       "      <td>0.005973</td>\n",
       "    </tr>\n",
       "    <tr>\n",
       "      <th>CEL-4_86326428</th>\n",
       "      <td>4</td>\n",
       "      <td>CEL-4_86326428</td>\n",
       "      <td>44.518</td>\n",
       "      <td>87.697880</td>\n",
       "      <td>2</td>\n",
       "      <td>0</td>\n",
       "      <td>0</td>\n",
       "      <td>0.0</td>\n",
       "      <td>0</td>\n",
       "      <td>2</td>\n",
       "      <td>...</td>\n",
       "      <td>0.0</td>\n",
       "      <td>2</td>\n",
       "      <td>2</td>\n",
       "      <td>2</td>\n",
       "      <td>0</td>\n",
       "      <td>0.0</td>\n",
       "      <td>2.0</td>\n",
       "      <td>1.663748e-05</td>\n",
       "      <td>True</td>\n",
       "      <td>0.042415</td>\n",
       "    </tr>\n",
       "    <tr>\n",
       "      <th>rs13477829</th>\n",
       "      <td>4</td>\n",
       "      <td>rs13477829</td>\n",
       "      <td>44.518</td>\n",
       "      <td>88.039470</td>\n",
       "      <td>2</td>\n",
       "      <td>0</td>\n",
       "      <td>0</td>\n",
       "      <td>0.0</td>\n",
       "      <td>0</td>\n",
       "      <td>2</td>\n",
       "      <td>...</td>\n",
       "      <td>0.0</td>\n",
       "      <td>2</td>\n",
       "      <td>2</td>\n",
       "      <td>2</td>\n",
       "      <td>0</td>\n",
       "      <td>0.0</td>\n",
       "      <td>2.0</td>\n",
       "      <td>1.663748e-05</td>\n",
       "      <td>True</td>\n",
       "      <td>0.042415</td>\n",
       "    </tr>\n",
       "  </tbody>\n",
       "</table>\n",
       "<p>12 rows × 100 columns</p>\n",
       "</div>"
      ],
      "text/plain": [
       "               Chr           Locus      cM         Mb  BXD1  BXD2  BXD5  BXD6  \\\n",
       "Locus                                                                           \n",
       "CEL-4_72665819   4  CEL-4_72665819  39.813  74.037476     2     0     0   0.0   \n",
       "gnf04.071.066    4   gnf04.071.066  39.813  75.249698     2     0     0   0.0   \n",
       "CEL-4_74066970   4  CEL-4_74066970  40.708  75.438626     2     0     0   0.0   \n",
       "CEL-4_74121566   4  CEL-4_74121566  40.708  75.493222     2     0     0   0.0   \n",
       "rs13477785       4      rs13477785  40.995  75.774916     2     0     0   0.0   \n",
       "rs3658567        4       rs3658567  40.995  76.484833     2     0     0   0.0   \n",
       "rs13477796       4      rs13477796  41.281  78.698063     2     0     0   0.0   \n",
       "rs3708061        4       rs3708061  41.281  80.950126     2     0     0   0.0   \n",
       "rs13477804       4      rs13477804  42.501  81.604580     2     0     0   0.0   \n",
       "rs13477805       4      rs13477805  42.501  81.934379     2     0     0   0.0   \n",
       "CEL-4_86326428   4  CEL-4_86326428  44.518  87.697880     2     0     0   0.0   \n",
       "rs13477829       4      rs13477829  44.518  88.039470     2     0     0   0.0   \n",
       "\n",
       "                BXD8  BXD9     ...       BXD94  BXD95  BXD98  BXD99  BXD100  \\\n",
       "Locus                          ...                                            \n",
       "CEL-4_72665819     0     2     ...         0.0      2      2      2       0   \n",
       "gnf04.071.066      0     2     ...         0.0      2      2      2       0   \n",
       "CEL-4_74066970     0     2     ...         0.0      2      2      2       0   \n",
       "CEL-4_74121566     0     2     ...         0.0      2      2      2       0   \n",
       "rs13477785         0     2     ...         0.0      2      2      2       0   \n",
       "rs3658567          0     2     ...         0.0      2      2      2       0   \n",
       "rs13477796         0     2     ...         0.0      2      2      2       0   \n",
       "rs3708061          0     2     ...         0.0      2      2      2       0   \n",
       "rs13477804         0     2     ...         0.0      2      2      2       0   \n",
       "rs13477805         0     2     ...         0.0      2      2      2       0   \n",
       "CEL-4_86326428     0     2     ...         0.0      2      2      2       0   \n",
       "rs13477829         0     2     ...         0.0      2      2      2       0   \n",
       "\n",
       "                BXD101  BXD102       P_Value  Reject  Corrected_p  \n",
       "Locus                                                              \n",
       "CEL-4_72665819     0.0     2.0  1.788672e-05    True     0.045526  \n",
       "gnf04.071.066      0.0     2.0  1.788672e-05    True     0.045526  \n",
       "CEL-4_74066970     0.0     2.0  5.885729e-07    True     0.001532  \n",
       "CEL-4_74121566     0.0     2.0  5.885729e-07    True     0.001532  \n",
       "rs13477785         0.0     2.0  1.218512e-06    True     0.003169  \n",
       "rs3658567          0.0     2.0  1.218512e-06    True     0.003169  \n",
       "rs13477796         0.0     2.0  5.885729e-07    True     0.001532  \n",
       "rs3708061          0.0     2.0  5.885729e-07    True     0.001532  \n",
       "rs13477804         0.0     2.0  2.299750e-06    True     0.005973  \n",
       "rs13477805         0.0     2.0  2.299750e-06    True     0.005973  \n",
       "CEL-4_86326428     0.0     2.0  1.663748e-05    True     0.042415  \n",
       "rs13477829         0.0     2.0  1.663748e-05    True     0.042415  \n",
       "\n",
       "[12 rows x 100 columns]"
      ]
     },
     "execution_count": 322,
     "metadata": {},
     "output_type": "execute_result"
    }
   ],
   "source": [
    "filter_.sort_values(by='Mb')"
   ]
  },
  {
   "cell_type": "markdown",
   "metadata": {},
   "source": [
    "The results of the MHT correction indicate that there is some gene associated with abnormal coat color between the 70th and 90th Mb of the genome. These regions were searched with biomart specificially and several entries were found related to hair color. Two genes were found namely Zdhhc21 which is known to be responsible for abnormal hair patterns in mice and Tyrp1 which is related to melanin production and related to brown hair color in mice. "
   ]
  },
  {
   "cell_type": "markdown",
   "metadata": {},
   "source": [
    "### Subtask: Check if the locations you found match to what is known from literature about genetics of mouse coat color"
   ]
  },
  {
   "cell_type": "code",
   "execution_count": 788,
   "metadata": {
    "collapsed": false,
    "run_control": {
     "frozen": false,
     "read_only": false
    },
    "scrolled": false
   },
   "outputs": [
    {
     "name": "stdout",
     "output_type": "stream",
     "text": [
      "--2016-09-22 15:07:25--  http://www.ensembl.org/biomart/martservice?query=%3C?xml%20version=%221.0%22%20encoding=%22UTF-8%22?%3E+%3C!DOCTYPE%20Query%3E+%3CQuery%20%20virtualSchemaName%20=%20%22default%22%20formatter%20=%20%22TSV%22%20header%20=%20%220%22%20uniqueRows%20=%20%220%22%20count%20=%20%22%22%20datasetConfigVersion%20=%20%220.6%22%20%3E+%3CDataset%20name%20=%20%22mmusculus_gene_ensembl%22%20interface%20=%20%22default%22%20%3E+%3CFilter%20name%20=%20%22chromosome_name%22%20value%20=%20%224%22/%3E+%3CFilter%20name%20=%20%22end%22%20value%20=%20%2288039470%22/%3E+%3CFilter%20name%20=%20%22start%22%20value%20=%20%2274037476%22/%3E+%3CAttribute%20name%20=%20%22ensembl_gene_id%22%20/%3E+%3CAttribute%20name%20=%20%22description%22%20/%3E+%3CAttribute%20name%20=%20%22phenotype_description%22%20/%3E+%3CAttribute%20name%20=%20%22strain_name%22%20/%3E+%3CAttribute%20name%20=%20%22external_gene_name%22%20/%3E+%3C/Dataset%3E%3C/Query%3E\n",
      "Resolving www-cache (www-cache)... 134.2.12.47, 134.2.12.41, 134.2.12.48\n",
      "Connecting to www-cache (www-cache)|134.2.12.47|:3128... connected.\n",
      "Proxy request sent, awaiting response... 200 OK\n",
      "Length: unspecified [text/plain]\n",
      "Saving to: ‘result.txt’\n",
      "\n",
      "    [ <=>                                   ] 58,500      --.-K/s   in 0.06s   \n",
      "\n",
      "2016-09-22 15:07:25 (1013 KB/s) - ‘result.txt’ saved [58500]\n",
      "\n"
     ]
    }
   ],
   "source": [
    "!wget -O result.txt 'http://www.ensembl.org/biomart/martservice?query=<?xml version=\"1.0\" encoding=\"UTF-8\"?>'+\\\n",
    "'<!DOCTYPE Query>'+\\\n",
    "'<Query  virtualSchemaName = \"default\" formatter = \"TSV\" header = \"0\" uniqueRows = \"0\" count = \"\" datasetConfigVersion = \"0.6\" >'+\\\n",
    "'<Dataset name = \"mmusculus_gene_ensembl\" interface = \"default\" >'+\\\n",
    "'<Filter name = \"chromosome_name\" value = \"4\"/>'+\\\n",
    "'<Filter name = \"end\" value = \"88039470\"/>'+\\\n",
    "'<Filter name = \"start\" value = \"74037476\"/>'+\\\n",
    "'<Attribute name = \"ensembl_gene_id\" />'+\\\n",
    "'<Attribute name = \"description\" />'+\\\n",
    "'<Attribute name = \"phenotype_description\" />'+\\\n",
    "'<Attribute name = \"strain_name\" />'+\\\n",
    "'<Attribute name = \"external_gene_name\" />'+\\\n",
    "'</Dataset></Query>'"
   ]
  },
  {
   "cell_type": "code",
   "execution_count": 801,
   "metadata": {
    "collapsed": false,
    "run_control": {
     "frozen": false,
     "read_only": false
    }
   },
   "outputs": [],
   "source": [
    "biomat = pd.read_table('result.txt')"
   ]
  },
  {
   "cell_type": "code",
   "execution_count": 802,
   "metadata": {
    "collapsed": true
   },
   "outputs": [],
   "source": [
    "biomat.columns=['ID','description','phenotype','strain','gene_name']"
   ]
  },
  {
   "cell_type": "code",
   "execution_count": 806,
   "metadata": {
    "collapsed": false,
    "run_control": {
     "frozen": false,
     "read_only": false
    }
   },
   "outputs": [],
   "source": [
    "biomat_coat = biomat[biomat['phenotype'].str.contains(\"coat\")==True]"
   ]
  },
  {
   "cell_type": "code",
   "execution_count": 807,
   "metadata": {
    "collapsed": false,
    "run_control": {
     "frozen": false,
     "read_only": false
    }
   },
   "outputs": [
    {
     "data": {
      "text/html": [
       "<div>\n",
       "<table border=\"1\" class=\"dataframe\">\n",
       "  <thead>\n",
       "    <tr style=\"text-align: right;\">\n",
       "      <th></th>\n",
       "      <th>ID</th>\n",
       "      <th>description</th>\n",
       "      <th>phenotype</th>\n",
       "      <th>strain</th>\n",
       "      <th>gene_name</th>\n",
       "    </tr>\n",
       "  </thead>\n",
       "  <tbody>\n",
       "    <tr>\n",
       "      <th>207</th>\n",
       "      <td>ENSMUSG00000028403</td>\n",
       "      <td>zinc finger, DHHC domain containing 21 [Source...</td>\n",
       "      <td>matted coat</td>\n",
       "      <td>NaN</td>\n",
       "      <td>Zdhhc21</td>\n",
       "    </tr>\n",
       "    <tr>\n",
       "      <th>210</th>\n",
       "      <td>ENSMUSG00000028403</td>\n",
       "      <td>zinc finger, DHHC domain containing 21 [Source...</td>\n",
       "      <td>abnormal coat appearance</td>\n",
       "      <td>NaN</td>\n",
       "      <td>Zdhhc21</td>\n",
       "    </tr>\n",
       "    <tr>\n",
       "      <th>219</th>\n",
       "      <td>ENSMUSG00000028403</td>\n",
       "      <td>zinc finger, DHHC domain containing 21 [Source...</td>\n",
       "      <td>greasy coat</td>\n",
       "      <td>NaN</td>\n",
       "      <td>Zdhhc21</td>\n",
       "    </tr>\n",
       "    <tr>\n",
       "      <th>289</th>\n",
       "      <td>ENSMUSG00000005994</td>\n",
       "      <td>tyrosinase-related protein 1 [Source:MGI Symbo...</td>\n",
       "      <td>abnormal coat/hair pigmentation</td>\n",
       "      <td>NaN</td>\n",
       "      <td>Tyrp1</td>\n",
       "    </tr>\n",
       "    <tr>\n",
       "      <th>291</th>\n",
       "      <td>ENSMUSG00000005994</td>\n",
       "      <td>tyrosinase-related protein 1 [Source:MGI Symbo...</td>\n",
       "      <td>diluted coat color</td>\n",
       "      <td>NaN</td>\n",
       "      <td>Tyrp1</td>\n",
       "    </tr>\n",
       "  </tbody>\n",
       "</table>\n",
       "</div>"
      ],
      "text/plain": [
       "                     ID                                        description  \\\n",
       "207  ENSMUSG00000028403  zinc finger, DHHC domain containing 21 [Source...   \n",
       "210  ENSMUSG00000028403  zinc finger, DHHC domain containing 21 [Source...   \n",
       "219  ENSMUSG00000028403  zinc finger, DHHC domain containing 21 [Source...   \n",
       "289  ENSMUSG00000005994  tyrosinase-related protein 1 [Source:MGI Symbo...   \n",
       "291  ENSMUSG00000005994  tyrosinase-related protein 1 [Source:MGI Symbo...   \n",
       "\n",
       "                           phenotype strain gene_name  \n",
       "207                      matted coat    NaN   Zdhhc21  \n",
       "210         abnormal coat appearance    NaN   Zdhhc21  \n",
       "219                      greasy coat    NaN   Zdhhc21  \n",
       "289  abnormal coat/hair pigmentation    NaN     Tyrp1  \n",
       "291               diluted coat color    NaN     Tyrp1  "
      ]
     },
     "execution_count": 807,
     "metadata": {},
     "output_type": "execute_result"
    }
   ],
   "source": [
    "biomat_coat"
   ]
  },
  {
   "cell_type": "markdown",
   "metadata": {},
   "source": [
    "# Association tests between variant(s) and continuous phenotype¶ \n",
    "All of the phenotype data provided in the multi-omics publication is actually not categorical. We thus have to adapt our approach to use continuous data. In the lecture you learned that instead of $\\chi^2$ test or logistic regression, linear regression models or correlation tests could be used. "
   ]
  },
  {
   "cell_type": "markdown",
   "metadata": {},
   "source": [
    "## Task: Import relevant functions from scipy"
   ]
  },
  {
   "cell_type": "code",
   "execution_count": 343,
   "metadata": {
    "collapsed": true,
    "run_control": {
     "frozen": false,
     "read_only": false
    }
   },
   "outputs": [],
   "source": [
    "import statsmodels.formula.api as smf"
   ]
  },
  {
   "cell_type": "code",
   "execution_count": 344,
   "metadata": {
    "collapsed": true
   },
   "outputs": [],
   "source": [
    "import scipy.stats as sts"
   ]
  },
  {
   "cell_type": "markdown",
   "metadata": {},
   "source": [
    "## Task: Load Phenotype spreadsheets from paper supplement"
   ]
  },
  {
   "cell_type": "code",
   "execution_count": 334,
   "metadata": {
    "collapsed": false,
    "run_control": {
     "frozen": false,
     "read_only": false
    }
   },
   "outputs": [],
   "source": [
    "phenotype_spread = pd.read_excel('../aad0189_DataFileS2.xlsx',sheetname=None,na_values=\"x\")"
   ]
  },
  {
   "cell_type": "markdown",
   "metadata": {},
   "source": [
    "## Task: Implement Pearson's r-based test for correlation"
   ]
  },
  {
   "cell_type": "markdown",
   "metadata": {},
   "source": [
    "The data gets handled the same way as the genotype data in the beginning of the notebook. Basically the workflow is very similar to the one using the chi square test but this time with continous data "
   ]
  },
  {
   "cell_type": "code",
   "execution_count": 335,
   "metadata": {
    "collapsed": false
   },
   "outputs": [],
   "source": [
    "geno = pd.read_table(\"../genotype.txt\",header=0,comment='@')"
   ]
  },
  {
   "cell_type": "code",
   "execution_count": 336,
   "metadata": {
    "collapsed": false
   },
   "outputs": [],
   "source": [
    "pheno = phenotype_spread['Biochemistry']['HFD_Amylase_[U/L]']"
   ]
  },
  {
   "cell_type": "code",
   "execution_count": 337,
   "metadata": {
    "collapsed": true
   },
   "outputs": [],
   "source": [
    "for column in geno:\n",
    "       if column.startswith('BXD'):\n",
    "           geno[column] = geno[column].replace({\"B\":0,\"H\":1,\"D\":2,\"U\":np.nan})\n",
    "geno = geno.set_index(geno['Locus'])\n",
    "geno = geno.dropna()"
   ]
  },
  {
   "cell_type": "code",
   "execution_count": 572,
   "metadata": {
    "collapsed": false,
    "scrolled": true
   },
   "outputs": [
    {
     "data": {
      "text/plain": [
       "(0.013507237894841317, 0.92582487617986764)"
      ]
     },
     "execution_count": 572,
     "metadata": {},
     "output_type": "execute_result"
    }
   ],
   "source": [
    "pearsonR(geno,phenotype_spread,\"rs3708061\",\"Biochemistry\",\"HFD_Amylase_[U/L]\")"
   ]
  },
  {
   "cell_type": "code",
   "execution_count": 339,
   "metadata": {
    "collapsed": false,
    "run_control": {
     "frozen": false,
     "read_only": false
    }
   },
   "outputs": [],
   "source": [
    "def pearsonR(genotype_df,phenotype_df,genotype_index,phenotype_index1,phenotype_index2):\n",
    "    \"\"\"The function performs pearson's R test with given genotype and phenotype data.\n",
    "    @param: genotype_df: variable containing a data frame with genotype data (use pd.read_table())\n",
    "    @param: phenotype_df: variable containing a dict of data frames with phenotype data (use pd.read_excel())\n",
    "    @param: genotype_index: name of the snp for which to compute correlation\n",
    "    @param: phenotype_index1: data frame of the dict\n",
    "    @param: phenotype_index2: trait of the phenotype dataframe that is to analyse\n",
    "    \"\"\"\n",
    "    geno = genotype_df.copy()\n",
    "    pheno = phenotype_df[phenotype_index1][phenotype_index2] #umbenennen\n",
    "    strains = phenotype_df[phenotype_index1]['@format=column']\n",
    "    pheno = pd.DataFrame(pheno)\n",
    "    # pheno = pheno.loc[pheno[phenotype_index2] != 'x']\n",
    "    pheno = pheno.dropna()\n",
    "    pheno = pheno.join(strains)\n",
    "    strain = geno.ix[genotype_index]\n",
    "    strain = pd.DataFrame(strain)\n",
    "    strain = strain.drop(['Chr','Locus','cM','Mb'])\n",
    "    pheno.columns=[phenotype_index2,\"Locus\"]\n",
    "    pheno = pheno.set_index(pheno['Locus'])\n",
    "    merged = pheno.join(strain)\n",
    "    merged = merged.dropna()\n",
    "    corcoeff, pvalue = sts.pearsonr(merged[phenotype_index2],merged[genotype_index])\n",
    "    return corcoeff,pvalue"
   ]
  },
  {
   "cell_type": "code",
   "execution_count": 444,
   "metadata": {
    "collapsed": false,
    "scrolled": true
   },
   "outputs": [],
   "source": [
    "def MHTPearson(df,method):\n",
    "    corrected = pd.DataFrame()\n",
    "    for col in df: \n",
    "        rej, corrected_p, _, _ = multipletests(df[col],alpha=0.05,method=method,returnsorted = False)\n",
    "        corrected[col] = df[col]\n",
    "        corrected[col+ \" Corrected_p \"+ method] = corrected_p\n",
    "        corrected[col+ \" Reject \"+ method] = rej\n",
    "    corrected.index = df.index\n",
    "    corrected = corrected.join(geno[['Mb','Chr']])\n",
    "    return(corrected)"
   ]
  },
  {
   "cell_type": "code",
   "execution_count": 454,
   "metadata": {
    "collapsed": false
   },
   "outputs": [],
   "source": [
    "relevant_col = [col for col in corrected.columns if col.startswith('HFD_DiastolicBP_NIBP_[mmHg]')] + ['Mb','Chr']"
   ]
  },
  {
   "cell_type": "code",
   "execution_count": 455,
   "metadata": {
    "collapsed": false
   },
   "outputs": [
    {
     "data": {
      "text/plain": [
       "['HFD_DiastolicBP_NIBP_[mmHg]',\n",
       " 'HFD_DiastolicBP_NIBP_[mmHg] Corrected_p bonferroni',\n",
       " 'HFD_DiastolicBP_NIBP_[mmHg] Reject bonferroni',\n",
       " 'Mb',\n",
       " 'Chr']"
      ]
     },
     "execution_count": 455,
     "metadata": {},
     "output_type": "execute_result"
    }
   ],
   "source": [
    "relevant_col"
   ]
  },
  {
   "cell_type": "code",
   "execution_count": 522,
   "metadata": {
    "collapsed": false,
    "scrolled": true
   },
   "outputs": [
    {
     "ename": "KeyError",
     "evalue": "'CD_DiastolicBP_NIBP_[mmHg] Reject sidak'",
     "output_type": "error",
     "traceback": [
      "\u001b[0;31m---------------------------------------------------------------------------\u001b[0m",
      "\u001b[0;31mKeyError\u001b[0m                                  Traceback (most recent call last)",
      "\u001b[0;32m/Users/Timo/anaconda3/lib/python3.5/site-packages/pandas/indexes/base.py\u001b[0m in \u001b[0;36mget_loc\u001b[0;34m(self, key, method, tolerance)\u001b[0m\n\u001b[1;32m   1944\u001b[0m             \u001b[0;32mtry\u001b[0m\u001b[0;34m:\u001b[0m\u001b[0;34m\u001b[0m\u001b[0m\n\u001b[0;32m-> 1945\u001b[0;31m                 \u001b[0;32mreturn\u001b[0m \u001b[0mself\u001b[0m\u001b[0;34m.\u001b[0m\u001b[0m_engine\u001b[0m\u001b[0;34m.\u001b[0m\u001b[0mget_loc\u001b[0m\u001b[0;34m(\u001b[0m\u001b[0mkey\u001b[0m\u001b[0;34m)\u001b[0m\u001b[0;34m\u001b[0m\u001b[0m\n\u001b[0m\u001b[1;32m   1946\u001b[0m             \u001b[0;32mexcept\u001b[0m \u001b[0mKeyError\u001b[0m\u001b[0;34m:\u001b[0m\u001b[0;34m\u001b[0m\u001b[0m\n",
      "\u001b[0;32mpandas/index.pyx\u001b[0m in \u001b[0;36mpandas.index.IndexEngine.get_loc (pandas/index.c:4154)\u001b[0;34m()\u001b[0m\n",
      "\u001b[0;32mpandas/index.pyx\u001b[0m in \u001b[0;36mpandas.index.IndexEngine.get_loc (pandas/index.c:4018)\u001b[0;34m()\u001b[0m\n",
      "\u001b[0;32mpandas/hashtable.pyx\u001b[0m in \u001b[0;36mpandas.hashtable.PyObjectHashTable.get_item (pandas/hashtable.c:12368)\u001b[0;34m()\u001b[0m\n",
      "\u001b[0;32mpandas/hashtable.pyx\u001b[0m in \u001b[0;36mpandas.hashtable.PyObjectHashTable.get_item (pandas/hashtable.c:12322)\u001b[0;34m()\u001b[0m\n",
      "\u001b[0;31mKeyError\u001b[0m: 'CD_DiastolicBP_NIBP_[mmHg] Reject sidak'",
      "\nDuring handling of the above exception, another exception occurred:\n",
      "\u001b[0;31mKeyError\u001b[0m                                  Traceback (most recent call last)",
      "\u001b[0;32m<ipython-input-522-d123b4175ece>\u001b[0m in \u001b[0;36m<module>\u001b[0;34m()\u001b[0m\n\u001b[1;32m      1\u001b[0m \u001b[0mrelevant_col\u001b[0m \u001b[0;34m=\u001b[0m \u001b[0;34m[\u001b[0m\u001b[0mcol\u001b[0m \u001b[0;32mfor\u001b[0m \u001b[0mcol\u001b[0m \u001b[0;32min\u001b[0m \u001b[0mcorrected\u001b[0m\u001b[0;34m.\u001b[0m\u001b[0mcolumns\u001b[0m \u001b[0;32mif\u001b[0m \u001b[0mcol\u001b[0m\u001b[0;34m.\u001b[0m\u001b[0mstartswith\u001b[0m\u001b[0;34m(\u001b[0m\u001b[0;34m'HFD_DiastolicBP_NIBP_[mmHg]'\u001b[0m\u001b[0;34m)\u001b[0m\u001b[0;34m]\u001b[0m \u001b[0;34m+\u001b[0m \u001b[0;34m[\u001b[0m\u001b[0;34m'Mb'\u001b[0m\u001b[0;34m,\u001b[0m\u001b[0;34m'Chr'\u001b[0m\u001b[0;34m]\u001b[0m\u001b[0;34m\u001b[0m\u001b[0m\n\u001b[0;32m----> 2\u001b[0;31m \u001b[0mcorrected\u001b[0m\u001b[0;34m.\u001b[0m\u001b[0mloc\u001b[0m\u001b[0;34m[\u001b[0m\u001b[0mcorrected\u001b[0m\u001b[0;34m[\u001b[0m\u001b[0;34m\"CD_DiastolicBP_NIBP_[mmHg] Reject sidak\"\u001b[0m\u001b[0;34m]\u001b[0m\u001b[0;34m]\u001b[0m\u001b[0;34m[\u001b[0m\u001b[0mrelevant_col\u001b[0m\u001b[0;34m]\u001b[0m\u001b[0;34m\u001b[0m\u001b[0m\n\u001b[0m",
      "\u001b[0;32m/Users/Timo/anaconda3/lib/python3.5/site-packages/pandas/core/frame.py\u001b[0m in \u001b[0;36m__getitem__\u001b[0;34m(self, key)\u001b[0m\n\u001b[1;32m   1995\u001b[0m             \u001b[0;32mreturn\u001b[0m \u001b[0mself\u001b[0m\u001b[0;34m.\u001b[0m\u001b[0m_getitem_multilevel\u001b[0m\u001b[0;34m(\u001b[0m\u001b[0mkey\u001b[0m\u001b[0;34m)\u001b[0m\u001b[0;34m\u001b[0m\u001b[0m\n\u001b[1;32m   1996\u001b[0m         \u001b[0;32melse\u001b[0m\u001b[0;34m:\u001b[0m\u001b[0;34m\u001b[0m\u001b[0m\n\u001b[0;32m-> 1997\u001b[0;31m             \u001b[0;32mreturn\u001b[0m \u001b[0mself\u001b[0m\u001b[0;34m.\u001b[0m\u001b[0m_getitem_column\u001b[0m\u001b[0;34m(\u001b[0m\u001b[0mkey\u001b[0m\u001b[0;34m)\u001b[0m\u001b[0;34m\u001b[0m\u001b[0m\n\u001b[0m\u001b[1;32m   1998\u001b[0m \u001b[0;34m\u001b[0m\u001b[0m\n\u001b[1;32m   1999\u001b[0m     \u001b[0;32mdef\u001b[0m \u001b[0m_getitem_column\u001b[0m\u001b[0;34m(\u001b[0m\u001b[0mself\u001b[0m\u001b[0;34m,\u001b[0m \u001b[0mkey\u001b[0m\u001b[0;34m)\u001b[0m\u001b[0;34m:\u001b[0m\u001b[0;34m\u001b[0m\u001b[0m\n",
      "\u001b[0;32m/Users/Timo/anaconda3/lib/python3.5/site-packages/pandas/core/frame.py\u001b[0m in \u001b[0;36m_getitem_column\u001b[0;34m(self, key)\u001b[0m\n\u001b[1;32m   2002\u001b[0m         \u001b[0;31m# get column\u001b[0m\u001b[0;34m\u001b[0m\u001b[0;34m\u001b[0m\u001b[0m\n\u001b[1;32m   2003\u001b[0m         \u001b[0;32mif\u001b[0m \u001b[0mself\u001b[0m\u001b[0;34m.\u001b[0m\u001b[0mcolumns\u001b[0m\u001b[0;34m.\u001b[0m\u001b[0mis_unique\u001b[0m\u001b[0;34m:\u001b[0m\u001b[0;34m\u001b[0m\u001b[0m\n\u001b[0;32m-> 2004\u001b[0;31m             \u001b[0;32mreturn\u001b[0m \u001b[0mself\u001b[0m\u001b[0;34m.\u001b[0m\u001b[0m_get_item_cache\u001b[0m\u001b[0;34m(\u001b[0m\u001b[0mkey\u001b[0m\u001b[0;34m)\u001b[0m\u001b[0;34m\u001b[0m\u001b[0m\n\u001b[0m\u001b[1;32m   2005\u001b[0m \u001b[0;34m\u001b[0m\u001b[0m\n\u001b[1;32m   2006\u001b[0m         \u001b[0;31m# duplicate columns & possible reduce dimensionality\u001b[0m\u001b[0;34m\u001b[0m\u001b[0;34m\u001b[0m\u001b[0m\n",
      "\u001b[0;32m/Users/Timo/anaconda3/lib/python3.5/site-packages/pandas/core/generic.py\u001b[0m in \u001b[0;36m_get_item_cache\u001b[0;34m(self, item)\u001b[0m\n\u001b[1;32m   1348\u001b[0m         \u001b[0mres\u001b[0m \u001b[0;34m=\u001b[0m \u001b[0mcache\u001b[0m\u001b[0;34m.\u001b[0m\u001b[0mget\u001b[0m\u001b[0;34m(\u001b[0m\u001b[0mitem\u001b[0m\u001b[0;34m)\u001b[0m\u001b[0;34m\u001b[0m\u001b[0m\n\u001b[1;32m   1349\u001b[0m         \u001b[0;32mif\u001b[0m \u001b[0mres\u001b[0m \u001b[0;32mis\u001b[0m \u001b[0;32mNone\u001b[0m\u001b[0;34m:\u001b[0m\u001b[0;34m\u001b[0m\u001b[0m\n\u001b[0;32m-> 1350\u001b[0;31m             \u001b[0mvalues\u001b[0m \u001b[0;34m=\u001b[0m \u001b[0mself\u001b[0m\u001b[0;34m.\u001b[0m\u001b[0m_data\u001b[0m\u001b[0;34m.\u001b[0m\u001b[0mget\u001b[0m\u001b[0;34m(\u001b[0m\u001b[0mitem\u001b[0m\u001b[0;34m)\u001b[0m\u001b[0;34m\u001b[0m\u001b[0m\n\u001b[0m\u001b[1;32m   1351\u001b[0m             \u001b[0mres\u001b[0m \u001b[0;34m=\u001b[0m \u001b[0mself\u001b[0m\u001b[0;34m.\u001b[0m\u001b[0m_box_item_values\u001b[0m\u001b[0;34m(\u001b[0m\u001b[0mitem\u001b[0m\u001b[0;34m,\u001b[0m \u001b[0mvalues\u001b[0m\u001b[0;34m)\u001b[0m\u001b[0;34m\u001b[0m\u001b[0m\n\u001b[1;32m   1352\u001b[0m             \u001b[0mcache\u001b[0m\u001b[0;34m[\u001b[0m\u001b[0mitem\u001b[0m\u001b[0;34m]\u001b[0m \u001b[0;34m=\u001b[0m \u001b[0mres\u001b[0m\u001b[0;34m\u001b[0m\u001b[0m\n",
      "\u001b[0;32m/Users/Timo/anaconda3/lib/python3.5/site-packages/pandas/core/internals.py\u001b[0m in \u001b[0;36mget\u001b[0;34m(self, item, fastpath)\u001b[0m\n\u001b[1;32m   3288\u001b[0m \u001b[0;34m\u001b[0m\u001b[0m\n\u001b[1;32m   3289\u001b[0m             \u001b[0;32mif\u001b[0m \u001b[0;32mnot\u001b[0m \u001b[0misnull\u001b[0m\u001b[0;34m(\u001b[0m\u001b[0mitem\u001b[0m\u001b[0;34m)\u001b[0m\u001b[0;34m:\u001b[0m\u001b[0;34m\u001b[0m\u001b[0m\n\u001b[0;32m-> 3290\u001b[0;31m                 \u001b[0mloc\u001b[0m \u001b[0;34m=\u001b[0m \u001b[0mself\u001b[0m\u001b[0;34m.\u001b[0m\u001b[0mitems\u001b[0m\u001b[0;34m.\u001b[0m\u001b[0mget_loc\u001b[0m\u001b[0;34m(\u001b[0m\u001b[0mitem\u001b[0m\u001b[0;34m)\u001b[0m\u001b[0;34m\u001b[0m\u001b[0m\n\u001b[0m\u001b[1;32m   3291\u001b[0m             \u001b[0;32melse\u001b[0m\u001b[0;34m:\u001b[0m\u001b[0;34m\u001b[0m\u001b[0m\n\u001b[1;32m   3292\u001b[0m                 \u001b[0mindexer\u001b[0m \u001b[0;34m=\u001b[0m \u001b[0mnp\u001b[0m\u001b[0;34m.\u001b[0m\u001b[0marange\u001b[0m\u001b[0;34m(\u001b[0m\u001b[0mlen\u001b[0m\u001b[0;34m(\u001b[0m\u001b[0mself\u001b[0m\u001b[0;34m.\u001b[0m\u001b[0mitems\u001b[0m\u001b[0;34m)\u001b[0m\u001b[0;34m)\u001b[0m\u001b[0;34m[\u001b[0m\u001b[0misnull\u001b[0m\u001b[0;34m(\u001b[0m\u001b[0mself\u001b[0m\u001b[0;34m.\u001b[0m\u001b[0mitems\u001b[0m\u001b[0;34m)\u001b[0m\u001b[0;34m]\u001b[0m\u001b[0;34m\u001b[0m\u001b[0m\n",
      "\u001b[0;32m/Users/Timo/anaconda3/lib/python3.5/site-packages/pandas/indexes/base.py\u001b[0m in \u001b[0;36mget_loc\u001b[0;34m(self, key, method, tolerance)\u001b[0m\n\u001b[1;32m   1945\u001b[0m                 \u001b[0;32mreturn\u001b[0m \u001b[0mself\u001b[0m\u001b[0;34m.\u001b[0m\u001b[0m_engine\u001b[0m\u001b[0;34m.\u001b[0m\u001b[0mget_loc\u001b[0m\u001b[0;34m(\u001b[0m\u001b[0mkey\u001b[0m\u001b[0;34m)\u001b[0m\u001b[0;34m\u001b[0m\u001b[0m\n\u001b[1;32m   1946\u001b[0m             \u001b[0;32mexcept\u001b[0m \u001b[0mKeyError\u001b[0m\u001b[0;34m:\u001b[0m\u001b[0;34m\u001b[0m\u001b[0m\n\u001b[0;32m-> 1947\u001b[0;31m                 \u001b[0;32mreturn\u001b[0m \u001b[0mself\u001b[0m\u001b[0;34m.\u001b[0m\u001b[0m_engine\u001b[0m\u001b[0;34m.\u001b[0m\u001b[0mget_loc\u001b[0m\u001b[0;34m(\u001b[0m\u001b[0mself\u001b[0m\u001b[0;34m.\u001b[0m\u001b[0m_maybe_cast_indexer\u001b[0m\u001b[0;34m(\u001b[0m\u001b[0mkey\u001b[0m\u001b[0;34m)\u001b[0m\u001b[0;34m)\u001b[0m\u001b[0;34m\u001b[0m\u001b[0m\n\u001b[0m\u001b[1;32m   1948\u001b[0m \u001b[0;34m\u001b[0m\u001b[0m\n\u001b[1;32m   1949\u001b[0m         \u001b[0mindexer\u001b[0m \u001b[0;34m=\u001b[0m \u001b[0mself\u001b[0m\u001b[0;34m.\u001b[0m\u001b[0mget_indexer\u001b[0m\u001b[0;34m(\u001b[0m\u001b[0;34m[\u001b[0m\u001b[0mkey\u001b[0m\u001b[0;34m]\u001b[0m\u001b[0;34m,\u001b[0m \u001b[0mmethod\u001b[0m\u001b[0;34m=\u001b[0m\u001b[0mmethod\u001b[0m\u001b[0;34m,\u001b[0m \u001b[0mtolerance\u001b[0m\u001b[0;34m=\u001b[0m\u001b[0mtolerance\u001b[0m\u001b[0;34m)\u001b[0m\u001b[0;34m\u001b[0m\u001b[0m\n",
      "\u001b[0;32mpandas/index.pyx\u001b[0m in \u001b[0;36mpandas.index.IndexEngine.get_loc (pandas/index.c:4154)\u001b[0;34m()\u001b[0m\n",
      "\u001b[0;32mpandas/index.pyx\u001b[0m in \u001b[0;36mpandas.index.IndexEngine.get_loc (pandas/index.c:4018)\u001b[0;34m()\u001b[0m\n",
      "\u001b[0;32mpandas/hashtable.pyx\u001b[0m in \u001b[0;36mpandas.hashtable.PyObjectHashTable.get_item (pandas/hashtable.c:12368)\u001b[0;34m()\u001b[0m\n",
      "\u001b[0;32mpandas/hashtable.pyx\u001b[0m in \u001b[0;36mpandas.hashtable.PyObjectHashTable.get_item (pandas/hashtable.c:12322)\u001b[0;34m()\u001b[0m\n",
      "\u001b[0;31mKeyError\u001b[0m: 'CD_DiastolicBP_NIBP_[mmHg] Reject sidak'"
     ]
    }
   ],
   "source": [
    "relevant_col = [col for col in corrected.columns if col.startswith('HFD_DiastolicBP_NIBP_[mmHg]')] + ['Mb','Chr']\n",
    "corrected.loc[corrected[\"CD_DiastolicBP_NIBP_[mmHg] Reject sidak\"]][relevant_col]"
   ]
  },
  {
   "cell_type": "code",
   "execution_count": null,
   "metadata": {
    "collapsed": true
   },
   "outputs": [],
   "source": []
  },
  {
   "cell_type": "markdown",
   "metadata": {},
   "source": [
    "## Task: Plot corresponding Manhattan Plot (using your previously defined function)"
   ]
  },
  {
   "cell_type": "markdown",
   "metadata": {},
   "source": [
    "Create another dataframe with -log10 pvalues to plot the manhattan plot"
   ]
  },
  {
   "cell_type": "code",
   "execution_count": 541,
   "metadata": {
    "collapsed": true
   },
   "outputs": [],
   "source": [
    "pvalues = results_NIBP[\"HFD_DiastolicBP_NIBP_[mmHg]\"]"
   ]
  },
  {
   "cell_type": "code",
   "execution_count": 562,
   "metadata": {
    "collapsed": false
   },
   "outputs": [],
   "source": [
    "pvalues = pd.DataFrame(pvalues)\n",
    "pvalues[\"-log10(pvalue)\"] = results_NIBP[\"HFD_HeartRate_NIBP_[bpm]\"]\n",
    "neglog_pvalues = pvalues.apply(neglog10)\n",
    "manhattan2 = neglog_pvalues.join(chrPos)\n",
    "manhattan2[\"Chr\"] = genotype['Chr']\n",
    "manhattan2[\"Mb\"] = genotype['Mb']\n",
    "mh2 = manhattan2.sort_values(by=[\"Chr\",\"Mb\"])\n",
    "mh2_grouped = mh.groupby(['Chr'],sort=False,group_keys=True)"
   ]
  },
  {
   "cell_type": "code",
   "execution_count": 564,
   "metadata": {
    "collapsed": false,
    "run_control": {
     "frozen": false,
     "read_only": false
    },
    "scrolled": true
   },
   "outputs": [
    {
     "data": {
      "image/png": "[encoded data removed]",
      "text/plain": [
       "<matplotlib.figure.Figure at 0x1202e8b70>"
      ]
     },
     "metadata": {},
     "output_type": "display_data"
    }
   ],
   "source": [
    "plot_manhattan(mh2,mh2_grouped)"
   ]
  },
  {
   "cell_type": "markdown",
   "metadata": {},
   "source": [
    "According to the manhattan plot SNPs associated with the phenotype diastolicBP are propably located on chromosome 4 or chromosome 9"
   ]
  },
  {
   "cell_type": "markdown",
   "metadata": {},
   "source": [
    "## Task: Correct for multiple hypothesis testing"
   ]
  },
  {
   "cell_type": "markdown",
   "metadata": {
    "collapsed": true,
    "run_control": {
     "frozen": false,
     "read_only": false
    }
   },
   "source": [
    "MHT correction is already implemented into the associationTests function"
   ]
  },
  {
   "cell_type": "markdown",
   "metadata": {
    "collapsed": true
   },
   "source": [
    "# Run association tests for all phenotypes in Biochemistry, Hematology, and Blood Pressure\n",
    "Moving now into phenotype association studies, we will now test multiple phenotypes for genetic associations. To determine how much each trait is associated with a genetic factor, we have to repeat our analyses for (ideally all) phenotypes of interest while correcting for multiple hypothesis testing. We then have to figure out which traits are the most associated.\n",
    "\n",
    "Make sure to consider significance of association as well as the effect size of the association.\n",
    "\n",
    "Which traits are most influenced by genetics?"
   ]
  },
  {
   "cell_type": "markdown",
   "metadata": {
    "collapsed": true
   },
   "source": [
    "## Task: Pick a testing method from the previous tasks that is applicable for the  phenotype variable type"
   ]
  },
  {
   "cell_type": "code",
   "execution_count": 588,
   "metadata": {
    "collapsed": false
   },
   "outputs": [],
   "source": [
    "def associationTests(genotype_df,phenotype_spread,spreadsheet):\n",
    "    \"\"\"\n",
    "    This function runs pearsons correlation test for all phenotypes in a specified spreadsheet the pvalues\n",
    "    \"\"\"\n",
    "    traits = []\n",
    "    snps = []\n",
    "    pvalues_list = []\n",
    "    pvalues_dataframe = pd.DataFrame()\n",
    "    for trait in phenotype_spread[spreadsheet]:\n",
    "        if trait.startswith(\"@\") or trait.startswith(\"SE\") or trait.startswith(\"N\"):\n",
    "            continue\n",
    "        if (trait.startswith('CD_') or trait.startswith('HFD_')) :\n",
    "            traits.append(trait)\n",
    "    for snp in geno['Locus']:\n",
    "        snps.append(snp)\n",
    "    for trait in traits:\n",
    "        pvalues_list=[]\n",
    "        for snp in snps:\n",
    "            _,pvalue = pearsonR(genotype_df,phenotype_spread,snp,spreadsheet,trait)\n",
    "            pvalues_list.append(pvalue)\n",
    "        pvalues_dataframe[trait] = pvalues_list\n",
    "    pvalues_dataframe.index = snps\n",
    "    return pvalues_dataframe"
   ]
  },
  {
   "cell_type": "markdown",
   "metadata": {},
   "source": [
    "Run pearson's correlation test for all phenotypes in the blood pressure spreadsheet and apply correction for multiple testing using the Benjamin Hochberg method"
   ]
  },
  {
   "cell_type": "code",
   "execution_count": 646,
   "metadata": {
    "collapsed": false
   },
   "outputs": [],
   "source": [
    "results_OGTT = associationTests(geno,phenotype_spread,\"OGTT\")"
   ]
  },
  {
   "cell_type": "code",
   "execution_count": 656,
   "metadata": {
    "collapsed": false,
    "scrolled": true
   },
   "outputs": [],
   "source": [
    "results_Biochemistry = associationTests(geno,phenotype_spread,\"Biochemistry\")"
   ]
  },
  {
   "cell_type": "code",
   "execution_count": 658,
   "metadata": {
    "collapsed": false
   },
   "outputs": [],
   "source": [
    "biochem_corr =  MHTPearson(results_Biochemistry,\"fdr_bh\")"
   ]
  },
  {
   "cell_type": "code",
   "execution_count": 661,
   "metadata": {
    "collapsed": false
   },
   "outputs": [
    {
     "data": {
      "text/html": [
       "<div>\n",
       "<table border=\"1\" class=\"dataframe\">\n",
       "  <thead>\n",
       "    <tr style=\"text-align: right;\">\n",
       "      <th></th>\n",
       "      <th>CD_Glucose_[mmol/L]</th>\n",
       "      <th>CD_Glucose_[mmol/L] Corrected_p fdr_bh</th>\n",
       "      <th>CD_Glucose_[mmol/L] Reject fdr_bh</th>\n",
       "      <th>HFD_Glucose_[mmol/L]</th>\n",
       "      <th>HFD_Glucose_[mmol/L] Corrected_p fdr_bh</th>\n",
       "      <th>HFD_Glucose_[mmol/L] Reject fdr_bh</th>\n",
       "      <th>CD_Cholesterol_[mmol/L]</th>\n",
       "      <th>CD_Cholesterol_[mmol/L] Corrected_p fdr_bh</th>\n",
       "      <th>CD_Cholesterol_[mmol/L] Reject fdr_bh</th>\n",
       "      <th>HFD_Cholesterol_[mmol/L]</th>\n",
       "      <th>...</th>\n",
       "      <th>HFD_IL6_[pg/mL] Corrected_p fdr_bh</th>\n",
       "      <th>HFD_IL6_[pg/mL] Reject fdr_bh</th>\n",
       "      <th>HFD_IL18_[pg/mL]</th>\n",
       "      <th>HFD_IL18_[pg/mL] Corrected_p fdr_bh</th>\n",
       "      <th>HFD_IL18_[pg/mL] Reject fdr_bh</th>\n",
       "      <th>HFD_RANTES_[pg/mL]</th>\n",
       "      <th>HFD_RANTES_[pg/mL] Corrected_p fdr_bh</th>\n",
       "      <th>HFD_RANTES_[pg/mL] Reject fdr_bh</th>\n",
       "      <th>Mb</th>\n",
       "      <th>Chr</th>\n",
       "    </tr>\n",
       "  </thead>\n",
       "  <tbody>\n",
       "    <tr>\n",
       "      <th>rs6269442</th>\n",
       "      <td>0.372736</td>\n",
       "      <td>0.932098</td>\n",
       "      <td>False</td>\n",
       "      <td>0.750016</td>\n",
       "      <td>0.958234</td>\n",
       "      <td>False</td>\n",
       "      <td>0.989044</td>\n",
       "      <td>0.995050</td>\n",
       "      <td>False</td>\n",
       "      <td>0.922499</td>\n",
       "      <td>...</td>\n",
       "      <td>0.859325</td>\n",
       "      <td>False</td>\n",
       "      <td>0.965844</td>\n",
       "      <td>0.991571</td>\n",
       "      <td>False</td>\n",
       "      <td>0.000226</td>\n",
       "      <td>0.075758</td>\n",
       "      <td>False</td>\n",
       "      <td>3.482275</td>\n",
       "      <td>1</td>\n",
       "    </tr>\n",
       "    <tr>\n",
       "      <th>rs6241531</th>\n",
       "      <td>0.462474</td>\n",
       "      <td>0.934561</td>\n",
       "      <td>False</td>\n",
       "      <td>0.558551</td>\n",
       "      <td>0.930470</td>\n",
       "      <td>False</td>\n",
       "      <td>0.723709</td>\n",
       "      <td>0.958594</td>\n",
       "      <td>False</td>\n",
       "      <td>0.362135</td>\n",
       "      <td>...</td>\n",
       "      <td>0.935827</td>\n",
       "      <td>False</td>\n",
       "      <td>0.683045</td>\n",
       "      <td>0.879668</td>\n",
       "      <td>False</td>\n",
       "      <td>0.000013</td>\n",
       "      <td>0.011571</td>\n",
       "      <td>True</td>\n",
       "      <td>9.995925</td>\n",
       "      <td>1</td>\n",
       "    </tr>\n",
       "    <tr>\n",
       "      <th>rs6360236</th>\n",
       "      <td>0.462474</td>\n",
       "      <td>0.934561</td>\n",
       "      <td>False</td>\n",
       "      <td>0.558551</td>\n",
       "      <td>0.930470</td>\n",
       "      <td>False</td>\n",
       "      <td>0.723709</td>\n",
       "      <td>0.958594</td>\n",
       "      <td>False</td>\n",
       "      <td>0.362135</td>\n",
       "      <td>...</td>\n",
       "      <td>0.935827</td>\n",
       "      <td>False</td>\n",
       "      <td>0.683045</td>\n",
       "      <td>0.879668</td>\n",
       "      <td>False</td>\n",
       "      <td>0.000013</td>\n",
       "      <td>0.011571</td>\n",
       "      <td>True</td>\n",
       "      <td>11.073904</td>\n",
       "      <td>1</td>\n",
       "    </tr>\n",
       "    <tr>\n",
       "      <th>rs3722996</th>\n",
       "      <td>0.462474</td>\n",
       "      <td>0.934561</td>\n",
       "      <td>False</td>\n",
       "      <td>0.558551</td>\n",
       "      <td>0.930470</td>\n",
       "      <td>False</td>\n",
       "      <td>0.723709</td>\n",
       "      <td>0.958594</td>\n",
       "      <td>False</td>\n",
       "      <td>0.362135</td>\n",
       "      <td>...</td>\n",
       "      <td>0.935827</td>\n",
       "      <td>False</td>\n",
       "      <td>0.683045</td>\n",
       "      <td>0.879668</td>\n",
       "      <td>False</td>\n",
       "      <td>0.000013</td>\n",
       "      <td>0.011571</td>\n",
       "      <td>True</td>\n",
       "      <td>11.259432</td>\n",
       "      <td>1</td>\n",
       "    </tr>\n",
       "    <tr>\n",
       "      <th>D1Mit1</th>\n",
       "      <td>0.398824</td>\n",
       "      <td>0.934561</td>\n",
       "      <td>False</td>\n",
       "      <td>0.512040</td>\n",
       "      <td>0.930470</td>\n",
       "      <td>False</td>\n",
       "      <td>0.581184</td>\n",
       "      <td>0.958594</td>\n",
       "      <td>False</td>\n",
       "      <td>0.315190</td>\n",
       "      <td>...</td>\n",
       "      <td>0.941537</td>\n",
       "      <td>False</td>\n",
       "      <td>0.711781</td>\n",
       "      <td>0.894522</td>\n",
       "      <td>False</td>\n",
       "      <td>0.000038</td>\n",
       "      <td>0.016547</td>\n",
       "      <td>True</td>\n",
       "      <td>11.505582</td>\n",
       "      <td>1</td>\n",
       "    </tr>\n",
       "  </tbody>\n",
       "</table>\n",
       "<p>5 rows × 158 columns</p>\n",
       "</div>"
      ],
      "text/plain": [
       "           CD_Glucose_[mmol/L]  CD_Glucose_[mmol/L] Corrected_p fdr_bh  \\\n",
       "rs6269442             0.372736                                0.932098   \n",
       "rs6241531             0.462474                                0.934561   \n",
       "rs6360236             0.462474                                0.934561   \n",
       "rs3722996             0.462474                                0.934561   \n",
       "D1Mit1                0.398824                                0.934561   \n",
       "\n",
       "          CD_Glucose_[mmol/L] Reject fdr_bh  HFD_Glucose_[mmol/L]  \\\n",
       "rs6269442                             False              0.750016   \n",
       "rs6241531                             False              0.558551   \n",
       "rs6360236                             False              0.558551   \n",
       "rs3722996                             False              0.558551   \n",
       "D1Mit1                                False              0.512040   \n",
       "\n",
       "           HFD_Glucose_[mmol/L] Corrected_p fdr_bh  \\\n",
       "rs6269442                                 0.958234   \n",
       "rs6241531                                 0.930470   \n",
       "rs6360236                                 0.930470   \n",
       "rs3722996                                 0.930470   \n",
       "D1Mit1                                    0.930470   \n",
       "\n",
       "          HFD_Glucose_[mmol/L] Reject fdr_bh  CD_Cholesterol_[mmol/L]  \\\n",
       "rs6269442                              False                 0.989044   \n",
       "rs6241531                              False                 0.723709   \n",
       "rs6360236                              False                 0.723709   \n",
       "rs3722996                              False                 0.723709   \n",
       "D1Mit1                                 False                 0.581184   \n",
       "\n",
       "           CD_Cholesterol_[mmol/L] Corrected_p fdr_bh  \\\n",
       "rs6269442                                    0.995050   \n",
       "rs6241531                                    0.958594   \n",
       "rs6360236                                    0.958594   \n",
       "rs3722996                                    0.958594   \n",
       "D1Mit1                                       0.958594   \n",
       "\n",
       "          CD_Cholesterol_[mmol/L] Reject fdr_bh  HFD_Cholesterol_[mmol/L]  \\\n",
       "rs6269442                                 False                  0.922499   \n",
       "rs6241531                                 False                  0.362135   \n",
       "rs6360236                                 False                  0.362135   \n",
       "rs3722996                                 False                  0.362135   \n",
       "D1Mit1                                    False                  0.315190   \n",
       "\n",
       "          ...   HFD_IL6_[pg/mL] Corrected_p fdr_bh  \\\n",
       "rs6269442 ...                             0.859325   \n",
       "rs6241531 ...                             0.935827   \n",
       "rs6360236 ...                             0.935827   \n",
       "rs3722996 ...                             0.935827   \n",
       "D1Mit1    ...                             0.941537   \n",
       "\n",
       "          HFD_IL6_[pg/mL] Reject fdr_bh  HFD_IL18_[pg/mL]  \\\n",
       "rs6269442                         False          0.965844   \n",
       "rs6241531                         False          0.683045   \n",
       "rs6360236                         False          0.683045   \n",
       "rs3722996                         False          0.683045   \n",
       "D1Mit1                            False          0.711781   \n",
       "\n",
       "           HFD_IL18_[pg/mL] Corrected_p fdr_bh HFD_IL18_[pg/mL] Reject fdr_bh  \\\n",
       "rs6269442                             0.991571                          False   \n",
       "rs6241531                             0.879668                          False   \n",
       "rs6360236                             0.879668                          False   \n",
       "rs3722996                             0.879668                          False   \n",
       "D1Mit1                                0.894522                          False   \n",
       "\n",
       "           HFD_RANTES_[pg/mL]  HFD_RANTES_[pg/mL] Corrected_p fdr_bh  \\\n",
       "rs6269442            0.000226                               0.075758   \n",
       "rs6241531            0.000013                               0.011571   \n",
       "rs6360236            0.000013                               0.011571   \n",
       "rs3722996            0.000013                               0.011571   \n",
       "D1Mit1               0.000038                               0.016547   \n",
       "\n",
       "          HFD_RANTES_[pg/mL] Reject fdr_bh         Mb  Chr  \n",
       "rs6269442                            False   3.482275    1  \n",
       "rs6241531                             True   9.995925    1  \n",
       "rs6360236                             True  11.073904    1  \n",
       "rs3722996                             True  11.259432    1  \n",
       "D1Mit1                                True  11.505582    1  \n",
       "\n",
       "[5 rows x 158 columns]"
      ]
     },
     "execution_count": 661,
     "metadata": {},
     "output_type": "execute_result"
    }
   ],
   "source": [
    "biochem_corr.head()"
   ]
  },
  {
   "cell_type": "code",
   "execution_count": 676,
   "metadata": {
    "collapsed": false
   },
   "outputs": [
    {
     "data": {
      "text/html": [
       "<div>\n",
       "<table border=\"1\" class=\"dataframe\">\n",
       "  <thead>\n",
       "    <tr style=\"text-align: right;\">\n",
       "      <th></th>\n",
       "      <th>CD_Glucose_[mmol/L]</th>\n",
       "      <th>CD_Glucose_[mmol/L] Corrected_p fdr_bh</th>\n",
       "      <th>CD_Glucose_[mmol/L] Reject fdr_bh</th>\n",
       "      <th>HFD_Glucose_[mmol/L]</th>\n",
       "      <th>HFD_Glucose_[mmol/L] Corrected_p fdr_bh</th>\n",
       "      <th>HFD_Glucose_[mmol/L] Reject fdr_bh</th>\n",
       "      <th>CD_Cholesterol_[mmol/L]</th>\n",
       "      <th>CD_Cholesterol_[mmol/L] Corrected_p fdr_bh</th>\n",
       "      <th>CD_Cholesterol_[mmol/L] Reject fdr_bh</th>\n",
       "      <th>HFD_Cholesterol_[mmol/L]</th>\n",
       "      <th>...</th>\n",
       "      <th>HFD_IL6_[pg/mL] Corrected_p fdr_bh</th>\n",
       "      <th>HFD_IL6_[pg/mL] Reject fdr_bh</th>\n",
       "      <th>HFD_IL18_[pg/mL]</th>\n",
       "      <th>HFD_IL18_[pg/mL] Corrected_p fdr_bh</th>\n",
       "      <th>HFD_IL18_[pg/mL] Reject fdr_bh</th>\n",
       "      <th>HFD_RANTES_[pg/mL]</th>\n",
       "      <th>HFD_RANTES_[pg/mL] Corrected_p fdr_bh</th>\n",
       "      <th>HFD_RANTES_[pg/mL] Reject fdr_bh</th>\n",
       "      <th>Mb</th>\n",
       "      <th>Chr</th>\n",
       "    </tr>\n",
       "  </thead>\n",
       "  <tbody>\n",
       "    <tr>\n",
       "      <th>rs13480657</th>\n",
       "      <td>0.893308</td>\n",
       "      <td>0.993015</td>\n",
       "      <td>False</td>\n",
       "      <td>0.300543</td>\n",
       "      <td>0.907868</td>\n",
       "      <td>False</td>\n",
       "      <td>0.961536</td>\n",
       "      <td>0.989649</td>\n",
       "      <td>False</td>\n",
       "      <td>0.118758</td>\n",
       "      <td>...</td>\n",
       "      <td>0.807339</td>\n",
       "      <td>False</td>\n",
       "      <td>0.473691</td>\n",
       "      <td>0.825200</td>\n",
       "      <td>False</td>\n",
       "      <td>0.290060</td>\n",
       "      <td>0.906483</td>\n",
       "      <td>False</td>\n",
       "      <td>76.175590</td>\n",
       "      <td>10</td>\n",
       "    </tr>\n",
       "    <tr>\n",
       "      <th>rs13480652</th>\n",
       "      <td>0.790768</td>\n",
       "      <td>0.993015</td>\n",
       "      <td>False</td>\n",
       "      <td>0.230194</td>\n",
       "      <td>0.870986</td>\n",
       "      <td>False</td>\n",
       "      <td>0.958961</td>\n",
       "      <td>0.989110</td>\n",
       "      <td>False</td>\n",
       "      <td>0.085697</td>\n",
       "      <td>...</td>\n",
       "      <td>0.814523</td>\n",
       "      <td>False</td>\n",
       "      <td>0.374557</td>\n",
       "      <td>0.741119</td>\n",
       "      <td>False</td>\n",
       "      <td>0.345522</td>\n",
       "      <td>0.920235</td>\n",
       "      <td>False</td>\n",
       "      <td>74.075170</td>\n",
       "      <td>10</td>\n",
       "    </tr>\n",
       "    <tr>\n",
       "      <th>rs13480653</th>\n",
       "      <td>0.790768</td>\n",
       "      <td>0.993015</td>\n",
       "      <td>False</td>\n",
       "      <td>0.230194</td>\n",
       "      <td>0.870986</td>\n",
       "      <td>False</td>\n",
       "      <td>0.958961</td>\n",
       "      <td>0.989110</td>\n",
       "      <td>False</td>\n",
       "      <td>0.085697</td>\n",
       "      <td>...</td>\n",
       "      <td>0.814523</td>\n",
       "      <td>False</td>\n",
       "      <td>0.374557</td>\n",
       "      <td>0.741119</td>\n",
       "      <td>False</td>\n",
       "      <td>0.345522</td>\n",
       "      <td>0.920235</td>\n",
       "      <td>False</td>\n",
       "      <td>74.443968</td>\n",
       "      <td>10</td>\n",
       "    </tr>\n",
       "    <tr>\n",
       "      <th>rs3165937</th>\n",
       "      <td>0.790768</td>\n",
       "      <td>0.993015</td>\n",
       "      <td>False</td>\n",
       "      <td>0.230194</td>\n",
       "      <td>0.870986</td>\n",
       "      <td>False</td>\n",
       "      <td>0.958961</td>\n",
       "      <td>0.989110</td>\n",
       "      <td>False</td>\n",
       "      <td>0.085697</td>\n",
       "      <td>...</td>\n",
       "      <td>0.814523</td>\n",
       "      <td>False</td>\n",
       "      <td>0.374557</td>\n",
       "      <td>0.741119</td>\n",
       "      <td>False</td>\n",
       "      <td>0.345522</td>\n",
       "      <td>0.920235</td>\n",
       "      <td>False</td>\n",
       "      <td>75.305585</td>\n",
       "      <td>10</td>\n",
       "    </tr>\n",
       "    <tr>\n",
       "      <th>rs13480650</th>\n",
       "      <td>0.979545</td>\n",
       "      <td>0.994101</td>\n",
       "      <td>False</td>\n",
       "      <td>0.104055</td>\n",
       "      <td>0.686796</td>\n",
       "      <td>False</td>\n",
       "      <td>0.548223</td>\n",
       "      <td>0.958594</td>\n",
       "      <td>False</td>\n",
       "      <td>0.017421</td>\n",
       "      <td>...</td>\n",
       "      <td>0.810892</td>\n",
       "      <td>False</td>\n",
       "      <td>0.030197</td>\n",
       "      <td>0.251320</td>\n",
       "      <td>False</td>\n",
       "      <td>0.869818</td>\n",
       "      <td>0.987750</td>\n",
       "      <td>False</td>\n",
       "      <td>73.389753</td>\n",
       "      <td>10</td>\n",
       "    </tr>\n",
       "    <tr>\n",
       "      <th>rs13478175</th>\n",
       "      <td>0.485430</td>\n",
       "      <td>0.934561</td>\n",
       "      <td>False</td>\n",
       "      <td>0.253519</td>\n",
       "      <td>0.898253</td>\n",
       "      <td>False</td>\n",
       "      <td>0.743637</td>\n",
       "      <td>0.958594</td>\n",
       "      <td>False</td>\n",
       "      <td>0.863085</td>\n",
       "      <td>...</td>\n",
       "      <td>0.846535</td>\n",
       "      <td>False</td>\n",
       "      <td>0.867356</td>\n",
       "      <td>0.947761</td>\n",
       "      <td>False</td>\n",
       "      <td>0.285394</td>\n",
       "      <td>0.906483</td>\n",
       "      <td>False</td>\n",
       "      <td>33.930826</td>\n",
       "      <td>5</td>\n",
       "    </tr>\n",
       "    <tr>\n",
       "      <th>rs13478182</th>\n",
       "      <td>0.485430</td>\n",
       "      <td>0.934561</td>\n",
       "      <td>False</td>\n",
       "      <td>0.253519</td>\n",
       "      <td>0.898253</td>\n",
       "      <td>False</td>\n",
       "      <td>0.743637</td>\n",
       "      <td>0.958594</td>\n",
       "      <td>False</td>\n",
       "      <td>0.863085</td>\n",
       "      <td>...</td>\n",
       "      <td>0.846535</td>\n",
       "      <td>False</td>\n",
       "      <td>0.867356</td>\n",
       "      <td>0.947761</td>\n",
       "      <td>False</td>\n",
       "      <td>0.285394</td>\n",
       "      <td>0.906483</td>\n",
       "      <td>False</td>\n",
       "      <td>35.849412</td>\n",
       "      <td>5</td>\n",
       "    </tr>\n",
       "    <tr>\n",
       "      <th>rs13478181</th>\n",
       "      <td>0.485430</td>\n",
       "      <td>0.934561</td>\n",
       "      <td>False</td>\n",
       "      <td>0.253519</td>\n",
       "      <td>0.898253</td>\n",
       "      <td>False</td>\n",
       "      <td>0.743637</td>\n",
       "      <td>0.958594</td>\n",
       "      <td>False</td>\n",
       "      <td>0.863085</td>\n",
       "      <td>...</td>\n",
       "      <td>0.846535</td>\n",
       "      <td>False</td>\n",
       "      <td>0.867356</td>\n",
       "      <td>0.947761</td>\n",
       "      <td>False</td>\n",
       "      <td>0.285394</td>\n",
       "      <td>0.906483</td>\n",
       "      <td>False</td>\n",
       "      <td>35.542091</td>\n",
       "      <td>5</td>\n",
       "    </tr>\n",
       "    <tr>\n",
       "      <th>rs6408534</th>\n",
       "      <td>0.485430</td>\n",
       "      <td>0.934561</td>\n",
       "      <td>False</td>\n",
       "      <td>0.253519</td>\n",
       "      <td>0.898253</td>\n",
       "      <td>False</td>\n",
       "      <td>0.743637</td>\n",
       "      <td>0.958594</td>\n",
       "      <td>False</td>\n",
       "      <td>0.863085</td>\n",
       "      <td>...</td>\n",
       "      <td>0.846535</td>\n",
       "      <td>False</td>\n",
       "      <td>0.867356</td>\n",
       "      <td>0.947761</td>\n",
       "      <td>False</td>\n",
       "      <td>0.285394</td>\n",
       "      <td>0.906483</td>\n",
       "      <td>False</td>\n",
       "      <td>35.774762</td>\n",
       "      <td>5</td>\n",
       "    </tr>\n",
       "    <tr>\n",
       "      <th>rs3712063</th>\n",
       "      <td>0.630769</td>\n",
       "      <td>0.955285</td>\n",
       "      <td>False</td>\n",
       "      <td>0.613954</td>\n",
       "      <td>0.943656</td>\n",
       "      <td>False</td>\n",
       "      <td>0.694740</td>\n",
       "      <td>0.958594</td>\n",
       "      <td>False</td>\n",
       "      <td>0.216788</td>\n",
       "      <td>...</td>\n",
       "      <td>0.915686</td>\n",
       "      <td>False</td>\n",
       "      <td>0.023836</td>\n",
       "      <td>0.235649</td>\n",
       "      <td>False</td>\n",
       "      <td>0.640076</td>\n",
       "      <td>0.951690</td>\n",
       "      <td>False</td>\n",
       "      <td>67.552465</td>\n",
       "      <td>10</td>\n",
       "    </tr>\n",
       "  </tbody>\n",
       "</table>\n",
       "<p>10 rows × 158 columns</p>\n",
       "</div>"
      ],
      "text/plain": [
       "            CD_Glucose_[mmol/L]  CD_Glucose_[mmol/L] Corrected_p fdr_bh  \\\n",
       "rs13480657             0.893308                                0.993015   \n",
       "rs13480652             0.790768                                0.993015   \n",
       "rs13480653             0.790768                                0.993015   \n",
       "rs3165937              0.790768                                0.993015   \n",
       "rs13480650             0.979545                                0.994101   \n",
       "rs13478175             0.485430                                0.934561   \n",
       "rs13478182             0.485430                                0.934561   \n",
       "rs13478181             0.485430                                0.934561   \n",
       "rs6408534              0.485430                                0.934561   \n",
       "rs3712063              0.630769                                0.955285   \n",
       "\n",
       "           CD_Glucose_[mmol/L] Reject fdr_bh  HFD_Glucose_[mmol/L]  \\\n",
       "rs13480657                             False              0.300543   \n",
       "rs13480652                             False              0.230194   \n",
       "rs13480653                             False              0.230194   \n",
       "rs3165937                              False              0.230194   \n",
       "rs13480650                             False              0.104055   \n",
       "rs13478175                             False              0.253519   \n",
       "rs13478182                             False              0.253519   \n",
       "rs13478181                             False              0.253519   \n",
       "rs6408534                              False              0.253519   \n",
       "rs3712063                              False              0.613954   \n",
       "\n",
       "            HFD_Glucose_[mmol/L] Corrected_p fdr_bh  \\\n",
       "rs13480657                                 0.907868   \n",
       "rs13480652                                 0.870986   \n",
       "rs13480653                                 0.870986   \n",
       "rs3165937                                  0.870986   \n",
       "rs13480650                                 0.686796   \n",
       "rs13478175                                 0.898253   \n",
       "rs13478182                                 0.898253   \n",
       "rs13478181                                 0.898253   \n",
       "rs6408534                                  0.898253   \n",
       "rs3712063                                  0.943656   \n",
       "\n",
       "           HFD_Glucose_[mmol/L] Reject fdr_bh  CD_Cholesterol_[mmol/L]  \\\n",
       "rs13480657                              False                 0.961536   \n",
       "rs13480652                              False                 0.958961   \n",
       "rs13480653                              False                 0.958961   \n",
       "rs3165937                               False                 0.958961   \n",
       "rs13480650                              False                 0.548223   \n",
       "rs13478175                              False                 0.743637   \n",
       "rs13478182                              False                 0.743637   \n",
       "rs13478181                              False                 0.743637   \n",
       "rs6408534                               False                 0.743637   \n",
       "rs3712063                               False                 0.694740   \n",
       "\n",
       "            CD_Cholesterol_[mmol/L] Corrected_p fdr_bh  \\\n",
       "rs13480657                                    0.989649   \n",
       "rs13480652                                    0.989110   \n",
       "rs13480653                                    0.989110   \n",
       "rs3165937                                     0.989110   \n",
       "rs13480650                                    0.958594   \n",
       "rs13478175                                    0.958594   \n",
       "rs13478182                                    0.958594   \n",
       "rs13478181                                    0.958594   \n",
       "rs6408534                                     0.958594   \n",
       "rs3712063                                     0.958594   \n",
       "\n",
       "           CD_Cholesterol_[mmol/L] Reject fdr_bh  HFD_Cholesterol_[mmol/L]  \\\n",
       "rs13480657                                 False                  0.118758   \n",
       "rs13480652                                 False                  0.085697   \n",
       "rs13480653                                 False                  0.085697   \n",
       "rs3165937                                  False                  0.085697   \n",
       "rs13480650                                 False                  0.017421   \n",
       "rs13478175                                 False                  0.863085   \n",
       "rs13478182                                 False                  0.863085   \n",
       "rs13478181                                 False                  0.863085   \n",
       "rs6408534                                  False                  0.863085   \n",
       "rs3712063                                  False                  0.216788   \n",
       "\n",
       "           ...   HFD_IL6_[pg/mL] Corrected_p fdr_bh  \\\n",
       "rs13480657 ...                             0.807339   \n",
       "rs13480652 ...                             0.814523   \n",
       "rs13480653 ...                             0.814523   \n",
       "rs3165937  ...                             0.814523   \n",
       "rs13480650 ...                             0.810892   \n",
       "rs13478175 ...                             0.846535   \n",
       "rs13478182 ...                             0.846535   \n",
       "rs13478181 ...                             0.846535   \n",
       "rs6408534  ...                             0.846535   \n",
       "rs3712063  ...                             0.915686   \n",
       "\n",
       "           HFD_IL6_[pg/mL] Reject fdr_bh  HFD_IL18_[pg/mL]  \\\n",
       "rs13480657                         False          0.473691   \n",
       "rs13480652                         False          0.374557   \n",
       "rs13480653                         False          0.374557   \n",
       "rs3165937                          False          0.374557   \n",
       "rs13480650                         False          0.030197   \n",
       "rs13478175                         False          0.867356   \n",
       "rs13478182                         False          0.867356   \n",
       "rs13478181                         False          0.867356   \n",
       "rs6408534                          False          0.867356   \n",
       "rs3712063                          False          0.023836   \n",
       "\n",
       "            HFD_IL18_[pg/mL] Corrected_p fdr_bh  \\\n",
       "rs13480657                             0.825200   \n",
       "rs13480652                             0.741119   \n",
       "rs13480653                             0.741119   \n",
       "rs3165937                              0.741119   \n",
       "rs13480650                             0.251320   \n",
       "rs13478175                             0.947761   \n",
       "rs13478182                             0.947761   \n",
       "rs13478181                             0.947761   \n",
       "rs6408534                              0.947761   \n",
       "rs3712063                              0.235649   \n",
       "\n",
       "           HFD_IL18_[pg/mL] Reject fdr_bh  HFD_RANTES_[pg/mL]  \\\n",
       "rs13480657                          False            0.290060   \n",
       "rs13480652                          False            0.345522   \n",
       "rs13480653                          False            0.345522   \n",
       "rs3165937                           False            0.345522   \n",
       "rs13480650                          False            0.869818   \n",
       "rs13478175                          False            0.285394   \n",
       "rs13478182                          False            0.285394   \n",
       "rs13478181                          False            0.285394   \n",
       "rs6408534                           False            0.285394   \n",
       "rs3712063                           False            0.640076   \n",
       "\n",
       "            HFD_RANTES_[pg/mL] Corrected_p fdr_bh  \\\n",
       "rs13480657                               0.906483   \n",
       "rs13480652                               0.920235   \n",
       "rs13480653                               0.920235   \n",
       "rs3165937                                0.920235   \n",
       "rs13480650                               0.987750   \n",
       "rs13478175                               0.906483   \n",
       "rs13478182                               0.906483   \n",
       "rs13478181                               0.906483   \n",
       "rs6408534                                0.906483   \n",
       "rs3712063                                0.951690   \n",
       "\n",
       "           HFD_RANTES_[pg/mL] Reject fdr_bh         Mb  Chr  \n",
       "rs13480657                            False  76.175590   10  \n",
       "rs13480652                            False  74.075170   10  \n",
       "rs13480653                            False  74.443968   10  \n",
       "rs3165937                             False  75.305585   10  \n",
       "rs13480650                            False  73.389753   10  \n",
       "rs13478175                            False  33.930826    5  \n",
       "rs13478182                            False  35.849412    5  \n",
       "rs13478181                            False  35.542091    5  \n",
       "rs6408534                             False  35.774762    5  \n",
       "rs3712063                             False  67.552465   10  \n",
       "\n",
       "[10 rows x 158 columns]"
      ]
     },
     "execution_count": 676,
     "metadata": {},
     "output_type": "execute_result"
    }
   ],
   "source": [
    "biochem_corr.sort_values(by=\"CD_Triglycerides_[mmol/L]\").head(10)"
   ]
  },
  {
   "cell_type": "code",
   "execution_count": 649,
   "metadata": {
    "collapsed": false
   },
   "outputs": [],
   "source": [
    "results_OGTT_corrected =  MHTPearson(results_OGTT,\"fdr_bh\")"
   ]
  },
  {
   "cell_type": "code",
   "execution_count": 655,
   "metadata": {
    "collapsed": false
   },
   "outputs": [
    {
     "data": {
      "text/html": [
       "<div>\n",
       "<table border=\"1\" class=\"dataframe\">\n",
       "  <thead>\n",
       "    <tr style=\"text-align: right;\">\n",
       "      <th></th>\n",
       "      <th>CD_Glucose0min_OGTT_[mg/dL]</th>\n",
       "      <th>CD_Glucose0min_OGTT_[mg/dL] Corrected_p fdr_bh</th>\n",
       "      <th>CD_Glucose0min_OGTT_[mg/dL] Reject fdr_bh</th>\n",
       "      <th>HFD_Glucose0min_OGTT_[mg/dL]</th>\n",
       "      <th>HFD_Glucose0min_OGTT_[mg/dL] Corrected_p fdr_bh</th>\n",
       "      <th>HFD_Glucose0min_OGTT_[mg/dL] Reject fdr_bh</th>\n",
       "      <th>CD_Glucose15min_OGTT_[mg/dL]</th>\n",
       "      <th>CD_Glucose15min_OGTT_[mg/dL] Corrected_p fdr_bh</th>\n",
       "      <th>CD_Glucose15min_OGTT_[mg/dL] Reject fdr_bh</th>\n",
       "      <th>HFD_Glucose15min_OGTT_[mg/dL]</th>\n",
       "      <th>...</th>\n",
       "      <th>HFD_Glucose_Insulin_30m_OGTT[ratio] Corrected_p fdr_bh</th>\n",
       "      <th>HFD_Glucose_Insulin_30m_OGTT[ratio] Reject fdr_bh</th>\n",
       "      <th>CD_Glucose*Insulin_Fasted</th>\n",
       "      <th>CD_Glucose*Insulin_Fasted Corrected_p fdr_bh</th>\n",
       "      <th>CD_Glucose*Insulin_Fasted Reject fdr_bh</th>\n",
       "      <th>HFD_Glucose*Insulin_Fasted</th>\n",
       "      <th>HFD_Glucose*Insulin_Fasted Corrected_p fdr_bh</th>\n",
       "      <th>HFD_Glucose*Insulin_Fasted Reject fdr_bh</th>\n",
       "      <th>Mb</th>\n",
       "      <th>Chr</th>\n",
       "    </tr>\n",
       "  </thead>\n",
       "  <tbody>\n",
       "    <tr>\n",
       "      <th>rs13481752</th>\n",
       "      <td>0.305446</td>\n",
       "      <td>0.885159</td>\n",
       "      <td>False</td>\n",
       "      <td>0.012850</td>\n",
       "      <td>0.751698</td>\n",
       "      <td>False</td>\n",
       "      <td>0.727446</td>\n",
       "      <td>0.967823</td>\n",
       "      <td>False</td>\n",
       "      <td>0.312799</td>\n",
       "      <td>...</td>\n",
       "      <td>0.596462</td>\n",
       "      <td>False</td>\n",
       "      <td>0.348427</td>\n",
       "      <td>0.757072</td>\n",
       "      <td>False</td>\n",
       "      <td>0.157452</td>\n",
       "      <td>0.995952</td>\n",
       "      <td>False</td>\n",
       "      <td>34.040782</td>\n",
       "      <td>13</td>\n",
       "    </tr>\n",
       "    <tr>\n",
       "      <th>rs13481744</th>\n",
       "      <td>0.242754</td>\n",
       "      <td>0.878755</td>\n",
       "      <td>False</td>\n",
       "      <td>0.013680</td>\n",
       "      <td>0.751698</td>\n",
       "      <td>False</td>\n",
       "      <td>0.824618</td>\n",
       "      <td>0.980685</td>\n",
       "      <td>False</td>\n",
       "      <td>0.416432</td>\n",
       "      <td>...</td>\n",
       "      <td>0.596462</td>\n",
       "      <td>False</td>\n",
       "      <td>0.260722</td>\n",
       "      <td>0.720999</td>\n",
       "      <td>False</td>\n",
       "      <td>0.134966</td>\n",
       "      <td>0.995952</td>\n",
       "      <td>False</td>\n",
       "      <td>32.312268</td>\n",
       "      <td>13</td>\n",
       "    </tr>\n",
       "    <tr>\n",
       "      <th>rs13481799</th>\n",
       "      <td>0.029214</td>\n",
       "      <td>0.872976</td>\n",
       "      <td>False</td>\n",
       "      <td>0.015871</td>\n",
       "      <td>0.751698</td>\n",
       "      <td>False</td>\n",
       "      <td>0.085556</td>\n",
       "      <td>0.546256</td>\n",
       "      <td>False</td>\n",
       "      <td>0.090561</td>\n",
       "      <td>...</td>\n",
       "      <td>0.738775</td>\n",
       "      <td>False</td>\n",
       "      <td>0.116876</td>\n",
       "      <td>0.690396</td>\n",
       "      <td>False</td>\n",
       "      <td>0.007587</td>\n",
       "      <td>0.995952</td>\n",
       "      <td>False</td>\n",
       "      <td>47.055081</td>\n",
       "      <td>13</td>\n",
       "    </tr>\n",
       "    <tr>\n",
       "      <th>rs3710348</th>\n",
       "      <td>0.242754</td>\n",
       "      <td>0.878755</td>\n",
       "      <td>False</td>\n",
       "      <td>0.013680</td>\n",
       "      <td>0.751698</td>\n",
       "      <td>False</td>\n",
       "      <td>0.824618</td>\n",
       "      <td>0.980685</td>\n",
       "      <td>False</td>\n",
       "      <td>0.416432</td>\n",
       "      <td>...</td>\n",
       "      <td>0.596462</td>\n",
       "      <td>False</td>\n",
       "      <td>0.260722</td>\n",
       "      <td>0.720999</td>\n",
       "      <td>False</td>\n",
       "      <td>0.134966</td>\n",
       "      <td>0.995952</td>\n",
       "      <td>False</td>\n",
       "      <td>31.365185</td>\n",
       "      <td>13</td>\n",
       "    </tr>\n",
       "    <tr>\n",
       "      <th>rs13481740</th>\n",
       "      <td>0.202300</td>\n",
       "      <td>0.878755</td>\n",
       "      <td>False</td>\n",
       "      <td>0.014396</td>\n",
       "      <td>0.751698</td>\n",
       "      <td>False</td>\n",
       "      <td>0.853653</td>\n",
       "      <td>0.983248</td>\n",
       "      <td>False</td>\n",
       "      <td>0.422997</td>\n",
       "      <td>...</td>\n",
       "      <td>0.596462</td>\n",
       "      <td>False</td>\n",
       "      <td>0.265666</td>\n",
       "      <td>0.723518</td>\n",
       "      <td>False</td>\n",
       "      <td>0.150602</td>\n",
       "      <td>0.995952</td>\n",
       "      <td>False</td>\n",
       "      <td>30.769380</td>\n",
       "      <td>13</td>\n",
       "    </tr>\n",
       "    <tr>\n",
       "      <th>D1Mit451</th>\n",
       "      <td>0.259736</td>\n",
       "      <td>0.878755</td>\n",
       "      <td>False</td>\n",
       "      <td>0.010137</td>\n",
       "      <td>0.751698</td>\n",
       "      <td>False</td>\n",
       "      <td>0.349395</td>\n",
       "      <td>0.784147</td>\n",
       "      <td>False</td>\n",
       "      <td>0.075116</td>\n",
       "      <td>...</td>\n",
       "      <td>0.952759</td>\n",
       "      <td>False</td>\n",
       "      <td>0.854805</td>\n",
       "      <td>0.983858</td>\n",
       "      <td>False</td>\n",
       "      <td>0.328150</td>\n",
       "      <td>0.995952</td>\n",
       "      <td>False</td>\n",
       "      <td>157.809197</td>\n",
       "      <td>1</td>\n",
       "    </tr>\n",
       "    <tr>\n",
       "      <th>rs13476192</th>\n",
       "      <td>0.259736</td>\n",
       "      <td>0.878755</td>\n",
       "      <td>False</td>\n",
       "      <td>0.010137</td>\n",
       "      <td>0.751698</td>\n",
       "      <td>False</td>\n",
       "      <td>0.349395</td>\n",
       "      <td>0.784147</td>\n",
       "      <td>False</td>\n",
       "      <td>0.075116</td>\n",
       "      <td>...</td>\n",
       "      <td>0.952759</td>\n",
       "      <td>False</td>\n",
       "      <td>0.854805</td>\n",
       "      <td>0.983858</td>\n",
       "      <td>False</td>\n",
       "      <td>0.328150</td>\n",
       "      <td>0.995952</td>\n",
       "      <td>False</td>\n",
       "      <td>157.761940</td>\n",
       "      <td>1</td>\n",
       "    </tr>\n",
       "    <tr>\n",
       "      <th>gnf13.029.602</th>\n",
       "      <td>0.242754</td>\n",
       "      <td>0.878755</td>\n",
       "      <td>False</td>\n",
       "      <td>0.013680</td>\n",
       "      <td>0.751698</td>\n",
       "      <td>False</td>\n",
       "      <td>0.824618</td>\n",
       "      <td>0.980685</td>\n",
       "      <td>False</td>\n",
       "      <td>0.416432</td>\n",
       "      <td>...</td>\n",
       "      <td>0.596462</td>\n",
       "      <td>False</td>\n",
       "      <td>0.260722</td>\n",
       "      <td>0.720999</td>\n",
       "      <td>False</td>\n",
       "      <td>0.134966</td>\n",
       "      <td>0.995952</td>\n",
       "      <td>False</td>\n",
       "      <td>32.485697</td>\n",
       "      <td>13</td>\n",
       "    </tr>\n",
       "    <tr>\n",
       "      <th>rs6194543</th>\n",
       "      <td>0.259736</td>\n",
       "      <td>0.878755</td>\n",
       "      <td>False</td>\n",
       "      <td>0.010137</td>\n",
       "      <td>0.751698</td>\n",
       "      <td>False</td>\n",
       "      <td>0.349395</td>\n",
       "      <td>0.784147</td>\n",
       "      <td>False</td>\n",
       "      <td>0.075116</td>\n",
       "      <td>...</td>\n",
       "      <td>0.952759</td>\n",
       "      <td>False</td>\n",
       "      <td>0.854805</td>\n",
       "      <td>0.983858</td>\n",
       "      <td>False</td>\n",
       "      <td>0.328150</td>\n",
       "      <td>0.995952</td>\n",
       "      <td>False</td>\n",
       "      <td>157.588921</td>\n",
       "      <td>1</td>\n",
       "    </tr>\n",
       "    <tr>\n",
       "      <th>rs3724562</th>\n",
       "      <td>0.020825</td>\n",
       "      <td>0.764059</td>\n",
       "      <td>False</td>\n",
       "      <td>0.009714</td>\n",
       "      <td>0.751698</td>\n",
       "      <td>False</td>\n",
       "      <td>0.884867</td>\n",
       "      <td>0.984733</td>\n",
       "      <td>False</td>\n",
       "      <td>0.394192</td>\n",
       "      <td>...</td>\n",
       "      <td>0.719396</td>\n",
       "      <td>False</td>\n",
       "      <td>0.111243</td>\n",
       "      <td>0.690396</td>\n",
       "      <td>False</td>\n",
       "      <td>0.021505</td>\n",
       "      <td>0.995952</td>\n",
       "      <td>False</td>\n",
       "      <td>150.996553</td>\n",
       "      <td>3</td>\n",
       "    </tr>\n",
       "  </tbody>\n",
       "</table>\n",
       "<p>10 rows × 110 columns</p>\n",
       "</div>"
      ],
      "text/plain": [
       "               CD_Glucose0min_OGTT_[mg/dL]  \\\n",
       "rs13481752                        0.305446   \n",
       "rs13481744                        0.242754   \n",
       "rs13481799                        0.029214   \n",
       "rs3710348                         0.242754   \n",
       "rs13481740                        0.202300   \n",
       "D1Mit451                          0.259736   \n",
       "rs13476192                        0.259736   \n",
       "gnf13.029.602                     0.242754   \n",
       "rs6194543                         0.259736   \n",
       "rs3724562                         0.020825   \n",
       "\n",
       "               CD_Glucose0min_OGTT_[mg/dL] Corrected_p fdr_bh  \\\n",
       "rs13481752                                           0.885159   \n",
       "rs13481744                                           0.878755   \n",
       "rs13481799                                           0.872976   \n",
       "rs3710348                                            0.878755   \n",
       "rs13481740                                           0.878755   \n",
       "D1Mit451                                             0.878755   \n",
       "rs13476192                                           0.878755   \n",
       "gnf13.029.602                                        0.878755   \n",
       "rs6194543                                            0.878755   \n",
       "rs3724562                                            0.764059   \n",
       "\n",
       "              CD_Glucose0min_OGTT_[mg/dL] Reject fdr_bh  \\\n",
       "rs13481752                                        False   \n",
       "rs13481744                                        False   \n",
       "rs13481799                                        False   \n",
       "rs3710348                                         False   \n",
       "rs13481740                                        False   \n",
       "D1Mit451                                          False   \n",
       "rs13476192                                        False   \n",
       "gnf13.029.602                                     False   \n",
       "rs6194543                                         False   \n",
       "rs3724562                                         False   \n",
       "\n",
       "               HFD_Glucose0min_OGTT_[mg/dL]  \\\n",
       "rs13481752                         0.012850   \n",
       "rs13481744                         0.013680   \n",
       "rs13481799                         0.015871   \n",
       "rs3710348                          0.013680   \n",
       "rs13481740                         0.014396   \n",
       "D1Mit451                           0.010137   \n",
       "rs13476192                         0.010137   \n",
       "gnf13.029.602                      0.013680   \n",
       "rs6194543                          0.010137   \n",
       "rs3724562                          0.009714   \n",
       "\n",
       "               HFD_Glucose0min_OGTT_[mg/dL] Corrected_p fdr_bh  \\\n",
       "rs13481752                                            0.751698   \n",
       "rs13481744                                            0.751698   \n",
       "rs13481799                                            0.751698   \n",
       "rs3710348                                             0.751698   \n",
       "rs13481740                                            0.751698   \n",
       "D1Mit451                                              0.751698   \n",
       "rs13476192                                            0.751698   \n",
       "gnf13.029.602                                         0.751698   \n",
       "rs6194543                                             0.751698   \n",
       "rs3724562                                             0.751698   \n",
       "\n",
       "              HFD_Glucose0min_OGTT_[mg/dL] Reject fdr_bh  \\\n",
       "rs13481752                                         False   \n",
       "rs13481744                                         False   \n",
       "rs13481799                                         False   \n",
       "rs3710348                                          False   \n",
       "rs13481740                                         False   \n",
       "D1Mit451                                           False   \n",
       "rs13476192                                         False   \n",
       "gnf13.029.602                                      False   \n",
       "rs6194543                                          False   \n",
       "rs3724562                                          False   \n",
       "\n",
       "               CD_Glucose15min_OGTT_[mg/dL]  \\\n",
       "rs13481752                         0.727446   \n",
       "rs13481744                         0.824618   \n",
       "rs13481799                         0.085556   \n",
       "rs3710348                          0.824618   \n",
       "rs13481740                         0.853653   \n",
       "D1Mit451                           0.349395   \n",
       "rs13476192                         0.349395   \n",
       "gnf13.029.602                      0.824618   \n",
       "rs6194543                          0.349395   \n",
       "rs3724562                          0.884867   \n",
       "\n",
       "               CD_Glucose15min_OGTT_[mg/dL] Corrected_p fdr_bh  \\\n",
       "rs13481752                                            0.967823   \n",
       "rs13481744                                            0.980685   \n",
       "rs13481799                                            0.546256   \n",
       "rs3710348                                             0.980685   \n",
       "rs13481740                                            0.983248   \n",
       "D1Mit451                                              0.784147   \n",
       "rs13476192                                            0.784147   \n",
       "gnf13.029.602                                         0.980685   \n",
       "rs6194543                                             0.784147   \n",
       "rs3724562                                             0.984733   \n",
       "\n",
       "              CD_Glucose15min_OGTT_[mg/dL] Reject fdr_bh  \\\n",
       "rs13481752                                         False   \n",
       "rs13481744                                         False   \n",
       "rs13481799                                         False   \n",
       "rs3710348                                          False   \n",
       "rs13481740                                         False   \n",
       "D1Mit451                                           False   \n",
       "rs13476192                                         False   \n",
       "gnf13.029.602                                      False   \n",
       "rs6194543                                          False   \n",
       "rs3724562                                          False   \n",
       "\n",
       "               HFD_Glucose15min_OGTT_[mg/dL] ...   \\\n",
       "rs13481752                          0.312799 ...    \n",
       "rs13481744                          0.416432 ...    \n",
       "rs13481799                          0.090561 ...    \n",
       "rs3710348                           0.416432 ...    \n",
       "rs13481740                          0.422997 ...    \n",
       "D1Mit451                            0.075116 ...    \n",
       "rs13476192                          0.075116 ...    \n",
       "gnf13.029.602                       0.416432 ...    \n",
       "rs6194543                           0.075116 ...    \n",
       "rs3724562                           0.394192 ...    \n",
       "\n",
       "               HFD_Glucose_Insulin_30m_OGTT[ratio] Corrected_p fdr_bh  \\\n",
       "rs13481752                                              0.596462        \n",
       "rs13481744                                              0.596462        \n",
       "rs13481799                                              0.738775        \n",
       "rs3710348                                               0.596462        \n",
       "rs13481740                                              0.596462        \n",
       "D1Mit451                                                0.952759        \n",
       "rs13476192                                              0.952759        \n",
       "gnf13.029.602                                           0.596462        \n",
       "rs6194543                                               0.952759        \n",
       "rs3724562                                               0.719396        \n",
       "\n",
       "              HFD_Glucose_Insulin_30m_OGTT[ratio] Reject fdr_bh  \\\n",
       "rs13481752                                                False   \n",
       "rs13481744                                                False   \n",
       "rs13481799                                                False   \n",
       "rs3710348                                                 False   \n",
       "rs13481740                                                False   \n",
       "D1Mit451                                                  False   \n",
       "rs13476192                                                False   \n",
       "gnf13.029.602                                             False   \n",
       "rs6194543                                                 False   \n",
       "rs3724562                                                 False   \n",
       "\n",
       "               CD_Glucose*Insulin_Fasted  \\\n",
       "rs13481752                      0.348427   \n",
       "rs13481744                      0.260722   \n",
       "rs13481799                      0.116876   \n",
       "rs3710348                       0.260722   \n",
       "rs13481740                      0.265666   \n",
       "D1Mit451                        0.854805   \n",
       "rs13476192                      0.854805   \n",
       "gnf13.029.602                   0.260722   \n",
       "rs6194543                       0.854805   \n",
       "rs3724562                       0.111243   \n",
       "\n",
       "               CD_Glucose*Insulin_Fasted Corrected_p fdr_bh  \\\n",
       "rs13481752                                         0.757072   \n",
       "rs13481744                                         0.720999   \n",
       "rs13481799                                         0.690396   \n",
       "rs3710348                                          0.720999   \n",
       "rs13481740                                         0.723518   \n",
       "D1Mit451                                           0.983858   \n",
       "rs13476192                                         0.983858   \n",
       "gnf13.029.602                                      0.720999   \n",
       "rs6194543                                          0.983858   \n",
       "rs3724562                                          0.690396   \n",
       "\n",
       "              CD_Glucose*Insulin_Fasted Reject fdr_bh  \\\n",
       "rs13481752                                      False   \n",
       "rs13481744                                      False   \n",
       "rs13481799                                      False   \n",
       "rs3710348                                       False   \n",
       "rs13481740                                      False   \n",
       "D1Mit451                                        False   \n",
       "rs13476192                                      False   \n",
       "gnf13.029.602                                   False   \n",
       "rs6194543                                       False   \n",
       "rs3724562                                       False   \n",
       "\n",
       "               HFD_Glucose*Insulin_Fasted  \\\n",
       "rs13481752                       0.157452   \n",
       "rs13481744                       0.134966   \n",
       "rs13481799                       0.007587   \n",
       "rs3710348                        0.134966   \n",
       "rs13481740                       0.150602   \n",
       "D1Mit451                         0.328150   \n",
       "rs13476192                       0.328150   \n",
       "gnf13.029.602                    0.134966   \n",
       "rs6194543                        0.328150   \n",
       "rs3724562                        0.021505   \n",
       "\n",
       "               HFD_Glucose*Insulin_Fasted Corrected_p fdr_bh  \\\n",
       "rs13481752                                          0.995952   \n",
       "rs13481744                                          0.995952   \n",
       "rs13481799                                          0.995952   \n",
       "rs3710348                                           0.995952   \n",
       "rs13481740                                          0.995952   \n",
       "D1Mit451                                            0.995952   \n",
       "rs13476192                                          0.995952   \n",
       "gnf13.029.602                                       0.995952   \n",
       "rs6194543                                           0.995952   \n",
       "rs3724562                                           0.995952   \n",
       "\n",
       "              HFD_Glucose*Insulin_Fasted Reject fdr_bh          Mb  Chr  \n",
       "rs13481752                                       False   34.040782   13  \n",
       "rs13481744                                       False   32.312268   13  \n",
       "rs13481799                                       False   47.055081   13  \n",
       "rs3710348                                        False   31.365185   13  \n",
       "rs13481740                                       False   30.769380   13  \n",
       "D1Mit451                                         False  157.809197    1  \n",
       "rs13476192                                       False  157.761940    1  \n",
       "gnf13.029.602                                    False   32.485697   13  \n",
       "rs6194543                                        False  157.588921    1  \n",
       "rs3724562                                        False  150.996553    3  \n",
       "\n",
       "[10 rows x 110 columns]"
      ]
     },
     "execution_count": 655,
     "metadata": {},
     "output_type": "execute_result"
    }
   ],
   "source": [
    "results_OGTT_corrected.sort_values(by=\"HFD_Glucose0min_OGTT_[mg/dL] Corrected_p fdr_bh\").head(10)"
   ]
  },
  {
   "cell_type": "code",
   "execution_count": 574,
   "metadata": {
    "collapsed": false
   },
   "outputs": [],
   "source": [
    "results_NIBP = associationTests(geno,phenotype_spread,\"NIBP\")"
   ]
  },
  {
   "cell_type": "code",
   "execution_count": 598,
   "metadata": {
    "collapsed": false
   },
   "outputs": [],
   "source": [
    "corrected = MHTPearson(results_NIBP,\"fdr_bh\")"
   ]
  },
  {
   "cell_type": "code",
   "execution_count": 632,
   "metadata": {
    "collapsed": false
   },
   "outputs": [
    {
     "data": {
      "text/html": [
       "<div>\n",
       "<table border=\"1\" class=\"dataframe\">\n",
       "  <thead>\n",
       "    <tr style=\"text-align: right;\">\n",
       "      <th></th>\n",
       "      <th>CD_DiastolicBP_NIBP_[mmHg]</th>\n",
       "      <th>CD_DiastolicBP_NIBP_[mmHg] Corrected_p fdr_bh</th>\n",
       "      <th>CD_DiastolicBP_NIBP_[mmHg] Reject fdr_bh</th>\n",
       "      <th>HFD_DiastolicBP_NIBP_[mmHg]</th>\n",
       "      <th>HFD_DiastolicBP_NIBP_[mmHg] Corrected_p fdr_bh</th>\n",
       "      <th>HFD_DiastolicBP_NIBP_[mmHg] Reject fdr_bh</th>\n",
       "      <th>CD_SystolicBP_NIBP_[mmHg]</th>\n",
       "      <th>CD_SystolicBP_NIBP_[mmHg] Corrected_p fdr_bh</th>\n",
       "      <th>CD_SystolicBP_NIBP_[mmHg] Reject fdr_bh</th>\n",
       "      <th>HFD_SystolicBP_NIBP_[mmHg]</th>\n",
       "      <th>HFD_SystolicBP_NIBP_[mmHg] Corrected_p fdr_bh</th>\n",
       "      <th>HFD_SystolicBP_NIBP_[mmHg] Reject fdr_bh</th>\n",
       "      <th>CD_HeartRate_NIBP_[bpm]</th>\n",
       "      <th>CD_HeartRate_NIBP_[bpm] Corrected_p fdr_bh</th>\n",
       "      <th>CD_HeartRate_NIBP_[bpm] Reject fdr_bh</th>\n",
       "      <th>HFD_HeartRate_NIBP_[bpm]</th>\n",
       "      <th>HFD_HeartRate_NIBP_[bpm] Corrected_p fdr_bh</th>\n",
       "      <th>HFD_HeartRate_NIBP_[bpm] Reject fdr_bh</th>\n",
       "      <th>Mb</th>\n",
       "      <th>Chr</th>\n",
       "    </tr>\n",
       "  </thead>\n",
       "  <tbody>\n",
       "    <tr>\n",
       "      <th>rs13478438</th>\n",
       "      <td>0.000024</td>\n",
       "      <td>0.030991</td>\n",
       "      <td>True</td>\n",
       "      <td>0.296422</td>\n",
       "      <td>0.697988</td>\n",
       "      <td>False</td>\n",
       "      <td>0.000215</td>\n",
       "      <td>0.279810</td>\n",
       "      <td>False</td>\n",
       "      <td>0.968608</td>\n",
       "      <td>0.995876</td>\n",
       "      <td>False</td>\n",
       "      <td>0.641179</td>\n",
       "      <td>0.998274</td>\n",
       "      <td>False</td>\n",
       "      <td>0.960533</td>\n",
       "      <td>0.996031</td>\n",
       "      <td>False</td>\n",
       "      <td>105.967615</td>\n",
       "      <td>5</td>\n",
       "    </tr>\n",
       "    <tr>\n",
       "      <th>rs13478434</th>\n",
       "      <td>0.000024</td>\n",
       "      <td>0.030991</td>\n",
       "      <td>True</td>\n",
       "      <td>0.296422</td>\n",
       "      <td>0.697988</td>\n",
       "      <td>False</td>\n",
       "      <td>0.000215</td>\n",
       "      <td>0.279810</td>\n",
       "      <td>False</td>\n",
       "      <td>0.968608</td>\n",
       "      <td>0.995876</td>\n",
       "      <td>False</td>\n",
       "      <td>0.641179</td>\n",
       "      <td>0.998274</td>\n",
       "      <td>False</td>\n",
       "      <td>0.960533</td>\n",
       "      <td>0.996031</td>\n",
       "      <td>False</td>\n",
       "      <td>104.572763</td>\n",
       "      <td>5</td>\n",
       "    </tr>\n",
       "    <tr>\n",
       "      <th>rs3708061</th>\n",
       "      <td>0.000115</td>\n",
       "      <td>0.049796</td>\n",
       "      <td>True</td>\n",
       "      <td>0.000051</td>\n",
       "      <td>0.029777</td>\n",
       "      <td>True</td>\n",
       "      <td>0.001110</td>\n",
       "      <td>0.322379</td>\n",
       "      <td>False</td>\n",
       "      <td>0.032330</td>\n",
       "      <td>0.580826</td>\n",
       "      <td>False</td>\n",
       "      <td>0.014183</td>\n",
       "      <td>0.527729</td>\n",
       "      <td>False</td>\n",
       "      <td>0.013951</td>\n",
       "      <td>0.567842</td>\n",
       "      <td>False</td>\n",
       "      <td>80.950126</td>\n",
       "      <td>4</td>\n",
       "    </tr>\n",
       "    <tr>\n",
       "      <th>rs13477796</th>\n",
       "      <td>0.000115</td>\n",
       "      <td>0.049796</td>\n",
       "      <td>True</td>\n",
       "      <td>0.000051</td>\n",
       "      <td>0.029777</td>\n",
       "      <td>True</td>\n",
       "      <td>0.001110</td>\n",
       "      <td>0.322379</td>\n",
       "      <td>False</td>\n",
       "      <td>0.032330</td>\n",
       "      <td>0.580826</td>\n",
       "      <td>False</td>\n",
       "      <td>0.014183</td>\n",
       "      <td>0.527729</td>\n",
       "      <td>False</td>\n",
       "      <td>0.013951</td>\n",
       "      <td>0.567842</td>\n",
       "      <td>False</td>\n",
       "      <td>78.698063</td>\n",
       "      <td>4</td>\n",
       "    </tr>\n",
       "    <tr>\n",
       "      <th>rs3658567</th>\n",
       "      <td>0.000115</td>\n",
       "      <td>0.049796</td>\n",
       "      <td>True</td>\n",
       "      <td>0.000051</td>\n",
       "      <td>0.029777</td>\n",
       "      <td>True</td>\n",
       "      <td>0.001110</td>\n",
       "      <td>0.322379</td>\n",
       "      <td>False</td>\n",
       "      <td>0.032330</td>\n",
       "      <td>0.580826</td>\n",
       "      <td>False</td>\n",
       "      <td>0.014183</td>\n",
       "      <td>0.527729</td>\n",
       "      <td>False</td>\n",
       "      <td>0.013951</td>\n",
       "      <td>0.567842</td>\n",
       "      <td>False</td>\n",
       "      <td>76.484833</td>\n",
       "      <td>4</td>\n",
       "    </tr>\n",
       "    <tr>\n",
       "      <th>rs13477785</th>\n",
       "      <td>0.000115</td>\n",
       "      <td>0.049796</td>\n",
       "      <td>True</td>\n",
       "      <td>0.000051</td>\n",
       "      <td>0.029777</td>\n",
       "      <td>True</td>\n",
       "      <td>0.001110</td>\n",
       "      <td>0.322379</td>\n",
       "      <td>False</td>\n",
       "      <td>0.032330</td>\n",
       "      <td>0.580826</td>\n",
       "      <td>False</td>\n",
       "      <td>0.014183</td>\n",
       "      <td>0.527729</td>\n",
       "      <td>False</td>\n",
       "      <td>0.013951</td>\n",
       "      <td>0.567842</td>\n",
       "      <td>False</td>\n",
       "      <td>75.774916</td>\n",
       "      <td>4</td>\n",
       "    </tr>\n",
       "    <tr>\n",
       "      <th>rs13481905</th>\n",
       "      <td>0.000966</td>\n",
       "      <td>0.131640</td>\n",
       "      <td>False</td>\n",
       "      <td>0.168099</td>\n",
       "      <td>0.539687</td>\n",
       "      <td>False</td>\n",
       "      <td>0.005072</td>\n",
       "      <td>0.322379</td>\n",
       "      <td>False</td>\n",
       "      <td>0.405771</td>\n",
       "      <td>0.853206</td>\n",
       "      <td>False</td>\n",
       "      <td>0.595420</td>\n",
       "      <td>0.998274</td>\n",
       "      <td>False</td>\n",
       "      <td>0.562864</td>\n",
       "      <td>0.991948</td>\n",
       "      <td>False</td>\n",
       "      <td>81.246253</td>\n",
       "      <td>13</td>\n",
       "    </tr>\n",
       "    <tr>\n",
       "      <th>rs3722797</th>\n",
       "      <td>0.000413</td>\n",
       "      <td>0.131640</td>\n",
       "      <td>False</td>\n",
       "      <td>0.099919</td>\n",
       "      <td>0.465382</td>\n",
       "      <td>False</td>\n",
       "      <td>0.003590</td>\n",
       "      <td>0.322379</td>\n",
       "      <td>False</td>\n",
       "      <td>0.328815</td>\n",
       "      <td>0.842871</td>\n",
       "      <td>False</td>\n",
       "      <td>0.848782</td>\n",
       "      <td>0.998274</td>\n",
       "      <td>False</td>\n",
       "      <td>0.408364</td>\n",
       "      <td>0.991948</td>\n",
       "      <td>False</td>\n",
       "      <td>81.063897</td>\n",
       "      <td>13</td>\n",
       "    </tr>\n",
       "    <tr>\n",
       "      <th>rs3702220</th>\n",
       "      <td>0.000487</td>\n",
       "      <td>0.131640</td>\n",
       "      <td>False</td>\n",
       "      <td>0.050302</td>\n",
       "      <td>0.396893</td>\n",
       "      <td>False</td>\n",
       "      <td>0.001250</td>\n",
       "      <td>0.322379</td>\n",
       "      <td>False</td>\n",
       "      <td>0.156968</td>\n",
       "      <td>0.748522</td>\n",
       "      <td>False</td>\n",
       "      <td>0.733351</td>\n",
       "      <td>0.998274</td>\n",
       "      <td>False</td>\n",
       "      <td>0.425009</td>\n",
       "      <td>0.991948</td>\n",
       "      <td>False</td>\n",
       "      <td>80.877110</td>\n",
       "      <td>13</td>\n",
       "    </tr>\n",
       "    <tr>\n",
       "      <th>rs13481896</th>\n",
       "      <td>0.000487</td>\n",
       "      <td>0.131640</td>\n",
       "      <td>False</td>\n",
       "      <td>0.050302</td>\n",
       "      <td>0.396893</td>\n",
       "      <td>False</td>\n",
       "      <td>0.001250</td>\n",
       "      <td>0.322379</td>\n",
       "      <td>False</td>\n",
       "      <td>0.156968</td>\n",
       "      <td>0.748522</td>\n",
       "      <td>False</td>\n",
       "      <td>0.733351</td>\n",
       "      <td>0.998274</td>\n",
       "      <td>False</td>\n",
       "      <td>0.425009</td>\n",
       "      <td>0.991948</td>\n",
       "      <td>False</td>\n",
       "      <td>78.414571</td>\n",
       "      <td>13</td>\n",
       "    </tr>\n",
       "  </tbody>\n",
       "</table>\n",
       "</div>"
      ],
      "text/plain": [
       "            CD_DiastolicBP_NIBP_[mmHg]  \\\n",
       "rs13478438                    0.000024   \n",
       "rs13478434                    0.000024   \n",
       "rs3708061                     0.000115   \n",
       "rs13477796                    0.000115   \n",
       "rs3658567                     0.000115   \n",
       "rs13477785                    0.000115   \n",
       "rs13481905                    0.000966   \n",
       "rs3722797                     0.000413   \n",
       "rs3702220                     0.000487   \n",
       "rs13481896                    0.000487   \n",
       "\n",
       "            CD_DiastolicBP_NIBP_[mmHg] Corrected_p fdr_bh  \\\n",
       "rs13478438                                       0.030991   \n",
       "rs13478434                                       0.030991   \n",
       "rs3708061                                        0.049796   \n",
       "rs13477796                                       0.049796   \n",
       "rs3658567                                        0.049796   \n",
       "rs13477785                                       0.049796   \n",
       "rs13481905                                       0.131640   \n",
       "rs3722797                                        0.131640   \n",
       "rs3702220                                        0.131640   \n",
       "rs13481896                                       0.131640   \n",
       "\n",
       "           CD_DiastolicBP_NIBP_[mmHg] Reject fdr_bh  \\\n",
       "rs13478438                                     True   \n",
       "rs13478434                                     True   \n",
       "rs3708061                                      True   \n",
       "rs13477796                                     True   \n",
       "rs3658567                                      True   \n",
       "rs13477785                                     True   \n",
       "rs13481905                                    False   \n",
       "rs3722797                                     False   \n",
       "rs3702220                                     False   \n",
       "rs13481896                                    False   \n",
       "\n",
       "            HFD_DiastolicBP_NIBP_[mmHg]  \\\n",
       "rs13478438                     0.296422   \n",
       "rs13478434                     0.296422   \n",
       "rs3708061                      0.000051   \n",
       "rs13477796                     0.000051   \n",
       "rs3658567                      0.000051   \n",
       "rs13477785                     0.000051   \n",
       "rs13481905                     0.168099   \n",
       "rs3722797                      0.099919   \n",
       "rs3702220                      0.050302   \n",
       "rs13481896                     0.050302   \n",
       "\n",
       "            HFD_DiastolicBP_NIBP_[mmHg] Corrected_p fdr_bh  \\\n",
       "rs13478438                                        0.697988   \n",
       "rs13478434                                        0.697988   \n",
       "rs3708061                                         0.029777   \n",
       "rs13477796                                        0.029777   \n",
       "rs3658567                                         0.029777   \n",
       "rs13477785                                        0.029777   \n",
       "rs13481905                                        0.539687   \n",
       "rs3722797                                         0.465382   \n",
       "rs3702220                                         0.396893   \n",
       "rs13481896                                        0.396893   \n",
       "\n",
       "           HFD_DiastolicBP_NIBP_[mmHg] Reject fdr_bh  \\\n",
       "rs13478438                                     False   \n",
       "rs13478434                                     False   \n",
       "rs3708061                                       True   \n",
       "rs13477796                                      True   \n",
       "rs3658567                                       True   \n",
       "rs13477785                                      True   \n",
       "rs13481905                                     False   \n",
       "rs3722797                                      False   \n",
       "rs3702220                                      False   \n",
       "rs13481896                                     False   \n",
       "\n",
       "            CD_SystolicBP_NIBP_[mmHg]  \\\n",
       "rs13478438                   0.000215   \n",
       "rs13478434                   0.000215   \n",
       "rs3708061                    0.001110   \n",
       "rs13477796                   0.001110   \n",
       "rs3658567                    0.001110   \n",
       "rs13477785                   0.001110   \n",
       "rs13481905                   0.005072   \n",
       "rs3722797                    0.003590   \n",
       "rs3702220                    0.001250   \n",
       "rs13481896                   0.001250   \n",
       "\n",
       "            CD_SystolicBP_NIBP_[mmHg] Corrected_p fdr_bh  \\\n",
       "rs13478438                                      0.279810   \n",
       "rs13478434                                      0.279810   \n",
       "rs3708061                                       0.322379   \n",
       "rs13477796                                      0.322379   \n",
       "rs3658567                                       0.322379   \n",
       "rs13477785                                      0.322379   \n",
       "rs13481905                                      0.322379   \n",
       "rs3722797                                       0.322379   \n",
       "rs3702220                                       0.322379   \n",
       "rs13481896                                      0.322379   \n",
       "\n",
       "           CD_SystolicBP_NIBP_[mmHg] Reject fdr_bh  \\\n",
       "rs13478438                                   False   \n",
       "rs13478434                                   False   \n",
       "rs3708061                                    False   \n",
       "rs13477796                                   False   \n",
       "rs3658567                                    False   \n",
       "rs13477785                                   False   \n",
       "rs13481905                                   False   \n",
       "rs3722797                                    False   \n",
       "rs3702220                                    False   \n",
       "rs13481896                                   False   \n",
       "\n",
       "            HFD_SystolicBP_NIBP_[mmHg]  \\\n",
       "rs13478438                    0.968608   \n",
       "rs13478434                    0.968608   \n",
       "rs3708061                     0.032330   \n",
       "rs13477796                    0.032330   \n",
       "rs3658567                     0.032330   \n",
       "rs13477785                    0.032330   \n",
       "rs13481905                    0.405771   \n",
       "rs3722797                     0.328815   \n",
       "rs3702220                     0.156968   \n",
       "rs13481896                    0.156968   \n",
       "\n",
       "            HFD_SystolicBP_NIBP_[mmHg] Corrected_p fdr_bh  \\\n",
       "rs13478438                                       0.995876   \n",
       "rs13478434                                       0.995876   \n",
       "rs3708061                                        0.580826   \n",
       "rs13477796                                       0.580826   \n",
       "rs3658567                                        0.580826   \n",
       "rs13477785                                       0.580826   \n",
       "rs13481905                                       0.853206   \n",
       "rs3722797                                        0.842871   \n",
       "rs3702220                                        0.748522   \n",
       "rs13481896                                       0.748522   \n",
       "\n",
       "           HFD_SystolicBP_NIBP_[mmHg] Reject fdr_bh  CD_HeartRate_NIBP_[bpm]  \\\n",
       "rs13478438                                    False                 0.641179   \n",
       "rs13478434                                    False                 0.641179   \n",
       "rs3708061                                     False                 0.014183   \n",
       "rs13477796                                    False                 0.014183   \n",
       "rs3658567                                     False                 0.014183   \n",
       "rs13477785                                    False                 0.014183   \n",
       "rs13481905                                    False                 0.595420   \n",
       "rs3722797                                     False                 0.848782   \n",
       "rs3702220                                     False                 0.733351   \n",
       "rs13481896                                    False                 0.733351   \n",
       "\n",
       "            CD_HeartRate_NIBP_[bpm] Corrected_p fdr_bh  \\\n",
       "rs13478438                                    0.998274   \n",
       "rs13478434                                    0.998274   \n",
       "rs3708061                                     0.527729   \n",
       "rs13477796                                    0.527729   \n",
       "rs3658567                                     0.527729   \n",
       "rs13477785                                    0.527729   \n",
       "rs13481905                                    0.998274   \n",
       "rs3722797                                     0.998274   \n",
       "rs3702220                                     0.998274   \n",
       "rs13481896                                    0.998274   \n",
       "\n",
       "           CD_HeartRate_NIBP_[bpm] Reject fdr_bh  HFD_HeartRate_NIBP_[bpm]  \\\n",
       "rs13478438                                 False                  0.960533   \n",
       "rs13478434                                 False                  0.960533   \n",
       "rs3708061                                  False                  0.013951   \n",
       "rs13477796                                 False                  0.013951   \n",
       "rs3658567                                  False                  0.013951   \n",
       "rs13477785                                 False                  0.013951   \n",
       "rs13481905                                 False                  0.562864   \n",
       "rs3722797                                  False                  0.408364   \n",
       "rs3702220                                  False                  0.425009   \n",
       "rs13481896                                 False                  0.425009   \n",
       "\n",
       "            HFD_HeartRate_NIBP_[bpm] Corrected_p fdr_bh  \\\n",
       "rs13478438                                     0.996031   \n",
       "rs13478434                                     0.996031   \n",
       "rs3708061                                      0.567842   \n",
       "rs13477796                                     0.567842   \n",
       "rs3658567                                      0.567842   \n",
       "rs13477785                                     0.567842   \n",
       "rs13481905                                     0.991948   \n",
       "rs3722797                                      0.991948   \n",
       "rs3702220                                      0.991948   \n",
       "rs13481896                                     0.991948   \n",
       "\n",
       "           HFD_HeartRate_NIBP_[bpm] Reject fdr_bh          Mb Chr  \n",
       "rs13478438                                  False  105.967615   5  \n",
       "rs13478434                                  False  104.572763   5  \n",
       "rs3708061                                   False   80.950126   4  \n",
       "rs13477796                                  False   78.698063   4  \n",
       "rs3658567                                   False   76.484833   4  \n",
       "rs13477785                                  False   75.774916   4  \n",
       "rs13481905                                  False   81.246253  13  \n",
       "rs3722797                                   False   81.063897  13  \n",
       "rs3702220                                   False   80.877110  13  \n",
       "rs13481896                                  False   78.414571  13  "
      ]
     },
     "execution_count": 632,
     "metadata": {},
     "output_type": "execute_result"
    }
   ],
   "source": [
    "corrected.sort_values(by=\"CD_DiastolicBP_NIBP_[mmHg] Corrected_p fdr_bh\").head(10)"
   ]
  },
  {
   "cell_type": "code",
   "execution_count": 633,
   "metadata": {
    "collapsed": false,
    "run_control": {
     "frozen": false,
     "read_only": false
    },
    "scrolled": false
   },
   "outputs": [
    {
     "data": {
      "text/html": [
       "<div>\n",
       "<table border=\"1\" class=\"dataframe\">\n",
       "  <thead>\n",
       "    <tr style=\"text-align: right;\">\n",
       "      <th></th>\n",
       "      <th>CD_DiastolicBP_NIBP_[mmHg]</th>\n",
       "      <th>CD_DiastolicBP_NIBP_[mmHg] Corrected_p fdr_bh</th>\n",
       "      <th>CD_DiastolicBP_NIBP_[mmHg] Reject fdr_bh</th>\n",
       "      <th>HFD_DiastolicBP_NIBP_[mmHg]</th>\n",
       "      <th>HFD_DiastolicBP_NIBP_[mmHg] Corrected_p fdr_bh</th>\n",
       "      <th>HFD_DiastolicBP_NIBP_[mmHg] Reject fdr_bh</th>\n",
       "      <th>CD_SystolicBP_NIBP_[mmHg]</th>\n",
       "      <th>CD_SystolicBP_NIBP_[mmHg] Corrected_p fdr_bh</th>\n",
       "      <th>CD_SystolicBP_NIBP_[mmHg] Reject fdr_bh</th>\n",
       "      <th>HFD_SystolicBP_NIBP_[mmHg]</th>\n",
       "      <th>HFD_SystolicBP_NIBP_[mmHg] Corrected_p fdr_bh</th>\n",
       "      <th>HFD_SystolicBP_NIBP_[mmHg] Reject fdr_bh</th>\n",
       "      <th>CD_HeartRate_NIBP_[bpm]</th>\n",
       "      <th>CD_HeartRate_NIBP_[bpm] Corrected_p fdr_bh</th>\n",
       "      <th>CD_HeartRate_NIBP_[bpm] Reject fdr_bh</th>\n",
       "      <th>HFD_HeartRate_NIBP_[bpm]</th>\n",
       "      <th>HFD_HeartRate_NIBP_[bpm] Corrected_p fdr_bh</th>\n",
       "      <th>HFD_HeartRate_NIBP_[bpm] Reject fdr_bh</th>\n",
       "      <th>Mb</th>\n",
       "      <th>Chr</th>\n",
       "    </tr>\n",
       "  </thead>\n",
       "  <tbody>\n",
       "    <tr>\n",
       "      <th>rs3658567</th>\n",
       "      <td>0.000115</td>\n",
       "      <td>0.049796</td>\n",
       "      <td>True</td>\n",
       "      <td>0.000051</td>\n",
       "      <td>0.029777</td>\n",
       "      <td>True</td>\n",
       "      <td>0.001110</td>\n",
       "      <td>0.322379</td>\n",
       "      <td>False</td>\n",
       "      <td>0.032330</td>\n",
       "      <td>0.580826</td>\n",
       "      <td>False</td>\n",
       "      <td>0.014183</td>\n",
       "      <td>0.527729</td>\n",
       "      <td>False</td>\n",
       "      <td>0.013951</td>\n",
       "      <td>0.567842</td>\n",
       "      <td>False</td>\n",
       "      <td>76.484833</td>\n",
       "      <td>4</td>\n",
       "    </tr>\n",
       "    <tr>\n",
       "      <th>rs13477785</th>\n",
       "      <td>0.000115</td>\n",
       "      <td>0.049796</td>\n",
       "      <td>True</td>\n",
       "      <td>0.000051</td>\n",
       "      <td>0.029777</td>\n",
       "      <td>True</td>\n",
       "      <td>0.001110</td>\n",
       "      <td>0.322379</td>\n",
       "      <td>False</td>\n",
       "      <td>0.032330</td>\n",
       "      <td>0.580826</td>\n",
       "      <td>False</td>\n",
       "      <td>0.014183</td>\n",
       "      <td>0.527729</td>\n",
       "      <td>False</td>\n",
       "      <td>0.013951</td>\n",
       "      <td>0.567842</td>\n",
       "      <td>False</td>\n",
       "      <td>75.774916</td>\n",
       "      <td>4</td>\n",
       "    </tr>\n",
       "    <tr>\n",
       "      <th>rs13477796</th>\n",
       "      <td>0.000115</td>\n",
       "      <td>0.049796</td>\n",
       "      <td>True</td>\n",
       "      <td>0.000051</td>\n",
       "      <td>0.029777</td>\n",
       "      <td>True</td>\n",
       "      <td>0.001110</td>\n",
       "      <td>0.322379</td>\n",
       "      <td>False</td>\n",
       "      <td>0.032330</td>\n",
       "      <td>0.580826</td>\n",
       "      <td>False</td>\n",
       "      <td>0.014183</td>\n",
       "      <td>0.527729</td>\n",
       "      <td>False</td>\n",
       "      <td>0.013951</td>\n",
       "      <td>0.567842</td>\n",
       "      <td>False</td>\n",
       "      <td>78.698063</td>\n",
       "      <td>4</td>\n",
       "    </tr>\n",
       "    <tr>\n",
       "      <th>rs3708061</th>\n",
       "      <td>0.000115</td>\n",
       "      <td>0.049796</td>\n",
       "      <td>True</td>\n",
       "      <td>0.000051</td>\n",
       "      <td>0.029777</td>\n",
       "      <td>True</td>\n",
       "      <td>0.001110</td>\n",
       "      <td>0.322379</td>\n",
       "      <td>False</td>\n",
       "      <td>0.032330</td>\n",
       "      <td>0.580826</td>\n",
       "      <td>False</td>\n",
       "      <td>0.014183</td>\n",
       "      <td>0.527729</td>\n",
       "      <td>False</td>\n",
       "      <td>0.013951</td>\n",
       "      <td>0.567842</td>\n",
       "      <td>False</td>\n",
       "      <td>80.950126</td>\n",
       "      <td>4</td>\n",
       "    </tr>\n",
       "    <tr>\n",
       "      <th>rs13477804</th>\n",
       "      <td>0.001769</td>\n",
       "      <td>0.131640</td>\n",
       "      <td>False</td>\n",
       "      <td>0.000089</td>\n",
       "      <td>0.029777</td>\n",
       "      <td>True</td>\n",
       "      <td>0.005571</td>\n",
       "      <td>0.322379</td>\n",
       "      <td>False</td>\n",
       "      <td>0.039017</td>\n",
       "      <td>0.606654</td>\n",
       "      <td>False</td>\n",
       "      <td>0.007225</td>\n",
       "      <td>0.448110</td>\n",
       "      <td>False</td>\n",
       "      <td>0.007206</td>\n",
       "      <td>0.481379</td>\n",
       "      <td>False</td>\n",
       "      <td>81.604580</td>\n",
       "      <td>4</td>\n",
       "    </tr>\n",
       "    <tr>\n",
       "      <th>rs13477805</th>\n",
       "      <td>0.001769</td>\n",
       "      <td>0.131640</td>\n",
       "      <td>False</td>\n",
       "      <td>0.000089</td>\n",
       "      <td>0.029777</td>\n",
       "      <td>True</td>\n",
       "      <td>0.005571</td>\n",
       "      <td>0.322379</td>\n",
       "      <td>False</td>\n",
       "      <td>0.039017</td>\n",
       "      <td>0.606654</td>\n",
       "      <td>False</td>\n",
       "      <td>0.007225</td>\n",
       "      <td>0.448110</td>\n",
       "      <td>False</td>\n",
       "      <td>0.007206</td>\n",
       "      <td>0.481379</td>\n",
       "      <td>False</td>\n",
       "      <td>81.934379</td>\n",
       "      <td>4</td>\n",
       "    </tr>\n",
       "    <tr>\n",
       "      <th>CEL-4_72665819</th>\n",
       "      <td>0.006786</td>\n",
       "      <td>0.217431</td>\n",
       "      <td>False</td>\n",
       "      <td>0.000114</td>\n",
       "      <td>0.029777</td>\n",
       "      <td>True</td>\n",
       "      <td>0.020073</td>\n",
       "      <td>0.370846</td>\n",
       "      <td>False</td>\n",
       "      <td>0.017976</td>\n",
       "      <td>0.521784</td>\n",
       "      <td>False</td>\n",
       "      <td>0.077183</td>\n",
       "      <td>0.718484</td>\n",
       "      <td>False</td>\n",
       "      <td>0.077429</td>\n",
       "      <td>0.690329</td>\n",
       "      <td>False</td>\n",
       "      <td>74.037476</td>\n",
       "      <td>4</td>\n",
       "    </tr>\n",
       "    <tr>\n",
       "      <th>gnf04.071.066</th>\n",
       "      <td>0.006786</td>\n",
       "      <td>0.217431</td>\n",
       "      <td>False</td>\n",
       "      <td>0.000114</td>\n",
       "      <td>0.029777</td>\n",
       "      <td>True</td>\n",
       "      <td>0.020073</td>\n",
       "      <td>0.370846</td>\n",
       "      <td>False</td>\n",
       "      <td>0.017976</td>\n",
       "      <td>0.521784</td>\n",
       "      <td>False</td>\n",
       "      <td>0.077183</td>\n",
       "      <td>0.718484</td>\n",
       "      <td>False</td>\n",
       "      <td>0.077429</td>\n",
       "      <td>0.690329</td>\n",
       "      <td>False</td>\n",
       "      <td>75.249698</td>\n",
       "      <td>4</td>\n",
       "    </tr>\n",
       "    <tr>\n",
       "      <th>rs13477825</th>\n",
       "      <td>0.004983</td>\n",
       "      <td>0.180694</td>\n",
       "      <td>False</td>\n",
       "      <td>0.000101</td>\n",
       "      <td>0.029777</td>\n",
       "      <td>True</td>\n",
       "      <td>0.009172</td>\n",
       "      <td>0.322379</td>\n",
       "      <td>False</td>\n",
       "      <td>0.023762</td>\n",
       "      <td>0.578516</td>\n",
       "      <td>False</td>\n",
       "      <td>0.001213</td>\n",
       "      <td>0.386880</td>\n",
       "      <td>False</td>\n",
       "      <td>0.001173</td>\n",
       "      <td>0.381829</td>\n",
       "      <td>False</td>\n",
       "      <td>87.106964</td>\n",
       "      <td>4</td>\n",
       "    </tr>\n",
       "    <tr>\n",
       "      <th>rs13477820</th>\n",
       "      <td>0.004983</td>\n",
       "      <td>0.180694</td>\n",
       "      <td>False</td>\n",
       "      <td>0.000101</td>\n",
       "      <td>0.029777</td>\n",
       "      <td>True</td>\n",
       "      <td>0.009172</td>\n",
       "      <td>0.322379</td>\n",
       "      <td>False</td>\n",
       "      <td>0.023762</td>\n",
       "      <td>0.578516</td>\n",
       "      <td>False</td>\n",
       "      <td>0.001213</td>\n",
       "      <td>0.386880</td>\n",
       "      <td>False</td>\n",
       "      <td>0.001173</td>\n",
       "      <td>0.381829</td>\n",
       "      <td>False</td>\n",
       "      <td>86.171320</td>\n",
       "      <td>4</td>\n",
       "    </tr>\n",
       "  </tbody>\n",
       "</table>\n",
       "</div>"
      ],
      "text/plain": [
       "                CD_DiastolicBP_NIBP_[mmHg]  \\\n",
       "rs3658567                         0.000115   \n",
       "rs13477785                        0.000115   \n",
       "rs13477796                        0.000115   \n",
       "rs3708061                         0.000115   \n",
       "rs13477804                        0.001769   \n",
       "rs13477805                        0.001769   \n",
       "CEL-4_72665819                    0.006786   \n",
       "gnf04.071.066                     0.006786   \n",
       "rs13477825                        0.004983   \n",
       "rs13477820                        0.004983   \n",
       "\n",
       "                CD_DiastolicBP_NIBP_[mmHg] Corrected_p fdr_bh  \\\n",
       "rs3658567                                            0.049796   \n",
       "rs13477785                                           0.049796   \n",
       "rs13477796                                           0.049796   \n",
       "rs3708061                                            0.049796   \n",
       "rs13477804                                           0.131640   \n",
       "rs13477805                                           0.131640   \n",
       "CEL-4_72665819                                       0.217431   \n",
       "gnf04.071.066                                        0.217431   \n",
       "rs13477825                                           0.180694   \n",
       "rs13477820                                           0.180694   \n",
       "\n",
       "               CD_DiastolicBP_NIBP_[mmHg] Reject fdr_bh  \\\n",
       "rs3658567                                          True   \n",
       "rs13477785                                         True   \n",
       "rs13477796                                         True   \n",
       "rs3708061                                          True   \n",
       "rs13477804                                        False   \n",
       "rs13477805                                        False   \n",
       "CEL-4_72665819                                    False   \n",
       "gnf04.071.066                                     False   \n",
       "rs13477825                                        False   \n",
       "rs13477820                                        False   \n",
       "\n",
       "                HFD_DiastolicBP_NIBP_[mmHg]  \\\n",
       "rs3658567                          0.000051   \n",
       "rs13477785                         0.000051   \n",
       "rs13477796                         0.000051   \n",
       "rs3708061                          0.000051   \n",
       "rs13477804                         0.000089   \n",
       "rs13477805                         0.000089   \n",
       "CEL-4_72665819                     0.000114   \n",
       "gnf04.071.066                      0.000114   \n",
       "rs13477825                         0.000101   \n",
       "rs13477820                         0.000101   \n",
       "\n",
       "                HFD_DiastolicBP_NIBP_[mmHg] Corrected_p fdr_bh  \\\n",
       "rs3658567                                             0.029777   \n",
       "rs13477785                                            0.029777   \n",
       "rs13477796                                            0.029777   \n",
       "rs3708061                                             0.029777   \n",
       "rs13477804                                            0.029777   \n",
       "rs13477805                                            0.029777   \n",
       "CEL-4_72665819                                        0.029777   \n",
       "gnf04.071.066                                         0.029777   \n",
       "rs13477825                                            0.029777   \n",
       "rs13477820                                            0.029777   \n",
       "\n",
       "               HFD_DiastolicBP_NIBP_[mmHg] Reject fdr_bh  \\\n",
       "rs3658567                                           True   \n",
       "rs13477785                                          True   \n",
       "rs13477796                                          True   \n",
       "rs3708061                                           True   \n",
       "rs13477804                                          True   \n",
       "rs13477805                                          True   \n",
       "CEL-4_72665819                                      True   \n",
       "gnf04.071.066                                       True   \n",
       "rs13477825                                          True   \n",
       "rs13477820                                          True   \n",
       "\n",
       "                CD_SystolicBP_NIBP_[mmHg]  \\\n",
       "rs3658567                        0.001110   \n",
       "rs13477785                       0.001110   \n",
       "rs13477796                       0.001110   \n",
       "rs3708061                        0.001110   \n",
       "rs13477804                       0.005571   \n",
       "rs13477805                       0.005571   \n",
       "CEL-4_72665819                   0.020073   \n",
       "gnf04.071.066                    0.020073   \n",
       "rs13477825                       0.009172   \n",
       "rs13477820                       0.009172   \n",
       "\n",
       "                CD_SystolicBP_NIBP_[mmHg] Corrected_p fdr_bh  \\\n",
       "rs3658567                                           0.322379   \n",
       "rs13477785                                          0.322379   \n",
       "rs13477796                                          0.322379   \n",
       "rs3708061                                           0.322379   \n",
       "rs13477804                                          0.322379   \n",
       "rs13477805                                          0.322379   \n",
       "CEL-4_72665819                                      0.370846   \n",
       "gnf04.071.066                                       0.370846   \n",
       "rs13477825                                          0.322379   \n",
       "rs13477820                                          0.322379   \n",
       "\n",
       "               CD_SystolicBP_NIBP_[mmHg] Reject fdr_bh  \\\n",
       "rs3658567                                        False   \n",
       "rs13477785                                       False   \n",
       "rs13477796                                       False   \n",
       "rs3708061                                        False   \n",
       "rs13477804                                       False   \n",
       "rs13477805                                       False   \n",
       "CEL-4_72665819                                   False   \n",
       "gnf04.071.066                                    False   \n",
       "rs13477825                                       False   \n",
       "rs13477820                                       False   \n",
       "\n",
       "                HFD_SystolicBP_NIBP_[mmHg]  \\\n",
       "rs3658567                         0.032330   \n",
       "rs13477785                        0.032330   \n",
       "rs13477796                        0.032330   \n",
       "rs3708061                         0.032330   \n",
       "rs13477804                        0.039017   \n",
       "rs13477805                        0.039017   \n",
       "CEL-4_72665819                    0.017976   \n",
       "gnf04.071.066                     0.017976   \n",
       "rs13477825                        0.023762   \n",
       "rs13477820                        0.023762   \n",
       "\n",
       "                HFD_SystolicBP_NIBP_[mmHg] Corrected_p fdr_bh  \\\n",
       "rs3658567                                            0.580826   \n",
       "rs13477785                                           0.580826   \n",
       "rs13477796                                           0.580826   \n",
       "rs3708061                                            0.580826   \n",
       "rs13477804                                           0.606654   \n",
       "rs13477805                                           0.606654   \n",
       "CEL-4_72665819                                       0.521784   \n",
       "gnf04.071.066                                        0.521784   \n",
       "rs13477825                                           0.578516   \n",
       "rs13477820                                           0.578516   \n",
       "\n",
       "               HFD_SystolicBP_NIBP_[mmHg] Reject fdr_bh  \\\n",
       "rs3658567                                         False   \n",
       "rs13477785                                        False   \n",
       "rs13477796                                        False   \n",
       "rs3708061                                         False   \n",
       "rs13477804                                        False   \n",
       "rs13477805                                        False   \n",
       "CEL-4_72665819                                    False   \n",
       "gnf04.071.066                                     False   \n",
       "rs13477825                                        False   \n",
       "rs13477820                                        False   \n",
       "\n",
       "                CD_HeartRate_NIBP_[bpm]  \\\n",
       "rs3658567                      0.014183   \n",
       "rs13477785                     0.014183   \n",
       "rs13477796                     0.014183   \n",
       "rs3708061                      0.014183   \n",
       "rs13477804                     0.007225   \n",
       "rs13477805                     0.007225   \n",
       "CEL-4_72665819                 0.077183   \n",
       "gnf04.071.066                  0.077183   \n",
       "rs13477825                     0.001213   \n",
       "rs13477820                     0.001213   \n",
       "\n",
       "                CD_HeartRate_NIBP_[bpm] Corrected_p fdr_bh  \\\n",
       "rs3658567                                         0.527729   \n",
       "rs13477785                                        0.527729   \n",
       "rs13477796                                        0.527729   \n",
       "rs3708061                                         0.527729   \n",
       "rs13477804                                        0.448110   \n",
       "rs13477805                                        0.448110   \n",
       "CEL-4_72665819                                    0.718484   \n",
       "gnf04.071.066                                     0.718484   \n",
       "rs13477825                                        0.386880   \n",
       "rs13477820                                        0.386880   \n",
       "\n",
       "               CD_HeartRate_NIBP_[bpm] Reject fdr_bh  \\\n",
       "rs3658567                                      False   \n",
       "rs13477785                                     False   \n",
       "rs13477796                                     False   \n",
       "rs3708061                                      False   \n",
       "rs13477804                                     False   \n",
       "rs13477805                                     False   \n",
       "CEL-4_72665819                                 False   \n",
       "gnf04.071.066                                  False   \n",
       "rs13477825                                     False   \n",
       "rs13477820                                     False   \n",
       "\n",
       "                HFD_HeartRate_NIBP_[bpm]  \\\n",
       "rs3658567                       0.013951   \n",
       "rs13477785                      0.013951   \n",
       "rs13477796                      0.013951   \n",
       "rs3708061                       0.013951   \n",
       "rs13477804                      0.007206   \n",
       "rs13477805                      0.007206   \n",
       "CEL-4_72665819                  0.077429   \n",
       "gnf04.071.066                   0.077429   \n",
       "rs13477825                      0.001173   \n",
       "rs13477820                      0.001173   \n",
       "\n",
       "                HFD_HeartRate_NIBP_[bpm] Corrected_p fdr_bh  \\\n",
       "rs3658567                                          0.567842   \n",
       "rs13477785                                         0.567842   \n",
       "rs13477796                                         0.567842   \n",
       "rs3708061                                          0.567842   \n",
       "rs13477804                                         0.481379   \n",
       "rs13477805                                         0.481379   \n",
       "CEL-4_72665819                                     0.690329   \n",
       "gnf04.071.066                                      0.690329   \n",
       "rs13477825                                         0.381829   \n",
       "rs13477820                                         0.381829   \n",
       "\n",
       "               HFD_HeartRate_NIBP_[bpm] Reject fdr_bh         Mb Chr  \n",
       "rs3658567                                       False  76.484833   4  \n",
       "rs13477785                                      False  75.774916   4  \n",
       "rs13477796                                      False  78.698063   4  \n",
       "rs3708061                                       False  80.950126   4  \n",
       "rs13477804                                      False  81.604580   4  \n",
       "rs13477805                                      False  81.934379   4  \n",
       "CEL-4_72665819                                  False  74.037476   4  \n",
       "gnf04.071.066                                   False  75.249698   4  \n",
       "rs13477825                                      False  87.106964   4  \n",
       "rs13477820                                      False  86.171320   4  "
      ]
     },
     "execution_count": 633,
     "metadata": {},
     "output_type": "execute_result"
    }
   ],
   "source": [
    "corrected.sort_values(by=\"HFD_DiastolicBP_NIBP_[mmHg] Corrected_p fdr_bh\").head(10)"
   ]
  },
  {
   "cell_type": "markdown",
   "metadata": {
    "collapsed": true,
    "run_control": {
     "frozen": false,
     "read_only": false
    }
   },
   "source": [
    "SNPs that are correlated to Diastolic blood pressure in both diets are the following:\n",
    "rs3658567, rs13477785, rs13477796 and rs3708061 they are locted on the 4th chromosome in a range between 75Mb and 81Mb.\n",
    "For the Biochemistry phenotypes SNPs on the first chromosome were found to be related to Interleukin 6 production and SNPs on the 17th chromosome to the TNF alpha production."
   ]
  },
  {
   "cell_type": "code",
   "execution_count": 719,
   "metadata": {
    "collapsed": false,
    "scrolled": true
   },
   "outputs": [
    {
     "data": {
      "text/html": [
       "<div>\n",
       "<table border=\"1\" class=\"dataframe\">\n",
       "  <thead>\n",
       "    <tr style=\"text-align: right;\">\n",
       "      <th></th>\n",
       "      <th>HFD_IL6_[pg/mL]</th>\n",
       "      <th>HFD_IL6_[pg/mL] Corrected_p fdr_bh</th>\n",
       "      <th>HFD_IL6_[pg/mL] Reject fdr_bh</th>\n",
       "      <th>Mb</th>\n",
       "      <th>Chr</th>\n",
       "    </tr>\n",
       "  </thead>\n",
       "  <tbody>\n",
       "    <tr>\n",
       "      <th>rs3675669</th>\n",
       "      <td>0.000053</td>\n",
       "      <td>0.027624</td>\n",
       "      <td>True</td>\n",
       "      <td>191.629931</td>\n",
       "      <td>1</td>\n",
       "    </tr>\n",
       "    <tr>\n",
       "      <th>rs3699009</th>\n",
       "      <td>0.000053</td>\n",
       "      <td>0.027624</td>\n",
       "      <td>True</td>\n",
       "      <td>191.712942</td>\n",
       "      <td>1</td>\n",
       "    </tr>\n",
       "    <tr>\n",
       "      <th>rs3694932</th>\n",
       "      <td>0.000053</td>\n",
       "      <td>0.027624</td>\n",
       "      <td>True</td>\n",
       "      <td>191.912106</td>\n",
       "      <td>1</td>\n",
       "    </tr>\n",
       "    <tr>\n",
       "      <th>mCV23204820</th>\n",
       "      <td>0.000053</td>\n",
       "      <td>0.027624</td>\n",
       "      <td>True</td>\n",
       "      <td>191.933803</td>\n",
       "      <td>1</td>\n",
       "    </tr>\n",
       "    <tr>\n",
       "      <th>rs3713460</th>\n",
       "      <td>0.000053</td>\n",
       "      <td>0.027624</td>\n",
       "      <td>True</td>\n",
       "      <td>192.867016</td>\n",
       "      <td>1</td>\n",
       "    </tr>\n",
       "  </tbody>\n",
       "</table>\n",
       "</div>"
      ],
      "text/plain": [
       "             HFD_IL6_[pg/mL]  HFD_IL6_[pg/mL] Corrected_p fdr_bh  \\\n",
       "rs3675669           0.000053                            0.027624   \n",
       "rs3699009           0.000053                            0.027624   \n",
       "rs3694932           0.000053                            0.027624   \n",
       "mCV23204820         0.000053                            0.027624   \n",
       "rs3713460           0.000053                            0.027624   \n",
       "\n",
       "            HFD_IL6_[pg/mL] Reject fdr_bh          Mb Chr  \n",
       "rs3675669                            True  191.629931   1  \n",
       "rs3699009                            True  191.712942   1  \n",
       "rs3694932                            True  191.912106   1  \n",
       "mCV23204820                          True  191.933803   1  \n",
       "rs3713460                            True  192.867016   1  "
      ]
     },
     "execution_count": 719,
     "metadata": {},
     "output_type": "execute_result"
    }
   ],
   "source": [
    "relevant_col = [col for col in biochem_corr.columns if col.startswith('HFD_IL6_[pg/mL]')] + ['Mb','Chr']\n",
    "biochem_corr.loc[biochem_corr[\"HFD_IL6_[pg/mL] Reject fdr_bh\"]][relevant_col]"
   ]
  },
  {
   "cell_type": "code",
   "execution_count": 720,
   "metadata": {
    "collapsed": false
   },
   "outputs": [
    {
     "data": {
      "text/html": [
       "<div>\n",
       "<table border=\"1\" class=\"dataframe\">\n",
       "  <thead>\n",
       "    <tr style=\"text-align: right;\">\n",
       "      <th></th>\n",
       "      <th>HFD_TNFalpha_[pg/mL]</th>\n",
       "      <th>HFD_TNFalpha_[pg/mL] Corrected_p fdr_bh</th>\n",
       "      <th>HFD_TNFalpha_[pg/mL] Reject fdr_bh</th>\n",
       "      <th>Mb</th>\n",
       "      <th>Chr</th>\n",
       "    </tr>\n",
       "  </thead>\n",
       "  <tbody>\n",
       "    <tr>\n",
       "      <th>rs6176494</th>\n",
       "      <td>0.000017</td>\n",
       "      <td>0.015055</td>\n",
       "      <td>True</td>\n",
       "      <td>71.101564</td>\n",
       "      <td>17</td>\n",
       "    </tr>\n",
       "    <tr>\n",
       "      <th>rs13483092</th>\n",
       "      <td>0.000017</td>\n",
       "      <td>0.015055</td>\n",
       "      <td>True</td>\n",
       "      <td>71.350424</td>\n",
       "      <td>17</td>\n",
       "    </tr>\n",
       "    <tr>\n",
       "      <th>rs6155172</th>\n",
       "      <td>0.000017</td>\n",
       "      <td>0.015055</td>\n",
       "      <td>True</td>\n",
       "      <td>72.001676</td>\n",
       "      <td>17</td>\n",
       "    </tr>\n",
       "  </tbody>\n",
       "</table>\n",
       "</div>"
      ],
      "text/plain": [
       "            HFD_TNFalpha_[pg/mL]  HFD_TNFalpha_[pg/mL] Corrected_p fdr_bh  \\\n",
       "rs6176494               0.000017                                 0.015055   \n",
       "rs13483092              0.000017                                 0.015055   \n",
       "rs6155172               0.000017                                 0.015055   \n",
       "\n",
       "           HFD_TNFalpha_[pg/mL] Reject fdr_bh         Mb Chr  \n",
       "rs6176494                                True  71.101564  17  \n",
       "rs13483092                               True  71.350424  17  \n",
       "rs6155172                                True  72.001676  17  "
      ]
     },
     "execution_count": 720,
     "metadata": {},
     "output_type": "execute_result"
    }
   ],
   "source": [
    "relevant_col = [col for col in biochem_corr.columns if col.startswith('HFD_TNFalpha_[pg/mL]')] + ['Mb','Chr']\n",
    "biochem_corr.loc[biochem_corr[\"HFD_TNFalpha_[pg/mL] Reject fdr_bh\"]][relevant_col]"
   ]
  },
  {
   "cell_type": "markdown",
   "metadata": {},
   "source": [
    "## Task: Interpret results"
   ]
  },
  {
   "cell_type": "code",
   "execution_count": null,
   "metadata": {
    "collapsed": true,
    "run_control": {
     "frozen": false,
     "read_only": false
    }
   },
   "outputs": [],
   "source": []
  },
  {
   "cell_type": "code",
   "execution_count": null,
   "metadata": {
    "collapsed": true,
    "run_control": {
     "frozen": false,
     "read_only": false
    }
   },
   "outputs": [],
   "source": []
  },
  {
   "cell_type": "code",
   "execution_count": null,
   "metadata": {
    "collapsed": true,
    "run_control": {
     "frozen": false,
     "read_only": false
    }
   },
   "outputs": [],
   "source": []
  },
  {
   "cell_type": "markdown",
   "metadata": {},
   "source": [
    "## Task: For most interesting examples, try to identify possible candidate genes"
   ]
  },
  {
   "cell_type": "code",
   "execution_count": 638,
   "metadata": {
    "collapsed": false,
    "run_control": {
     "frozen": false,
     "read_only": false
    }
   },
   "outputs": [
    {
     "name": "stdout",
     "output_type": "stream",
     "text": [
      "--2016-10-30 00:05:18--  http://www.ensembl.org/biomart/martservice?query=%3C?xml%20version=%221.0%22%20encoding=%22UTF-8%22?%3E%3C!DOCTYPE%20Query%3E%3CQuery%20%20virtualSchemaName%20=%20%22default%22%20formatter%20=%20%22TSV%22%20header%20=%20%221%22%20uniqueRows%20=%20%220%22%20count%20=%20%22%22%20datasetConfigVersion%20=%20%220.6%22%20%3E%09%09%09%09%3CDataset%20name%20=%20%22mmusculus_gene_ensembl%22%20interface%20=%20%22default%22%20%3E%3CFilter%20name%20=%20%22chromosome_name%22%20value%20=%20%224%22/%3E%3CFilter%20name%20=%20%22end%22%20value%20=%20%2280950126%22/%3E%09%09%3CFilter%20name%20=%20%22start%22%20value%20=%20%2276484833%22/%3E%09%3CAttribute%20name%20=%20%22phenotype_description%22%20/%3E%09%09%3CAttribute%20name%20=%20%22start_position%22%20/%3E%09%09%3CAttribute%20name%20=%20%22end_position%22%20/%3E%09%09%3CAttribute%20name%20=%20%22external_gene_name%22%20/%3E%09%09%3CAttribute%20name%20=%20%22description%22%20/%3E%09%09%3CAttribute%20name%20=%20%22ensembl_gene_id%22%20/%3E%09%3C/Dataset%3E%3C/Query%3E\n",
      "Auflösen des Hostnamens »www.ensembl.org (www.ensembl.org)« … 193.62.203.138, 193.62.203.137, 2001:630:206:4::138, ...\n",
      "Verbindungsaufbau zu www.ensembl.org (www.ensembl.org)|193.62.203.138|:80 … verbunden.\n",
      "HTTP-Anforderung gesendet, auf Antwort wird gewartet … 200 OK\n",
      "Länge: nicht spezifiziert [text/plain]\n",
      "Wird in »»diastolicbp.txt«« gespeichert.\n",
      "\n",
      "diastolicbp.txt         [ <=>                ]   7,13K  --.-KB/s    in 0s      \n",
      "\n",
      "2016-10-30 00:05:18 (65,7 MB/s) - »diastolicbp.txt« gespeichert [7301]\n",
      "\n"
     ]
    }
   ],
   "source": [
    "!wget -O $DIR\"diastolicbp.txt\" 'http://www.ensembl.org/biomart/martservice?query=\\\n",
    "<?xml version=\"1.0\" encoding=\"UTF-8\"?>\\\n",
    "<!DOCTYPE Query>\\\n",
    "<Query  virtualSchemaName = \"default\" formatter = \"TSV\" header = \"1\" uniqueRows = \"0\" count = \"\" datasetConfigVersion = \"0.6\" >\\\n",
    "\t\t\t\\\n",
    "\t<Dataset name = \"mmusculus_gene_ensembl\" interface = \"default\" >\\\n",
    "<Filter name = \"chromosome_name\" value = \"4\"/>\\\n",
    "<Filter name = \"end\" value = \"80950126\"/>\\\n",
    "\t\t<Filter name = \"start\" value = \"76484833\"/>\\\n",
    "\t<Attribute name = \"phenotype_description\" />\\\n",
    "\t\t<Attribute name = \"start_position\" />\\\n",
    "\t\t<Attribute name = \"end_position\" />\\\n",
    "\t\t<Attribute name = \"external_gene_name\" />\\\n",
    "\t\t<Attribute name = \"description\" />\\\n",
    "\t\t<Attribute name = \"ensembl_gene_id\" />\\\n",
    "\t</Dataset>\\\n",
    "</Query>'"
   ]
  },
  {
   "cell_type": "code",
   "execution_count": 639,
   "metadata": {
    "collapsed": true,
    "run_control": {
     "frozen": false,
     "read_only": false
    }
   },
   "outputs": [],
   "source": [
    "diastolic_bp = pd.read_table(\"diastolicbp.txt\")"
   ]
  },
  {
   "cell_type": "markdown",
   "metadata": {},
   "source": [
    "List of unique genes in the same range as the detected SNPs is printed"
   ]
  },
  {
   "cell_type": "code",
   "execution_count": 644,
   "metadata": {
    "collapsed": false,
    "scrolled": true
   },
   "outputs": [
    {
     "data": {
      "text/plain": [
       "array(['Gm22262', 'Gm25836', 'Gm23159', 'B230208B08Rik', 'Gm11244',\n",
       "       'Gm11245', 'Gm11242', 'Gm11260', 'Gm11261', 'Gm11262', 'Gm11263',\n",
       "       'Gm11409', 'Gm11407', 'Gm11408', 'Gm11410', 'Gm11406', 'Tyrp1',\n",
       "       'Lurap1l', 'Gm11246', 'Gm11243', 'RP24-316B1.1', 'Ptprd'], dtype=object)"
      ]
     },
     "execution_count": 644,
     "metadata": {},
     "output_type": "execute_result"
    }
   ],
   "source": [
    "diastolic_bp[\"Associated Gene Name\"].unique()"
   ]
  },
  {
   "cell_type": "markdown",
   "metadata": {
    "collapsed": true,
    "run_control": {
     "frozen": false,
     "read_only": false
    }
   },
   "source": [
    "Genes starting with the Gm tag are mostly RNA coding genes or pseudogenes and therefore propably not directly involved in blood pressure. Tyrp1 is known from the previous analysis, it is involved with the mouse coat color. Lurap1l is coding for a leucine rich adaptor protein. For RP24-316B1.1 and B230208B08Rik no function is annnotated in literature.\n",
    "Ptprd encodes for a protein phosphatase which is known to be involved in cellular processes including cell growth, differentiation, mitotic cycle, and oncogenic transformation.\n",
    "No gene directly associated to the diastolic blood pressure could have been found using this approach, however for some genes the function could not have been found. Also the statistical test could have been to strict, so the experiment could have been repeated with a higher cutoff for p-values."
   ]
  },
  {
   "cell_type": "markdown",
   "metadata": {},
   "source": [
    "Now download the gene list for the genes in range of the SNPs associated with TNF alpha on chromosome 17"
   ]
  },
  {
   "cell_type": "code",
   "execution_count": 735,
   "metadata": {
    "collapsed": false
   },
   "outputs": [
    {
     "name": "stdout",
     "output_type": "stream",
     "text": [
      "--2016-10-30 10:14:58--  http://www.ensembl.org/biomart/martservice?query=%3C?xml%20version=%221.0%22%20encoding=%22UTF-8%22?%3E%3C!DOCTYPE%20Query%3E%3CQuery%20%20virtualSchemaName%20=%20%22default%22%20formatter%20=%20%22TSV%22%20header%20=%20%221%22%20uniqueRows%20=%20%220%22%20count%20=%20%22%22%20datasetConfigVersion%20=%20%220.6%22%20%3E%09%09%09%09%3CDataset%20name%20=%20%22mmusculus_gene_ensembl%22%20interface%20=%20%22default%22%20%3E%3CFilter%20name%20=%20%22chromosome_name%22%20value%20=%20%2217%22/%3E%3CFilter%20name%20=%20%22end%22%20value%20=%20%2272001676%22/%3E%09%09%3CFilter%20name%20=%20%22start%22%20value%20=%20%2271101564%22/%3E%09%3CAttribute%20name%20=%20%22phenotype_description%22%20/%3E%09%09%3CAttribute%20name%20=%20%22start_position%22%20/%3E%09%09%3CAttribute%20name%20=%20%22end_position%22%20/%3E%09%09%3CAttribute%20name%20=%20%22external_gene_name%22%20/%3E%09%09%3CAttribute%20name%20=%20%22description%22%20/%3E%09%09%3CAttribute%20name%20=%20%22ensembl_gene_id%22%20/%3E%09%3C/Dataset%3E%3C/Query%3E\n",
      "Auflösen des Hostnamens »www.ensembl.org (www.ensembl.org)« … 193.62.203.138, 193.62.203.137, 2001:630:206:4::137, ...\n",
      "Verbindungsaufbau zu www.ensembl.org (www.ensembl.org)|193.62.203.138|:80 … verbunden.\n",
      "HTTP-Anforderung gesendet, auf Antwort wird gewartet … 200 OK\n",
      "Länge: nicht spezifiziert [text/plain]\n",
      "Wird in »»TFNalph.txt«« gespeichert.\n",
      "\n",
      "TFNalph.txt             [ <=>                ]  12,37K  --.-KB/s    in 0,07s   \n",
      "\n",
      "2016-10-30 10:14:58 (168 KB/s) - »TFNalph.txt« gespeichert [12670]\n",
      "\n"
     ]
    }
   ],
   "source": [
    "!wget -O $DIR\"TFNalph.txt\" 'http://www.ensembl.org/biomart/martservice?query=\\\n",
    "<?xml version=\"1.0\" encoding=\"UTF-8\"?>\\\n",
    "<!DOCTYPE Query>\\\n",
    "<Query  virtualSchemaName = \"default\" formatter = \"TSV\" header = \"1\" uniqueRows = \"0\" count = \"\" datasetConfigVersion = \"0.6\" >\\\n",
    "\t\t\t\\\n",
    "\t<Dataset name = \"mmusculus_gene_ensembl\" interface = \"default\" >\\\n",
    "<Filter name = \"chromosome_name\" value = \"17\"/>\\\n",
    "<Filter name = \"end\" value = \"72001676\"/>\\\n",
    "\t\t<Filter name = \"start\" value = \"71101564\"/>\\\n",
    "\t<Attribute name = \"phenotype_description\" />\\\n",
    "\t\t<Attribute name = \"start_position\" />\\\n",
    "\t\t<Attribute name = \"end_position\" />\\\n",
    "\t\t<Attribute name = \"external_gene_name\" />\\\n",
    "\t\t<Attribute name = \"description\" />\\\n",
    "\t\t<Attribute name = \"ensembl_gene_id\" />\\\n",
    "\t</Dataset>\\\n",
    "</Query>'"
   ]
  },
  {
   "cell_type": "markdown",
   "metadata": {},
   "source": [
    "Only print the associated gene names"
   ]
  },
  {
   "cell_type": "code",
   "execution_count": 736,
   "metadata": {
    "collapsed": false
   },
   "outputs": [
    {
     "data": {
      "text/plain": [
       "array(['Gm26561', 'Myom1', 'Clip4', 'Snord53', 'Gm23115', 'Emilin2', 'Alk',\n",
       "       'Gm22858', 'Snord92', 'Wdr43', 'BC027072', 'Ndc80', 'Fam179a',\n",
       "       'Gm15641', 'Gm4707', 'Gm37639', 'Smchd1', 'Gm38220', 'Trmt61b',\n",
       "       'Mettl4-ps1', 'Spdya', 'Lpin2'], dtype=object)"
      ]
     },
     "execution_count": 736,
     "metadata": {},
     "output_type": "execute_result"
    }
   ],
   "source": [
    "TFNalph = pd.read_table(\"TFNalph.txt\")\n",
    "TFNalph[\"Associated Gene Name\"].unique()"
   ]
  },
  {
   "cell_type": "markdown",
   "metadata": {},
   "source": [
    "According to http://www.informatics.jax.org/marker/MGI:2385061 the gene BC027072 is related to the immune system as well as cell differentiation and may thus be a candidate gene."
   ]
  }
 ],
 "metadata": {
  "anaconda-cloud": {},
  "hide_input": false,
  "kernelspec": {
   "display_name": "Python [Root]",
   "language": "python",
   "name": "Python [Root]"
  },
  "language_info": {
   "codemirror_mode": {
    "name": "ipython",
    "version": 3
   },
   "file_extension": ".py",
   "mimetype": "text/x-python",
   "name": "python",
   "nbconvert_exporter": "python",
   "pygments_lexer": "ipython3",
   "version": "3.5.2"
  },
  "nav_menu": {},
  "toc": {
   "navigate_menu": true,
   "number_sections": true,
   "sideBar": false,
   "threshold": 6,
   "toc_cell": true,
   "toc_number_sections": true,
   "toc_section_display": "block",
   "toc_window_display": true
  },
  "toc_position": {
   "height": "1208px",
   "left": "1163px",
   "right": "20px",
   "top": "88px",
   "width": "600px"
  }
 },
 "nbformat": 4,
 "nbformat_minor": 0
}
