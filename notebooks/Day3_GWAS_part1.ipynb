{
 "cells": [
  {
   "cell_type": "markdown",
   "metadata": {
    "toc": "true"
   },
   "source": [
    "# Table of Contents\n",
    " <p><div class=\"lev1\"><a href=\"#Today's-topics\"><span class=\"toc-item-num\">1&nbsp;&nbsp;</span>Today's topics</a></div><div class=\"lev1\"><a href=\"#GWAS-background\"><span class=\"toc-item-num\">2&nbsp;&nbsp;</span>GWAS background</a></div><div class=\"lev1\"><a href=\"#Useful-Resources\"><span class=\"toc-item-num\">3&nbsp;&nbsp;</span>Useful Resources</a></div><div class=\"lev2\"><a href=\"#Packages\"><span class=\"toc-item-num\">3.1&nbsp;&nbsp;</span>Packages</a></div><div class=\"lev3\"><a href=\"#R\"><span class=\"toc-item-num\">3.1.1&nbsp;&nbsp;</span>R</a></div><div class=\"lev3\"><a href=\"#Python\"><span class=\"toc-item-num\">3.1.2&nbsp;&nbsp;</span>Python</a></div><div class=\"lev2\"><a href=\"#Books\"><span class=\"toc-item-num\">3.2&nbsp;&nbsp;</span>Books</a></div><div class=\"lev2\"><a href=\"#Tutorials\"><span class=\"toc-item-num\">3.3&nbsp;&nbsp;</span>Tutorials</a></div><div class=\"lev1\"><a href=\"#Load-data\"><span class=\"toc-item-num\">4&nbsp;&nbsp;</span>Load data</a></div><div class=\"lev2\"><a href=\"#Load-genotype-data-as-pandas-dataframe\"><span class=\"toc-item-num\">4.1&nbsp;&nbsp;</span>Load genotype data as pandas dataframe</a></div><div class=\"lev2\"><a href=\"#Subtask:-Set-SNP-ID-column-as-index\"><span class=\"toc-item-num\">4.2&nbsp;&nbsp;</span>Subtask: Set SNP-ID column as index</a></div><div class=\"lev2\"><a href=\"#Subtask:-Replace-categorical-data-strings-with-numerical-encoding\"><span class=\"toc-item-num\">4.3&nbsp;&nbsp;</span>Subtask: Replace categorical data strings with numerical encoding</a></div><div class=\"lev2\"><a href=\"#Subtask:-Drop-rows-with-unknown-genotypes\"><span class=\"toc-item-num\">4.4&nbsp;&nbsp;</span>Subtask: Drop rows with unknown genotypes</a></div><div class=\"lev2\"><a href=\"#Dowload-categorical-data-from-genenetworks.org\"><span class=\"toc-item-num\">4.5&nbsp;&nbsp;</span>Dowload categorical data from genenetworks.org</a></div><div class=\"lev2\"><a href=\"#Load-phenotype-data-(coat-color)\"><span class=\"toc-item-num\">4.6&nbsp;&nbsp;</span>Load phenotype data (coat color)</a></div><div class=\"lev2\"><a href=\"#Subtask:-remove-rows-with-missing-data\"><span class=\"toc-item-num\">4.7&nbsp;&nbsp;</span>Subtask: remove rows with missing data</a></div><div class=\"lev2\"><a href=\"#Convert-data-to-numeric\"><span class=\"toc-item-num\">4.8&nbsp;&nbsp;</span>Convert data to numeric</a></div><div class=\"lev1\"><a href=\"#Association-tests-between-variant(s)-and-categorical-phenotype\"><span class=\"toc-item-num\">5&nbsp;&nbsp;</span>Association tests between variant(s) and categorical phenotype</a></div><div class=\"lev2\"><a href=\"#Task:-Perfom-association-test-for-a-single-SNP-using-$\\chi^2$-test-and-odds-ratio\"><span class=\"toc-item-num\">5.1&nbsp;&nbsp;</span>Task: Perfom association test for a single SNP using <span class=\"MathJax_Preview\" style=\"color: inherit;\"></span><span class=\"MathJax\" id=\"MathJax-Element-1-Frame\" tabindex=\"0\" data-mathml=\"<math xmlns=&quot;http://www.w3.org/1998/Math/MathML&quot;><msup><mi>&amp;#x03C7;</mi><mn>2</mn></msup></math>\" role=\"presentation\" style=\"position: relative;\"><nobr aria-hidden=\"true\"><span class=\"math\" id=\"MathJax-Span-1\" role=\"math\" style=\"width: 1.176em; display: inline-block;\"><span style=\"display: inline-block; position: relative; width: 0.987em; height: 0px; font-size: 120%;\"><span style=\"position: absolute; clip: rect(1.252em 1000.99em 2.502em -999.998em); top: -2.195em; left: 0.002em;\"><span class=\"mrow\" id=\"MathJax-Span-2\"><span class=\"msubsup\" id=\"MathJax-Span-3\"><span style=\"display: inline-block; position: relative; width: 0.987em; height: 0px;\"><span style=\"position: absolute; clip: rect(3.449em 1000.49em 4.32em -999.998em); top: -4.013em; left: 0.002em;\"><span class=\"mi\" id=\"MathJax-Span-4\" style=\"font-family: STIXMathJax_Main-italic;\">χ<span style=\"display: inline-block; overflow: hidden; height: 1px; width: 0.04em;\"></span></span><span style=\"display: inline-block; width: 0px; height: 4.017em;\"></span></span><span style=\"position: absolute; top: -4.392em; left: 0.57em;\"><span class=\"mn\" id=\"MathJax-Span-5\" style=\"font-size: 70.7%; font-family: STIXMathJax_Main;\">2</span><span style=\"display: inline-block; width: 0px; height: 4.017em;\"></span></span></span></span></span><span style=\"display: inline-block; width: 0px; height: 2.199em;\"></span></span></span><span style=\"display: inline-block; overflow: hidden; vertical-align: -0.27em; border-left: 0px solid; width: 0px; height: 1.366em;\"></span></span></nobr><span class=\"MJX_Assistive_MathML\" role=\"presentation\"><math xmlns=\"http://www.w3.org/1998/Math/MathML\"><msup><mi>χ</mi><mn>2</mn></msup></math></span></span><script type=\"math/tex\" id=\"MathJax-Element-1\">\\chi^2</script> test and odds ratio</a></div><div class=\"lev3\"><a href=\"#Subtask:-Extract-row-of-a-single-SNP-(e.g.-rs6232550)\"><span class=\"toc-item-num\">5.1.1&nbsp;&nbsp;</span>Subtask: Extract row of a single SNP (e.g. rs6232550)</a></div><div class=\"lev3\"><a href=\"#Subtask:-Remove-all-non-strain-genotye-columns\"><span class=\"toc-item-num\">5.1.2&nbsp;&nbsp;</span>Subtask: Remove all non-strain genotye columns</a></div><div class=\"lev3\"><a href=\"#Subtask:-Transpose-row-so-that-it-has-the-same-format-as-the-genotype-data\"><span class=\"toc-item-num\">5.1.3&nbsp;&nbsp;</span>Subtask: Transpose row so that it has the same format as the genotype data</a></div><div class=\"lev3\"><a href=\"#Subtask:-Combine-SNP-data-with-phenotype-data\"><span class=\"toc-item-num\">5.1.4&nbsp;&nbsp;</span>Subtask: Combine SNP data with phenotype data</a></div><div class=\"lev3\"><a href=\"#Subtask:-Check-that-the-merging-worked\"><span class=\"toc-item-num\">5.1.5&nbsp;&nbsp;</span>Subtask: Check that the merging worked</a></div><div class=\"lev3\"><a href=\"#Subtask:-Plot-relationship-between-genotye-and-phenotype\"><span class=\"toc-item-num\">5.1.6&nbsp;&nbsp;</span>Subtask: Plot relationship between genotye and phenotype</a></div><div class=\"lev3\"><a href=\"#Subtask:-Create-contingency-table-for-a-D-dominant-inheritance-model-of-black-coat-color-and-SNP-rs6232550\"><span class=\"toc-item-num\">5.1.7&nbsp;&nbsp;</span>Subtask: Create contingency table for a D-dominant inheritance model of black coat color and SNP rs6232550</a></div><div class=\"lev3\"><a href=\"#Subtask:-Perform-$\\chi^2$-square-test-for-independence-on-the-contingency-table\"><span class=\"toc-item-num\">5.1.8&nbsp;&nbsp;</span>Subtask: Perform <span class=\"MathJax_Preview\" style=\"color: inherit;\"></span><span class=\"MathJax\" id=\"MathJax-Element-2-Frame\" tabindex=\"0\" data-mathml=\"<math xmlns=&quot;http://www.w3.org/1998/Math/MathML&quot;><msup><mi>&amp;#x03C7;</mi><mn>2</mn></msup></math>\" role=\"presentation\" style=\"position: relative;\"><nobr aria-hidden=\"true\"><span class=\"math\" id=\"MathJax-Span-6\" role=\"math\" style=\"width: 1.16em; display: inline-block;\"><span style=\"display: inline-block; position: relative; width: 0.975em; height: 0px; font-size: 120%;\"><span style=\"position: absolute; clip: rect(1.299em 1000.98em 2.595em -999.998em); top: -2.266em; left: 0.002em;\"><span class=\"mrow\" id=\"MathJax-Span-7\"><span class=\"msubsup\" id=\"MathJax-Span-8\"><span style=\"display: inline-block; position: relative; width: 0.975em; height: 0px;\"><span style=\"position: absolute; clip: rect(3.382em 1000.51em 4.308em -999.998em); top: -3.979em; left: 0.002em;\"><span class=\"mi\" id=\"MathJax-Span-9\" style=\"font-family: STIXMathJax_Main-italic;\">χ<span style=\"display: inline-block; overflow: hidden; height: 1px; width: 0.049em;\"></span></span><span style=\"display: inline-block; width: 0px; height: 3.984em;\"></span></span><span style=\"position: absolute; top: -4.35em; left: 0.558em;\"><span class=\"mn\" id=\"MathJax-Span-10\" style=\"font-size: 70.7%; font-family: STIXMathJax_Main;\">2</span><span style=\"display: inline-block; width: 0px; height: 3.984em;\"></span></span></span></span></span><span style=\"display: inline-block; width: 0px; height: 2.271em;\"></span></span></span><span style=\"display: inline-block; overflow: hidden; vertical-align: -0.275em; border-left: 0px solid; width: 0px; height: 1.392em;\"></span></span></nobr><span class=\"MJX_Assistive_MathML\" role=\"presentation\"><math xmlns=\"http://www.w3.org/1998/Math/MathML\"><msup><mi>χ</mi><mn>2</mn></msup></math></span></span><script type=\"math/tex\" id=\"MathJax-Element-2\">\\chi^2</script> square test for independence on the contingency table</a></div><div class=\"lev3\"><a href=\"#Subtask:-Write-function-to-calculate-odds-ratio-from-a-contingency-table\"><span class=\"toc-item-num\">5.1.9&nbsp;&nbsp;</span>Subtask: Write function to calculate odds ratio from a contingency table</a></div><div class=\"lev2\"><a href=\"#Task:-extend-statistical-method-for-a-penetrance-model-in-which-increasing-numbers-of-A-alleles-confer-a-trend-in-risk-(e.g.-additive-or-dominant)\"><span class=\"toc-item-num\">5.2&nbsp;&nbsp;</span>Task: extend statistical method for a penetrance model in which increasing numbers of A alleles confer a trend in risk (e.g. additive or dominant)</a></div><div class=\"lev3\"><a href=\"#Subtask:-Given-the-data-you-have,-could-you-calculate-this-type-of-statistic-for-your-data?\"><span class=\"toc-item-num\">5.2.1&nbsp;&nbsp;</span>Subtask: Given the data you have, could you calculate this type of statistic for your data?</a></div><div class=\"lev2\"><a href=\"#Task:-Refactor-previous-analysis-steps-into-a-function-and-apply-to-all-SNPs\"><span class=\"toc-item-num\">5.3&nbsp;&nbsp;</span>Task: Refactor previous analysis steps into a function and apply to all SNPs</a></div><div class=\"lev3\"><a href=\"#Subtask:-Create-Manhattan-Plot-of--$-\\log_{10}(\\text{P-value})$-vs-chromosome-position\"><span class=\"toc-item-num\">5.3.1&nbsp;&nbsp;</span>Subtask: Create Manhattan Plot of  <span class=\"MathJax_Preview\" style=\"color: inherit;\"></span><span class=\"MathJax\" id=\"MathJax-Element-6-Frame\" tabindex=\"0\" data-mathml=\"<math xmlns=&quot;http://www.w3.org/1998/Math/MathML&quot;><mo>&amp;#x2212;</mo><msub><mi>log</mi><mrow class=&quot;MJX-TeXAtom-ORD&quot;><mn>10</mn></mrow></msub><mo>&amp;#x2061;</mo><mo stretchy=&quot;false&quot;>(</mo><mtext>P-value</mtext><mo stretchy=&quot;false&quot;>)</mo></math>\" role=\"presentation\" style=\"position: relative;\"><nobr aria-hidden=\"true\"><span class=\"math\" id=\"MathJax-Span-26\" role=\"math\" style=\"width: 7.919em; display: inline-block;\"><span style=\"display: inline-block; position: relative; width: 6.576em; height: 0px; font-size: 120%;\"><span style=\"position: absolute; clip: rect(1.669em 1006.53em 2.919em -999.998em); top: -2.498em; left: 0.002em;\"><span class=\"mrow\" id=\"MathJax-Span-27\"><span class=\"mo\" id=\"MathJax-Span-28\" style=\"font-family: STIXMathJax_Main;\">−</span><span class=\"msubsup\" id=\"MathJax-Span-29\" style=\"padding-left: 0.188em;\"><span style=\"display: inline-block; position: relative; width: 2.039em; height: 0px;\"><span style=\"position: absolute; clip: rect(3.15em 1001.25em 4.354em -999.998em); top: -3.979em; left: 0.002em;\"><span class=\"mi\" id=\"MathJax-Span-30\" style=\"font-family: STIXMathJax_Main;\">log</span><span style=\"display: inline-block; width: 0px; height: 3.984em;\"></span></span><span style=\"position: absolute; top: -3.748em; left: 1.299em;\"><span class=\"texatom\" id=\"MathJax-Span-31\"><span class=\"mrow\" id=\"MathJax-Span-32\"><span class=\"mn\" id=\"MathJax-Span-33\" style=\"font-size: 70.7%; font-family: STIXMathJax_Main;\">10</span></span></span><span style=\"display: inline-block; width: 0px; height: 3.984em;\"></span></span></span></span><span class=\"mo\" id=\"MathJax-Span-34\"></span><span class=\"mo\" id=\"MathJax-Span-35\" style=\"font-family: STIXMathJax_Main;\">(</span><span class=\"mtext\" id=\"MathJax-Span-36\" style=\"font-family: STIXMathJax_Main;\">P-value</span><span class=\"mo\" id=\"MathJax-Span-37\" style=\"font-family: STIXMathJax_Main;\">)</span></span><span style=\"display: inline-block; width: 0px; height: 2.502em;\"></span></span></span><span style=\"display: inline-block; overflow: hidden; vertical-align: -0.386em; border-left: 0px solid; width: 0px; height: 1.225em;\"></span></span></nobr><span class=\"MJX_Assistive_MathML\" role=\"presentation\"><math xmlns=\"http://www.w3.org/1998/Math/MathML\"><mo>−</mo><msub><mi>log</mi><mrow class=\"MJX-TeXAtom-ORD\"><mn>10</mn></mrow></msub><mo>⁡</mo><mo stretchy=\"false\">(</mo><mtext>P-value</mtext><mo stretchy=\"false\">)</mo></math></span></span><script type=\"math/tex\" id=\"MathJax-Element-6\">-\\log_{10}(\\text{P-value})</script> vs chromosome position</a></div><div class=\"lev4\"><a href=\"#Bonus-if-you-have-way-too-much-time:-Try-to-make-plot-interactive-(e.g.-add-tooltips-on-hover-using-mpld3)\"><span class=\"toc-item-num\">5.3.1.1&nbsp;&nbsp;</span>Bonus if you have way too much time: Try to make plot interactive (e.g. add tooltips on hover using mpld3)</a></div><div class=\"lev3\"><a href=\"#Subtask:-If-you-have-time,-adapt-function-so-that-it-also-supports-the-non-dominant-inheritance-models\"><span class=\"toc-item-num\">5.3.2&nbsp;&nbsp;</span>Subtask: If you have time, adapt function so that it also supports the non-dominant inheritance models</a></div><div class=\"lev2\"><a href=\"#Task:-Correct-for-Multiple-Hypothesis-Testing\"><span class=\"toc-item-num\">5.4&nbsp;&nbsp;</span>Task: Correct for Multiple Hypothesis Testing</a></div><div class=\"lev3\"><a href=\"#Subtask:-Wrap-your-MHT-correction-in-a-funtion\"><span class=\"toc-item-num\">5.4.1&nbsp;&nbsp;</span>Subtask: Wrap your MHT correction in a funtion</a></div><div class=\"lev3\"><a href=\"#Subtask:-Test-if-the-function-works-as-intended\"><span class=\"toc-item-num\">5.4.2&nbsp;&nbsp;</span>Subtask: Test if the function works as intended</a></div><div class=\"lev2\"><a href=\"#Task:-Identify-candidate-genes-from-identified-loci\"><span class=\"toc-item-num\">5.5&nbsp;&nbsp;</span>Task: Identify candidate genes from identified loci</a></div><div class=\"lev3\"><a href=\"#Subtask:-Identify-genes-in-region-identified-by-significant-loci-(consider-each-chromosome-separately)\"><span class=\"toc-item-num\">5.5.1&nbsp;&nbsp;</span>Subtask: Identify genes in region identified by significant loci (consider each chromosome separately)</a></div><div class=\"lev3\"><a href=\"#Subtask:-Check-if-the-locations-you-found-match-to-what-is-known-from-literature-about-genetics-of-mouse-coat-color\"><span class=\"toc-item-num\">5.5.2&nbsp;&nbsp;</span>Subtask: Check if the locations you found match to what is known from literature about genetics of mouse coat color</a></div><div class=\"lev1\"><a href=\"#Association-tests-between-variant(s)-and-continuous-phenotype¶\"><span class=\"toc-item-num\">6&nbsp;&nbsp;</span>Association tests between variant(s) and continuous phenotype¶</a></div><div class=\"lev2\"><a href=\"#Task:-Import-relevant-functions-from-scipy\"><span class=\"toc-item-num\">6.1&nbsp;&nbsp;</span>Task: Import relevant functions from scipy</a></div><div class=\"lev2\"><a href=\"#Task:-Load-Phenotype-spreadsheets-from-paper-supplement\"><span class=\"toc-item-num\">6.2&nbsp;&nbsp;</span>Task: Load Phenotype spreadsheets from paper supplement</a></div><div class=\"lev2\"><a href=\"#Task:-Implement-Pearson's-r-based-test-for-correlation\"><span class=\"toc-item-num\">6.3&nbsp;&nbsp;</span>Task: Implement Pearson's r-based test for correlation</a></div><div class=\"lev2\"><a href=\"#Task:-Plot-corresponding-Manhattan-Plot-(using-your-previously-defined-function)\"><span class=\"toc-item-num\">6.4&nbsp;&nbsp;</span>Task: Plot corresponding Manhattan Plot (using your previously defined function)</a></div><div class=\"lev2\"><a href=\"#Task:-Correct-for-multiple-hypothesis-testing\"><span class=\"toc-item-num\">6.5&nbsp;&nbsp;</span>Task: Correct for multiple hypothesis testing</a></div><div class=\"lev1\"><a href=\"#Run-association-tests-for-all-phenotypes-in-Biochemistry,-Hematology,-and-Blood-Pressure\"><span class=\"toc-item-num\">7&nbsp;&nbsp;</span>Run association tests for all phenotypes in Biochemistry, Hematology, and Blood Pressure</a></div><div class=\"lev2\"><a href=\"#Task:-Pick-a-testing-method-from-the-previous-tasks-that-is-applicable-for-the--phenotype-variable-type\"><span class=\"toc-item-num\">7.1&nbsp;&nbsp;</span>Task: Pick a testing method from the previous tasks that is applicable for the  phenotype variable type</a></div><div class=\"lev2\"><a href=\"#Task:-Iteratively-apply-functionality-to-all-phenotypes\"><span class=\"toc-item-num\">7.2&nbsp;&nbsp;</span>Task: Iteratively apply functionality to all phenotypes</a></div><div class=\"lev2\"><a href=\"#Task:-Extract-relevant-information-about-effect-size,-significance,-locus,...\"><span class=\"toc-item-num\">7.3&nbsp;&nbsp;</span>Task: Extract relevant information about effect size, significance, locus,...</a></div><div class=\"lev2\"><a href=\"#Task:-Interpret-results\"><span class=\"toc-item-num\">7.4&nbsp;&nbsp;</span>Task: Interpret results</a></div><div class=\"lev2\"><a href=\"#Task:-For-most-interesting-examples,-try-to-identify-possible-candidate-genes\"><span class=\"toc-item-num\">7.5&nbsp;&nbsp;</span>Task: For most interesting examples, try to identify possible candidate genes</a></div><div class=\"lev2\"><a href=\"#Task:-Quickly-compare-your-results-to-literature\"><span class=\"toc-item-num\">7.6&nbsp;&nbsp;</span>Task: Quickly compare your results to literature</a></div><div class=\"lev2\"><a href=\"#What-confounding-factors-may-have-been-ignored-in-the-current-approach?-How-could-they-be-incorporated?\"><span class=\"toc-item-num\">7.7&nbsp;&nbsp;</span>What confounding factors may have been ignored in the current approach? How could they be incorporated?</a></div><div class=\"lev2\"><a href=\"#Bonus-subtask:-Create-a-QQ-plot-of-the-expected-distribution-of-association-test-statistics-(X-axis)-compared-to-the-observed-values-(Y-axis)\"><span class=\"toc-item-num\">7.8&nbsp;&nbsp;</span>Bonus subtask: Create a QQ-plot of the expected distribution of association test statistics (X-axis) compared to the observed values (Y-axis)</a></div>"
   ]
  },
  {
   "cell_type": "markdown",
   "metadata": {},
   "source": [
    "__Set matplotlib magic__"
   ]
  },
  {
   "cell_type": "code",
   "execution_count": 243,
   "metadata": {
    "collapsed": true,
    "run_control": {
     "frozen": false,
     "read_only": false
    }
   },
   "outputs": [],
   "source": [
    "%matplotlib inline"
   ]
  },
  {
   "cell_type": "markdown",
   "metadata": {},
   "source": [
    "__Imports__"
   ]
  },
  {
   "cell_type": "code",
   "execution_count": 244,
   "metadata": {
    "collapsed": true,
    "run_control": {
     "frozen": false,
     "read_only": false
    }
   },
   "outputs": [],
   "source": [
    "import matplotlib.pyplot as plt\n",
    "import seaborn as sns\n",
    "import pandas as pd\n",
    "import numpy as np"
   ]
  },
  {
   "cell_type": "code",
   "execution_count": null,
   "metadata": {
    "collapsed": true,
    "run_control": {
     "frozen": false,
     "read_only": false
    }
   },
   "outputs": [],
   "source": []
  },
  {
   "cell_type": "markdown",
   "metadata": {},
   "source": [
    "# Today's topics\n",
    "We will try to find out which phenotypic traits are associated with genetic markers in the BXD mouse population. This will allow us to make statements about the level of heritability of several traits as well as help us identify candidate genes responsible for specific traits.\n",
    "\n",
    "There are several types of studies relevant in this context:\n",
    "\n",
    "* Single gene association studies\n",
    "* Genome wide association studies\n",
    "* Phenotype wide association studies"
   ]
  },
  {
   "cell_type": "markdown",
   "metadata": {},
   "source": [
    "# GWAS background"
   ]
  },
  {
   "cell_type": "markdown",
   "metadata": {},
   "source": [
    "http://www.ncbi.nlm.nih.gov/pmc/articles/PMC2736153/ contains information about how to use genenetwork.org to find coat color phenotype and correlate that to expression levels.\n",
    "\n",
    "There is a multitude of papers and review papers out there that describe the basic and more advanced statistical approaches to GWAS studies. The following two can be considered a good entry point to the subject.\n",
    "* Clarke, G. M. et al. __[Basic statistical analysis in genetic case-control studies](http://www.nature.com/nprot/journal/v6/n2/full/nprot.2010.182.html)__. Nature Protocols 6, 121–133 (2011).\n",
    "* McCarthy, M. I. et al. __[Genome-wide association studies for complex traits: consensus, uncertainty and challenges](http://www.nature.com/nrg/journal/v9/n5/full/nrg2344.html)__. Nature Reviews Genetics 9, 356–369 (2008)."
   ]
  },
  {
   "cell_type": "markdown",
   "metadata": {},
   "source": [
    "# Useful Resources"
   ]
  },
  {
   "cell_type": "markdown",
   "metadata": {},
   "source": [
    "## Packages\n",
    "\n",
    "### R\n",
    "* [Matrix eQTL](http://www.bios.unc.edu/research/genomic_software/Matrix_eQTL/)\n",
    "* [GWAS Tools](http://bioconductor.org/packages/release/bioc/html/GWASTools.html)\n",
    "* [GenABEL](http://www.genabel.org/)\n",
    "\n",
    "\n",
    "### Python\n",
    "* [llmlite](http://kbroman.org/lmmlite/assets/compare2pylmm.html)\n",
    "* [pylmm](http://genetics.cs.ucla.edu/pylmm/)\n",
    "* [fstlmm](http://lomereiter.github.io/2015/02/16/lmm_cov.html)\n",
    "* [pyGWAS](https://github.com/timeu/PyGWAS)\n",
    "* [krux](https://github.com/tmichoel/krux/blob/master/python/kruX.py)"
   ]
  },
  {
   "cell_type": "markdown",
   "metadata": {},
   "source": [
    "## Books\n",
    "* [James, Witten, Hastie, Tibshirani, An Introduction to Statistical Learning, Springer Texts, 2013](http://www-bcf.usc.edu/~gareth/ISL/)      \n",
    "* [MacKay, Information Theory, Inference, and Learning Algorithms, Cambridge University Press, 2005](http://www.inference.phy.cam.ac.uk/itila/book.html)\n",
    "\n",
    "\n",
    "## Tutorials\n",
    "* [Logistic regression](http://blog.yhat.com/posts/logistic-regression-and-python.html)   \n",
    "* [Linear regression](http://www.dataschool.io/linear-regression-in-python/)"
   ]
  },
  {
   "cell_type": "markdown",
   "metadata": {},
   "source": [
    "# Load data\n",
    "Before you can work with the data you have to load it and tidy it up a bit. This includes filtering rows with missing values, making sure that numeric columns are indeed of a numeric data type in the data frame, ..."
   ]
  },
  {
   "cell_type": "markdown",
   "metadata": {},
   "source": [
    "## Load genotype data as pandas dataframe\n",
    "Follow the same procedure as done yesterday. You do not have to download the file again, but can load it from your originally stored location."
   ]
  },
  {
   "cell_type": "markdown",
   "metadata": {},
   "source": [
    "__Define variable with path to data directory__"
   ]
  },
  {
   "cell_type": "code",
   "execution_count": 245,
   "metadata": {
    "collapsed": false,
    "run_control": {
     "frozen": false,
     "read_only": false
    }
   },
   "outputs": [],
   "source": [
    "path = \"/home/lucas/Documents/PIB/Integrated_Bioinformatics/IOFolder\""
   ]
  },
  {
   "cell_type": "markdown",
   "metadata": {},
   "source": [
    "__Load data__"
   ]
  },
  {
   "cell_type": "code",
   "execution_count": 246,
   "metadata": {
    "collapsed": false,
    "run_control": {
     "frozen": false,
     "read_only": false
    }
   },
   "outputs": [],
   "source": [
    "genotype = pd.read_table(path+\"/genotype.txt\",header=0,comment='@')"
   ]
  },
  {
   "cell_type": "code",
   "execution_count": 247,
   "metadata": {
    "collapsed": false
   },
   "outputs": [
    {
     "data": {
      "text/html": [
       "<div>\n",
       "<table border=\"1\" class=\"dataframe\">\n",
       "  <thead>\n",
       "    <tr style=\"text-align: right;\">\n",
       "      <th></th>\n",
       "      <th>Chr</th>\n",
       "      <th>Locus</th>\n",
       "      <th>cM</th>\n",
       "      <th>Mb</th>\n",
       "      <th>BXD1</th>\n",
       "      <th>BXD2</th>\n",
       "      <th>BXD5</th>\n",
       "      <th>BXD6</th>\n",
       "      <th>BXD8</th>\n",
       "      <th>BXD9</th>\n",
       "      <th>...</th>\n",
       "      <th>BXD90</th>\n",
       "      <th>BXD91</th>\n",
       "      <th>BXD93</th>\n",
       "      <th>BXD94</th>\n",
       "      <th>BXD95</th>\n",
       "      <th>BXD98</th>\n",
       "      <th>BXD99</th>\n",
       "      <th>BXD100</th>\n",
       "      <th>BXD101</th>\n",
       "      <th>BXD102</th>\n",
       "    </tr>\n",
       "  </thead>\n",
       "  <tbody>\n",
       "    <tr>\n",
       "      <th>0</th>\n",
       "      <td>1</td>\n",
       "      <td>rs6269442</td>\n",
       "      <td>0.000</td>\n",
       "      <td>3.482275</td>\n",
       "      <td>B</td>\n",
       "      <td>B</td>\n",
       "      <td>D</td>\n",
       "      <td>D</td>\n",
       "      <td>D</td>\n",
       "      <td>B</td>\n",
       "      <td>...</td>\n",
       "      <td>B</td>\n",
       "      <td>D</td>\n",
       "      <td>B</td>\n",
       "      <td>D</td>\n",
       "      <td>D</td>\n",
       "      <td>B</td>\n",
       "      <td>B</td>\n",
       "      <td>B</td>\n",
       "      <td>B</td>\n",
       "      <td>B</td>\n",
       "    </tr>\n",
       "    <tr>\n",
       "      <th>1</th>\n",
       "      <td>1</td>\n",
       "      <td>rs6365999</td>\n",
       "      <td>0.000</td>\n",
       "      <td>4.811062</td>\n",
       "      <td>B</td>\n",
       "      <td>B</td>\n",
       "      <td>D</td>\n",
       "      <td>D</td>\n",
       "      <td>D</td>\n",
       "      <td>B</td>\n",
       "      <td>...</td>\n",
       "      <td>B</td>\n",
       "      <td>D</td>\n",
       "      <td>B</td>\n",
       "      <td>D</td>\n",
       "      <td>D</td>\n",
       "      <td>B</td>\n",
       "      <td>B</td>\n",
       "      <td>B</td>\n",
       "      <td>B</td>\n",
       "      <td>U</td>\n",
       "    </tr>\n",
       "    <tr>\n",
       "      <th>2</th>\n",
       "      <td>1</td>\n",
       "      <td>rs6376963</td>\n",
       "      <td>0.895</td>\n",
       "      <td>5.008089</td>\n",
       "      <td>B</td>\n",
       "      <td>B</td>\n",
       "      <td>D</td>\n",
       "      <td>D</td>\n",
       "      <td>D</td>\n",
       "      <td>B</td>\n",
       "      <td>...</td>\n",
       "      <td>B</td>\n",
       "      <td>D</td>\n",
       "      <td>B</td>\n",
       "      <td>D</td>\n",
       "      <td>D</td>\n",
       "      <td>B</td>\n",
       "      <td>B</td>\n",
       "      <td>B</td>\n",
       "      <td>B</td>\n",
       "      <td>U</td>\n",
       "    </tr>\n",
       "    <tr>\n",
       "      <th>3</th>\n",
       "      <td>1</td>\n",
       "      <td>rs3677817</td>\n",
       "      <td>1.185</td>\n",
       "      <td>5.176058</td>\n",
       "      <td>B</td>\n",
       "      <td>B</td>\n",
       "      <td>D</td>\n",
       "      <td>D</td>\n",
       "      <td>D</td>\n",
       "      <td>B</td>\n",
       "      <td>...</td>\n",
       "      <td>B</td>\n",
       "      <td>D</td>\n",
       "      <td>B</td>\n",
       "      <td>D</td>\n",
       "      <td>D</td>\n",
       "      <td>B</td>\n",
       "      <td>B</td>\n",
       "      <td>B</td>\n",
       "      <td>B</td>\n",
       "      <td>U</td>\n",
       "    </tr>\n",
       "    <tr>\n",
       "      <th>4</th>\n",
       "      <td>1</td>\n",
       "      <td>rs8236463</td>\n",
       "      <td>2.081</td>\n",
       "      <td>5.579193</td>\n",
       "      <td>B</td>\n",
       "      <td>B</td>\n",
       "      <td>D</td>\n",
       "      <td>D</td>\n",
       "      <td>D</td>\n",
       "      <td>B</td>\n",
       "      <td>...</td>\n",
       "      <td>B</td>\n",
       "      <td>D</td>\n",
       "      <td>B</td>\n",
       "      <td>D</td>\n",
       "      <td>D</td>\n",
       "      <td>B</td>\n",
       "      <td>B</td>\n",
       "      <td>B</td>\n",
       "      <td>B</td>\n",
       "      <td>U</td>\n",
       "    </tr>\n",
       "  </tbody>\n",
       "</table>\n",
       "<p>5 rows × 97 columns</p>\n",
       "</div>"
      ],
      "text/plain": [
       "  Chr      Locus     cM        Mb BXD1 BXD2 BXD5 BXD6 BXD8 BXD9  ...   BXD90  \\\n",
       "0   1  rs6269442  0.000  3.482275    B    B    D    D    D    B  ...       B   \n",
       "1   1  rs6365999  0.000  4.811062    B    B    D    D    D    B  ...       B   \n",
       "2   1  rs6376963  0.895  5.008089    B    B    D    D    D    B  ...       B   \n",
       "3   1  rs3677817  1.185  5.176058    B    B    D    D    D    B  ...       B   \n",
       "4   1  rs8236463  2.081  5.579193    B    B    D    D    D    B  ...       B   \n",
       "\n",
       "  BXD91 BXD93 BXD94 BXD95 BXD98 BXD99 BXD100 BXD101 BXD102  \n",
       "0     D     B     D     D     B     B      B      B      B  \n",
       "1     D     B     D     D     B     B      B      B      U  \n",
       "2     D     B     D     D     B     B      B      B      U  \n",
       "3     D     B     D     D     B     B      B      B      U  \n",
       "4     D     B     D     D     B     B      B      B      U  \n",
       "\n",
       "[5 rows x 97 columns]"
      ]
     },
     "execution_count": 247,
     "metadata": {},
     "output_type": "execute_result"
    }
   ],
   "source": [
    "genotype.head()"
   ]
  },
  {
   "cell_type": "markdown",
   "metadata": {},
   "source": [
    "## Subtask: Set SNP-ID column as index"
   ]
  },
  {
   "cell_type": "code",
   "execution_count": null,
   "metadata": {
    "collapsed": false,
    "scrolled": true
   },
   "outputs": [],
   "source": []
  },
  {
   "cell_type": "code",
   "execution_count": 248,
   "metadata": {
    "collapsed": false,
    "run_control": {
     "frozen": false,
     "read_only": false
    }
   },
   "outputs": [],
   "source": [
    "genotype = genotype.set_index(genotype['Locus'])"
   ]
  },
  {
   "cell_type": "code",
   "execution_count": null,
   "metadata": {
    "collapsed": false
   },
   "outputs": [],
   "source": []
  },
  {
   "cell_type": "markdown",
   "metadata": {},
   "source": [
    "## Subtask: Replace categorical data strings with numerical encoding\n",
    "\n",
    "Let's assume the following mapping from the categorical variable to integers.\n",
    "\n",
    "|strain| value  |\n",
    "|------|--------|\n",
    "|  B   |  0     |\n",
    "|  H   |  1     |\n",
    "|  D   |  2     |\n",
    "|  U   | missing|"
   ]
  },
  {
   "cell_type": "code",
   "execution_count": 249,
   "metadata": {
    "collapsed": false,
    "run_control": {
     "frozen": false,
     "read_only": false
    }
   },
   "outputs": [],
   "source": [
    "for column in genotype:\n",
    "    if column.startswith('BXD'):\n",
    "       genotype[column] = genotype[column].replace({\"B\":0,\"H\":1,\"D\":2,\"U\":np.nan})"
   ]
  },
  {
   "cell_type": "code",
   "execution_count": 250,
   "metadata": {
    "collapsed": false
   },
   "outputs": [
    {
     "data": {
      "text/html": [
       "<div>\n",
       "<table border=\"1\" class=\"dataframe\">\n",
       "  <thead>\n",
       "    <tr style=\"text-align: right;\">\n",
       "      <th></th>\n",
       "      <th>Chr</th>\n",
       "      <th>Locus</th>\n",
       "      <th>cM</th>\n",
       "      <th>Mb</th>\n",
       "      <th>BXD1</th>\n",
       "      <th>BXD2</th>\n",
       "      <th>BXD5</th>\n",
       "      <th>BXD6</th>\n",
       "      <th>BXD8</th>\n",
       "      <th>BXD9</th>\n",
       "      <th>...</th>\n",
       "      <th>BXD90</th>\n",
       "      <th>BXD91</th>\n",
       "      <th>BXD93</th>\n",
       "      <th>BXD94</th>\n",
       "      <th>BXD95</th>\n",
       "      <th>BXD98</th>\n",
       "      <th>BXD99</th>\n",
       "      <th>BXD100</th>\n",
       "      <th>BXD101</th>\n",
       "      <th>BXD102</th>\n",
       "    </tr>\n",
       "    <tr>\n",
       "      <th>Locus</th>\n",
       "      <th></th>\n",
       "      <th></th>\n",
       "      <th></th>\n",
       "      <th></th>\n",
       "      <th></th>\n",
       "      <th></th>\n",
       "      <th></th>\n",
       "      <th></th>\n",
       "      <th></th>\n",
       "      <th></th>\n",
       "      <th></th>\n",
       "      <th></th>\n",
       "      <th></th>\n",
       "      <th></th>\n",
       "      <th></th>\n",
       "      <th></th>\n",
       "      <th></th>\n",
       "      <th></th>\n",
       "      <th></th>\n",
       "      <th></th>\n",
       "      <th></th>\n",
       "    </tr>\n",
       "  </thead>\n",
       "  <tbody>\n",
       "    <tr>\n",
       "      <th>rs6269442</th>\n",
       "      <td>1</td>\n",
       "      <td>rs6269442</td>\n",
       "      <td>0.000</td>\n",
       "      <td>3.482275</td>\n",
       "      <td>0</td>\n",
       "      <td>0</td>\n",
       "      <td>2</td>\n",
       "      <td>2.0</td>\n",
       "      <td>2</td>\n",
       "      <td>0</td>\n",
       "      <td>...</td>\n",
       "      <td>0.0</td>\n",
       "      <td>2</td>\n",
       "      <td>0</td>\n",
       "      <td>2.0</td>\n",
       "      <td>2</td>\n",
       "      <td>0</td>\n",
       "      <td>0</td>\n",
       "      <td>0</td>\n",
       "      <td>0.0</td>\n",
       "      <td>0.0</td>\n",
       "    </tr>\n",
       "    <tr>\n",
       "      <th>rs6365999</th>\n",
       "      <td>1</td>\n",
       "      <td>rs6365999</td>\n",
       "      <td>0.000</td>\n",
       "      <td>4.811062</td>\n",
       "      <td>0</td>\n",
       "      <td>0</td>\n",
       "      <td>2</td>\n",
       "      <td>2.0</td>\n",
       "      <td>2</td>\n",
       "      <td>0</td>\n",
       "      <td>...</td>\n",
       "      <td>0.0</td>\n",
       "      <td>2</td>\n",
       "      <td>0</td>\n",
       "      <td>2.0</td>\n",
       "      <td>2</td>\n",
       "      <td>0</td>\n",
       "      <td>0</td>\n",
       "      <td>0</td>\n",
       "      <td>0.0</td>\n",
       "      <td>NaN</td>\n",
       "    </tr>\n",
       "    <tr>\n",
       "      <th>rs6376963</th>\n",
       "      <td>1</td>\n",
       "      <td>rs6376963</td>\n",
       "      <td>0.895</td>\n",
       "      <td>5.008089</td>\n",
       "      <td>0</td>\n",
       "      <td>0</td>\n",
       "      <td>2</td>\n",
       "      <td>2.0</td>\n",
       "      <td>2</td>\n",
       "      <td>0</td>\n",
       "      <td>...</td>\n",
       "      <td>0.0</td>\n",
       "      <td>2</td>\n",
       "      <td>0</td>\n",
       "      <td>2.0</td>\n",
       "      <td>2</td>\n",
       "      <td>0</td>\n",
       "      <td>0</td>\n",
       "      <td>0</td>\n",
       "      <td>0.0</td>\n",
       "      <td>NaN</td>\n",
       "    </tr>\n",
       "    <tr>\n",
       "      <th>rs3677817</th>\n",
       "      <td>1</td>\n",
       "      <td>rs3677817</td>\n",
       "      <td>1.185</td>\n",
       "      <td>5.176058</td>\n",
       "      <td>0</td>\n",
       "      <td>0</td>\n",
       "      <td>2</td>\n",
       "      <td>2.0</td>\n",
       "      <td>2</td>\n",
       "      <td>0</td>\n",
       "      <td>...</td>\n",
       "      <td>0.0</td>\n",
       "      <td>2</td>\n",
       "      <td>0</td>\n",
       "      <td>2.0</td>\n",
       "      <td>2</td>\n",
       "      <td>0</td>\n",
       "      <td>0</td>\n",
       "      <td>0</td>\n",
       "      <td>0.0</td>\n",
       "      <td>NaN</td>\n",
       "    </tr>\n",
       "    <tr>\n",
       "      <th>rs8236463</th>\n",
       "      <td>1</td>\n",
       "      <td>rs8236463</td>\n",
       "      <td>2.081</td>\n",
       "      <td>5.579193</td>\n",
       "      <td>0</td>\n",
       "      <td>0</td>\n",
       "      <td>2</td>\n",
       "      <td>2.0</td>\n",
       "      <td>2</td>\n",
       "      <td>0</td>\n",
       "      <td>...</td>\n",
       "      <td>0.0</td>\n",
       "      <td>2</td>\n",
       "      <td>0</td>\n",
       "      <td>2.0</td>\n",
       "      <td>2</td>\n",
       "      <td>0</td>\n",
       "      <td>0</td>\n",
       "      <td>0</td>\n",
       "      <td>0.0</td>\n",
       "      <td>NaN</td>\n",
       "    </tr>\n",
       "  </tbody>\n",
       "</table>\n",
       "<p>5 rows × 97 columns</p>\n",
       "</div>"
      ],
      "text/plain": [
       "          Chr      Locus     cM        Mb  BXD1  BXD2  BXD5  BXD6  BXD8  BXD9  \\\n",
       "Locus                                                                           \n",
       "rs6269442   1  rs6269442  0.000  3.482275     0     0     2   2.0     2     0   \n",
       "rs6365999   1  rs6365999  0.000  4.811062     0     0     2   2.0     2     0   \n",
       "rs6376963   1  rs6376963  0.895  5.008089     0     0     2   2.0     2     0   \n",
       "rs3677817   1  rs3677817  1.185  5.176058     0     0     2   2.0     2     0   \n",
       "rs8236463   1  rs8236463  2.081  5.579193     0     0     2   2.0     2     0   \n",
       "\n",
       "            ...    BXD90  BXD91  BXD93  BXD94  BXD95  BXD98  BXD99  BXD100  \\\n",
       "Locus       ...                                                              \n",
       "rs6269442   ...      0.0      2      0    2.0      2      0      0       0   \n",
       "rs6365999   ...      0.0      2      0    2.0      2      0      0       0   \n",
       "rs6376963   ...      0.0      2      0    2.0      2      0      0       0   \n",
       "rs3677817   ...      0.0      2      0    2.0      2      0      0       0   \n",
       "rs8236463   ...      0.0      2      0    2.0      2      0      0       0   \n",
       "\n",
       "           BXD101  BXD102  \n",
       "Locus                      \n",
       "rs6269442     0.0     0.0  \n",
       "rs6365999     0.0     NaN  \n",
       "rs6376963     0.0     NaN  \n",
       "rs3677817     0.0     NaN  \n",
       "rs8236463     0.0     NaN  \n",
       "\n",
       "[5 rows x 97 columns]"
      ]
     },
     "execution_count": 250,
     "metadata": {},
     "output_type": "execute_result"
    }
   ],
   "source": [
    "genotype.head()"
   ]
  },
  {
   "cell_type": "code",
   "execution_count": 49,
   "metadata": {
    "collapsed": false
   },
   "outputs": [],
   "source": []
  },
  {
   "cell_type": "markdown",
   "metadata": {},
   "source": [
    "## Subtask: Drop rows with unknown genotypes"
   ]
  },
  {
   "cell_type": "code",
   "execution_count": 251,
   "metadata": {
    "collapsed": true,
    "run_control": {
     "frozen": false,
     "read_only": false
    }
   },
   "outputs": [],
   "source": [
    "genotype = genotype.dropna()"
   ]
  },
  {
   "cell_type": "markdown",
   "metadata": {},
   "source": [
    "## Dowload categorical data from genenetworks.org"
   ]
  },
  {
   "cell_type": "markdown",
   "metadata": {},
   "source": [
    "Most mouse phenotype data is available at genenetwork.org. This includes nearly all published phenotype measurements. You can access individual measurements from that repository using the search mask:\n",
    "1. Go to http://gn2.genenetwork.org/\n",
    "2. In \"Select and Search\" fill in:\n",
    "    1. Species: Mouse\n",
    "    2. Group: BXD\n",
    "    3. Type: Phenotypes\n",
    "    4. Dataset: BXD Published Phenotypes\n",
    "3. Enter the <trait of interest> in the \"Get any\" field\n",
    "4. Search\n",
    "\n",
    "For getting data on the coat color of BXD mice use \"coat color\" as search term and select RecordID/11280 to get to the corresponding __Trait Data and Analysis__ page. There you can download the data as text file."
   ]
  },
  {
   "cell_type": "markdown",
   "metadata": {
    "collapsed": true,
    "run_control": {
     "frozen": false,
     "read_only": false
    }
   },
   "source": [
    "## Load phenotype data (coat color)"
   ]
  },
  {
   "cell_type": "markdown",
   "metadata": {},
   "source": [
    "From the source of the genotype data we know the mapping between the categorical color value\n",
    "and the actual color.\n",
    "\n",
    "|color  | value  |\n",
    "|-------|--------|\n",
    "| black |  4     |\n",
    "| grey  |  3     |\n",
    "| brown |  2     |\n",
    "| dilute|  1     |"
   ]
  },
  {
   "cell_type": "code",
   "execution_count": 255,
   "metadata": {
    "collapsed": false,
    "run_control": {
     "frozen": false,
     "read_only": false
    }
   },
   "outputs": [],
   "source": [
    "phenotype = pd.read_excel(path+'/sample_data.xlsx',header=None)"
   ]
  },
  {
   "cell_type": "code",
   "execution_count": 257,
   "metadata": {
    "collapsed": false,
    "run_control": {
     "frozen": false,
     "read_only": false
    },
    "scrolled": true
   },
   "outputs": [],
   "source": [
    "phenotype.columns=['Strain Name','Coat Color']"
   ]
  },
  {
   "cell_type": "code",
   "execution_count": 258,
   "metadata": {
    "collapsed": false
   },
   "outputs": [
    {
     "data": {
      "text/html": [
       "<div>\n",
       "<table border=\"1\" class=\"dataframe\">\n",
       "  <thead>\n",
       "    <tr style=\"text-align: right;\">\n",
       "      <th></th>\n",
       "      <th>Strain Name</th>\n",
       "      <th>Coat Color</th>\n",
       "    </tr>\n",
       "  </thead>\n",
       "  <tbody>\n",
       "    <tr>\n",
       "      <th>0</th>\n",
       "      <td>C57BL/6J</td>\n",
       "      <td>4.000</td>\n",
       "    </tr>\n",
       "    <tr>\n",
       "      <th>1</th>\n",
       "      <td>DBA/2J</td>\n",
       "      <td>1.000</td>\n",
       "    </tr>\n",
       "    <tr>\n",
       "      <th>2</th>\n",
       "      <td>B6D2F1</td>\n",
       "      <td>4.000</td>\n",
       "    </tr>\n",
       "    <tr>\n",
       "      <th>3</th>\n",
       "      <td>D2B6F1</td>\n",
       "      <td>4.000</td>\n",
       "    </tr>\n",
       "    <tr>\n",
       "      <th>4</th>\n",
       "      <td>BXD1</td>\n",
       "      <td>1.000</td>\n",
       "    </tr>\n",
       "  </tbody>\n",
       "</table>\n",
       "</div>"
      ],
      "text/plain": [
       "  Strain Name Coat Color\n",
       "0    C57BL/6J      4.000\n",
       "1      DBA/2J      1.000\n",
       "2      B6D2F1      4.000\n",
       "3      D2B6F1      4.000\n",
       "4        BXD1      1.000"
      ]
     },
     "execution_count": 258,
     "metadata": {},
     "output_type": "execute_result"
    }
   ],
   "source": [
    "phenotype.head()"
   ]
  },
  {
   "cell_type": "markdown",
   "metadata": {},
   "source": [
    " Hair coat color, ordinal scale version 2 where black=4, grey=3, brown=2, dba dilute=1 "
   ]
  },
  {
   "cell_type": "markdown",
   "metadata": {},
   "source": [
    "__Set index to strain names__"
   ]
  },
  {
   "cell_type": "code",
   "execution_count": 259,
   "metadata": {
    "collapsed": false,
    "run_control": {
     "frozen": false,
     "read_only": false
    }
   },
   "outputs": [],
   "source": [
    "phenotype = phenotype.set_index(phenotype['Strain Name'])"
   ]
  },
  {
   "cell_type": "code",
   "execution_count": null,
   "metadata": {
    "collapsed": true
   },
   "outputs": [],
   "source": []
  },
  {
   "cell_type": "markdown",
   "metadata": {},
   "source": [
    "## Subtask: remove rows with missing data"
   ]
  },
  {
   "cell_type": "code",
   "execution_count": 260,
   "metadata": {
    "collapsed": false,
    "run_control": {
     "frozen": false,
     "read_only": false
    }
   },
   "outputs": [],
   "source": [
    "phenoytpe = phenotype.dropna()\n"
   ]
  },
  {
   "cell_type": "code",
   "execution_count": 85,
   "metadata": {
    "collapsed": false,
    "run_control": {
     "frozen": false,
     "read_only": false
    }
   },
   "outputs": [],
   "source": []
  },
  {
   "cell_type": "markdown",
   "metadata": {},
   "source": [
    "## Convert data to numeric"
   ]
  },
  {
   "cell_type": "code",
   "execution_count": 261,
   "metadata": {
    "collapsed": false,
    "run_control": {
     "frozen": false,
     "read_only": false
    }
   },
   "outputs": [],
   "source": [
    "phenotype = pd.to_numeric(phenotype['Coat Color'],errors='coerce')"
   ]
  },
  {
   "cell_type": "code",
   "execution_count": 262,
   "metadata": {
    "collapsed": false
   },
   "outputs": [
    {
     "data": {
      "text/plain": [
       "Strain Name\n",
       "C57BL/6J    4.0\n",
       "DBA/2J      1.0\n",
       "B6D2F1      4.0\n",
       "D2B6F1      4.0\n",
       "BXD1        1.0\n",
       "Name: Coat Color, dtype: float64"
      ]
     },
     "execution_count": 262,
     "metadata": {},
     "output_type": "execute_result"
    }
   ],
   "source": [
    "phenotype.head()"
   ]
  },
  {
   "cell_type": "markdown",
   "metadata": {},
   "source": [
    "# Association tests between variant(s) and categorical phenotype\n",
    "We will first start testing SNPs for their association with an easily characterizable phenotype: coat color. As you could see in the slides, BXD mice come in different colors (black, brown, dilute) and as you know, hair color is heritable. In this task you will thus try to find candidate genes that are involved in coat color determination in the mouse population."
   ]
  },
  {
   "cell_type": "markdown",
   "metadata": {},
   "source": [
    "__Show head of genotype data__"
   ]
  },
  {
   "cell_type": "code",
   "execution_count": 263,
   "metadata": {
    "collapsed": false,
    "run_control": {
     "frozen": false,
     "read_only": false
    }
   },
   "outputs": [
    {
     "data": {
      "text/html": [
       "<div>\n",
       "<table border=\"1\" class=\"dataframe\">\n",
       "  <thead>\n",
       "    <tr style=\"text-align: right;\">\n",
       "      <th></th>\n",
       "      <th>Chr</th>\n",
       "      <th>Locus</th>\n",
       "      <th>cM</th>\n",
       "      <th>Mb</th>\n",
       "      <th>BXD1</th>\n",
       "      <th>BXD2</th>\n",
       "      <th>BXD5</th>\n",
       "      <th>BXD6</th>\n",
       "      <th>BXD8</th>\n",
       "      <th>BXD9</th>\n",
       "      <th>...</th>\n",
       "      <th>BXD90</th>\n",
       "      <th>BXD91</th>\n",
       "      <th>BXD93</th>\n",
       "      <th>BXD94</th>\n",
       "      <th>BXD95</th>\n",
       "      <th>BXD98</th>\n",
       "      <th>BXD99</th>\n",
       "      <th>BXD100</th>\n",
       "      <th>BXD101</th>\n",
       "      <th>BXD102</th>\n",
       "    </tr>\n",
       "    <tr>\n",
       "      <th>Locus</th>\n",
       "      <th></th>\n",
       "      <th></th>\n",
       "      <th></th>\n",
       "      <th></th>\n",
       "      <th></th>\n",
       "      <th></th>\n",
       "      <th></th>\n",
       "      <th></th>\n",
       "      <th></th>\n",
       "      <th></th>\n",
       "      <th></th>\n",
       "      <th></th>\n",
       "      <th></th>\n",
       "      <th></th>\n",
       "      <th></th>\n",
       "      <th></th>\n",
       "      <th></th>\n",
       "      <th></th>\n",
       "      <th></th>\n",
       "      <th></th>\n",
       "      <th></th>\n",
       "    </tr>\n",
       "  </thead>\n",
       "  <tbody>\n",
       "    <tr>\n",
       "      <th>rs6269442</th>\n",
       "      <td>1</td>\n",
       "      <td>rs6269442</td>\n",
       "      <td>0.000</td>\n",
       "      <td>3.482275</td>\n",
       "      <td>0</td>\n",
       "      <td>0</td>\n",
       "      <td>2</td>\n",
       "      <td>2.0</td>\n",
       "      <td>2</td>\n",
       "      <td>0</td>\n",
       "      <td>...</td>\n",
       "      <td>0.0</td>\n",
       "      <td>2</td>\n",
       "      <td>0</td>\n",
       "      <td>2.0</td>\n",
       "      <td>2</td>\n",
       "      <td>0</td>\n",
       "      <td>0</td>\n",
       "      <td>0</td>\n",
       "      <td>0.0</td>\n",
       "      <td>0.0</td>\n",
       "    </tr>\n",
       "    <tr>\n",
       "      <th>rs6241531</th>\n",
       "      <td>1</td>\n",
       "      <td>rs6241531</td>\n",
       "      <td>2.367</td>\n",
       "      <td>9.995925</td>\n",
       "      <td>0</td>\n",
       "      <td>0</td>\n",
       "      <td>2</td>\n",
       "      <td>2.0</td>\n",
       "      <td>2</td>\n",
       "      <td>0</td>\n",
       "      <td>...</td>\n",
       "      <td>0.0</td>\n",
       "      <td>2</td>\n",
       "      <td>0</td>\n",
       "      <td>2.0</td>\n",
       "      <td>2</td>\n",
       "      <td>0</td>\n",
       "      <td>0</td>\n",
       "      <td>0</td>\n",
       "      <td>0.0</td>\n",
       "      <td>2.0</td>\n",
       "    </tr>\n",
       "    <tr>\n",
       "      <th>rs6360236</th>\n",
       "      <td>1</td>\n",
       "      <td>rs6360236</td>\n",
       "      <td>3.263</td>\n",
       "      <td>11.073904</td>\n",
       "      <td>0</td>\n",
       "      <td>0</td>\n",
       "      <td>2</td>\n",
       "      <td>2.0</td>\n",
       "      <td>2</td>\n",
       "      <td>0</td>\n",
       "      <td>...</td>\n",
       "      <td>0.0</td>\n",
       "      <td>2</td>\n",
       "      <td>0</td>\n",
       "      <td>2.0</td>\n",
       "      <td>2</td>\n",
       "      <td>0</td>\n",
       "      <td>0</td>\n",
       "      <td>0</td>\n",
       "      <td>0.0</td>\n",
       "      <td>2.0</td>\n",
       "    </tr>\n",
       "    <tr>\n",
       "      <th>rs3722996</th>\n",
       "      <td>1</td>\n",
       "      <td>rs3722996</td>\n",
       "      <td>3.263</td>\n",
       "      <td>11.259432</td>\n",
       "      <td>0</td>\n",
       "      <td>0</td>\n",
       "      <td>2</td>\n",
       "      <td>2.0</td>\n",
       "      <td>2</td>\n",
       "      <td>0</td>\n",
       "      <td>...</td>\n",
       "      <td>0.0</td>\n",
       "      <td>2</td>\n",
       "      <td>0</td>\n",
       "      <td>2.0</td>\n",
       "      <td>2</td>\n",
       "      <td>0</td>\n",
       "      <td>0</td>\n",
       "      <td>0</td>\n",
       "      <td>0.0</td>\n",
       "      <td>2.0</td>\n",
       "    </tr>\n",
       "    <tr>\n",
       "      <th>D1Mit1</th>\n",
       "      <td>1</td>\n",
       "      <td>D1Mit1</td>\n",
       "      <td>3.549</td>\n",
       "      <td>11.505582</td>\n",
       "      <td>0</td>\n",
       "      <td>0</td>\n",
       "      <td>2</td>\n",
       "      <td>2.0</td>\n",
       "      <td>2</td>\n",
       "      <td>0</td>\n",
       "      <td>...</td>\n",
       "      <td>0.0</td>\n",
       "      <td>2</td>\n",
       "      <td>0</td>\n",
       "      <td>2.0</td>\n",
       "      <td>2</td>\n",
       "      <td>0</td>\n",
       "      <td>0</td>\n",
       "      <td>0</td>\n",
       "      <td>0.0</td>\n",
       "      <td>2.0</td>\n",
       "    </tr>\n",
       "  </tbody>\n",
       "</table>\n",
       "<p>5 rows × 97 columns</p>\n",
       "</div>"
      ],
      "text/plain": [
       "          Chr      Locus     cM         Mb  BXD1  BXD2  BXD5  BXD6  BXD8  \\\n",
       "Locus                                                                      \n",
       "rs6269442   1  rs6269442  0.000   3.482275     0     0     2   2.0     2   \n",
       "rs6241531   1  rs6241531  2.367   9.995925     0     0     2   2.0     2   \n",
       "rs6360236   1  rs6360236  3.263  11.073904     0     0     2   2.0     2   \n",
       "rs3722996   1  rs3722996  3.263  11.259432     0     0     2   2.0     2   \n",
       "D1Mit1      1     D1Mit1  3.549  11.505582     0     0     2   2.0     2   \n",
       "\n",
       "           BXD9   ...    BXD90  BXD91  BXD93  BXD94  BXD95  BXD98  BXD99  \\\n",
       "Locus             ...                                                      \n",
       "rs6269442     0   ...      0.0      2      0    2.0      2      0      0   \n",
       "rs6241531     0   ...      0.0      2      0    2.0      2      0      0   \n",
       "rs6360236     0   ...      0.0      2      0    2.0      2      0      0   \n",
       "rs3722996     0   ...      0.0      2      0    2.0      2      0      0   \n",
       "D1Mit1        0   ...      0.0      2      0    2.0      2      0      0   \n",
       "\n",
       "           BXD100  BXD101  BXD102  \n",
       "Locus                              \n",
       "rs6269442       0     0.0     0.0  \n",
       "rs6241531       0     0.0     2.0  \n",
       "rs6360236       0     0.0     2.0  \n",
       "rs3722996       0     0.0     2.0  \n",
       "D1Mit1          0     0.0     2.0  \n",
       "\n",
       "[5 rows x 97 columns]"
      ]
     },
     "execution_count": 263,
     "metadata": {},
     "output_type": "execute_result"
    }
   ],
   "source": [
    "genotype.head()"
   ]
  },
  {
   "cell_type": "markdown",
   "metadata": {},
   "source": [
    "## Task: Perfom association test for a single SNP using $\\chi^2$ test and odds ratio"
   ]
  },
  {
   "cell_type": "markdown",
   "metadata": {},
   "source": [
    "### Subtask: Extract row of a single SNP (e.g. rs6232550)"
   ]
  },
  {
   "cell_type": "markdown",
   "metadata": {},
   "source": [
    "__Extract using loc or ix__"
   ]
  },
  {
   "cell_type": "code",
   "execution_count": 264,
   "metadata": {
    "collapsed": true
   },
   "outputs": [],
   "source": [
    "rs6232550 = genotype.ix['rs6232550']"
   ]
  },
  {
   "cell_type": "code",
   "execution_count": null,
   "metadata": {
    "collapsed": false,
    "run_control": {
     "frozen": false,
     "read_only": false
    }
   },
   "outputs": [],
   "source": []
  },
  {
   "cell_type": "markdown",
   "metadata": {},
   "source": [
    "__Check if it worked__"
   ]
  },
  {
   "cell_type": "code",
   "execution_count": 265,
   "metadata": {
    "collapsed": false,
    "run_control": {
     "frozen": false,
     "read_only": false
    }
   },
   "outputs": [
    {
     "data": {
      "text/plain": [
       "Chr              4\n",
       "Locus    rs6232550\n",
       "cM          24.021\n",
       "Mb         40.9726\n",
       "BXD1             2\n",
       "Name: rs6232550, dtype: object"
      ]
     },
     "execution_count": 265,
     "metadata": {},
     "output_type": "execute_result"
    }
   ],
   "source": [
    "rs6232550.head()"
   ]
  },
  {
   "cell_type": "markdown",
   "metadata": {},
   "source": [
    "### Subtask: Remove all non-strain genotye columns"
   ]
  },
  {
   "cell_type": "code",
   "execution_count": 266,
   "metadata": {
    "collapsed": false,
    "run_control": {
     "frozen": false,
     "read_only": false
    }
   },
   "outputs": [],
   "source": [
    "genotype = genotype.drop([\"Locus\",\"Chr\",\"cM\",\"Mb\"],axis=1)"
   ]
  },
  {
   "cell_type": "code",
   "execution_count": null,
   "metadata": {
    "collapsed": false
   },
   "outputs": [],
   "source": []
  },
  {
   "cell_type": "markdown",
   "metadata": {},
   "source": [
    "### Subtask: Transpose row so that it has the same format as the genotype data"
   ]
  },
  {
   "cell_type": "code",
   "execution_count": 329,
   "metadata": {
    "collapsed": false,
    "run_control": {
     "frozen": false,
     "read_only": false
    }
   },
   "outputs": [],
   "source": [
    "rs6232550 = pd.DataFrame(rs6232550)"
   ]
  },
  {
   "cell_type": "code",
   "execution_count": 333,
   "metadata": {
    "collapsed": false
   },
   "outputs": [
    {
     "data": {
      "text/html": [
       "<div>\n",
       "<table border=\"1\" class=\"dataframe\">\n",
       "  <thead>\n",
       "    <tr style=\"text-align: right;\">\n",
       "      <th></th>\n",
       "      <th>rs6232550</th>\n",
       "    </tr>\n",
       "  </thead>\n",
       "  <tbody>\n",
       "    <tr>\n",
       "      <th>Chr</th>\n",
       "      <td>4</td>\n",
       "    </tr>\n",
       "    <tr>\n",
       "      <th>Locus</th>\n",
       "      <td>rs6232550</td>\n",
       "    </tr>\n",
       "    <tr>\n",
       "      <th>cM</th>\n",
       "      <td>24.021</td>\n",
       "    </tr>\n",
       "    <tr>\n",
       "      <th>Mb</th>\n",
       "      <td>40.9726</td>\n",
       "    </tr>\n",
       "    <tr>\n",
       "      <th>BXD1</th>\n",
       "      <td>2</td>\n",
       "    </tr>\n",
       "  </tbody>\n",
       "</table>\n",
       "</div>"
      ],
      "text/plain": [
       "       rs6232550\n",
       "Chr            4\n",
       "Locus  rs6232550\n",
       "cM        24.021\n",
       "Mb       40.9726\n",
       "BXD1           2"
      ]
     },
     "execution_count": 333,
     "metadata": {},
     "output_type": "execute_result"
    }
   ],
   "source": [
    "rs6232550.head()"
   ]
  },
  {
   "cell_type": "code",
   "execution_count": 296,
   "metadata": {
    "collapsed": false,
    "scrolled": true
   },
   "outputs": [
    {
     "data": {
      "text/html": [
       "<div>\n",
       "<table border=\"1\" class=\"dataframe\">\n",
       "  <thead>\n",
       "    <tr style=\"text-align: right;\">\n",
       "      <th></th>\n",
       "      <th>Coat Color</th>\n",
       "    </tr>\n",
       "    <tr>\n",
       "      <th>Strain Name</th>\n",
       "      <th></th>\n",
       "    </tr>\n",
       "  </thead>\n",
       "  <tbody>\n",
       "    <tr>\n",
       "      <th>C57BL/6J</th>\n",
       "      <td>4.0</td>\n",
       "    </tr>\n",
       "    <tr>\n",
       "      <th>DBA/2J</th>\n",
       "      <td>1.0</td>\n",
       "    </tr>\n",
       "    <tr>\n",
       "      <th>B6D2F1</th>\n",
       "      <td>4.0</td>\n",
       "    </tr>\n",
       "    <tr>\n",
       "      <th>D2B6F1</th>\n",
       "      <td>4.0</td>\n",
       "    </tr>\n",
       "    <tr>\n",
       "      <th>BXD1</th>\n",
       "      <td>1.0</td>\n",
       "    </tr>\n",
       "  </tbody>\n",
       "</table>\n",
       "</div>"
      ],
      "text/plain": [
       "             Coat Color\n",
       "Strain Name            \n",
       "C57BL/6J            4.0\n",
       "DBA/2J              1.0\n",
       "B6D2F1              4.0\n",
       "D2B6F1              4.0\n",
       "BXD1                1.0"
      ]
     },
     "execution_count": 296,
     "metadata": {},
     "output_type": "execute_result"
    }
   ],
   "source": [
    "phenotype.head()"
   ]
  },
  {
   "cell_type": "markdown",
   "metadata": {},
   "source": [
    "### Subtask: Combine SNP data with phenotype data"
   ]
  },
  {
   "cell_type": "code",
   "execution_count": 279,
   "metadata": {
    "collapsed": false
   },
   "outputs": [],
   "source": [
    "phenotype = pd.DataFrame(phenotype)"
   ]
  },
  {
   "cell_type": "code",
   "execution_count": 334,
   "metadata": {
    "collapsed": false,
    "scrolled": true
   },
   "outputs": [],
   "source": [
    "merged = rs6232550.join(phenotype)"
   ]
  },
  {
   "cell_type": "code",
   "execution_count": null,
   "metadata": {
    "collapsed": true,
    "run_control": {
     "frozen": false,
     "read_only": false
    }
   },
   "outputs": [],
   "source": []
  },
  {
   "cell_type": "markdown",
   "metadata": {},
   "source": [
    "### Subtask: Check that the merging worked"
   ]
  },
  {
   "cell_type": "code",
   "execution_count": 338,
   "metadata": {
    "collapsed": false,
    "run_control": {
     "frozen": false,
     "read_only": false
    },
    "scrolled": true
   },
   "outputs": [],
   "source": [
    "merged = merged.dropna()"
   ]
  },
  {
   "cell_type": "code",
   "execution_count": 351,
   "metadata": {
    "collapsed": true
   },
   "outputs": [],
   "source": [
    "merged = merged.T"
   ]
  },
  {
   "cell_type": "code",
   "execution_count": 477,
   "metadata": {
    "collapsed": false,
    "run_control": {
     "frozen": false,
     "read_only": false
    }
   },
   "outputs": [
    {
     "data": {
      "text/html": [
       "<div>\n",
       "<table border=\"1\" class=\"dataframe\">\n",
       "  <thead>\n",
       "    <tr style=\"text-align: right;\">\n",
       "      <th></th>\n",
       "      <th>rs6232550</th>\n",
       "      <th>Coat Color</th>\n",
       "    </tr>\n",
       "  </thead>\n",
       "  <tbody>\n",
       "    <tr>\n",
       "      <th>BXD1</th>\n",
       "      <td>2</td>\n",
       "      <td>1</td>\n",
       "    </tr>\n",
       "    <tr>\n",
       "      <th>BXD2</th>\n",
       "      <td>0</td>\n",
       "      <td>4</td>\n",
       "    </tr>\n",
       "    <tr>\n",
       "      <th>BXD5</th>\n",
       "      <td>0</td>\n",
       "      <td>3</td>\n",
       "    </tr>\n",
       "    <tr>\n",
       "      <th>BXD6</th>\n",
       "      <td>0</td>\n",
       "      <td>3</td>\n",
       "    </tr>\n",
       "    <tr>\n",
       "      <th>BXD8</th>\n",
       "      <td>0</td>\n",
       "      <td>3</td>\n",
       "    </tr>\n",
       "    <tr>\n",
       "      <th>BXD9</th>\n",
       "      <td>0</td>\n",
       "      <td>1</td>\n",
       "    </tr>\n",
       "    <tr>\n",
       "      <th>BXD11</th>\n",
       "      <td>0</td>\n",
       "      <td>4</td>\n",
       "    </tr>\n",
       "    <tr>\n",
       "      <th>BXD12</th>\n",
       "      <td>0</td>\n",
       "      <td>3</td>\n",
       "    </tr>\n",
       "    <tr>\n",
       "      <th>BXD13</th>\n",
       "      <td>2</td>\n",
       "      <td>2</td>\n",
       "    </tr>\n",
       "    <tr>\n",
       "      <th>BXD14</th>\n",
       "      <td>0</td>\n",
       "      <td>4</td>\n",
       "    </tr>\n",
       "    <tr>\n",
       "      <th>BXD15</th>\n",
       "      <td>0</td>\n",
       "      <td>2</td>\n",
       "    </tr>\n",
       "    <tr>\n",
       "      <th>BXD16</th>\n",
       "      <td>0</td>\n",
       "      <td>3</td>\n",
       "    </tr>\n",
       "    <tr>\n",
       "      <th>BXD18</th>\n",
       "      <td>0</td>\n",
       "      <td>3</td>\n",
       "    </tr>\n",
       "    <tr>\n",
       "      <th>BXD19</th>\n",
       "      <td>0</td>\n",
       "      <td>3</td>\n",
       "    </tr>\n",
       "    <tr>\n",
       "      <th>BXD20</th>\n",
       "      <td>0</td>\n",
       "      <td>4</td>\n",
       "    </tr>\n",
       "    <tr>\n",
       "      <th>BXD21</th>\n",
       "      <td>2</td>\n",
       "      <td>1</td>\n",
       "    </tr>\n",
       "    <tr>\n",
       "      <th>BXD22</th>\n",
       "      <td>2</td>\n",
       "      <td>3</td>\n",
       "    </tr>\n",
       "    <tr>\n",
       "      <th>BXD23</th>\n",
       "      <td>0</td>\n",
       "      <td>4</td>\n",
       "    </tr>\n",
       "    <tr>\n",
       "      <th>BXD24</th>\n",
       "      <td>2</td>\n",
       "      <td>2</td>\n",
       "    </tr>\n",
       "    <tr>\n",
       "      <th>BXD24a</th>\n",
       "      <td>2</td>\n",
       "      <td>2</td>\n",
       "    </tr>\n",
       "    <tr>\n",
       "      <th>BXD25</th>\n",
       "      <td>2</td>\n",
       "      <td>2</td>\n",
       "    </tr>\n",
       "    <tr>\n",
       "      <th>BXD27</th>\n",
       "      <td>0</td>\n",
       "      <td>2</td>\n",
       "    </tr>\n",
       "    <tr>\n",
       "      <th>BXD28</th>\n",
       "      <td>0</td>\n",
       "      <td>2</td>\n",
       "    </tr>\n",
       "    <tr>\n",
       "      <th>BXD29</th>\n",
       "      <td>0</td>\n",
       "      <td>3</td>\n",
       "    </tr>\n",
       "    <tr>\n",
       "      <th>BXD30</th>\n",
       "      <td>2</td>\n",
       "      <td>1</td>\n",
       "    </tr>\n",
       "    <tr>\n",
       "      <th>BXD31</th>\n",
       "      <td>0</td>\n",
       "      <td>4</td>\n",
       "    </tr>\n",
       "    <tr>\n",
       "      <th>BXD32</th>\n",
       "      <td>0</td>\n",
       "      <td>4</td>\n",
       "    </tr>\n",
       "    <tr>\n",
       "      <th>BXD33</th>\n",
       "      <td>0</td>\n",
       "      <td>3</td>\n",
       "    </tr>\n",
       "    <tr>\n",
       "      <th>BXD34</th>\n",
       "      <td>0</td>\n",
       "      <td>4</td>\n",
       "    </tr>\n",
       "    <tr>\n",
       "      <th>BXD35</th>\n",
       "      <td>0</td>\n",
       "      <td>4</td>\n",
       "    </tr>\n",
       "    <tr>\n",
       "      <th>...</th>\n",
       "      <td>...</td>\n",
       "      <td>...</td>\n",
       "    </tr>\n",
       "    <tr>\n",
       "      <th>BXD70</th>\n",
       "      <td>2</td>\n",
       "      <td>1</td>\n",
       "    </tr>\n",
       "    <tr>\n",
       "      <th>BXD71</th>\n",
       "      <td>0</td>\n",
       "      <td>1</td>\n",
       "    </tr>\n",
       "    <tr>\n",
       "      <th>BXD72</th>\n",
       "      <td>0</td>\n",
       "      <td>2</td>\n",
       "    </tr>\n",
       "    <tr>\n",
       "      <th>BXD73</th>\n",
       "      <td>1</td>\n",
       "      <td>1</td>\n",
       "    </tr>\n",
       "    <tr>\n",
       "      <th>BXD73a</th>\n",
       "      <td>2</td>\n",
       "      <td>1</td>\n",
       "    </tr>\n",
       "    <tr>\n",
       "      <th>BXD73b</th>\n",
       "      <td>2</td>\n",
       "      <td>1</td>\n",
       "    </tr>\n",
       "    <tr>\n",
       "      <th>BXD74</th>\n",
       "      <td>2</td>\n",
       "      <td>2</td>\n",
       "    </tr>\n",
       "    <tr>\n",
       "      <th>BXD75</th>\n",
       "      <td>0</td>\n",
       "      <td>1</td>\n",
       "    </tr>\n",
       "    <tr>\n",
       "      <th>BXD76</th>\n",
       "      <td>0</td>\n",
       "      <td>3</td>\n",
       "    </tr>\n",
       "    <tr>\n",
       "      <th>BXD77</th>\n",
       "      <td>0</td>\n",
       "      <td>1</td>\n",
       "    </tr>\n",
       "    <tr>\n",
       "      <th>BXD78</th>\n",
       "      <td>0</td>\n",
       "      <td>2</td>\n",
       "    </tr>\n",
       "    <tr>\n",
       "      <th>BXD79</th>\n",
       "      <td>2</td>\n",
       "      <td>3</td>\n",
       "    </tr>\n",
       "    <tr>\n",
       "      <th>BXD81</th>\n",
       "      <td>0</td>\n",
       "      <td>1</td>\n",
       "    </tr>\n",
       "    <tr>\n",
       "      <th>BXD83</th>\n",
       "      <td>2</td>\n",
       "      <td>1</td>\n",
       "    </tr>\n",
       "    <tr>\n",
       "      <th>BXD84</th>\n",
       "      <td>2</td>\n",
       "      <td>1</td>\n",
       "    </tr>\n",
       "    <tr>\n",
       "      <th>BXD85</th>\n",
       "      <td>0</td>\n",
       "      <td>1</td>\n",
       "    </tr>\n",
       "    <tr>\n",
       "      <th>BXD86</th>\n",
       "      <td>0</td>\n",
       "      <td>4</td>\n",
       "    </tr>\n",
       "    <tr>\n",
       "      <th>BXD87</th>\n",
       "      <td>1</td>\n",
       "      <td>4</td>\n",
       "    </tr>\n",
       "    <tr>\n",
       "      <th>BXD88</th>\n",
       "      <td>2</td>\n",
       "      <td>2</td>\n",
       "    </tr>\n",
       "    <tr>\n",
       "      <th>BXD89</th>\n",
       "      <td>0</td>\n",
       "      <td>1</td>\n",
       "    </tr>\n",
       "    <tr>\n",
       "      <th>BXD90</th>\n",
       "      <td>2</td>\n",
       "      <td>1</td>\n",
       "    </tr>\n",
       "    <tr>\n",
       "      <th>BXD91</th>\n",
       "      <td>0</td>\n",
       "      <td>1</td>\n",
       "    </tr>\n",
       "    <tr>\n",
       "      <th>BXD93</th>\n",
       "      <td>0</td>\n",
       "      <td>1</td>\n",
       "    </tr>\n",
       "    <tr>\n",
       "      <th>BXD94</th>\n",
       "      <td>2</td>\n",
       "      <td>3</td>\n",
       "    </tr>\n",
       "    <tr>\n",
       "      <th>BXD95</th>\n",
       "      <td>0</td>\n",
       "      <td>1</td>\n",
       "    </tr>\n",
       "    <tr>\n",
       "      <th>BXD98</th>\n",
       "      <td>2</td>\n",
       "      <td>1</td>\n",
       "    </tr>\n",
       "    <tr>\n",
       "      <th>BXD99</th>\n",
       "      <td>2</td>\n",
       "      <td>1</td>\n",
       "    </tr>\n",
       "    <tr>\n",
       "      <th>BXD100</th>\n",
       "      <td>2</td>\n",
       "      <td>4</td>\n",
       "    </tr>\n",
       "    <tr>\n",
       "      <th>BXD101</th>\n",
       "      <td>2</td>\n",
       "      <td>3</td>\n",
       "    </tr>\n",
       "    <tr>\n",
       "      <th>BXD102</th>\n",
       "      <td>2</td>\n",
       "      <td>2</td>\n",
       "    </tr>\n",
       "  </tbody>\n",
       "</table>\n",
       "<p>90 rows × 2 columns</p>\n",
       "</div>"
      ],
      "text/plain": [
       "       rs6232550 Coat Color\n",
       "BXD1           2          1\n",
       "BXD2           0          4\n",
       "BXD5           0          3\n",
       "BXD6           0          3\n",
       "BXD8           0          3\n",
       "BXD9           0          1\n",
       "BXD11          0          4\n",
       "BXD12          0          3\n",
       "BXD13          2          2\n",
       "BXD14          0          4\n",
       "BXD15          0          2\n",
       "BXD16          0          3\n",
       "BXD18          0          3\n",
       "BXD19          0          3\n",
       "BXD20          0          4\n",
       "BXD21          2          1\n",
       "BXD22          2          3\n",
       "BXD23          0          4\n",
       "BXD24          2          2\n",
       "BXD24a         2          2\n",
       "BXD25          2          2\n",
       "BXD27          0          2\n",
       "BXD28          0          2\n",
       "BXD29          0          3\n",
       "BXD30          2          1\n",
       "BXD31          0          4\n",
       "BXD32          0          4\n",
       "BXD33          0          3\n",
       "BXD34          0          4\n",
       "BXD35          0          4\n",
       "...          ...        ...\n",
       "BXD70          2          1\n",
       "BXD71          0          1\n",
       "BXD72          0          2\n",
       "BXD73          1          1\n",
       "BXD73a         2          1\n",
       "BXD73b         2          1\n",
       "BXD74          2          2\n",
       "BXD75          0          1\n",
       "BXD76          0          3\n",
       "BXD77          0          1\n",
       "BXD78          0          2\n",
       "BXD79          2          3\n",
       "BXD81          0          1\n",
       "BXD83          2          1\n",
       "BXD84          2          1\n",
       "BXD85          0          1\n",
       "BXD86          0          4\n",
       "BXD87          1          4\n",
       "BXD88          2          2\n",
       "BXD89          0          1\n",
       "BXD90          2          1\n",
       "BXD91          0          1\n",
       "BXD93          0          1\n",
       "BXD94          2          3\n",
       "BXD95          0          1\n",
       "BXD98          2          1\n",
       "BXD99          2          1\n",
       "BXD100         2          4\n",
       "BXD101         2          3\n",
       "BXD102         2          2\n",
       "\n",
       "[90 rows x 2 columns]"
      ]
     },
     "execution_count": 477,
     "metadata": {},
     "output_type": "execute_result"
    }
   ],
   "source": [
    "merged"
   ]
  },
  {
   "cell_type": "code",
   "execution_count": null,
   "metadata": {
    "collapsed": true
   },
   "outputs": [],
   "source": []
  },
  {
   "cell_type": "markdown",
   "metadata": {},
   "source": [
    "### Subtask: Plot relationship between genotye and phenotype"
   ]
  },
  {
   "cell_type": "code",
   "execution_count": 359,
   "metadata": {
    "collapsed": false,
    "run_control": {
     "frozen": false,
     "read_only": false
    }
   },
   "outputs": [
    {
     "data": {
      "text/plain": [
       "<matplotlib.axes._subplots.AxesSubplot at 0x7f305d470c90>"
      ]
     },
     "execution_count": 359,
     "metadata": {},
     "output_type": "execute_result"
    },
    {
     "data": {
      "image/png": "[encoded data removed]",
      "text/plain": [
       "<matplotlib.figure.Figure at 0x7f305d8ddb50>"
      ]
     },
     "metadata": {},
     "output_type": "display_data"
    }
   ],
   "source": [
    "merged.plot(kind='kde')"
   ]
  },
  {
   "cell_type": "code",
   "execution_count": 360,
   "metadata": {
    "collapsed": false,
    "scrolled": true
   },
   "outputs": [
    {
     "data": {
      "text/plain": [
       "<matplotlib.axes._subplots.AxesSubplot at 0x7f305d4563d0>"
      ]
     },
     "execution_count": 360,
     "metadata": {},
     "output_type": "execute_result"
    },
    {
     "data": {
      "image/png": "[encoded data removed]",
      "text/plain": [
       "<matplotlib.figure.Figure at 0x7f305d403210>"
      ]
     },
     "metadata": {},
     "output_type": "display_data"
    }
   ],
   "source": [
    "merged.plot()"
   ]
  },
  {
   "cell_type": "code",
   "execution_count": null,
   "metadata": {
    "collapsed": true,
    "run_control": {
     "frozen": false,
     "read_only": false
    }
   },
   "outputs": [],
   "source": []
  },
  {
   "cell_type": "markdown",
   "metadata": {},
   "source": [
    "### Subtask: Create contingency table for a D-dominant inheritance model of black coat color and SNP rs6232550\n",
    "Tip: pandas' crosstabl functionality may be helpful here and the [reshaping/crosstab documentation](http://pandas-docs.github.io/pandas-docs-travis/reshaping.html) as illustrated in [this tutorial](http://wesmckinney.com/blog/contingency-tables-and-cross-tabulations-in-pandas/) may be helpful."
   ]
  },
  {
   "cell_type": "code",
   "execution_count": 381,
   "metadata": {
    "collapsed": false,
    "run_control": {
     "frozen": false,
     "read_only": false
    }
   },
   "outputs": [],
   "source": [
    "contingency_table = pd.crosstab( merged['Coat Color'] == 4, merged.rs6232550 == 2, margins=True)"
   ]
  },
  {
   "cell_type": "markdown",
   "metadata": {},
   "source": [
    "__Show table__"
   ]
  },
  {
   "cell_type": "code",
   "execution_count": 425,
   "metadata": {
    "collapsed": false,
    "run_control": {
     "frozen": false,
     "read_only": false
    }
   },
   "outputs": [
    {
     "data": {
      "text/html": [
       "<div>\n",
       "<table border=\"1\" class=\"dataframe\">\n",
       "  <thead>\n",
       "    <tr style=\"text-align: right;\">\n",
       "      <th>rs6232550</th>\n",
       "      <th>False</th>\n",
       "      <th>True</th>\n",
       "      <th>All</th>\n",
       "    </tr>\n",
       "    <tr>\n",
       "      <th>Coat Color</th>\n",
       "      <th></th>\n",
       "      <th></th>\n",
       "      <th></th>\n",
       "    </tr>\n",
       "  </thead>\n",
       "  <tbody>\n",
       "    <tr>\n",
       "      <th>False</th>\n",
       "      <td>33</td>\n",
       "      <td>38</td>\n",
       "      <td>71</td>\n",
       "    </tr>\n",
       "    <tr>\n",
       "      <th>True</th>\n",
       "      <td>12</td>\n",
       "      <td>7</td>\n",
       "      <td>19</td>\n",
       "    </tr>\n",
       "    <tr>\n",
       "      <th>All</th>\n",
       "      <td>45</td>\n",
       "      <td>45</td>\n",
       "      <td>90</td>\n",
       "    </tr>\n",
       "  </tbody>\n",
       "</table>\n",
       "</div>"
      ],
      "text/plain": [
       "rs6232550   False  True  All\n",
       "Coat Color                  \n",
       "False          33    38   71\n",
       "True           12     7   19\n",
       "All            45    45   90"
      ]
     },
     "execution_count": 425,
     "metadata": {},
     "output_type": "execute_result"
    }
   ],
   "source": [
    "contingency_table"
   ]
  },
  {
   "cell_type": "code",
   "execution_count": 424,
   "metadata": {
    "collapsed": false
   },
   "outputs": [
    {
     "data": {
      "text/plain": [
       "38"
      ]
     },
     "execution_count": 424,
     "metadata": {},
     "output_type": "execute_result"
    }
   ],
   "source": [
    "contingency_table[1][0]"
   ]
  },
  {
   "cell_type": "markdown",
   "metadata": {},
   "source": [
    "### Subtask: Perform $\\chi^2$ square test for independence on the contingency table"
   ]
  },
  {
   "cell_type": "code",
   "execution_count": 383,
   "metadata": {
    "collapsed": true,
    "run_control": {
     "frozen": false,
     "read_only": false
    }
   },
   "outputs": [],
   "source": [
    "import numpy as np\n",
    "from scipy.stats import chi2_contingency"
   ]
  },
  {
   "cell_type": "code",
   "execution_count": 516,
   "metadata": {
    "collapsed": false,
    "run_control": {
     "frozen": false,
     "read_only": false
    }
   },
   "outputs": [],
   "source": [
    "p = chi2_contingency(contingency_table)\n",
    "p = p[1]"
   ]
  },
  {
   "cell_type": "code",
   "execution_count": 517,
   "metadata": {
    "collapsed": false
   },
   "outputs": [
    {
     "data": {
      "text/plain": [
       "0.79653964399143939"
      ]
     },
     "execution_count": 517,
     "metadata": {},
     "output_type": "execute_result"
    }
   ],
   "source": [
    "p"
   ]
  },
  {
   "cell_type": "markdown",
   "metadata": {},
   "source": [
    "### Subtask: Write function to calculate odds ratio from a contingency table"
   ]
  },
  {
   "cell_type": "code",
   "execution_count": 526,
   "metadata": {
    "collapsed": true,
    "run_control": {
     "frozen": false,
     "read_only": false
    }
   },
   "outputs": [],
   "source": [
    "def calculateOddsRatio(table):\n",
    "    r_0 = float(table[0][0])\n",
    "    r_1 = float(table[0][1])\n",
    "    s_0 = float(table[1][0])\n",
    "    s_1 = float(table[1][1])\n",
    "    return ((r_0 / s_0) * (r_1 / s_1))\n",
    "    "
   ]
  },
  {
   "cell_type": "code",
   "execution_count": 446,
   "metadata": {
    "collapsed": false,
    "run_control": {
     "frozen": false,
     "read_only": false
    }
   },
   "outputs": [
    {
     "data": {
      "text/plain": [
       "0.868421052631579"
      ]
     },
     "execution_count": 446,
     "metadata": {},
     "output_type": "execute_result"
    }
   ],
   "source": [
    "calculateOddsRatio(contingency_table)"
   ]
  },
  {
   "cell_type": "markdown",
   "metadata": {},
   "source": [
    "## Task: extend statistical method for a penetrance model in which increasing numbers of A alleles confer a trend in risk (e.g. additive or dominant)"
   ]
  },
  {
   "cell_type": "markdown",
   "metadata": {},
   "source": [
    "While you can model most of the penetrance models described in the lecture in a 2x2 contingency table and thus perform a $\\chi^2$ test with one degree of freedom, it may sometimes be useful to consider the full complexity of a genotype contigency table considering all three possible genotypes instead of just two (even though the latter has larger statistical power). Apart from a $\\chi^2$ test with two degrees of freedom, the Cochran–Armitage trend test is commonly used in genetic association tests as this has often larger statistical power. In this case, if the exact model of penetrance is not known, an additive approach is often used. \n",
    "\n",
    "You can read more about basic statistical approaches in genetic association tests in the following paper:\n",
    "\n",
    "__Clarke, G. M. et al. [Basic statistical analysis in genetic case-control studies](http://www.nature.com/nprot/journal/v6/n2/full/nprot.2010.182.html). Nat Protoc 6, 121–133 (2011).__\n"
   ]
  },
  {
   "cell_type": "markdown",
   "metadata": {},
   "source": [
    "### Subtask: Given the data you have, could you calculate this type of statistic for your data?\n",
    "\n",
    "* If yes, please implement the creation of a contingency table and the test.\n",
    "* If no, please explain why."
   ]
  },
  {
   "cell_type": "markdown",
   "metadata": {
    "collapsed": true,
    "run_control": {
     "frozen": false,
     "read_only": false
    }
   },
   "source": [
    "not many heterozygote aleles in the dataset, however it would be possible"
   ]
  },
  {
   "cell_type": "code",
   "execution_count": 457,
   "metadata": {
    "collapsed": false,
    "run_control": {
     "frozen": false,
     "read_only": false
    }
   },
   "outputs": [],
   "source": []
  },
  {
   "cell_type": "markdown",
   "metadata": {},
   "source": [
    "## Task: Refactor previous analysis steps into a function and apply to all SNPs\n",
    "\n",
    "Things to consider:\n",
    "* What information is needed as input in each round?\n",
    "* Do you want to support $\\chi^2$ and Cochran–Armitage test?\n",
    "* What information as output is needed?\n",
    "* Should multiple inheritance models be included?\n",
    "* Should the user get to chose which hair color to test?"
   ]
  },
  {
   "cell_type": "code",
   "execution_count": 594,
   "metadata": {
    "collapsed": false,
    "run_control": {
     "frozen": false,
     "read_only": false
    }
   },
   "outputs": [],
   "source": [
    "def analyze(snp,genotype,phenotype,hair_color):\n",
    "    snp_data = genotype.ix[snp]\n",
    "    snp_data = pd.DataFrame(snp_data)\n",
    "    merged = snp_data.join(phenotype)\n",
    "    merged = merged.dropna()\n",
    "    if hair_color == 'black':\n",
    "        contingency_table = pd.crosstab( merged['Coat Color'] == 4, merged[snp] == 0, margins=True)\n",
    "    if hair_color == 'grey':\n",
    "        contingency_table = pd.crosstab( merged['Coat Color'] == 3, merged[snp] == 0, margins=True)\n",
    "    if hair_color == 'brown':\n",
    "        contingency_table = pd.crosstab( merged['Coat Color'] == 2, merged[snp] == 0, margins=True)\n",
    "    if hair_color == 'dilute':\n",
    "        contingency_table = pd.crosstab( merged['Coat Color'] == 1, merged[snp] == 0, margins=True)\n",
    "    p = chi2_contingency(contingency_table)\n",
    "    p = p[1]\n",
    "    odds = calculateOddsRatio(contingency_table)\n",
    "    #return pd.DataFrame([contingency_table,p,odds]).T\n",
    "    return (contingency_table,p,odds)\n",
    "    \n"
   ]
  },
  {
   "cell_type": "code",
   "execution_count": 551,
   "metadata": {
    "collapsed": false,
    "run_control": {
     "frozen": false,
     "read_only": false
    },
    "scrolled": true
   },
   "outputs": [],
   "source": []
  },
  {
   "cell_type": "code",
   "execution_count": 559,
   "metadata": {
    "collapsed": false
   },
   "outputs": [],
   "source": []
  },
  {
   "cell_type": "code",
   "execution_count": null,
   "metadata": {
    "collapsed": false
   },
   "outputs": [],
   "source": []
  },
  {
   "cell_type": "code",
   "execution_count": 601,
   "metadata": {
    "collapsed": false
   },
   "outputs": [],
   "source": [
    "results = []\n",
    "genotype1 = genotype.T\n",
    "for snp in genotype1:\n",
    "        #print(analyze(snp,genotype,phenotype,'black'))\n",
    "        analysis = analyze(snp,genotype,phenotype,'black')\n",
    "        results.append(analysis)"
   ]
  },
  {
   "cell_type": "code",
   "execution_count": 635,
   "metadata": {
    "collapsed": false
   },
   "outputs": [
    {
     "name": "stdout",
     "output_type": "stream",
     "text": [
      "0.388655462185\n"
     ]
    }
   ],
   "source": [
    "print(results[4][2])"
   ]
  },
  {
   "cell_type": "code",
   "execution_count": null,
   "metadata": {
    "collapsed": true
   },
   "outputs": [],
   "source": [
    "    "
   ]
  },
  {
   "cell_type": "markdown",
   "metadata": {},
   "source": [
    "### Subtask: Create Manhattan Plot of  $-\\log_{10}(\\text{P-value})$ vs chromosome position \n",
    "A Manhattan plot, named after its resemblance to the skyline of Manhattan, is commonly used to plot the p-value obtained for individual association tests for each SNP compared to the SNP's position on the genome as shown in the example below.\n",
    "\n",
    "Technically, a Manhattan plot is a scatter plot of genome position (for each chromosome) vs the negative logarithm of the p-value.\n",
    "\n",
    "<img src=\"Manhattan.png\"></img>"
   ]
  },
  {
   "cell_type": "code",
   "execution_count": 588,
   "metadata": {
    "collapsed": false,
    "run_control": {
     "frozen": false,
     "read_only": false
    }
   },
   "outputs": [],
   "source": [
    "genotype2 = pd.read_table(path+\"/genotype.txt\",header=0,comment='@')\n",
    "chrPos = genotype2['cM']\n"
   ]
  },
  {
   "cell_type": "code",
   "execution_count": 666,
   "metadata": {
    "collapsed": false
   },
   "outputs": [],
   "source": [
    "i = 0\n",
    "pvalues = []\n",
    "for value in results:\n",
    "      pvalues.append(results[i][1])\n",
    "      i = i + 1"
   ]
  },
  {
   "cell_type": "code",
   "execution_count": 667,
   "metadata": {
    "collapsed": false
   },
   "outputs": [
    {
     "data": {
      "text/plain": [
       "0    0.000\n",
       "1    0.000\n",
       "2    0.895\n",
       "3    1.185\n",
       "4    2.081\n",
       "Name: cM, dtype: float64"
      ]
     },
     "execution_count": 667,
     "metadata": {},
     "output_type": "execute_result"
    }
   ],
   "source": [
    "chrPos.head()"
   ]
  },
  {
   "cell_type": "code",
   "execution_count": 687,
   "metadata": {
    "collapsed": false
   },
   "outputs": [],
   "source": [
    "pvalues = pd.DataFrame(pvalues)\n",
    "chrPos = pd.DataFrame(chrPos)"
   ]
  },
  {
   "cell_type": "code",
   "execution_count": null,
   "metadata": {
    "collapsed": false
   },
   "outputs": [],
   "source": []
  },
  {
   "cell_type": "code",
   "execution_count": 699,
   "metadata": {
    "collapsed": true
   },
   "outputs": [],
   "source": [
    "manhattan = pvalues.join(chrPos)"
   ]
  },
  {
   "cell_type": "code",
   "execution_count": 700,
   "metadata": {
    "collapsed": false
   },
   "outputs": [],
   "source": [
    "manhattan.columns = ['a','b']"
   ]
  },
  {
   "cell_type": "code",
   "execution_count": 705,
   "metadata": {
    "collapsed": false,
    "run_control": {
     "frozen": false,
     "read_only": false
    },
    "scrolled": true
   },
   "outputs": [
    {
     "data": {
      "text/plain": [
       "<matplotlib.axes._subplots.AxesSubplot at 0x7f305b868fd0>"
      ]
     },
     "execution_count": 705,
     "metadata": {},
     "output_type": "execute_result"
    },
    {
     "data": {
      "image/png": "[encoded data removed]",
      "text/plain": [
       "<matplotlib.figure.Figure at 0x7f305b881250>"
      ]
     },
     "metadata": {},
     "output_type": "display_data"
    }
   ],
   "source": [
    "manhattan.plot(x='a',y='b',kind='scatter')"
   ]
  },
  {
   "cell_type": "code",
   "execution_count": null,
   "metadata": {
    "collapsed": false
   },
   "outputs": [],
   "source": []
  },
  {
   "cell_type": "code",
   "execution_count": null,
   "metadata": {
    "collapsed": false
   },
   "outputs": [],
   "source": []
  },
  {
   "cell_type": "markdown",
   "metadata": {},
   "source": [
    "#### Bonus if you have way too much time: Try to make plot interactive (e.g. add tooltips on hover using mpld3)\n",
    "You will have time to work on a proper interactive version later in the course, so only do this if you finished all other tasks"
   ]
  },
  {
   "cell_type": "code",
   "execution_count": null,
   "metadata": {
    "collapsed": true,
    "run_control": {
     "frozen": false,
     "read_only": false
    }
   },
   "outputs": [],
   "source": []
  },
  {
   "cell_type": "code",
   "execution_count": null,
   "metadata": {
    "collapsed": true,
    "run_control": {
     "frozen": false,
     "read_only": false
    }
   },
   "outputs": [],
   "source": []
  },
  {
   "cell_type": "markdown",
   "metadata": {},
   "source": [
    "### Subtask: If you have time, adapt function so that it also supports the non-dominant inheritance models"
   ]
  },
  {
   "cell_type": "code",
   "execution_count": null,
   "metadata": {
    "collapsed": true,
    "run_control": {
     "frozen": false,
     "read_only": false
    }
   },
   "outputs": [],
   "source": []
  },
  {
   "cell_type": "code",
   "execution_count": null,
   "metadata": {
    "collapsed": true,
    "run_control": {
     "frozen": false,
     "read_only": false
    }
   },
   "outputs": [],
   "source": []
  },
  {
   "cell_type": "markdown",
   "metadata": {},
   "source": [
    "## Task: Correct for Multiple Hypothesis Testing"
   ]
  },
  {
   "cell_type": "markdown",
   "metadata": {},
   "source": [
    "Employ one of the correction methods described in the lecture to take care of the multiple hypothesis testing."
   ]
  },
  {
   "cell_type": "code",
   "execution_count": null,
   "metadata": {
    "collapsed": true,
    "run_control": {
     "frozen": false,
     "read_only": false
    }
   },
   "outputs": [],
   "source": []
  },
  {
   "cell_type": "code",
   "execution_count": null,
   "metadata": {
    "collapsed": true,
    "run_control": {
     "frozen": false,
     "read_only": false
    }
   },
   "outputs": [],
   "source": []
  },
  {
   "cell_type": "markdown",
   "metadata": {},
   "source": [
    "### Subtask: Wrap your MHT correction in a funtion\n",
    "Ideally, the function should allow easy access to several parameters including the target $\\alpha$ and the correction method"
   ]
  },
  {
   "cell_type": "code",
   "execution_count": null,
   "metadata": {
    "collapsed": true,
    "run_control": {
     "frozen": false,
     "read_only": false
    }
   },
   "outputs": [],
   "source": []
  },
  {
   "cell_type": "code",
   "execution_count": null,
   "metadata": {
    "collapsed": true,
    "run_control": {
     "frozen": false,
     "read_only": false
    }
   },
   "outputs": [],
   "source": []
  },
  {
   "cell_type": "markdown",
   "metadata": {},
   "source": [
    "### Subtask: Test if the function works as intended"
   ]
  },
  {
   "cell_type": "code",
   "execution_count": null,
   "metadata": {
    "collapsed": true,
    "run_control": {
     "frozen": false,
     "read_only": false
    }
   },
   "outputs": [],
   "source": []
  },
  {
   "cell_type": "code",
   "execution_count": null,
   "metadata": {
    "collapsed": true,
    "run_control": {
     "frozen": false,
     "read_only": false
    }
   },
   "outputs": [],
   "source": []
  },
  {
   "cell_type": "markdown",
   "metadata": {},
   "source": [
    "## Task: Identify candidate genes from identified loci"
   ]
  },
  {
   "cell_type": "markdown",
   "metadata": {},
   "source": [
    "### Subtask: Identify genes in region identified by significant loci (consider each chromosome separately)"
   ]
  },
  {
   "cell_type": "markdown",
   "metadata": {},
   "source": [
    "What we identified so far a so called __quantitative trait loci__, meaning that this locus on the genome is associated with a quantitative trait. This does not mean there is directly a causal relationship between the markers identified in the association study and the phenotype. It is, however, a pointer towards the region of the genome that may be relevant for the variability in the measured trait. The genes encompassed in this region then need to be analysed further to identify viable mechanistic candidates.\n",
    "\n",
    "\n",
    "\n",
    "A good starting point for this fine grained analysis would be to look up the genes directly linked to the SNP in [dbSNP]() (e.g, http://www.ncbi.nlm.nih.gov/projects/SNP/snp_ref.cgi?rs=rs3674482).\n",
    "\n",
    "Most likely the high ranking SNPs will not map directly to the causal gene, but be rather a marker for another variant in a gene in __linkage disequilibrium__ with this this SNP. We thus need to extend the search and look at other genes in the vicinity of the high ranking SNPs.\n",
    "\n",
    "You may thus want to move on the [Biomart](http://www.ensembl.org/biomart/martview/fb0e89930dcbbdb8075ca52f8b196719) to query for genes in a genomic region.\n",
    "\n",
    "A third resource you may want to check out is the [UCSC Genome Browser](http://genome.ucsc.edu/) for visual explorations as well as the [UCSC Table Browser](http://genome.ucsc.edu/cgi-bin/hgTables?hgsid=511555905_oFRLEcH1IWO1FdKyzynrsBCRMk7w) to obtain genes in a genomic region. The identifiers of proteins in the [uniprot](http://www.uniprot.org/) database are listed in the resulting table. Uniprot then can provide useful annotations of the proteins found in the search frame.\n",
    "\n",
    "Programmatic access is possible for all the services above using their REST interfaces:  \n",
    "[UCSC](http://genomewiki.ucsc.edu/index.php/Programmatic_access_to_the_Genome_Browser)     \n",
    "[Biomart](http://www.ensembl.org/info/data/biomart/biomart_restful.html)     \n",
    "[Uniprot](http://www.uniprot.org/help/programmatic_access)     \n",
    "\n",
    "There have been multiple attempts to make querying these services using python directly. The most important packages are:     \n",
    "[bioservices](https://pythonhosted.org/bioservices/)      \n",
    "[biomart-python](https://github.com/sebriois/biomart)      \n",
    "\n",
    "An example on how to query uniprot using bioservices can be found in [this notebook](http://nbviewer.jupyter.org/url/pythonhosted.org/bioservices/\\_downloads/UniProt.ipynb).\n",
    "\n",
    "If you decide to search for the genes of interest based on the genome location, make sure to select the correct reference genome. The reference used for the BXD genotyping is described in the genotype description on [genenetwork.org](http://www.genenetwork.org/dbdoc/BXDGeno.html)"
   ]
  },
  {
   "cell_type": "code",
   "execution_count": null,
   "metadata": {
    "collapsed": true,
    "run_control": {
     "frozen": false,
     "read_only": false
    }
   },
   "outputs": [],
   "source": []
  },
  {
   "cell_type": "code",
   "execution_count": null,
   "metadata": {
    "collapsed": true,
    "run_control": {
     "frozen": false,
     "read_only": false
    }
   },
   "outputs": [],
   "source": []
  },
  {
   "cell_type": "code",
   "execution_count": null,
   "metadata": {
    "collapsed": true,
    "run_control": {
     "frozen": false,
     "read_only": false
    }
   },
   "outputs": [],
   "source": []
  },
  {
   "cell_type": "code",
   "execution_count": null,
   "metadata": {
    "collapsed": true,
    "run_control": {
     "frozen": false,
     "read_only": false
    }
   },
   "outputs": [],
   "source": []
  },
  {
   "cell_type": "markdown",
   "metadata": {},
   "source": [
    "### Subtask: Check if the locations you found match to what is known from literature about genetics of mouse coat color"
   ]
  },
  {
   "cell_type": "code",
   "execution_count": null,
   "metadata": {
    "collapsed": true,
    "run_control": {
     "frozen": false,
     "read_only": false
    }
   },
   "outputs": [],
   "source": []
  },
  {
   "cell_type": "code",
   "execution_count": null,
   "metadata": {
    "collapsed": true,
    "run_control": {
     "frozen": false,
     "read_only": false
    }
   },
   "outputs": [],
   "source": []
  },
  {
   "cell_type": "code",
   "execution_count": null,
   "metadata": {
    "collapsed": true,
    "run_control": {
     "frozen": false,
     "read_only": false
    }
   },
   "outputs": [],
   "source": []
  },
  {
   "cell_type": "code",
   "execution_count": null,
   "metadata": {
    "collapsed": true,
    "run_control": {
     "frozen": false,
     "read_only": false
    }
   },
   "outputs": [],
   "source": []
  },
  {
   "cell_type": "markdown",
   "metadata": {},
   "source": [
    "# Association tests between variant(s) and continuous phenotype¶ \n",
    "All of the phenotype data provided in the multi-omics publication is actually not categorical. We thus have to adapt our approach to use continuous data. In the lecture you learned that instead of $\\chi^2$ test or logistic regression, linear regression models or correlation tests could be used. "
   ]
  },
  {
   "cell_type": "markdown",
   "metadata": {},
   "source": [
    "## Task: Import relevant functions from scipy"
   ]
  },
  {
   "cell_type": "code",
   "execution_count": null,
   "metadata": {
    "collapsed": true,
    "run_control": {
     "frozen": false,
     "read_only": false
    }
   },
   "outputs": [],
   "source": []
  },
  {
   "cell_type": "markdown",
   "metadata": {},
   "source": [
    "## Task: Load Phenotype spreadsheets from paper supplement"
   ]
  },
  {
   "cell_type": "code",
   "execution_count": null,
   "metadata": {
    "collapsed": true,
    "run_control": {
     "frozen": false,
     "read_only": false
    }
   },
   "outputs": [],
   "source": []
  },
  {
   "cell_type": "code",
   "execution_count": null,
   "metadata": {
    "collapsed": true,
    "run_control": {
     "frozen": false,
     "read_only": false
    }
   },
   "outputs": [],
   "source": []
  },
  {
   "cell_type": "markdown",
   "metadata": {},
   "source": [
    "## Task: Implement Pearson's r-based test for correlation"
   ]
  },
  {
   "cell_type": "code",
   "execution_count": null,
   "metadata": {
    "collapsed": true,
    "run_control": {
     "frozen": false,
     "read_only": false
    }
   },
   "outputs": [],
   "source": []
  },
  {
   "cell_type": "code",
   "execution_count": null,
   "metadata": {
    "collapsed": true,
    "run_control": {
     "frozen": false,
     "read_only": false
    }
   },
   "outputs": [],
   "source": []
  },
  {
   "cell_type": "code",
   "execution_count": null,
   "metadata": {
    "collapsed": true,
    "run_control": {
     "frozen": false,
     "read_only": false
    }
   },
   "outputs": [],
   "source": []
  },
  {
   "cell_type": "markdown",
   "metadata": {},
   "source": [
    "## Task: Plot corresponding Manhattan Plot (using your previously defined function)"
   ]
  },
  {
   "cell_type": "code",
   "execution_count": null,
   "metadata": {
    "collapsed": true,
    "run_control": {
     "frozen": false,
     "read_only": false
    }
   },
   "outputs": [],
   "source": []
  },
  {
   "cell_type": "code",
   "execution_count": null,
   "metadata": {
    "collapsed": true,
    "run_control": {
     "frozen": false,
     "read_only": false
    }
   },
   "outputs": [],
   "source": []
  },
  {
   "cell_type": "markdown",
   "metadata": {},
   "source": [
    "## Task: Correct for multiple hypothesis testing"
   ]
  },
  {
   "cell_type": "code",
   "execution_count": null,
   "metadata": {
    "collapsed": true,
    "run_control": {
     "frozen": false,
     "read_only": false
    }
   },
   "outputs": [],
   "source": []
  },
  {
   "cell_type": "code",
   "execution_count": null,
   "metadata": {
    "collapsed": true,
    "run_control": {
     "frozen": false,
     "read_only": false
    }
   },
   "outputs": [],
   "source": []
  },
  {
   "cell_type": "code",
   "execution_count": null,
   "metadata": {
    "collapsed": true,
    "run_control": {
     "frozen": false,
     "read_only": false
    }
   },
   "outputs": [],
   "source": []
  },
  {
   "cell_type": "markdown",
   "metadata": {
    "collapsed": true
   },
   "source": [
    "# Run association tests for all phenotypes in Biochemistry, Hematology, and Blood Pressure\n",
    "Moving now into phenotype association studies, we will now test multiple phenotypes for genetic associations. To determine how much each trait is associated with a genetic factor, we have to repeat our analyses for (ideally all) phenotypes of interest while correcting for multiple hypothesis testing. We then have to figure out which traits are the most associated.\n",
    "\n",
    "Make sure to consider significance of association as well as the effect size of the association.\n",
    "\n",
    "Which traits are most influenced by genetics?"
   ]
  },
  {
   "cell_type": "code",
   "execution_count": null,
   "metadata": {
    "collapsed": true,
    "run_control": {
     "frozen": false,
     "read_only": false
    }
   },
   "outputs": [],
   "source": []
  },
  {
   "cell_type": "code",
   "execution_count": null,
   "metadata": {
    "collapsed": true,
    "run_control": {
     "frozen": false,
     "read_only": false
    }
   },
   "outputs": [],
   "source": []
  },
  {
   "cell_type": "markdown",
   "metadata": {
    "collapsed": true
   },
   "source": [
    "## Task: Pick a testing method from the previous tasks that is applicable for the  phenotype variable type"
   ]
  },
  {
   "cell_type": "code",
   "execution_count": null,
   "metadata": {
    "collapsed": true,
    "run_control": {
     "frozen": false,
     "read_only": false
    }
   },
   "outputs": [],
   "source": []
  },
  {
   "cell_type": "code",
   "execution_count": null,
   "metadata": {
    "collapsed": true,
    "run_control": {
     "frozen": false,
     "read_only": false
    }
   },
   "outputs": [],
   "source": []
  },
  {
   "cell_type": "markdown",
   "metadata": {},
   "source": [
    "## Task: Iteratively apply functionality to all phenotypes"
   ]
  },
  {
   "cell_type": "code",
   "execution_count": null,
   "metadata": {
    "collapsed": true,
    "run_control": {
     "frozen": false,
     "read_only": false
    }
   },
   "outputs": [],
   "source": []
  },
  {
   "cell_type": "code",
   "execution_count": null,
   "metadata": {
    "collapsed": true,
    "run_control": {
     "frozen": false,
     "read_only": false
    }
   },
   "outputs": [],
   "source": []
  },
  {
   "cell_type": "markdown",
   "metadata": {},
   "source": [
    "## Task: Extract relevant information about effect size, significance, locus,..."
   ]
  },
  {
   "cell_type": "code",
   "execution_count": null,
   "metadata": {
    "collapsed": true,
    "run_control": {
     "frozen": false,
     "read_only": false
    }
   },
   "outputs": [],
   "source": []
  },
  {
   "cell_type": "code",
   "execution_count": null,
   "metadata": {
    "collapsed": true,
    "run_control": {
     "frozen": false,
     "read_only": false
    }
   },
   "outputs": [],
   "source": []
  },
  {
   "cell_type": "markdown",
   "metadata": {},
   "source": [
    "## Task: Interpret results"
   ]
  },
  {
   "cell_type": "code",
   "execution_count": null,
   "metadata": {
    "collapsed": true,
    "run_control": {
     "frozen": false,
     "read_only": false
    }
   },
   "outputs": [],
   "source": []
  },
  {
   "cell_type": "code",
   "execution_count": null,
   "metadata": {
    "collapsed": true,
    "run_control": {
     "frozen": false,
     "read_only": false
    }
   },
   "outputs": [],
   "source": []
  },
  {
   "cell_type": "markdown",
   "metadata": {},
   "source": [
    "## Task: For most interesting examples, try to identify possible candidate genes"
   ]
  },
  {
   "cell_type": "code",
   "execution_count": null,
   "metadata": {
    "collapsed": true,
    "run_control": {
     "frozen": false,
     "read_only": false
    }
   },
   "outputs": [],
   "source": []
  },
  {
   "cell_type": "code",
   "execution_count": null,
   "metadata": {
    "collapsed": true,
    "run_control": {
     "frozen": false,
     "read_only": false
    }
   },
   "outputs": [],
   "source": []
  },
  {
   "cell_type": "markdown",
   "metadata": {},
   "source": [
    "## Task: Quickly compare your results to literature"
   ]
  },
  {
   "cell_type": "code",
   "execution_count": null,
   "metadata": {
    "collapsed": true,
    "run_control": {
     "frozen": false,
     "read_only": false
    }
   },
   "outputs": [],
   "source": []
  },
  {
   "cell_type": "code",
   "execution_count": null,
   "metadata": {
    "collapsed": true,
    "run_control": {
     "frozen": false,
     "read_only": false
    }
   },
   "outputs": [],
   "source": []
  },
  {
   "cell_type": "markdown",
   "metadata": {},
   "source": [
    "## What confounding factors may have been ignored in the current approach? How could they be incorporated?"
   ]
  },
  {
   "cell_type": "code",
   "execution_count": null,
   "metadata": {
    "collapsed": true,
    "run_control": {
     "frozen": false,
     "read_only": false
    }
   },
   "outputs": [],
   "source": []
  },
  {
   "cell_type": "code",
   "execution_count": null,
   "metadata": {
    "collapsed": true,
    "run_control": {
     "frozen": false,
     "read_only": false
    }
   },
   "outputs": [],
   "source": []
  },
  {
   "cell_type": "markdown",
   "metadata": {},
   "source": [
    "## Bonus subtask: Create a QQ-plot of the expected distribution of association test statistics (X-axis) compared to the observed values (Y-axis)\n",
    "In GWAS studies this type of plot is usually created to see if the obtained p-values follow those expected from the null hypothesis (we would assume most SNPs not to be associated). \n",
    "\n",
    "More about GWAS and QQplots can be found in [Erik Minikels cureffi.org blog](http://www.cureffi.org/2012/08/06/genome-wide-association-studies/), who summarizes several papers including McCarthy, M. I. et al.'s __[Genome-wide association studies for complex traits: consensus, uncertainty and challenges](http://www.nature.com/nrg/journal/v9/n5/full/nrg2344.html)__ in Nature Reviews Genetics 9, 356–369 (2008).\n",
    "\n",
    "From the above publication is also this exemplatory illustration of GWAS data, that may give you some ideas on what to plot in this task.\n",
    "<img src=\"gwas_viz.png\"></img>"
   ]
  },
  {
   "cell_type": "code",
   "execution_count": null,
   "metadata": {
    "collapsed": true,
    "run_control": {
     "frozen": false,
     "read_only": false
    }
   },
   "outputs": [],
   "source": []
  },
  {
   "cell_type": "code",
   "execution_count": null,
   "metadata": {
    "collapsed": true,
    "run_control": {
     "frozen": false,
     "read_only": false
    }
   },
   "outputs": [],
   "source": []
  }
 ],
 "metadata": {
  "hide_input": false,
  "kernelspec": {
   "display_name": "Python [Root]",
   "language": "python",
   "name": "Python [Root]"
  },
  "language_info": {
   "codemirror_mode": {
    "name": "ipython",
    "version": 2
   },
   "file_extension": ".py",
   "mimetype": "text/x-python",
   "name": "python",
   "nbconvert_exporter": "python",
   "pygments_lexer": "ipython2",
   "version": "2.7.12"
  },
  "nav_menu": {},
  "toc": {
   "navigate_menu": true,
   "number_sections": true,
   "sideBar": false,
   "threshold": 6,
   "toc_cell": true,
   "toc_number_sections": true,
   "toc_section_display": "block",
   "toc_window_display": true
  },
  "toc_position": {
   "height": "1208px",
   "left": "1163px",
   "right": "20px",
   "top": "88px",
   "width": "600px"
  }
 },
 "nbformat": 4,
 "nbformat_minor": 0
}
